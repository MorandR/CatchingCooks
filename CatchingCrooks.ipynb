{
 "cells": [
  {
   "cell_type": "code",
   "execution_count": 2,
   "metadata": {},
   "outputs": [],
   "source": [
    "using Agents\n",
    "using Random\n",
    "using CairoMakie # for clips"
   ]
  },
  {
   "cell_type": "code",
   "execution_count": 6,
   "metadata": {},
   "outputs": [],
   "source": [
    "@agent struct Crook(GridAgent{5})\n",
    "    captured::Int64\n",
    "    velocity:: Float64\n",
    "    position:: Tuple{Int64}\n",
    "    weapon::Bool\n",
    "    weapontype:: Vector #[1,2,3] (knife, gun, rope)\n",
    "end\n",
    "\n",
    "@agent struct Cop(GridAgent{4})\n",
    "    k9::Bool\n",
    "    velocity:: Float64\n",
    "    position:: Tuple{Int64}\n",
    "    k9level:: Vector \n",
    "end"
   ]
  },
  {
   "cell_type": "code",
   "execution_count": 7,
   "metadata": {},
   "outputs": [
    {
     "data": {
      "text/plain": [
       "GridSpaceSingle with size (100, 100, 10), metric=chebyshev, periodic=false"
      ]
     },
     "metadata": {},
     "output_type": "display_data"
    }
   ],
   "source": [
    "space = GridSpaceSingle((100,100, 10); periodic = false)"
   ]
  },
  {
   "cell_type": "code",
   "execution_count": 8,
   "metadata": {},
   "outputs": [
    {
     "data": {
      "text/plain": [
       "create_battlefield (generic function with 1 method)"
      ]
     },
     "metadata": {},
     "output_type": "display_data"
    }
   ],
   "source": [
    "function create_battlefield(; Crook = 50, seed = 6547)\n",
    "    model = StandardABM(\n",
    "        Crook,\n",
    "        GridSpace((100, 100, 10); periodic = false);\n",
    "        agent_step!,\n",
    "        scheduler = Schedulers.Randomly(),\n",
    "        rng = Random.Xoshiro(seed),\n",
    "    )\n",
    "\n",
    "    n = 0\n",
    "    while n != fighters\n",
    "        pos = (rand(abmrng(model), 1:100, 2)..., 1) # Start at level 1\n",
    "        if isempty(pos, model)\n",
    "            add_agent!(pos, model, false, 0, :diamond)\n",
    "            n += 1\n",
    "        end\n",
    "    end\n",
    "\n",
    "    return model\n",
    "end"
   ]
  }
 ],
 "metadata": {
  "kernelspec": {
   "display_name": "Julia nodeps 1.10.4",
   "language": "julia",
   "name": "julia-nodeps-1.10"
  },
  "language_info": {
   "file_extension": ".jl",
   "mimetype": "application/julia",
   "name": "julia",
   "version": "1.11.1"
  }
 },
 "nbformat": 4,
 "nbformat_minor": 2
}

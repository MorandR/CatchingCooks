{
 "cells": [
  {
   "cell_type": "markdown",
   "metadata": {},
   "source": [
    "# Orlando Criminal Activities\n",
    "\n",
    "##### Presented by: Clark Jones, Umapathy Beema, Richard Morand <br> Dr. Spencer Lyon - Spring 2024 \n",
    "\n",
    "\n",
    "Ojective: We will be exploring the criminal acts in Orlando, and create a model to showcase the types of activities done in the city. <br>\n",
    "\n",
    "__Tools__ <br>\n",
    "Collaboration: VSCode, Github, Discord <br>\n",
    "Languages: Python, Julia\n",
    "Packages/Libraries: Agents, OpenStreetMap, Pandas, etc."
   ]
  },
  {
   "cell_type": "code",
   "execution_count": null,
   "metadata": {},
   "outputs": [
    {
     "ename": "InterruptException",
     "evalue": "InterruptException:",
     "output_type": "error",
     "traceback": [
      "InterruptException:\n",
      "\n",
      "Stacktrace:\n",
      "  [1] add(pkgs::Vector{Pkg.Types.PackageSpec}; io::IOContext{IO}, kwargs::@Kwargs{})\n",
      "    @ Pkg.API ~/.julia/juliaup/julia-1.11.1+0.x64.apple.darwin14/share/julia/stdlib/v1.11/Pkg/src/API.jl:159\n",
      "  [2] add(pkgs::Vector{Pkg.Types.PackageSpec})\n",
      "    @ Pkg.API ~/.julia/juliaup/julia-1.11.1+0.x64.apple.darwin14/share/julia/stdlib/v1.11/Pkg/src/API.jl:148\n",
      "  [3] add(pkgs::Vector{String})\n",
      "    @ Pkg.API ~/.julia/juliaup/julia-1.11.1+0.x64.apple.darwin14/share/julia/stdlib/v1.11/Pkg/src/API.jl:147\n",
      "  [4] eval\n",
      "    @ ./boot.jl:430 [inlined]\n",
      "  [5] include_string(mapexpr::typeof(REPL.softscope), mod::Module, code::String, filename::String)\n",
      "    @ Base ./loading.jl:2643\n",
      "  [6] #invokelatest#2\n",
      "    @ ./essentials.jl:1055 [inlined]\n",
      "  [7] invokelatest\n",
      "    @ ./essentials.jl:1052 [inlined]\n",
      "  [8] (::VSCodeServer.var\"#217#218\"{VSCodeServer.NotebookRunCellArguments, String})()\n",
      "    @ VSCodeServer ~/.vscode/extensions/julialang.language-julia-1.127.2/scripts/packages/VSCodeServer/src/serve_notebook.jl:24\n",
      "  [9] withpath(f::VSCodeServer.var\"#217#218\"{VSCodeServer.NotebookRunCellArguments, String}, path::String)\n",
      "    @ VSCodeServer ~/.vscode/extensions/julialang.language-julia-1.127.2/scripts/packages/VSCodeServer/src/repl.jl:276\n",
      " [10] notebook_runcell_request(conn::VSCodeServer.JSONRPC.JSONRPCEndpoint{Base.PipeEndpoint, Base.PipeEndpoint}, params::VSCodeServer.NotebookRunCellArguments)\n",
      "    @ VSCodeServer ~/.vscode/extensions/julialang.language-julia-1.127.2/scripts/packages/VSCodeServer/src/serve_notebook.jl:13\n",
      " [11] dispatch_msg(x::VSCodeServer.JSONRPC.JSONRPCEndpoint{Base.PipeEndpoint, Base.PipeEndpoint}, dispatcher::VSCodeServer.JSONRPC.MsgDispatcher, msg::Dict{String, Any})\n",
      "    @ VSCodeServer.JSONRPC ~/.vscode/extensions/julialang.language-julia-1.127.2/scripts/packages/JSONRPC/src/typed.jl:67\n",
      " [12] serve_notebook(pipename::String, debugger_pipename::String, outputchannel_logger::Base.CoreLogging.SimpleLogger; error_handler::var\"#5#10\"{String})\n",
      "    @ VSCodeServer ~/.vscode/extensions/julialang.language-julia-1.127.2/scripts/packages/VSCodeServer/src/serve_notebook.jl:147\n",
      " [13] top-level scope\n",
      "    @ ~/.vscode/extensions/julialang.language-julia-1.127.2/scripts/notebook/notebook.jl:35"
     ]
    }
   ],
   "source": [
    "#import packages here\n",
    "import Pkg\n",
    "Pkg.add([\"OpenStreetMapX\", \"CSV\", \"DataFrames\"])"
   ]
  },
  {
   "cell_type": "code",
   "execution_count": null,
   "metadata": {},
   "outputs": [],
   "source": [
    "using Agents, OpenStreetMapX\n",
    "using CSV, DataFrames"
   ]
  },
  {
   "cell_type": "code",
   "execution_count": 7,
   "metadata": {},
   "outputs": [
    {
     "data": {
      "text/html": [
       "<div><div style = \"float: left;\"><span>78×5 DataFrame</span></div><div style = \"float: right;\"><span style = \"font-style: italic;\">53 rows omitted</span></div><div style = \"clear: both;\"></div></div><div class = \"data-frame\" style = \"overflow-x: scroll;\"><table class = \"data-frame\" style = \"margin-bottom: 6px;\"><thead><tr class = \"header\"><th class = \"rowNumber\" style = \"font-weight: bold; text-align: right;\">Row</th><th style = \"text-align: left;\">Case #</th><th style = \"text-align: left;\">Incident Type</th><th style = \"text-align: left;\">Number of Officers Involved</th><th style = \"text-align: left;\">Suspect&apos;s Weapon</th><th style = \"text-align: left;\">Georeferenced Column</th></tr><tr class = \"subheader headerLastRow\"><th class = \"rowNumber\" style = \"font-weight: bold; text-align: right;\"></th><th title = \"String15\" style = \"text-align: left;\">String15</th><th title = \"String\" style = \"text-align: left;\">String</th><th title = \"Union{Missing, Float64}\" style = \"text-align: left;\">Float64?</th><th title = \"String31\" style = \"text-align: left;\">String31</th><th title = \"String\" style = \"text-align: left;\">String</th></tr></thead><tbody><tr><td class = \"rowNumber\" style = \"font-weight: bold; text-align: right;\">1</td><td style = \"text-align: left;\">22-174307</td><td style = \"text-align: left;\">Vehicle Stop</td><td style = \"text-align: right;\">2.0</td><td style = \"text-align: left;\">Handgun</td><td style = \"text-align: left;\">POINT (-81.430522027 28.559823981)</td></tr><tr><td class = \"rowNumber\" style = \"font-weight: bold; text-align: right;\">2</td><td style = \"text-align: left;\">18-448868</td><td style = \"text-align: left;\">Stolen Vehicle</td><td style = \"text-align: right;\">1.0</td><td style = \"text-align: left;\">Motor Vehicle</td><td style = \"text-align: left;\">POINT (-81.444407991 28.426330019)</td></tr><tr><td class = \"rowNumber\" style = \"font-weight: bold; text-align: right;\">3</td><td style = \"text-align: left;\">18-219116</td><td style = \"text-align: left;\">Attempted Suicide</td><td style = \"text-align: right;\">1.0</td><td style = \"text-align: left;\">Handgun</td><td style = \"text-align: left;\">POINT (-81.436934015 28.497201986)</td></tr><tr><td class = \"rowNumber\" style = \"font-weight: bold; text-align: right;\">4</td><td style = \"text-align: left;\">20-397311</td><td style = \"text-align: left;\">Domestic Disturbance</td><td style = \"text-align: right;\">1.0</td><td style = \"text-align: left;\">Handgun</td><td style = \"text-align: left;\">POINT (-81.31615297 28.574676001)</td></tr><tr><td class = \"rowNumber\" style = \"font-weight: bold; text-align: right;\">5</td><td style = \"text-align: left;\">10-503738</td><td style = \"text-align: left;\">Armed Robbery</td><td style = \"text-align: right;\">3.0</td><td style = \"text-align: left;\">Handgun</td><td style = \"text-align: left;\">POINT (-81.475974825 28.552001109)</td></tr><tr><td class = \"rowNumber\" style = \"font-weight: bold; text-align: right;\">6</td><td style = \"text-align: left;\">13-022948</td><td style = \"text-align: left;\">Drug Violation</td><td style = \"text-align: right;\">2.0</td><td style = \"text-align: left;\">Handgun</td><td style = \"text-align: left;\">POINT (-81.398586976 28.552194982)</td></tr><tr><td class = \"rowNumber\" style = \"font-weight: bold; text-align: right;\">7</td><td style = \"text-align: left;\">16-021812</td><td style = \"text-align: left;\">Traffic Stop</td><td style = \"text-align: right;\">1.0</td><td style = \"text-align: left;\">Motor Vehicle</td><td style = \"text-align: left;\">POINT (-81.454123826 28.596308986)</td></tr><tr><td class = \"rowNumber\" style = \"font-weight: bold; text-align: right;\">8</td><td style = \"text-align: left;\">14-086291</td><td style = \"text-align: left;\">Stalking</td><td style = \"text-align: right;\">3.0</td><td style = \"text-align: left;\">Motor Vehicle</td><td style = \"text-align: left;\">POINT (-81.386192991 28.540632985)</td></tr><tr><td class = \"rowNumber\" style = \"font-weight: bold; text-align: right;\">9</td><td style = \"text-align: left;\">15-291159</td><td style = \"text-align: left;\">Suspicious Person</td><td style = \"text-align: right;\">1.0</td><td style = \"text-align: left;\">Hands/ASP</td><td style = \"text-align: left;\">POINT (-81.335092645 28.522822186)</td></tr><tr><td class = \"rowNumber\" style = \"font-weight: bold; text-align: right;\">10</td><td style = \"text-align: left;\">11-201994</td><td style = \"text-align: left;\">Armed Robbery</td><td style = \"text-align: right;\">1.0</td><td style = \"text-align: left;\">Motor Vehicle</td><td style = \"text-align: left;\">POINT (-81.444618041 28.497712989)</td></tr><tr><td class = \"rowNumber\" style = \"font-weight: bold; text-align: right;\">11</td><td style = \"text-align: left;\">20-133070</td><td style = \"text-align: left;\">Attempted Suicide</td><td style = \"text-align: right;\">1.0</td><td style = \"text-align: left;\">Knife</td><td style = \"text-align: left;\">POINT (-81.412285018 28.547911997)</td></tr><tr><td class = \"rowNumber\" style = \"font-weight: bold; text-align: right;\">12</td><td style = \"text-align: left;\">16-439059</td><td style = \"text-align: left;\">Aggravated Battery</td><td style = \"text-align: right;\">1.0</td><td style = \"text-align: left;\">Handgun</td><td style = \"text-align: left;\">POINT (-81.3912463 28.537139514)</td></tr><tr><td class = \"rowNumber\" style = \"font-weight: bold; text-align: right;\">13</td><td style = \"text-align: left;\">12-237596</td><td style = \"text-align: left;\">Battery</td><td style = \"text-align: right;\">1.0</td><td style = \"text-align: left;\">Motor Vehicle</td><td style = \"text-align: left;\">POINT (-81.334557031 28.556153001)</td></tr><tr><td style = \"text-align: right;\">&vellip;</td><td style = \"text-align: right;\">&vellip;</td><td style = \"text-align: right;\">&vellip;</td><td style = \"text-align: right;\">&vellip;</td><td style = \"text-align: right;\">&vellip;</td><td style = \"text-align: right;\">&vellip;</td></tr><tr><td class = \"rowNumber\" style = \"font-weight: bold; text-align: right;\">67</td><td style = \"text-align: left;\">16-242039</td><td style = \"text-align: left;\">Active Shooter</td><td style = \"text-align: right;\">11.0</td><td style = \"text-align: left;\">Rifle</td><td style = \"text-align: left;\">POINT (-81.37680702 28.519611004)</td></tr><tr><td class = \"rowNumber\" style = \"font-weight: bold; text-align: right;\">68</td><td style = \"text-align: left;\">23-246025</td><td style = \"text-align: left;\">Suspicious Vehicle</td><td style = \"text-align: right;\">1.0</td><td style = \"text-align: left;\">No</td><td style = \"text-align: left;\">POINT (-81.37916436 28.551353716)</td></tr><tr><td class = \"rowNumber\" style = \"font-weight: bold; text-align: right;\">69</td><td style = \"text-align: left;\">10-329547</td><td style = \"text-align: left;\">Attempted Suicide</td><td style = \"text-align: right;\">1.0</td><td style = \"text-align: left;\">Shotgun,Handgun</td><td style = \"text-align: left;\">POINT (-81.476621992 28.515039011)</td></tr><tr><td class = \"rowNumber\" style = \"font-weight: bold; text-align: right;\">70</td><td style = \"text-align: left;\">14-206741</td><td style = \"text-align: left;\">Homicide</td><td style = \"text-align: right;\">1.0</td><td style = \"text-align: left;\">Motor Vehicle,Handgun</td><td style = \"text-align: left;\">POINT (-81.397620962 28.544747996)</td></tr><tr><td class = \"rowNumber\" style = \"font-weight: bold; text-align: right;\">71</td><td style = \"text-align: left;\">14-500135</td><td style = \"text-align: left;\">Burglary</td><td style = \"text-align: right;\">1.0</td><td style = \"text-align: left;\">Handgun</td><td style = \"text-align: left;\">POINT (-81.307727984 28.529062019)</td></tr><tr><td class = \"rowNumber\" style = \"font-weight: bold; text-align: right;\">72</td><td style = \"text-align: left;\">11-257484</td><td style = \"text-align: left;\">Drug Violation</td><td style = \"text-align: right;\">1.0</td><td style = \"text-align: left;\">Hands/reaching</td><td style = \"text-align: left;\">POINT (-81.389041531 28.538220076)</td></tr><tr><td class = \"rowNumber\" style = \"font-weight: bold; text-align: right;\">73</td><td style = \"text-align: left;\">17-406642</td><td style = \"text-align: left;\">Suspicious Person</td><td style = \"text-align: right;\">1.0</td><td style = \"text-align: left;\">Handgun</td><td style = \"text-align: left;\">POINT (-81.429694969 28.611062074)</td></tr><tr><td class = \"rowNumber\" style = \"font-weight: bold; text-align: right;\">74</td><td style = \"text-align: left;\">18-228375</td><td style = \"text-align: left;\">Battery</td><td style = \"text-align: right;\">1.0</td><td style = \"text-align: left;\">Handgun</td><td style = \"text-align: left;\">POINT (-81.462643153 28.490099922)</td></tr><tr><td class = \"rowNumber\" style = \"font-weight: bold; text-align: right;\">75</td><td style = \"text-align: left;\">12-074536</td><td style = \"text-align: left;\">Homicide</td><td style = \"text-align: right;\">1.0</td><td style = \"text-align: left;\">Handgun</td><td style = \"text-align: left;\">POINT (-81.269478007 28.420598013)</td></tr><tr><td class = \"rowNumber\" style = \"font-weight: bold; text-align: right;\">76</td><td style = \"text-align: left;\">16-153523</td><td style = \"text-align: left;\">Battery</td><td style = \"text-align: right;\">1.0</td><td style = \"text-align: left;\">Handgun</td><td style = \"text-align: left;\">POINT (-81.306244974 28.518123007)</td></tr><tr><td class = \"rowNumber\" style = \"font-weight: bold; text-align: right;\">77</td><td style = \"text-align: left;\">23-355012</td><td style = \"text-align: left;\">Unknown Trouble/Person Robbery</td><td style = \"text-align: right;\">2.0</td><td style = \"text-align: left;\">Firearm</td><td style = \"text-align: left;\">POINT (-81.388922977 28.534726006)</td></tr><tr><td class = \"rowNumber\" style = \"font-weight: bold; text-align: right;\">78</td><td style = \"text-align: left;\">09-308652</td><td style = \"text-align: left;\">Aggravated Assault</td><td style = \"text-align: right;\">1.0</td><td style = \"text-align: left;\">Handgun</td><td style = \"text-align: left;\">POINT (-81.413406013 28.601738987)</td></tr></tbody></table></div>"
      ],
      "text/latex": [
       "\\begin{tabular}{r|ccccc}\n",
       "\t& Case \\# & Incident Type & Number of Officers Involved & Suspect's Weapon & \\\\\n",
       "\t\\hline\n",
       "\t& String15 & String & Float64? & String31 & \\\\\n",
       "\t\\hline\n",
       "\t1 & 22-174307 & Vehicle Stop & 2.0 & Handgun & $\\dots$ \\\\\n",
       "\t2 & 18-448868 & Stolen Vehicle & 1.0 & Motor Vehicle & $\\dots$ \\\\\n",
       "\t3 & 18-219116 & Attempted Suicide & 1.0 & Handgun & $\\dots$ \\\\\n",
       "\t4 & 20-397311 & Domestic Disturbance & 1.0 & Handgun & $\\dots$ \\\\\n",
       "\t5 & 10-503738 & Armed Robbery & 3.0 & Handgun & $\\dots$ \\\\\n",
       "\t6 & 13-022948 & Drug Violation & 2.0 & Handgun & $\\dots$ \\\\\n",
       "\t7 & 16-021812 & Traffic Stop & 1.0 & Motor Vehicle & $\\dots$ \\\\\n",
       "\t8 & 14-086291 & Stalking & 3.0 & Motor Vehicle & $\\dots$ \\\\\n",
       "\t9 & 15-291159 & Suspicious Person & 1.0 & Hands/ASP & $\\dots$ \\\\\n",
       "\t10 & 11-201994 & Armed Robbery & 1.0 & Motor Vehicle & $\\dots$ \\\\\n",
       "\t11 & 20-133070 & Attempted Suicide & 1.0 & Knife & $\\dots$ \\\\\n",
       "\t12 & 16-439059 & Aggravated Battery & 1.0 & Handgun & $\\dots$ \\\\\n",
       "\t13 & 12-237596 & Battery & 1.0 & Motor Vehicle & $\\dots$ \\\\\n",
       "\t14 & 10-437014 & Street Racing & 1.0 & Motor Vehicle & $\\dots$ \\\\\n",
       "\t15 & 15-050643 & Shots fired & 1.0 & Handgun & $\\dots$ \\\\\n",
       "\t16 & 09-559387 & Barricaded Subject & 1.0 & Handgun & $\\dots$ \\\\\n",
       "\t17 & 18-414226 & Violent Mentally Ill Person & 1.0 & Handgun & $\\dots$ \\\\\n",
       "\t18 & 21-437603 & Suspicious Incident & \\emph{missing} & Handgun & $\\dots$ \\\\\n",
       "\t19 & 18-180878 & Shoplifiting & 2.0 & No & $\\dots$ \\\\\n",
       "\t20 & 10-000324 & Atempted Murder & 1.0 & Motor Vehicle & $\\dots$ \\\\\n",
       "\t21 & 15-055695 & Shots fired & 1.0 & Handgun & $\\dots$ \\\\\n",
       "\t22 & 13-495877 & Traffic Stop & 1.0 & Motor Vehicle & $\\dots$ \\\\\n",
       "\t23 & 21-314598 & Suspicious Persons & 2.0 & Firearm, Firearm, Unknown & $\\dots$ \\\\\n",
       "\t24 & 16-246131 & Vehicle Burglary & 1.0 & Motor Vehicle & $\\dots$ \\\\\n",
       "\t$\\dots$ & $\\dots$ & $\\dots$ & $\\dots$ & $\\dots$ &  \\\\\n",
       "\\end{tabular}\n"
      ],
      "text/plain": [
       "\u001b[1m78×5 DataFrame\u001b[0m\n",
       "\u001b[1m Row \u001b[0m│\u001b[1m Case #    \u001b[0m\u001b[1m Incident Type                  \u001b[0m\u001b[1m Number of Officers Involved \u001b[0m\u001b[1m\u001b[0m ⋯\n",
       "     │\u001b[90m String15  \u001b[0m\u001b[90m String                         \u001b[0m\u001b[90m Union{Missing, Float64}     \u001b[0m\u001b[90m\u001b[0m ⋯\n",
       "─────┼──────────────────────────────────────────────────────────────────────────\n",
       "   1 │ 22-174307  Vehicle Stop                                            2.0  ⋯\n",
       "   2 │ 18-448868  Stolen Vehicle                                          1.0\n",
       "   3 │ 18-219116  Attempted Suicide                                       1.0\n",
       "   4 │ 20-397311  Domestic Disturbance                                    1.0\n",
       "   5 │ 10-503738  Armed Robbery                                           3.0  ⋯\n",
       "   6 │ 13-022948  Drug Violation                                          2.0\n",
       "   7 │ 16-021812  Traffic Stop                                            1.0\n",
       "   8 │ 14-086291  Stalking                                                3.0\n",
       "  ⋮  │     ⋮                    ⋮                              ⋮               ⋱\n",
       "  72 │ 11-257484  Drug Violation                                          1.0  ⋯\n",
       "  73 │ 17-406642  Suspicious Person                                       1.0\n",
       "  74 │ 18-228375  Battery                                                 1.0\n",
       "  75 │ 12-074536  Homicide                                                1.0\n",
       "  76 │ 16-153523  Battery                                                 1.0  ⋯\n",
       "  77 │ 23-355012  Unknown Trouble/Person Robbery                          2.0\n",
       "  78 │ 09-308652  Aggravated Assault                                      1.0\n",
       "\u001b[36m                                                   2 columns and 63 rows omitted\u001b[0m"
      ]
     },
     "metadata": {},
     "output_type": "display_data"
    }
   ],
   "source": [
    "# load and analyze data\n",
    "data = CSV.read(\"Data/filtered_data.csv\", DataFrame)"
   ]
  },
  {
   "cell_type": "code",
   "execution_count": null,
   "metadata": {},
   "outputs": [
    {
     "data": {
      "text/plain": [
       "convert_to_tuple (generic function with 1 method)"
      ]
     },
     "metadata": {},
     "output_type": "display_data"
    }
   ],
   "source": [
    "# Function to convert Georeferenced Columm to Tuple \n",
    "\n",
    "function convert_to_tuple(str)\n",
    "    test = str[7:end]\n",
    "    test = strip(test, ['(', ')'])\n",
    "    test = split(test, ' ')\n",
    "\n",
    "    return (parse(Float64, test[1]), parse(Float64, test[2]))\n",
    "\n",
    "end"
   ]
  },
  {
   "cell_type": "code",
   "execution_count": null,
   "metadata": {},
   "outputs": [
    {
     "data": {
      "text/plain": [
       "78-element Vector{Tuple{Float64, Float64}}:\n",
       " (-81.430522027, 28.559823981)\n",
       " (-81.444407991, 28.426330019)\n",
       " (-81.436934015, 28.497201986)\n",
       " (-81.31615297, 28.574676001)\n",
       " (-81.475974825, 28.552001109)\n",
       " (-81.398586976, 28.552194982)\n",
       " (-81.454123826, 28.596308986)\n",
       " (-81.386192991, 28.540632985)\n",
       " (-81.335092645, 28.522822186)\n",
       " (-81.444618041, 28.497712989)\n",
       " ⋮\n",
       " (-81.397620962, 28.544747996)\n",
       " (-81.307727984, 28.529062019)\n",
       " (-81.389041531, 28.538220076)\n",
       " (-81.429694969, 28.611062074)\n",
       " (-81.462643153, 28.490099922)\n",
       " (-81.269478007, 28.420598013)\n",
       " (-81.306244974, 28.518123007)\n",
       " (-81.388922977, 28.534726006)\n",
       " (-81.413406013, 28.601738987)"
      ]
     },
     "metadata": {},
     "output_type": "display_data"
    }
   ],
   "source": [
    "#Algorithms used\n",
    "location = convert_to_tuple.(data[:, \"Georeferenced Column\"])"
   ]
  },
  {
   "cell_type": "code",
   "execution_count": 19,
   "metadata": {},
   "outputs": [
    {
     "name": "stderr",
     "output_type": "stream",
     "text": [
      "\u001b[32m\u001b[1m   Resolving\u001b[22m\u001b[39m package versions...\n",
      "\u001b[32m\u001b[1m   Installed\u001b[22m\u001b[39m Geodesy ─────────────────── v1.1.0\n",
      "\u001b[32m\u001b[1m   Installed\u001b[22m\u001b[39m CoordinateTransformations ─ v0.6.3\n",
      "\u001b[32m\u001b[1m    Updating\u001b[22m\u001b[39m `~/.julia/environments/v1.11/Project.toml`\n",
      "  \u001b[90m[0ef565a4] \u001b[39m\u001b[92m+ Geodesy v1.1.0\u001b[39m\n",
      "\u001b[32m\u001b[1m    Updating\u001b[22m\u001b[39m `~/.julia/environments/v1.11/Manifest.toml`\n",
      "  \u001b[90m[150eb455] \u001b[39m\u001b[92m+ CoordinateTransformations v0.6.3\u001b[39m\n",
      "  \u001b[90m[0ef565a4] \u001b[39m\u001b[92m+ Geodesy v1.1.0\u001b[39m\n",
      "\u001b[92m\u001b[1mPrecompiling\u001b[22m\u001b[39m project...\n",
      "   5603.1 ms\u001b[32m  ✓ \u001b[39m\u001b[90mCoordinateTransformations\u001b[39m\n",
      "   3521.8 ms\u001b[32m  ✓ \u001b[39mGeodesy\n",
      "  2 dependencies successfully precompiled in 15 seconds. 442 already precompiled.\n"
     ]
    }
   ],
   "source": [
    "using Pkg \n",
    "Pkg.add(\"Geodesy\")"
   ]
  },
  {
   "cell_type": "code",
   "execution_count": 30,
   "metadata": {},
   "outputs": [
    {
     "data": {
      "text/plain": [
       "LatLon(lat=28.559823981°, lon=-81.430522027°)"
      ]
     },
     "metadata": {},
     "output_type": "display_data"
    }
   ],
   "source": [
    "using Geodesy \n",
    "\n",
    "point = LatLon(location[1][2],location[1][1])"
   ]
  },
  {
   "cell_type": "code",
   "execution_count": 29,
   "metadata": {},
   "outputs": [
    {
     "data": {
      "text/plain": [
       "LatLon(lat=-81.430522027°, lon=28.559823981°)"
      ]
     },
     "metadata": {},
     "output_type": "display_data"
    }
   ],
   "source": [
    "point"
   ]
  },
  {
   "cell_type": "code",
   "execution_count": null,
   "metadata": {},
   "outputs": [],
   "source": [
    "# Pkg.add(\"Conda\")\n",
    "# using Conda\n",
    "# Conda.runconda(`install folium -c conda-forge`)\n",
    "# const foli = pyimport(\"folium\")"
   ]
  }
 ],
 "metadata": {
  "kernelspec": {
   "display_name": "Julia 1.11.1",
   "language": "julia",
   "name": "julia-1.11"
  },
  "language_info": {
   "file_extension": ".jl",
   "mimetype": "application/julia",
   "name": "julia",
   "version": "1.11.1"
  },
  "vscode": {
   "interpreter": {
    "hash": "31f2aee4e71d21fbe5cf8b01ff0e069b9275f58929596ceb00d14d90e3e16cd6"
   }
  }
 },
 "nbformat": 4,
 "nbformat_minor": 2
}

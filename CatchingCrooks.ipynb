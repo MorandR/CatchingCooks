{
 "cells": [
  {
   "cell_type": "markdown",
   "metadata": {},
   "source": [
    "# Orlando Criminal Activities\n",
    "\n",
    "##### Presented by: Clark Jones, Umapathy Beema, Richard Morand <br> Dr. Spencer Lyon - Spring 2024 \n",
    "\n",
    "\n",
    "Ojective: We will be exploring the criminal acts in Orlando, and create a model to showcase the types of activities done in the city. <br>\n",
    "\n",
    "__Tools__ <br>\n",
    "Collaboration: VSCode, Github, Discord <br>\n",
    "Languages: Python, Julia\n",
    "Packages/Libraries: Agents, OpenStreetMap, Pandas, etc."
   ]
  },
  {
   "cell_type": "code",
   "execution_count": 1,
   "metadata": {},
   "outputs": [
    {
     "name": "stderr",
     "output_type": "stream",
     "text": [
      "\u001b[32m\u001b[1m   Resolving\u001b[22m\u001b[39m package versions...\n",
      "\u001b[32m\u001b[1m  No Changes\u001b[22m\u001b[39m to `~/.julia/environments/v1.11/Project.toml`\n",
      "\u001b[32m\u001b[1m  No Changes\u001b[22m\u001b[39m to `~/.julia/environments/v1.11/Manifest.toml`\n"
     ]
    }
   ],
   "source": [
    "#import packages here\n",
    "import Pkg\n",
    "Pkg.add([\"OpenStreetMapX\", \"CSV\", \"DataFrames\"])"
   ]
  },
  {
   "cell_type": "code",
   "execution_count": 2,
   "metadata": {},
   "outputs": [],
   "source": [
    "using Agents, OpenStreetMapX\n",
    "using CSV, DataFrames"
   ]
  },
  {
   "cell_type": "code",
   "execution_count": 3,
   "metadata": {},
   "outputs": [
    {
     "data": {
      "text/html": [
       "<div><div style = \"float: left;\"><span>78×5 DataFrame</span></div><div style = \"float: right;\"><span style = \"font-style: italic;\">53 rows omitted</span></div><div style = \"clear: both;\"></div></div><div class = \"data-frame\" style = \"overflow-x: scroll;\"><table class = \"data-frame\" style = \"margin-bottom: 6px;\"><thead><tr class = \"header\"><th class = \"rowNumber\" style = \"font-weight: bold; text-align: right;\">Row</th><th style = \"text-align: left;\">Case #</th><th style = \"text-align: left;\">Incident Type</th><th style = \"text-align: left;\">Number of Officers Involved</th><th style = \"text-align: left;\">Suspect&apos;s Weapon</th><th style = \"text-align: left;\">Georeferenced Column</th></tr><tr class = \"subheader headerLastRow\"><th class = \"rowNumber\" style = \"font-weight: bold; text-align: right;\"></th><th title = \"String15\" style = \"text-align: left;\">String15</th><th title = \"String\" style = \"text-align: left;\">String</th><th title = \"Union{Missing, Float64}\" style = \"text-align: left;\">Float64?</th><th title = \"String31\" style = \"text-align: left;\">String31</th><th title = \"String\" style = \"text-align: left;\">String</th></tr></thead><tbody><tr><td class = \"rowNumber\" style = \"font-weight: bold; text-align: right;\">1</td><td style = \"text-align: left;\">22-174307</td><td style = \"text-align: left;\">Vehicle Stop</td><td style = \"text-align: right;\">2.0</td><td style = \"text-align: left;\">Handgun</td><td style = \"text-align: left;\">POINT (-81.430522027 28.559823981)</td></tr><tr><td class = \"rowNumber\" style = \"font-weight: bold; text-align: right;\">2</td><td style = \"text-align: left;\">18-448868</td><td style = \"text-align: left;\">Stolen Vehicle</td><td style = \"text-align: right;\">1.0</td><td style = \"text-align: left;\">Motor Vehicle</td><td style = \"text-align: left;\">POINT (-81.444407991 28.426330019)</td></tr><tr><td class = \"rowNumber\" style = \"font-weight: bold; text-align: right;\">3</td><td style = \"text-align: left;\">18-219116</td><td style = \"text-align: left;\">Attempted Suicide</td><td style = \"text-align: right;\">1.0</td><td style = \"text-align: left;\">Handgun</td><td style = \"text-align: left;\">POINT (-81.436934015 28.497201986)</td></tr><tr><td class = \"rowNumber\" style = \"font-weight: bold; text-align: right;\">4</td><td style = \"text-align: left;\">20-397311</td><td style = \"text-align: left;\">Domestic Disturbance</td><td style = \"text-align: right;\">1.0</td><td style = \"text-align: left;\">Handgun</td><td style = \"text-align: left;\">POINT (-81.31615297 28.574676001)</td></tr><tr><td class = \"rowNumber\" style = \"font-weight: bold; text-align: right;\">5</td><td style = \"text-align: left;\">10-503738</td><td style = \"text-align: left;\">Armed Robbery</td><td style = \"text-align: right;\">3.0</td><td style = \"text-align: left;\">Handgun</td><td style = \"text-align: left;\">POINT (-81.475974825 28.552001109)</td></tr><tr><td class = \"rowNumber\" style = \"font-weight: bold; text-align: right;\">6</td><td style = \"text-align: left;\">13-022948</td><td style = \"text-align: left;\">Drug Violation</td><td style = \"text-align: right;\">2.0</td><td style = \"text-align: left;\">Handgun</td><td style = \"text-align: left;\">POINT (-81.398586976 28.552194982)</td></tr><tr><td class = \"rowNumber\" style = \"font-weight: bold; text-align: right;\">7</td><td style = \"text-align: left;\">16-021812</td><td style = \"text-align: left;\">Traffic Stop</td><td style = \"text-align: right;\">1.0</td><td style = \"text-align: left;\">Motor Vehicle</td><td style = \"text-align: left;\">POINT (-81.454123826 28.596308986)</td></tr><tr><td class = \"rowNumber\" style = \"font-weight: bold; text-align: right;\">8</td><td style = \"text-align: left;\">14-086291</td><td style = \"text-align: left;\">Stalking</td><td style = \"text-align: right;\">3.0</td><td style = \"text-align: left;\">Motor Vehicle</td><td style = \"text-align: left;\">POINT (-81.386192991 28.540632985)</td></tr><tr><td class = \"rowNumber\" style = \"font-weight: bold; text-align: right;\">9</td><td style = \"text-align: left;\">15-291159</td><td style = \"text-align: left;\">Suspicious Person</td><td style = \"text-align: right;\">1.0</td><td style = \"text-align: left;\">Hands/ASP</td><td style = \"text-align: left;\">POINT (-81.335092645 28.522822186)</td></tr><tr><td class = \"rowNumber\" style = \"font-weight: bold; text-align: right;\">10</td><td style = \"text-align: left;\">11-201994</td><td style = \"text-align: left;\">Armed Robbery</td><td style = \"text-align: right;\">1.0</td><td style = \"text-align: left;\">Motor Vehicle</td><td style = \"text-align: left;\">POINT (-81.444618041 28.497712989)</td></tr><tr><td class = \"rowNumber\" style = \"font-weight: bold; text-align: right;\">11</td><td style = \"text-align: left;\">20-133070</td><td style = \"text-align: left;\">Attempted Suicide</td><td style = \"text-align: right;\">1.0</td><td style = \"text-align: left;\">Knife</td><td style = \"text-align: left;\">POINT (-81.412285018 28.547911997)</td></tr><tr><td class = \"rowNumber\" style = \"font-weight: bold; text-align: right;\">12</td><td style = \"text-align: left;\">16-439059</td><td style = \"text-align: left;\">Aggravated Battery</td><td style = \"text-align: right;\">1.0</td><td style = \"text-align: left;\">Handgun</td><td style = \"text-align: left;\">POINT (-81.3912463 28.537139514)</td></tr><tr><td class = \"rowNumber\" style = \"font-weight: bold; text-align: right;\">13</td><td style = \"text-align: left;\">12-237596</td><td style = \"text-align: left;\">Battery</td><td style = \"text-align: right;\">1.0</td><td style = \"text-align: left;\">Motor Vehicle</td><td style = \"text-align: left;\">POINT (-81.334557031 28.556153001)</td></tr><tr><td style = \"text-align: right;\">&vellip;</td><td style = \"text-align: right;\">&vellip;</td><td style = \"text-align: right;\">&vellip;</td><td style = \"text-align: right;\">&vellip;</td><td style = \"text-align: right;\">&vellip;</td><td style = \"text-align: right;\">&vellip;</td></tr><tr><td class = \"rowNumber\" style = \"font-weight: bold; text-align: right;\">67</td><td style = \"text-align: left;\">16-242039</td><td style = \"text-align: left;\">Active Shooter</td><td style = \"text-align: right;\">11.0</td><td style = \"text-align: left;\">Rifle</td><td style = \"text-align: left;\">POINT (-81.37680702 28.519611004)</td></tr><tr><td class = \"rowNumber\" style = \"font-weight: bold; text-align: right;\">68</td><td style = \"text-align: left;\">23-246025</td><td style = \"text-align: left;\">Suspicious Vehicle</td><td style = \"text-align: right;\">1.0</td><td style = \"text-align: left;\">No</td><td style = \"text-align: left;\">POINT (-81.37916436 28.551353716)</td></tr><tr><td class = \"rowNumber\" style = \"font-weight: bold; text-align: right;\">69</td><td style = \"text-align: left;\">10-329547</td><td style = \"text-align: left;\">Attempted Suicide</td><td style = \"text-align: right;\">1.0</td><td style = \"text-align: left;\">Shotgun,Handgun</td><td style = \"text-align: left;\">POINT (-81.476621992 28.515039011)</td></tr><tr><td class = \"rowNumber\" style = \"font-weight: bold; text-align: right;\">70</td><td style = \"text-align: left;\">14-206741</td><td style = \"text-align: left;\">Homicide</td><td style = \"text-align: right;\">1.0</td><td style = \"text-align: left;\">Motor Vehicle,Handgun</td><td style = \"text-align: left;\">POINT (-81.397620962 28.544747996)</td></tr><tr><td class = \"rowNumber\" style = \"font-weight: bold; text-align: right;\">71</td><td style = \"text-align: left;\">14-500135</td><td style = \"text-align: left;\">Burglary</td><td style = \"text-align: right;\">1.0</td><td style = \"text-align: left;\">Handgun</td><td style = \"text-align: left;\">POINT (-81.307727984 28.529062019)</td></tr><tr><td class = \"rowNumber\" style = \"font-weight: bold; text-align: right;\">72</td><td style = \"text-align: left;\">11-257484</td><td style = \"text-align: left;\">Drug Violation</td><td style = \"text-align: right;\">1.0</td><td style = \"text-align: left;\">Hands/reaching</td><td style = \"text-align: left;\">POINT (-81.389041531 28.538220076)</td></tr><tr><td class = \"rowNumber\" style = \"font-weight: bold; text-align: right;\">73</td><td style = \"text-align: left;\">17-406642</td><td style = \"text-align: left;\">Suspicious Person</td><td style = \"text-align: right;\">1.0</td><td style = \"text-align: left;\">Handgun</td><td style = \"text-align: left;\">POINT (-81.429694969 28.611062074)</td></tr><tr><td class = \"rowNumber\" style = \"font-weight: bold; text-align: right;\">74</td><td style = \"text-align: left;\">18-228375</td><td style = \"text-align: left;\">Battery</td><td style = \"text-align: right;\">1.0</td><td style = \"text-align: left;\">Handgun</td><td style = \"text-align: left;\">POINT (-81.462643153 28.490099922)</td></tr><tr><td class = \"rowNumber\" style = \"font-weight: bold; text-align: right;\">75</td><td style = \"text-align: left;\">12-074536</td><td style = \"text-align: left;\">Homicide</td><td style = \"text-align: right;\">1.0</td><td style = \"text-align: left;\">Handgun</td><td style = \"text-align: left;\">POINT (-81.269478007 28.420598013)</td></tr><tr><td class = \"rowNumber\" style = \"font-weight: bold; text-align: right;\">76</td><td style = \"text-align: left;\">16-153523</td><td style = \"text-align: left;\">Battery</td><td style = \"text-align: right;\">1.0</td><td style = \"text-align: left;\">Handgun</td><td style = \"text-align: left;\">POINT (-81.306244974 28.518123007)</td></tr><tr><td class = \"rowNumber\" style = \"font-weight: bold; text-align: right;\">77</td><td style = \"text-align: left;\">23-355012</td><td style = \"text-align: left;\">Unknown Trouble/Person Robbery</td><td style = \"text-align: right;\">2.0</td><td style = \"text-align: left;\">Firearm</td><td style = \"text-align: left;\">POINT (-81.388922977 28.534726006)</td></tr><tr><td class = \"rowNumber\" style = \"font-weight: bold; text-align: right;\">78</td><td style = \"text-align: left;\">09-308652</td><td style = \"text-align: left;\">Aggravated Assault</td><td style = \"text-align: right;\">1.0</td><td style = \"text-align: left;\">Handgun</td><td style = \"text-align: left;\">POINT (-81.413406013 28.601738987)</td></tr></tbody></table></div>"
      ],
      "text/latex": [
       "\\begin{tabular}{r|ccccc}\n",
       "\t& Case \\# & Incident Type & Number of Officers Involved & Suspect's Weapon & \\\\\n",
       "\t\\hline\n",
       "\t& String15 & String & Float64? & String31 & \\\\\n",
       "\t\\hline\n",
       "\t1 & 22-174307 & Vehicle Stop & 2.0 & Handgun & $\\dots$ \\\\\n",
       "\t2 & 18-448868 & Stolen Vehicle & 1.0 & Motor Vehicle & $\\dots$ \\\\\n",
       "\t3 & 18-219116 & Attempted Suicide & 1.0 & Handgun & $\\dots$ \\\\\n",
       "\t4 & 20-397311 & Domestic Disturbance & 1.0 & Handgun & $\\dots$ \\\\\n",
       "\t5 & 10-503738 & Armed Robbery & 3.0 & Handgun & $\\dots$ \\\\\n",
       "\t6 & 13-022948 & Drug Violation & 2.0 & Handgun & $\\dots$ \\\\\n",
       "\t7 & 16-021812 & Traffic Stop & 1.0 & Motor Vehicle & $\\dots$ \\\\\n",
       "\t8 & 14-086291 & Stalking & 3.0 & Motor Vehicle & $\\dots$ \\\\\n",
       "\t9 & 15-291159 & Suspicious Person & 1.0 & Hands/ASP & $\\dots$ \\\\\n",
       "\t10 & 11-201994 & Armed Robbery & 1.0 & Motor Vehicle & $\\dots$ \\\\\n",
       "\t11 & 20-133070 & Attempted Suicide & 1.0 & Knife & $\\dots$ \\\\\n",
       "\t12 & 16-439059 & Aggravated Battery & 1.0 & Handgun & $\\dots$ \\\\\n",
       "\t13 & 12-237596 & Battery & 1.0 & Motor Vehicle & $\\dots$ \\\\\n",
       "\t14 & 10-437014 & Street Racing & 1.0 & Motor Vehicle & $\\dots$ \\\\\n",
       "\t15 & 15-050643 & Shots fired & 1.0 & Handgun & $\\dots$ \\\\\n",
       "\t16 & 09-559387 & Barricaded Subject & 1.0 & Handgun & $\\dots$ \\\\\n",
       "\t17 & 18-414226 & Violent Mentally Ill Person & 1.0 & Handgun & $\\dots$ \\\\\n",
       "\t18 & 21-437603 & Suspicious Incident & \\emph{missing} & Handgun & $\\dots$ \\\\\n",
       "\t19 & 18-180878 & Shoplifiting & 2.0 & No & $\\dots$ \\\\\n",
       "\t20 & 10-000324 & Atempted Murder & 1.0 & Motor Vehicle & $\\dots$ \\\\\n",
       "\t21 & 15-055695 & Shots fired & 1.0 & Handgun & $\\dots$ \\\\\n",
       "\t22 & 13-495877 & Traffic Stop & 1.0 & Motor Vehicle & $\\dots$ \\\\\n",
       "\t23 & 21-314598 & Suspicious Persons & 2.0 & Firearm, Firearm, Unknown & $\\dots$ \\\\\n",
       "\t24 & 16-246131 & Vehicle Burglary & 1.0 & Motor Vehicle & $\\dots$ \\\\\n",
       "\t$\\dots$ & $\\dots$ & $\\dots$ & $\\dots$ & $\\dots$ &  \\\\\n",
       "\\end{tabular}\n"
      ],
      "text/plain": [
       "\u001b[1m78×5 DataFrame\u001b[0m\n",
       "\u001b[1m Row \u001b[0m│\u001b[1m Case #    \u001b[0m\u001b[1m Incident Type                  \u001b[0m\u001b[1m Number of Officers Involved \u001b[0m\u001b[1m\u001b[0m ⋯\n",
       "     │\u001b[90m String15  \u001b[0m\u001b[90m String                         \u001b[0m\u001b[90m Union{Missing, Float64}     \u001b[0m\u001b[90m\u001b[0m ⋯\n",
       "─────┼──────────────────────────────────────────────────────────────────────────\n",
       "   1 │ 22-174307  Vehicle Stop                                            2.0  ⋯\n",
       "   2 │ 18-448868  Stolen Vehicle                                          1.0\n",
       "   3 │ 18-219116  Attempted Suicide                                       1.0\n",
       "   4 │ 20-397311  Domestic Disturbance                                    1.0\n",
       "   5 │ 10-503738  Armed Robbery                                           3.0  ⋯\n",
       "   6 │ 13-022948  Drug Violation                                          2.0\n",
       "   7 │ 16-021812  Traffic Stop                                            1.0\n",
       "   8 │ 14-086291  Stalking                                                3.0\n",
       "  ⋮  │     ⋮                    ⋮                              ⋮               ⋱\n",
       "  72 │ 11-257484  Drug Violation                                          1.0  ⋯\n",
       "  73 │ 17-406642  Suspicious Person                                       1.0\n",
       "  74 │ 18-228375  Battery                                                 1.0\n",
       "  75 │ 12-074536  Homicide                                                1.0\n",
       "  76 │ 16-153523  Battery                                                 1.0  ⋯\n",
       "  77 │ 23-355012  Unknown Trouble/Person Robbery                          2.0\n",
       "  78 │ 09-308652  Aggravated Assault                                      1.0\n",
       "\u001b[36m                                                   2 columns and 63 rows omitted\u001b[0m"
      ]
     },
     "metadata": {},
     "output_type": "display_data"
    }
   ],
   "source": [
    "# load and analyze data\n",
    "data = CSV.read(\"Data/filtered_data.csv\", DataFrame)"
   ]
  },
  {
   "cell_type": "code",
   "execution_count": 4,
   "metadata": {},
   "outputs": [
    {
     "data": {
      "text/plain": [
       "convert_to_tuple (generic function with 1 method)"
      ]
     },
     "metadata": {},
     "output_type": "display_data"
    }
   ],
   "source": [
    "# Function to convert Georeferenced Columm to Tuple \n",
    "\n",
    "function convert_to_tuple(str)\n",
    "    test = str[7:end]\n",
    "    test = strip(test, ['(', ')'])\n",
    "    test = split(test, ' ')\n",
    "\n",
    "    return (parse(Float64, test[1]), parse(Float64, test[2]))\n",
    "\n",
    "end"
   ]
  },
  {
   "cell_type": "code",
   "execution_count": 5,
   "metadata": {},
   "outputs": [
    {
     "data": {
      "text/plain": [
       "78-element Vector{Tuple{Float64, Float64}}:\n",
       " (-81.430522027, 28.559823981)\n",
       " (-81.444407991, 28.426330019)\n",
       " (-81.436934015, 28.497201986)\n",
       " (-81.31615297, 28.574676001)\n",
       " (-81.475974825, 28.552001109)\n",
       " (-81.398586976, 28.552194982)\n",
       " (-81.454123826, 28.596308986)\n",
       " (-81.386192991, 28.540632985)\n",
       " (-81.335092645, 28.522822186)\n",
       " (-81.444618041, 28.497712989)\n",
       " ⋮\n",
       " (-81.397620962, 28.544747996)\n",
       " (-81.307727984, 28.529062019)\n",
       " (-81.389041531, 28.538220076)\n",
       " (-81.429694969, 28.611062074)\n",
       " (-81.462643153, 28.490099922)\n",
       " (-81.269478007, 28.420598013)\n",
       " (-81.306244974, 28.518123007)\n",
       " (-81.388922977, 28.534726006)\n",
       " (-81.413406013, 28.601738987)"
      ]
     },
     "metadata": {},
     "output_type": "display_data"
    }
   ],
   "source": [
    "#Algorithms used\n",
    "location = convert_to_tuple.(data[:, \"Georeferenced Column\"])"
   ]
  },
  {
   "cell_type": "code",
   "execution_count": 6,
   "metadata": {},
   "outputs": [
    {
     "name": "stderr",
     "output_type": "stream",
     "text": [
      "\u001b[32m\u001b[1m   Resolving\u001b[22m\u001b[39m package versions...\n",
      "\u001b[32m\u001b[1m  No Changes\u001b[22m\u001b[39m to `~/.julia/environments/v1.11/Project.toml`\n",
      "\u001b[32m\u001b[1m  No Changes\u001b[22m\u001b[39m to `~/.julia/environments/v1.11/Manifest.toml`\n"
     ]
    }
   ],
   "source": [
    "using Pkg \n",
    "Pkg.add(\"Geodesy\")"
   ]
  },
  {
   "cell_type": "code",
   "execution_count": null,
   "metadata": {},
   "outputs": [
    {
     "name": "stdout",
     "output_type": "stream",
     "text": [
      "Any[LatLon(lat=28.559823981°, lon=-81.430522027°), LatLon(lat=28.426330019°, lon=-81.444407991°), LatLon(lat=28.497201986°, lon=-81.436934015°), LatLon(lat=28.574676001°, lon=-81.31615297°), LatLon(lat=28.552001109°, lon=-81.475974825°), LatLon(lat=28.552194982°, lon=-81.398586976°), LatLon(lat=28.596308986°, lon=-81.454123826°), LatLon(lat=28.540632985°, lon=-81.386192991°), LatLon(lat=28.522822186°, lon=-81.335092645°), LatLon(lat=28.497712989°, lon=-81.444618041°), LatLon(lat=28.547911997°, lon=-81.412285018°), LatLon(lat=28.537139514°, lon=-81.3912463°), LatLon(lat=28.556153001°, lon=-81.334557031°), LatLon(lat=28.477882998°, lon=-81.239710013°), LatLon(lat=28.497999663°, lon=-81.333771115°), LatLon(lat=28.547968994°, lon=-81.359319017°), LatLon(lat=28.55865898°, lon=-81.427266999°), LatLon(lat=28.52433802°, lon=-81.472334984°), LatLon(lat=28.548894985°, lon=-81.349587041°), LatLon(lat=28.54712699°, lon=-81.379952999°), LatLon(lat=28.461605007°, lon=-81.457321989°), LatLon(lat=28.602197839°, lon=-81.406359001°), LatLon(lat=28.533903993°, lon=-81.406430007°), LatLon(lat=28.472087248°, lon=-81.442324543°), LatLon(lat=28.541870992°, lon=-81.379251015°), LatLon(lat=28.571378979°, lon=-81.417509961°), LatLon(lat=28.449637996°, lon=-81.391206962°), LatLon(lat=28.337043705°, lon=-81.396481843°), LatLon(lat=28.476644991°, lon=-81.457605968°), LatLon(lat=28.503859019°, lon=-81.416386031°), LatLon(lat=28.527906647°, lon=-81.429590198°), LatLon(lat=28.48550898°, lon=-81.431556019°), LatLon(lat=28.524908894°, lon=-81.378340816°), LatLon(lat=28.540962016°, lon=-81.379256966°), LatLon(lat=28.430663002°, lon=-81.244586018°), LatLon(lat=28.544917981°, lon=-81.389443996°), LatLon(lat=28.540631015°, lon=-81.379592997°), LatLon(lat=28.538337894°, lon=-81.383046089°), LatLon(lat=28.534327992°, lon=-81.396921995°), LatLon(lat=28.506071851°, lon=-81.318425899°), LatLon(lat=28.444925837°, lon=-81.466664136°), LatLon(lat=28.577370992°, lon=-81.437913022°), LatLon(lat=28.430726998°, lon=-81.344281966°), LatLon(lat=28.552308012°, lon=-81.408800996°), LatLon(lat=28.543068876°, lon=-81.40157987°), LatLon(lat=28.552236012°, lon=-81.41756503°), LatLon(lat=28.52633702°, lon=-81.387476009°), LatLon(lat=28.514054012°, lon=-81.334423004°), LatLon(lat=28.516759984°, lon=-81.424266026°), LatLon(lat=28.391162298°, lon=-81.243139692°), LatLon(lat=28.493725005°, lon=-81.413742966°), LatLon(lat=28.536892016°, lon=-81.435645968°), LatLon(lat=28.598006085°, lon=-81.438782271°), LatLon(lat=28.546138596°, lon=-81.450849731°), LatLon(lat=28.576762153°, lon=-81.41655124°), LatLon(lat=28.552570983°, lon=-81.420973739°), LatLon(lat=28.610445982°, lon=-81.443793011°), LatLon(lat=28.538681594°, lon=-81.351856189°), LatLon(lat=28.51486999°, lon=-81.408266985°), LatLon(lat=28.496164013°, lon=-81.455159961°), LatLon(lat=28.543861484°, lon=-81.381788385°), LatLon(lat=28.606878015°, lon=-81.430558991°), LatLon(lat=28.547446175°, lon=-81.379200623°), LatLon(lat=28.5219785°, lon=-81.4571845°), LatLon(lat=28.555244989°, lon=-81.346396972°), LatLon(lat=28.46748399°, lon=-81.301133019°), LatLon(lat=28.519611004°, lon=-81.37680702°), LatLon(lat=28.551353716°, lon=-81.37916436°), LatLon(lat=28.515039011°, lon=-81.476621992°), LatLon(lat=28.544747996°, lon=-81.397620962°), LatLon(lat=28.529062019°, lon=-81.307727984°), LatLon(lat=28.538220076°, lon=-81.389041531°), LatLon(lat=28.611062074°, lon=-81.429694969°), LatLon(lat=28.490099922°, lon=-81.462643153°), LatLon(lat=28.420598013°, lon=-81.269478007°), LatLon(lat=28.518123007°, lon=-81.306244974°), LatLon(lat=28.534726006°, lon=-81.388922977°), LatLon(lat=28.601738987°, lon=-81.413406013°)]"
     ]
    }
   ],
   "source": [
    "using Geodesy \n",
    "\n",
    "point = []\n",
    "\n",
    "for each in location\n",
    "    push!(point,LatLon(each[2],each[1]))\n",
    "end\n",
    "\n",
    "point"
   ]
  },
  {
   "cell_type": "code",
   "execution_count": null,
   "metadata": {},
   "outputs": [],
   "source": [
    "# Pkg.add([\"Conda\", \"PyCall\"])\n",
    "\n",
    "# using Conda, PyCall\n",
    "\n",
    "# Conda.runconda(`install folium -c conda-forge -y`)\n",
    "# foli = pyimport(\"folium\")"
   ]
  },
  {
   "cell_type": "code",
   "execution_count": 44,
   "metadata": {},
   "outputs": [
    {
     "data": {
      "text/plain": [
       "78-element Vector{Any}:\n",
       " LatLon(lat=28.559823981°, lon=-81.430522027°)\n",
       " LatLon(lat=28.426330019°, lon=-81.444407991°)\n",
       " LatLon(lat=28.497201986°, lon=-81.436934015°)\n",
       " LatLon(lat=28.574676001°, lon=-81.31615297°)\n",
       " LatLon(lat=28.552001109°, lon=-81.475974825°)\n",
       " LatLon(lat=28.552194982°, lon=-81.398586976°)\n",
       " LatLon(lat=28.596308986°, lon=-81.454123826°)\n",
       " LatLon(lat=28.540632985°, lon=-81.386192991°)\n",
       " LatLon(lat=28.522822186°, lon=-81.335092645°)\n",
       " LatLon(lat=28.497712989°, lon=-81.444618041°)\n",
       " ⋮\n",
       " LatLon(lat=28.544747996°, lon=-81.397620962°)\n",
       " LatLon(lat=28.529062019°, lon=-81.307727984°)\n",
       " LatLon(lat=28.538220076°, lon=-81.389041531°)\n",
       " LatLon(lat=28.611062074°, lon=-81.429694969°)\n",
       " LatLon(lat=28.490099922°, lon=-81.462643153°)\n",
       " LatLon(lat=28.420598013°, lon=-81.269478007°)\n",
       " LatLon(lat=28.518123007°, lon=-81.306244974°)\n",
       " LatLon(lat=28.534726006°, lon=-81.388922977°)\n",
       " LatLon(lat=28.601738987°, lon=-81.413406013°)"
      ]
     },
     "metadata": {},
     "output_type": "display_data"
    }
   ],
   "source": [
    "data[:, \"Point\"] = point"
   ]
  },
  {
   "cell_type": "code",
   "execution_count": null,
   "metadata": {},
   "outputs": [
    {
     "data": {
      "text/html": [
       "<div><div style = \"float: left;\"><span>78×6 DataFrame</span></div><div style = \"float: right;\"><span style = \"font-style: italic;\">53 rows omitted</span></div><div style = \"clear: both;\"></div></div><div class = \"data-frame\" style = \"overflow-x: scroll;\"><table class = \"data-frame\" style = \"margin-bottom: 6px;\"><thead><tr class = \"header\"><th class = \"rowNumber\" style = \"font-weight: bold; text-align: right;\">Row</th><th style = \"text-align: left;\">Case #</th><th style = \"text-align: left;\">Incident Type</th><th style = \"text-align: left;\">Number of Officers Involved</th><th style = \"text-align: left;\">Suspect&apos;s Weapon</th><th style = \"text-align: left;\">Georeferenced Column</th><th style = \"text-align: left;\">Coordinates</th></tr><tr class = \"subheader headerLastRow\"><th class = \"rowNumber\" style = \"font-weight: bold; text-align: right;\"></th><th title = \"String15\" style = \"text-align: left;\">String15</th><th title = \"String\" style = \"text-align: left;\">String</th><th title = \"Union{Missing, Float64}\" style = \"text-align: left;\">Float64?</th><th title = \"String31\" style = \"text-align: left;\">String31</th><th title = \"String\" style = \"text-align: left;\">String</th><th title = \"Any\" style = \"text-align: left;\">Any</th></tr></thead><tbody><tr><td class = \"rowNumber\" style = \"font-weight: bold; text-align: right;\">1</td><td style = \"text-align: left;\">22-174307</td><td style = \"text-align: left;\">Vehicle Stop</td><td style = \"text-align: right;\">2.0</td><td style = \"text-align: left;\">Handgun</td><td style = \"text-align: left;\">POINT (-81.430522027 28.559823981)</td><td style = \"text-align: left;\">LatLon(lat=28.559823981°, lon=-81.430522027°)</td></tr><tr><td class = \"rowNumber\" style = \"font-weight: bold; text-align: right;\">2</td><td style = \"text-align: left;\">18-448868</td><td style = \"text-align: left;\">Stolen Vehicle</td><td style = \"text-align: right;\">1.0</td><td style = \"text-align: left;\">Motor Vehicle</td><td style = \"text-align: left;\">POINT (-81.444407991 28.426330019)</td><td style = \"text-align: left;\">LatLon(lat=28.426330019°, lon=-81.444407991°)</td></tr><tr><td class = \"rowNumber\" style = \"font-weight: bold; text-align: right;\">3</td><td style = \"text-align: left;\">18-219116</td><td style = \"text-align: left;\">Attempted Suicide</td><td style = \"text-align: right;\">1.0</td><td style = \"text-align: left;\">Handgun</td><td style = \"text-align: left;\">POINT (-81.436934015 28.497201986)</td><td style = \"text-align: left;\">LatLon(lat=28.497201986°, lon=-81.436934015°)</td></tr><tr><td class = \"rowNumber\" style = \"font-weight: bold; text-align: right;\">4</td><td style = \"text-align: left;\">20-397311</td><td style = \"text-align: left;\">Domestic Disturbance</td><td style = \"text-align: right;\">1.0</td><td style = \"text-align: left;\">Handgun</td><td style = \"text-align: left;\">POINT (-81.31615297 28.574676001)</td><td style = \"text-align: left;\">LatLon(lat=28.574676001°, lon=-81.31615297°)</td></tr><tr><td class = \"rowNumber\" style = \"font-weight: bold; text-align: right;\">5</td><td style = \"text-align: left;\">10-503738</td><td style = \"text-align: left;\">Armed Robbery</td><td style = \"text-align: right;\">3.0</td><td style = \"text-align: left;\">Handgun</td><td style = \"text-align: left;\">POINT (-81.475974825 28.552001109)</td><td style = \"text-align: left;\">LatLon(lat=28.552001109°, lon=-81.475974825°)</td></tr><tr><td class = \"rowNumber\" style = \"font-weight: bold; text-align: right;\">6</td><td style = \"text-align: left;\">13-022948</td><td style = \"text-align: left;\">Drug Violation</td><td style = \"text-align: right;\">2.0</td><td style = \"text-align: left;\">Handgun</td><td style = \"text-align: left;\">POINT (-81.398586976 28.552194982)</td><td style = \"text-align: left;\">LatLon(lat=28.552194982°, lon=-81.398586976°)</td></tr><tr><td class = \"rowNumber\" style = \"font-weight: bold; text-align: right;\">7</td><td style = \"text-align: left;\">16-021812</td><td style = \"text-align: left;\">Traffic Stop</td><td style = \"text-align: right;\">1.0</td><td style = \"text-align: left;\">Motor Vehicle</td><td style = \"text-align: left;\">POINT (-81.454123826 28.596308986)</td><td style = \"text-align: left;\">LatLon(lat=28.596308986°, lon=-81.454123826°)</td></tr><tr><td class = \"rowNumber\" style = \"font-weight: bold; text-align: right;\">8</td><td style = \"text-align: left;\">14-086291</td><td style = \"text-align: left;\">Stalking</td><td style = \"text-align: right;\">3.0</td><td style = \"text-align: left;\">Motor Vehicle</td><td style = \"text-align: left;\">POINT (-81.386192991 28.540632985)</td><td style = \"text-align: left;\">LatLon(lat=28.540632985°, lon=-81.386192991°)</td></tr><tr><td class = \"rowNumber\" style = \"font-weight: bold; text-align: right;\">9</td><td style = \"text-align: left;\">15-291159</td><td style = \"text-align: left;\">Suspicious Person</td><td style = \"text-align: right;\">1.0</td><td style = \"text-align: left;\">Hands/ASP</td><td style = \"text-align: left;\">POINT (-81.335092645 28.522822186)</td><td style = \"text-align: left;\">LatLon(lat=28.522822186°, lon=-81.335092645°)</td></tr><tr><td class = \"rowNumber\" style = \"font-weight: bold; text-align: right;\">10</td><td style = \"text-align: left;\">11-201994</td><td style = \"text-align: left;\">Armed Robbery</td><td style = \"text-align: right;\">1.0</td><td style = \"text-align: left;\">Motor Vehicle</td><td style = \"text-align: left;\">POINT (-81.444618041 28.497712989)</td><td style = \"text-align: left;\">LatLon(lat=28.497712989°, lon=-81.444618041°)</td></tr><tr><td class = \"rowNumber\" style = \"font-weight: bold; text-align: right;\">11</td><td style = \"text-align: left;\">20-133070</td><td style = \"text-align: left;\">Attempted Suicide</td><td style = \"text-align: right;\">1.0</td><td style = \"text-align: left;\">Knife</td><td style = \"text-align: left;\">POINT (-81.412285018 28.547911997)</td><td style = \"text-align: left;\">LatLon(lat=28.547911997°, lon=-81.412285018°)</td></tr><tr><td class = \"rowNumber\" style = \"font-weight: bold; text-align: right;\">12</td><td style = \"text-align: left;\">16-439059</td><td style = \"text-align: left;\">Aggravated Battery</td><td style = \"text-align: right;\">1.0</td><td style = \"text-align: left;\">Handgun</td><td style = \"text-align: left;\">POINT (-81.3912463 28.537139514)</td><td style = \"text-align: left;\">LatLon(lat=28.537139514°, lon=-81.3912463°)</td></tr><tr><td class = \"rowNumber\" style = \"font-weight: bold; text-align: right;\">13</td><td style = \"text-align: left;\">12-237596</td><td style = \"text-align: left;\">Battery</td><td style = \"text-align: right;\">1.0</td><td style = \"text-align: left;\">Motor Vehicle</td><td style = \"text-align: left;\">POINT (-81.334557031 28.556153001)</td><td style = \"text-align: left;\">LatLon(lat=28.556153001°, lon=-81.334557031°)</td></tr><tr><td style = \"text-align: right;\">&vellip;</td><td style = \"text-align: right;\">&vellip;</td><td style = \"text-align: right;\">&vellip;</td><td style = \"text-align: right;\">&vellip;</td><td style = \"text-align: right;\">&vellip;</td><td style = \"text-align: right;\">&vellip;</td><td style = \"text-align: right;\">&vellip;</td></tr><tr><td class = \"rowNumber\" style = \"font-weight: bold; text-align: right;\">67</td><td style = \"text-align: left;\">16-242039</td><td style = \"text-align: left;\">Active Shooter</td><td style = \"text-align: right;\">11.0</td><td style = \"text-align: left;\">Rifle</td><td style = \"text-align: left;\">POINT (-81.37680702 28.519611004)</td><td style = \"text-align: left;\">LatLon(lat=28.519611004°, lon=-81.37680702°)</td></tr><tr><td class = \"rowNumber\" style = \"font-weight: bold; text-align: right;\">68</td><td style = \"text-align: left;\">23-246025</td><td style = \"text-align: left;\">Suspicious Vehicle</td><td style = \"text-align: right;\">1.0</td><td style = \"text-align: left;\">No</td><td style = \"text-align: left;\">POINT (-81.37916436 28.551353716)</td><td style = \"text-align: left;\">LatLon(lat=28.551353716°, lon=-81.37916436°)</td></tr><tr><td class = \"rowNumber\" style = \"font-weight: bold; text-align: right;\">69</td><td style = \"text-align: left;\">10-329547</td><td style = \"text-align: left;\">Attempted Suicide</td><td style = \"text-align: right;\">1.0</td><td style = \"text-align: left;\">Shotgun,Handgun</td><td style = \"text-align: left;\">POINT (-81.476621992 28.515039011)</td><td style = \"text-align: left;\">LatLon(lat=28.515039011°, lon=-81.476621992°)</td></tr><tr><td class = \"rowNumber\" style = \"font-weight: bold; text-align: right;\">70</td><td style = \"text-align: left;\">14-206741</td><td style = \"text-align: left;\">Homicide</td><td style = \"text-align: right;\">1.0</td><td style = \"text-align: left;\">Motor Vehicle,Handgun</td><td style = \"text-align: left;\">POINT (-81.397620962 28.544747996)</td><td style = \"text-align: left;\">LatLon(lat=28.544747996°, lon=-81.397620962°)</td></tr><tr><td class = \"rowNumber\" style = \"font-weight: bold; text-align: right;\">71</td><td style = \"text-align: left;\">14-500135</td><td style = \"text-align: left;\">Burglary</td><td style = \"text-align: right;\">1.0</td><td style = \"text-align: left;\">Handgun</td><td style = \"text-align: left;\">POINT (-81.307727984 28.529062019)</td><td style = \"text-align: left;\">LatLon(lat=28.529062019°, lon=-81.307727984°)</td></tr><tr><td class = \"rowNumber\" style = \"font-weight: bold; text-align: right;\">72</td><td style = \"text-align: left;\">11-257484</td><td style = \"text-align: left;\">Drug Violation</td><td style = \"text-align: right;\">1.0</td><td style = \"text-align: left;\">Hands/reaching</td><td style = \"text-align: left;\">POINT (-81.389041531 28.538220076)</td><td style = \"text-align: left;\">LatLon(lat=28.538220076°, lon=-81.389041531°)</td></tr><tr><td class = \"rowNumber\" style = \"font-weight: bold; text-align: right;\">73</td><td style = \"text-align: left;\">17-406642</td><td style = \"text-align: left;\">Suspicious Person</td><td style = \"text-align: right;\">1.0</td><td style = \"text-align: left;\">Handgun</td><td style = \"text-align: left;\">POINT (-81.429694969 28.611062074)</td><td style = \"text-align: left;\">LatLon(lat=28.611062074°, lon=-81.429694969°)</td></tr><tr><td class = \"rowNumber\" style = \"font-weight: bold; text-align: right;\">74</td><td style = \"text-align: left;\">18-228375</td><td style = \"text-align: left;\">Battery</td><td style = \"text-align: right;\">1.0</td><td style = \"text-align: left;\">Handgun</td><td style = \"text-align: left;\">POINT (-81.462643153 28.490099922)</td><td style = \"text-align: left;\">LatLon(lat=28.490099922°, lon=-81.462643153°)</td></tr><tr><td class = \"rowNumber\" style = \"font-weight: bold; text-align: right;\">75</td><td style = \"text-align: left;\">12-074536</td><td style = \"text-align: left;\">Homicide</td><td style = \"text-align: right;\">1.0</td><td style = \"text-align: left;\">Handgun</td><td style = \"text-align: left;\">POINT (-81.269478007 28.420598013)</td><td style = \"text-align: left;\">LatLon(lat=28.420598013°, lon=-81.269478007°)</td></tr><tr><td class = \"rowNumber\" style = \"font-weight: bold; text-align: right;\">76</td><td style = \"text-align: left;\">16-153523</td><td style = \"text-align: left;\">Battery</td><td style = \"text-align: right;\">1.0</td><td style = \"text-align: left;\">Handgun</td><td style = \"text-align: left;\">POINT (-81.306244974 28.518123007)</td><td style = \"text-align: left;\">LatLon(lat=28.518123007°, lon=-81.306244974°)</td></tr><tr><td class = \"rowNumber\" style = \"font-weight: bold; text-align: right;\">77</td><td style = \"text-align: left;\">23-355012</td><td style = \"text-align: left;\">Unknown Trouble/Person Robbery</td><td style = \"text-align: right;\">2.0</td><td style = \"text-align: left;\">Firearm</td><td style = \"text-align: left;\">POINT (-81.388922977 28.534726006)</td><td style = \"text-align: left;\">LatLon(lat=28.534726006°, lon=-81.388922977°)</td></tr><tr><td class = \"rowNumber\" style = \"font-weight: bold; text-align: right;\">78</td><td style = \"text-align: left;\">09-308652</td><td style = \"text-align: left;\">Aggravated Assault</td><td style = \"text-align: right;\">1.0</td><td style = \"text-align: left;\">Handgun</td><td style = \"text-align: left;\">POINT (-81.413406013 28.601738987)</td><td style = \"text-align: left;\">LatLon(lat=28.601738987°, lon=-81.413406013°)</td></tr></tbody></table></div>"
      ],
      "text/latex": [
       "\\begin{tabular}{r|ccccc}\n",
       "\t& Case \\# & Incident Type & Number of Officers Involved & Suspect's Weapon & \\\\\n",
       "\t\\hline\n",
       "\t& String15 & String & Float64? & String31 & \\\\\n",
       "\t\\hline\n",
       "\t1 & 22-174307 & Vehicle Stop & 2.0 & Handgun & $\\dots$ \\\\\n",
       "\t2 & 18-448868 & Stolen Vehicle & 1.0 & Motor Vehicle & $\\dots$ \\\\\n",
       "\t3 & 18-219116 & Attempted Suicide & 1.0 & Handgun & $\\dots$ \\\\\n",
       "\t4 & 20-397311 & Domestic Disturbance & 1.0 & Handgun & $\\dots$ \\\\\n",
       "\t5 & 10-503738 & Armed Robbery & 3.0 & Handgun & $\\dots$ \\\\\n",
       "\t6 & 13-022948 & Drug Violation & 2.0 & Handgun & $\\dots$ \\\\\n",
       "\t7 & 16-021812 & Traffic Stop & 1.0 & Motor Vehicle & $\\dots$ \\\\\n",
       "\t8 & 14-086291 & Stalking & 3.0 & Motor Vehicle & $\\dots$ \\\\\n",
       "\t9 & 15-291159 & Suspicious Person & 1.0 & Hands/ASP & $\\dots$ \\\\\n",
       "\t10 & 11-201994 & Armed Robbery & 1.0 & Motor Vehicle & $\\dots$ \\\\\n",
       "\t11 & 20-133070 & Attempted Suicide & 1.0 & Knife & $\\dots$ \\\\\n",
       "\t12 & 16-439059 & Aggravated Battery & 1.0 & Handgun & $\\dots$ \\\\\n",
       "\t13 & 12-237596 & Battery & 1.0 & Motor Vehicle & $\\dots$ \\\\\n",
       "\t14 & 10-437014 & Street Racing & 1.0 & Motor Vehicle & $\\dots$ \\\\\n",
       "\t15 & 15-050643 & Shots fired & 1.0 & Handgun & $\\dots$ \\\\\n",
       "\t16 & 09-559387 & Barricaded Subject & 1.0 & Handgun & $\\dots$ \\\\\n",
       "\t17 & 18-414226 & Violent Mentally Ill Person & 1.0 & Handgun & $\\dots$ \\\\\n",
       "\t18 & 21-437603 & Suspicious Incident & \\emph{missing} & Handgun & $\\dots$ \\\\\n",
       "\t19 & 18-180878 & Shoplifiting & 2.0 & No & $\\dots$ \\\\\n",
       "\t20 & 10-000324 & Atempted Murder & 1.0 & Motor Vehicle & $\\dots$ \\\\\n",
       "\t21 & 15-055695 & Shots fired & 1.0 & Handgun & $\\dots$ \\\\\n",
       "\t22 & 13-495877 & Traffic Stop & 1.0 & Motor Vehicle & $\\dots$ \\\\\n",
       "\t23 & 21-314598 & Suspicious Persons & 2.0 & Firearm, Firearm, Unknown & $\\dots$ \\\\\n",
       "\t24 & 16-246131 & Vehicle Burglary & 1.0 & Motor Vehicle & $\\dots$ \\\\\n",
       "\t$\\dots$ & $\\dots$ & $\\dots$ & $\\dots$ & $\\dots$ &  \\\\\n",
       "\\end{tabular}\n"
      ],
      "text/plain": [
       "\u001b[1m78×6 DataFrame\u001b[0m\n",
       "\u001b[1m Row \u001b[0m│\u001b[1m Case #    \u001b[0m\u001b[1m Incident Type                  \u001b[0m\u001b[1m Number of Officers Involved \u001b[0m\u001b[1m\u001b[0m ⋯\n",
       "     │\u001b[90m String15  \u001b[0m\u001b[90m String                         \u001b[0m\u001b[90m Union{Missing, Float64}     \u001b[0m\u001b[90m\u001b[0m ⋯\n",
       "─────┼──────────────────────────────────────────────────────────────────────────\n",
       "   1 │ 22-174307  Vehicle Stop                                            2.0  ⋯\n",
       "   2 │ 18-448868  Stolen Vehicle                                          1.0\n",
       "   3 │ 18-219116  Attempted Suicide                                       1.0\n",
       "   4 │ 20-397311  Domestic Disturbance                                    1.0\n",
       "   5 │ 10-503738  Armed Robbery                                           3.0  ⋯\n",
       "   6 │ 13-022948  Drug Violation                                          2.0\n",
       "   7 │ 16-021812  Traffic Stop                                            1.0\n",
       "   8 │ 14-086291  Stalking                                                3.0\n",
       "  ⋮  │     ⋮                    ⋮                              ⋮               ⋱\n",
       "  72 │ 11-257484  Drug Violation                                          1.0  ⋯\n",
       "  73 │ 17-406642  Suspicious Person                                       1.0\n",
       "  74 │ 18-228375  Battery                                                 1.0\n",
       "  75 │ 12-074536  Homicide                                                1.0\n",
       "  76 │ 16-153523  Battery                                                 1.0  ⋯\n",
       "  77 │ 23-355012  Unknown Trouble/Person Robbery                          2.0\n",
       "  78 │ 09-308652  Aggravated Assault                                      1.0\n",
       "\u001b[36m                                                   3 columns and 63 rows omitted\u001b[0m"
      ]
     },
     "metadata": {},
     "output_type": "display_data"
    }
   ],
   "source": []
  },
  {
   "cell_type": "code",
   "execution_count": 39,
   "metadata": {},
   "outputs": [
    {
     "data": {
      "text/plain": [
       "LatLon(lat=28.559823981°, lon=-81.430522027°)"
      ]
     },
     "metadata": {},
     "output_type": "display_data"
    }
   ],
   "source": [
    "data.Coordinates[1]"
   ]
  },
  {
   "cell_type": "code",
   "execution_count": 36,
   "metadata": {},
   "outputs": [
    {
     "data": {
      "text/plain": [
       "(-81.430522027, 28.559823981)"
      ]
     },
     "metadata": {},
     "output_type": "display_data"
    }
   ],
   "source": [
    "location[1]"
   ]
  },
  {
   "cell_type": "code",
   "execution_count": 46,
   "metadata": {},
   "outputs": [
    {
     "ename": "Base.Meta.ParseError",
     "evalue": "ParseError:\n# Error @ /Users/richard/Documents/GitHub/CatchingCrooks/jl_notebook_cell_df34fa98e69747e1a8f8a730347b8e2f_X15sZmlsZQ==.jl:4:8\n\nfor idx,each in enumerate(data.Point)\n#      └ ── invalid iteration spec: expected one of `=` `in` or `∈`",
     "output_type": "error",
     "traceback": [
      "ParseError:\n",
      "# Error @ /Users/richard/Documents/GitHub/CatchingCrooks/jl_notebook_cell_df34fa98e69747e1a8f8a730347b8e2f_X15sZmlsZQ==.jl:4:8\n",
      "\n",
      "for idx,each in enumerate(data.Point)\n",
      "#      └ ── invalid iteration spec: expected one of `=` `in` or `∈`\n",
      "\n",
      "Stacktrace:\n",
      " [1] top-level scope\n",
      "   @ ~/Documents/GitHub/CatchingCrooks/jl_notebook_cell_df34fa98e69747e1a8f8a730347b8e2f_X15sZmlsZQ==.jl:4"
     ]
    }
   ],
   "source": [
    "m = foli.Map((28.601, -81.429))\n",
    "\n",
    "\n",
    "for idx,each in enumerate(data.Point)\n",
    "    foli.Marker(\n",
    "        location=[each.lat, each.lon],  # Access latitude and longitude using .lat and .lon\n",
    "        tooltip=\"Crime Location\",\n",
    "        popup=\"Case #: $(data[\"Case #\"].iloc[idx])\\n\n",
    "               Incident Type: $(data[\"Incident Type\"].iloc(idx))\n",
    "              \"\n",
    "    ).add_to(m)\n",
    "end\n",
    "\n",
    "m\n"
   ]
  }
 ],
 "metadata": {
  "kernelspec": {
   "display_name": "Julia 1.11.1",
   "language": "julia",
   "name": "julia-1.11"
  },
  "language_info": {
   "file_extension": ".jl",
   "mimetype": "application/julia",
   "name": "julia",
   "version": "1.11.1"
  },
  "vscode": {
   "interpreter": {
    "hash": "31f2aee4e71d21fbe5cf8b01ff0e069b9275f58929596ceb00d14d90e3e16cd6"
   }
  }
 },
 "nbformat": 4,
 "nbformat_minor": 2
}

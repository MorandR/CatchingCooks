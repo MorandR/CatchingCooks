{
 "cells": [
  {
   "cell_type": "markdown",
   "metadata": {},
   "source": [
    "# Orlando Criminal Activities\n",
    "\n",
    "##### Presented by: Clark Jones, Umapathy Beema, Richard Morand <br> Dr. Spencer Lyon - Spring 2024 \n",
    "\n",
    "\n",
    "Ojective: We will be exploring the criminal acts in Orlando, and create a model to showcase the types of activities done in the city. <br>\n",
    "\n",
    "__Tools__ <br>\n",
    "Collaboration: VSCode, Github, Discord <br>\n",
    "Languages: Python, Julia\n",
    "Packages/Libraries: Agents, OpenStreetMap, Folium, etc."
   ]
  },
  {
   "cell_type": "code",
   "execution_count": null,
   "metadata": {},
   "outputs": [
    {
     "name": "stderr",
     "output_type": "stream",
     "text": [
      "\u001b[32m\u001b[1m   Resolving\u001b[22m\u001b[39m package versions...\n",
      "\u001b[32m\u001b[1m  No Changes\u001b[22m\u001b[39m to `~/.julia/environments/v1.11/Project.toml`\n",
      "\u001b[32m\u001b[1m  No Changes\u001b[22m\u001b[39m to `~/.julia/environments/v1.11/Manifest.toml`\n"
     ]
    }
   ],
   "source": [
    "#import packages here\n",
    "import Pkg\n",
    "Pkg.add([\"OpenStreetMapX\", \"CSV\", \"DataFrames\", \"Geodesy\", \"Conda\", \"PyCall\" ])"
   ]
  },
  {
   "cell_type": "code",
   "execution_count": null,
   "metadata": {},
   "outputs": [],
   "source": [
    "using Agents, OpenStreetMapX, Geodesy\n",
    "using CSV, DataFrames, Conda, PyCall\n",
    "\n",
    "# Conda.runconda(`install folium -c conda-forge -y`) # Folium Map\n",
    "# foli = pyimport(\"folium\")\n"
   ]
  },
  {
   "cell_type": "code",
   "execution_count": 65,
   "metadata": {},
   "outputs": [
    {
     "data": {
      "text/html": [
       "<div><div style = \"float: left;\"><span>78×23 DataFrame</span></div><div style = \"float: right;\"><span style = \"font-style: italic;\">53 rows omitted</span></div><div style = \"clear: both;\"></div></div><div class = \"data-frame\" style = \"overflow-x: scroll;\"><table class = \"data-frame\" style = \"margin-bottom: 6px;\"><thead><tr class = \"header\"><th class = \"rowNumber\" style = \"font-weight: bold; text-align: right;\">Row</th><th style = \"text-align: left;\">Case #</th><th style = \"text-align: left;\">Date</th><th style = \"text-align: left;\">Address</th><th style = \"text-align: left;\">Incident Type</th><th style = \"text-align: left;\">Number of Officers Involved</th><th style = \"text-align: left;\">Officer Name</th><th style = \"text-align: left;\">Officer Race</th><th style = \"text-align: left;\">Ethnicity</th><th style = \"text-align: left;\">Officer Gender</th><th style = \"text-align: left;\">Officer Age</th><th style = \"text-align: left;\">Officer Tenure</th><th style = \"text-align: left;\">Number of Suspects Involved</th><th style = \"text-align: left;\">Suspect Name</th><th style = \"text-align: left;\">Suspect Race</th><th style = \"text-align: left;\">Suspect Gender</th><th style = \"text-align: left;\">Suspect Age</th><th style = \"text-align: left;\">Suspect&apos;s Weapon</th><th style = \"text-align: left;\">Suspect Hit</th><th style = \"text-align: left;\">Fatal</th><th style = \"text-align: left;\">Officer Hit</th><th style = \"text-align: left;\">Fatal (Officer)</th><th style = \"text-align: left;\">Review Letter</th><th style = \"text-align: left;\">Georeferenced Column</th></tr><tr class = \"subheader headerLastRow\"><th class = \"rowNumber\" style = \"font-weight: bold; text-align: right;\"></th><th title = \"String15\" style = \"text-align: left;\">String15</th><th title = \"String15\" style = \"text-align: left;\">String15</th><th title = \"String\" style = \"text-align: left;\">String</th><th title = \"String\" style = \"text-align: left;\">String</th><th title = \"Union{Missing, Int64}\" style = \"text-align: left;\">Int64?</th><th title = \"Union{Missing, String}\" style = \"text-align: left;\">String?</th><th title = \"Union{Missing, String}\" style = \"text-align: left;\">String?</th><th title = \"Union{Missing, String31}\" style = \"text-align: left;\">String31?</th><th title = \"String31\" style = \"text-align: left;\">String31</th><th title = \"String\" style = \"text-align: left;\">String</th><th title = \"String\" style = \"text-align: left;\">String</th><th title = \"Int64\" style = \"text-align: left;\">Int64</th><th title = \"String\" style = \"text-align: left;\">String</th><th title = \"String31\" style = \"text-align: left;\">String31</th><th title = \"String7\" style = \"text-align: left;\">String7</th><th title = \"String15\" style = \"text-align: left;\">String15</th><th title = \"String31\" style = \"text-align: left;\">String31</th><th title = \"String15\" style = \"text-align: left;\">String15</th><th title = \"String15\" style = \"text-align: left;\">String15</th><th title = \"String\" style = \"text-align: left;\">String</th><th title = \"String\" style = \"text-align: left;\">String</th><th title = \"Union{Missing, String}\" style = \"text-align: left;\">String?</th><th title = \"String\" style = \"text-align: left;\">String</th></tr></thead><tbody><tr><td class = \"rowNumber\" style = \"font-weight: bold; text-align: right;\">1</td><td style = \"text-align: left;\">22-174307</td><td style = \"text-align: left;\">05/18/2022</td><td style = \"text-align: left;\">Mercy Drive and W.D. Judge Drive</td><td style = \"text-align: left;\">Vehicle Stop</td><td style = \"text-align: right;\">2</td><td style = \"text-align: left;\">Marsy&apos;s Law Exempt</td><td style = \"text-align: left;\">White/White</td><td style = \"font-style: italic; text-align: left;\">missing</td><td style = \"text-align: left;\">M,F</td><td style = \"text-align: left;\">Marsy&apos;s Law Exempt</td><td style = \"text-align: left;\">Marsy&apos;s Law Exempt</td><td style = \"text-align: right;\">1</td><td style = \"text-align: left;\">Carlos Delano Dafill Roberts Jr.</td><td style = \"text-align: left;\">Black</td><td style = \"text-align: left;\">M</td><td style = \"text-align: left;\">29</td><td style = \"text-align: left;\">Handgun</td><td style = \"text-align: left;\">Yes</td><td style = \"text-align: left;\">No</td><td style = \"text-align: left;\">No, No</td><td style = \"text-align: left;\">No, No</td><td style = \"text-align: left;\">https://www.orlando.gov/files/sharedassets/public/v/1/departments/public-safety/opd/open-data-docs/22-174307.pdf</td><td style = \"text-align: left;\">POINT (-81.430522027 28.559823981)</td></tr><tr><td class = \"rowNumber\" style = \"font-weight: bold; text-align: right;\">2</td><td style = \"text-align: left;\">18-448868</td><td style = \"text-align: left;\">11/21/2018</td><td style = \"text-align: left;\">9938 Universal Boulevard</td><td style = \"text-align: left;\">Stolen Vehicle</td><td style = \"text-align: right;\">1</td><td style = \"text-align: left;\">Chase, Alex</td><td style = \"text-align: left;\">W</td><td style = \"text-align: left;\">N</td><td style = \"text-align: left;\">M</td><td style = \"text-align: left;\">35</td><td style = \"text-align: left;\">11</td><td style = \"text-align: right;\">1</td><td style = \"text-align: left;\">Martinez Gonzalez, Joselito</td><td style = \"text-align: left;\">White</td><td style = \"text-align: left;\">M</td><td style = \"text-align: left;\">30</td><td style = \"text-align: left;\">Motor Vehicle</td><td style = \"text-align: left;\">Yes</td><td style = \"text-align: left;\">No</td><td style = \"text-align: left;\">No</td><td style = \"text-align: left;\">No</td><td style = \"text-align: left;\">https://www1.cityoforlando.net/opendatadocs/saoletters/18-448869.pdf</td><td style = \"text-align: left;\">POINT (-81.444407991 28.426330019)</td></tr><tr><td class = \"rowNumber\" style = \"font-weight: bold; text-align: right;\">3</td><td style = \"text-align: left;\">18-219116</td><td style = \"text-align: left;\">06/04/2018</td><td style = \"text-align: left;\">4629 Cason Cove Drive</td><td style = \"text-align: left;\">Attempted Suicide</td><td style = \"text-align: right;\">1</td><td style = \"text-align: left;\">Sayer,Ryan</td><td style = \"text-align: left;\">W</td><td style = \"text-align: left;\">N</td><td style = \"text-align: left;\">M</td><td style = \"text-align: left;\">25</td><td style = \"text-align: left;\">2</td><td style = \"text-align: right;\">1</td><td style = \"text-align: left;\">White, Pamel</td><td style = \"text-align: left;\">Black</td><td style = \"text-align: left;\">F</td><td style = \"text-align: left;\">63</td><td style = \"text-align: left;\">Handgun</td><td style = \"text-align: left;\">No</td><td style = \"text-align: left;\">No</td><td style = \"text-align: left;\">No</td><td style = \"text-align: left;\">No</td><td style = \"text-align: left;\">https://www1.cityoforlando.net/opendatadocs/saoletters/18-219116.pdf</td><td style = \"text-align: left;\">POINT (-81.436934015 28.497201986)</td></tr><tr><td class = \"rowNumber\" style = \"font-weight: bold; text-align: right;\">4</td><td style = \"text-align: left;\">20-397311</td><td style = \"text-align: left;\">12/16/2020</td><td style = \"text-align: left;\">5434 Baldwin Park Street, Unit 101</td><td style = \"text-align: left;\">Domestic Disturbance</td><td style = \"text-align: right;\">1</td><td style = \"font-style: italic; text-align: left;\">missing</td><td style = \"text-align: left;\">W</td><td style = \"font-style: italic; text-align: left;\">missing</td><td style = \"text-align: left;\">M</td><td style = \"text-align: left;\">40</td><td style = \"text-align: left;\">14</td><td style = \"text-align: right;\">1</td><td style = \"text-align: left;\">Robertson, Adam</td><td style = \"text-align: left;\">White</td><td style = \"text-align: left;\">M</td><td style = \"text-align: left;\">34</td><td style = \"text-align: left;\">Handgun</td><td style = \"text-align: left;\">Yes</td><td style = \"text-align: left;\">Yes</td><td style = \"text-align: left;\">No</td><td style = \"text-align: left;\">No</td><td style = \"text-align: left;\">https://www.orlando.gov/files/sharedassets/public/departments/public-safety/opd/open-data-docs/ois_sao_zambito_ir-20-75.pdf</td><td style = \"text-align: left;\">POINT (-81.31615297 28.574676001)</td></tr><tr><td class = \"rowNumber\" style = \"font-weight: bold; text-align: right;\">5</td><td style = \"text-align: left;\">10-503738</td><td style = \"text-align: left;\">10/26/2010</td><td style = \"text-align: left;\">Hiawassee &amp; SR 50</td><td style = \"text-align: left;\">Armed Robbery</td><td style = \"text-align: right;\">3</td><td style = \"text-align: left;\">Hinkles, Cedrick; Herb, Todd; Fischer, Bryan</td><td style = \"text-align: left;\">B, W, W</td><td style = \"text-align: left;\">N, N, N</td><td style = \"text-align: left;\">M, M, M</td><td style = \"text-align: left;\">30, 38, 37</td><td style = \"text-align: left;\">6, 13, 4</td><td style = \"text-align: right;\">1</td><td style = \"text-align: left;\">Soman, Acrifa</td><td style = \"text-align: left;\">Black</td><td style = \"text-align: left;\">M</td><td style = \"text-align: left;\">21</td><td style = \"text-align: left;\">Handgun</td><td style = \"text-align: left;\">Yes</td><td style = \"text-align: left;\">Yes</td><td style = \"text-align: left;\">No, No, No</td><td style = \"text-align: left;\">No, No, No</td><td style = \"text-align: left;\">http://www1.cityoforlando.net/opendatadocs/saoletters/10-503738.pdf</td><td style = \"text-align: left;\">POINT (-81.475974825 28.552001109)</td></tr><tr><td class = \"rowNumber\" style = \"font-weight: bold; text-align: right;\">6</td><td style = \"text-align: left;\">13-022948</td><td style = \"text-align: left;\">01/16/2013</td><td style = \"text-align: left;\">1327 Arlington St</td><td style = \"text-align: left;\">Drug Violation</td><td style = \"text-align: right;\">2</td><td style = \"text-align: left;\">Mongeluzzo, Anthony; Bigelow, Chris</td><td style = \"text-align: left;\">W, W</td><td style = \"text-align: left;\">N, N</td><td style = \"text-align: left;\">M, M</td><td style = \"text-align: left;\">34, 29</td><td style = \"text-align: left;\">6, 6</td><td style = \"text-align: right;\">2</td><td style = \"text-align: left;\">Williams, Charles; Gamble, Karvas</td><td style = \"text-align: left;\">Black, Black</td><td style = \"text-align: left;\">M, M</td><td style = \"text-align: left;\">37, 19</td><td style = \"text-align: left;\">Handgun</td><td style = \"text-align: left;\">Yes, Yes</td><td style = \"text-align: left;\">No, Yes</td><td style = \"text-align: left;\">No, No</td><td style = \"text-align: left;\">No, No</td><td style = \"text-align: left;\">http://www1.cityoforlando.net/opendatadocs/saoletters/13-022948.pdf</td><td style = \"text-align: left;\">POINT (-81.398586976 28.552194982)</td></tr><tr><td class = \"rowNumber\" style = \"font-weight: bold; text-align: right;\">7</td><td style = \"text-align: left;\">16-021812</td><td style = \"text-align: left;\">01/16/2016</td><td style = \"text-align: left;\">5400 North Lane</td><td style = \"text-align: left;\">Traffic Stop</td><td style = \"text-align: right;\">1</td><td style = \"text-align: left;\">Mills, Jonathan</td><td style = \"text-align: left;\">W</td><td style = \"text-align: left;\">N</td><td style = \"text-align: left;\">M</td><td style = \"text-align: left;\">33</td><td style = \"text-align: left;\">4</td><td style = \"text-align: right;\">1</td><td style = \"text-align: left;\">Lamons, Trevon</td><td style = \"text-align: left;\">Black</td><td style = \"text-align: left;\">M</td><td style = \"text-align: left;\">17</td><td style = \"text-align: left;\">Motor Vehicle</td><td style = \"text-align: left;\">Yes</td><td style = \"text-align: left;\">No</td><td style = \"text-align: left;\">No</td><td style = \"text-align: left;\">No</td><td style = \"text-align: left;\">http://www1.cityoforlando.net/opendatadocs/saoletters/16-021812.pdf</td><td style = \"text-align: left;\">POINT (-81.454123826 28.596308986)</td></tr><tr><td class = \"rowNumber\" style = \"font-weight: bold; text-align: right;\">8</td><td style = \"text-align: left;\">14-086291</td><td style = \"text-align: left;\">02/24/2014</td><td style = \"text-align: left;\">595 W. Church St</td><td style = \"text-align: left;\">Stalking</td><td style = \"text-align: right;\">3</td><td style = \"text-align: left;\">Kipp, Alexander; Watts, Anthony; Johnston, David</td><td style = \"text-align: left;\">W, B, W</td><td style = \"text-align: left;\">N, N, N</td><td style = \"text-align: left;\">M, M, M</td><td style = \"text-align: left;\">32, 44, 24</td><td style = \"text-align: left;\">1, 1, 1</td><td style = \"text-align: right;\">1</td><td style = \"text-align: left;\">Lattimore, Derrick</td><td style = \"text-align: left;\">Black</td><td style = \"text-align: left;\">M</td><td style = \"text-align: left;\">27</td><td style = \"text-align: left;\">Motor Vehicle</td><td style = \"text-align: left;\">No</td><td style = \"text-align: left;\">No</td><td style = \"text-align: left;\">No, No, No</td><td style = \"text-align: left;\">No, No, No</td><td style = \"text-align: left;\">http://www1.cityoforlando.net/opendatadocs/saoletters/14-086291.pdf</td><td style = \"text-align: left;\">POINT (-81.386192991 28.540632985)</td></tr><tr><td class = \"rowNumber\" style = \"font-weight: bold; text-align: right;\">9</td><td style = \"text-align: left;\">15-291159</td><td style = \"text-align: left;\">07/17/2015</td><td style = \"text-align: left;\">1657 Watauga Way</td><td style = \"text-align: left;\">Suspicious Person</td><td style = \"text-align: right;\">1</td><td style = \"text-align: left;\">Vidro, Kelvin</td><td style = \"text-align: left;\">W</td><td style = \"text-align: left;\">H</td><td style = \"text-align: left;\">M</td><td style = \"text-align: left;\">29</td><td style = \"text-align: left;\">0.9</td><td style = \"text-align: right;\">1</td><td style = \"text-align: left;\">Davis, Albert</td><td style = \"text-align: left;\">Black</td><td style = \"text-align: left;\">M</td><td style = \"text-align: left;\">23</td><td style = \"text-align: left;\">Hands/ASP</td><td style = \"text-align: left;\">Yes</td><td style = \"text-align: left;\">Yes</td><td style = \"text-align: left;\">No</td><td style = \"text-align: left;\">No</td><td style = \"text-align: left;\">http://www1.cityoforlando.net/opendatadocs/saoletters/15-291159.pdf</td><td style = \"text-align: left;\">POINT (-81.335092645 28.522822186)</td></tr><tr><td class = \"rowNumber\" style = \"font-weight: bold; text-align: right;\">10</td><td style = \"text-align: left;\">11-201994</td><td style = \"text-align: left;\">05/06/2011</td><td style = \"text-align: left;\">4900 Cason Cove</td><td style = \"text-align: left;\">Armed Robbery</td><td style = \"text-align: right;\">1</td><td style = \"text-align: left;\">Villaverde, Carlos</td><td style = \"text-align: left;\">W</td><td style = \"text-align: left;\">H</td><td style = \"text-align: left;\">M</td><td style = \"text-align: left;\">48</td><td style = \"text-align: left;\">4</td><td style = \"text-align: right;\">1</td><td style = \"text-align: left;\">Cull,Marcus</td><td style = \"text-align: left;\">Black</td><td style = \"text-align: left;\">M</td><td style = \"text-align: left;\">25</td><td style = \"text-align: left;\">Motor Vehicle</td><td style = \"text-align: left;\">Yes</td><td style = \"text-align: left;\">No</td><td style = \"text-align: left;\">No, No</td><td style = \"text-align: left;\">No, No</td><td style = \"text-align: left;\">http://www1.cityoforlando.net/opendatadocs/saoletters/11-201994.pdf</td><td style = \"text-align: left;\">POINT (-81.444618041 28.497712989)</td></tr><tr><td class = \"rowNumber\" style = \"font-weight: bold; text-align: right;\">11</td><td style = \"text-align: left;\">20-133070</td><td style = \"text-align: left;\">04/24/2020</td><td style = \"text-align: left;\">555 North John Young Parkway, Orlando, FL 32811</td><td style = \"text-align: left;\">Attempted Suicide</td><td style = \"text-align: right;\">1</td><td style = \"text-align: left;\">Ring, Matthew</td><td style = \"text-align: left;\">W</td><td style = \"text-align: left;\">n/a</td><td style = \"text-align: left;\">M</td><td style = \"text-align: left;\">36</td><td style = \"text-align: left;\">14</td><td style = \"text-align: right;\">1</td><td style = \"text-align: left;\">Hudak, Matthew</td><td style = \"text-align: left;\">White</td><td style = \"text-align: left;\">M</td><td style = \"text-align: left;\">27</td><td style = \"text-align: left;\">Knife</td><td style = \"text-align: left;\">Yes</td><td style = \"text-align: left;\">No</td><td style = \"text-align: left;\">No</td><td style = \"text-align: left;\">No</td><td style = \"text-align: left;\">https://www.orlando.gov/files/sharedassets/public/departments/public-safety/opd/open-data-docs/20_133070.pdf</td><td style = \"text-align: left;\">POINT (-81.412285018 28.547911997)</td></tr><tr><td class = \"rowNumber\" style = \"font-weight: bold; text-align: right;\">12</td><td style = \"text-align: left;\">16-439059</td><td style = \"text-align: left;\">10/30/2016</td><td style = \"text-align: left;\">819 Randall St</td><td style = \"text-align: left;\">Aggravated Battery</td><td style = \"text-align: right;\">1</td><td style = \"text-align: left;\">Ragsdale, Michael</td><td style = \"text-align: left;\">W</td><td style = \"text-align: left;\">N</td><td style = \"text-align: left;\">M</td><td style = \"text-align: left;\">28</td><td style = \"text-align: left;\">1</td><td style = \"text-align: right;\">1</td><td style = \"text-align: left;\">Forster, Armani Rashaud</td><td style = \"text-align: left;\">Black</td><td style = \"text-align: left;\">M</td><td style = \"text-align: left;\">20</td><td style = \"text-align: left;\">Handgun</td><td style = \"text-align: left;\">Yes</td><td style = \"text-align: left;\">No</td><td style = \"text-align: left;\">N0</td><td style = \"text-align: left;\">No</td><td style = \"text-align: left;\">http://www1.cityoforlando.net/opendatadocs/saoletters/16-270271.pdf</td><td style = \"text-align: left;\">POINT (-81.3912463 28.537139514)</td></tr><tr><td class = \"rowNumber\" style = \"font-weight: bold; text-align: right;\">13</td><td style = \"text-align: left;\">12-237596</td><td style = \"text-align: left;\">06/06/2012</td><td style = \"text-align: left;\">756 Bennett Rd.</td><td style = \"text-align: left;\">Battery</td><td style = \"text-align: right;\">1</td><td style = \"text-align: left;\">Ramos, Sergio</td><td style = \"text-align: left;\">W</td><td style = \"text-align: left;\">H</td><td style = \"text-align: left;\">M</td><td style = \"text-align: left;\">28</td><td style = \"text-align: left;\">4</td><td style = \"text-align: right;\">1</td><td style = \"text-align: left;\">Cox, Emily</td><td style = \"text-align: left;\">White</td><td style = \"text-align: left;\">F</td><td style = \"text-align: left;\">19</td><td style = \"text-align: left;\">Motor Vehicle</td><td style = \"text-align: left;\">Yes</td><td style = \"text-align: left;\">No</td><td style = \"text-align: left;\">No</td><td style = \"text-align: left;\">No</td><td style = \"text-align: left;\">http://www1.cityoforlando.net/opendatadocs/saoletters/12-237596.pdf</td><td style = \"text-align: left;\">POINT (-81.334557031 28.556153001)</td></tr><tr><td style = \"text-align: right;\">&vellip;</td><td style = \"text-align: right;\">&vellip;</td><td style = \"text-align: right;\">&vellip;</td><td style = \"text-align: right;\">&vellip;</td><td style = \"text-align: right;\">&vellip;</td><td style = \"text-align: right;\">&vellip;</td><td style = \"text-align: right;\">&vellip;</td><td style = \"text-align: right;\">&vellip;</td><td style = \"text-align: right;\">&vellip;</td><td style = \"text-align: right;\">&vellip;</td><td style = \"text-align: right;\">&vellip;</td><td style = \"text-align: right;\">&vellip;</td><td style = \"text-align: right;\">&vellip;</td><td style = \"text-align: right;\">&vellip;</td><td style = \"text-align: right;\">&vellip;</td><td style = \"text-align: right;\">&vellip;</td><td style = \"text-align: right;\">&vellip;</td><td style = \"text-align: right;\">&vellip;</td><td style = \"text-align: right;\">&vellip;</td><td style = \"text-align: right;\">&vellip;</td><td style = \"text-align: right;\">&vellip;</td><td style = \"text-align: right;\">&vellip;</td><td style = \"text-align: right;\">&vellip;</td><td style = \"text-align: right;\">&vellip;</td></tr><tr><td class = \"rowNumber\" style = \"font-weight: bold; text-align: right;\">67</td><td style = \"text-align: left;\">16-242039</td><td style = \"text-align: left;\">06/12/2016</td><td style = \"text-align: left;\">1912 S. Orange Ave</td><td style = \"text-align: left;\">Active Shooter</td><td style = \"text-align: right;\">11</td><td style = \"text-align: left;\">Napolitano, Michael, Gruler, Adam; Parker, James; Smith. Scott; Backhaus, Jeff; Rivas, Raul; Stanley, Tim; Easterling, Kevin; Bishop, Andrew; Bigelow, John; Duenas, Ricardo</td><td style = \"text-align: left;\">W,W, W, W, W, B, W, W, B, W, W</td><td style = \"text-align: left;\">N,N, N, N, N, H, N, N, N, N, H</td><td style = \"text-align: left;\">M, M, M, M, M, M, M, M, M, M, M</td><td style = \"text-align: left;\">29, 39, 48, 46, 34, 45, 47, 44, 47, 38, 31</td><td style = \"text-align: left;\">4, 14, 25, 23, 11, 23, 18, 21, 21, 14, 2</td><td style = \"text-align: right;\">1</td><td style = \"text-align: left;\">Mateen, Omar</td><td style = \"text-align: left;\">Other</td><td style = \"text-align: left;\">M</td><td style = \"text-align: left;\">29</td><td style = \"text-align: left;\">Rifle</td><td style = \"text-align: left;\">Yes</td><td style = \"text-align: left;\">Yes</td><td style = \"text-align: left;\">Yes, No, No, No, No, No, No, No,No, No, No</td><td style = \"text-align: left;\">No, No, No, No, No, No, No, No, No, No, No</td><td style = \"text-align: left;\">https://www1.cityoforlando.net/opendatadocs/saoletters/16-242039.pdf</td><td style = \"text-align: left;\">POINT (-81.37680702 28.519611004)</td></tr><tr><td class = \"rowNumber\" style = \"font-weight: bold; text-align: right;\">68</td><td style = \"text-align: left;\">23-246025</td><td style = \"text-align: left;\">07/03/2023</td><td style = \"text-align: left;\">E. Jefferson Street/N. Orange Avenue</td><td style = \"text-align: left;\">Suspicious Vehicle</td><td style = \"text-align: right;\">1</td><td style = \"text-align: left;\">Velez-Negron, Jose</td><td style = \"text-align: left;\">W</td><td style = \"text-align: left;\">H</td><td style = \"text-align: left;\">M</td><td style = \"text-align: left;\">40</td><td style = \"text-align: left;\">3</td><td style = \"text-align: right;\">1</td><td style = \"text-align: left;\">Diaz, Derek</td><td style = \"text-align: left;\">White</td><td style = \"text-align: left;\">M</td><td style = \"text-align: left;\">26</td><td style = \"text-align: left;\">No</td><td style = \"text-align: left;\">Yes</td><td style = \"text-align: left;\">Yes</td><td style = \"text-align: left;\">No</td><td style = \"text-align: left;\">No</td><td style = \"text-align: left;\">https://www.orlando.gov/files/sharedassets/public/v/1/departments/public-safety/opd/open-data-docs/23-246025.pdf</td><td style = \"text-align: left;\">POINT (-81.37916436 28.551353716)</td></tr><tr><td class = \"rowNumber\" style = \"font-weight: bold; text-align: right;\">69</td><td style = \"text-align: left;\">10-329547</td><td style = \"text-align: left;\">07/13/2010</td><td style = \"text-align: left;\">2185 Lake Debra Dr</td><td style = \"text-align: left;\">Attempted Suicide</td><td style = \"text-align: right;\">1</td><td style = \"text-align: left;\">Gowen, Carter</td><td style = \"text-align: left;\">W</td><td style = \"text-align: left;\">N</td><td style = \"text-align: left;\">M</td><td style = \"text-align: left;\">33</td><td style = \"text-align: left;\">9</td><td style = \"text-align: right;\">1</td><td style = \"text-align: left;\">Chenowith, Eric</td><td style = \"text-align: left;\">White</td><td style = \"text-align: left;\">M</td><td style = \"text-align: left;\">41</td><td style = \"text-align: left;\">Shotgun,Handgun</td><td style = \"text-align: left;\">Yes</td><td style = \"text-align: left;\">No</td><td style = \"text-align: left;\">No</td><td style = \"text-align: left;\">No</td><td style = \"text-align: left;\">http://www1.cityoforlando.net/opendatadocs/saoletters/10-329547.pdf</td><td style = \"text-align: left;\">POINT (-81.476621992 28.515039011)</td></tr><tr><td class = \"rowNumber\" style = \"font-weight: bold; text-align: right;\">70</td><td style = \"text-align: left;\">14-206741</td><td style = \"text-align: left;\">05/18/2014</td><td style = \"text-align: left;\">220 N. OBT</td><td style = \"text-align: left;\">Homicide</td><td style = \"text-align: right;\">1</td><td style = \"text-align: left;\">Schellhorn, Bobby</td><td style = \"text-align: left;\">W</td><td style = \"text-align: left;\">N</td><td style = \"text-align: left;\">M</td><td style = \"text-align: left;\">43</td><td style = \"text-align: left;\">9</td><td style = \"text-align: right;\">1</td><td style = \"text-align: left;\">Bently,Travaris</td><td style = \"text-align: left;\">Black</td><td style = \"text-align: left;\">M</td><td style = \"text-align: left;\">24</td><td style = \"text-align: left;\">Motor Vehicle,Handgun</td><td style = \"text-align: left;\">Yes</td><td style = \"text-align: left;\">No</td><td style = \"text-align: left;\">No</td><td style = \"text-align: left;\">No</td><td style = \"text-align: left;\">http://www1.cityoforlando.net/opendatadocs/saoletters/14-206741.pdf</td><td style = \"text-align: left;\">POINT (-81.397620962 28.544747996)</td></tr><tr><td class = \"rowNumber\" style = \"font-weight: bold; text-align: right;\">71</td><td style = \"text-align: left;\">14-500135</td><td style = \"text-align: left;\">12/04/2014</td><td style = \"text-align: left;\">1159 Soria Ct</td><td style = \"text-align: left;\">Burglary</td><td style = \"text-align: right;\">1</td><td style = \"text-align: left;\">Howard, Andre</td><td style = \"text-align: left;\">B</td><td style = \"text-align: left;\">N</td><td style = \"text-align: left;\">M</td><td style = \"text-align: left;\">44</td><td style = \"text-align: left;\">15</td><td style = \"text-align: right;\">1</td><td style = \"text-align: left;\">Cordero-Rivera, Alejandro</td><td style = \"text-align: left;\">White</td><td style = \"text-align: left;\">M</td><td style = \"text-align: left;\">32</td><td style = \"text-align: left;\">Handgun</td><td style = \"text-align: left;\">Yes</td><td style = \"text-align: left;\">Yes</td><td style = \"text-align: left;\">No</td><td style = \"text-align: left;\">No</td><td style = \"text-align: left;\">http://www1.cityoforlando.net/opendatadocs/saoletters/14-500135.pdf</td><td style = \"text-align: left;\">POINT (-81.307727984 28.529062019)</td></tr><tr><td class = \"rowNumber\" style = \"font-weight: bold; text-align: right;\">72</td><td style = \"text-align: left;\">11-257484</td><td style = \"text-align: left;\">06/10/2011</td><td style = \"text-align: left;\">400 S. Parramore</td><td style = \"text-align: left;\">Drug Violation</td><td style = \"text-align: right;\">1</td><td style = \"text-align: left;\">Ochiuzzo, Matt</td><td style = \"text-align: left;\">W</td><td style = \"text-align: left;\">N</td><td style = \"text-align: left;\">M</td><td style = \"text-align: left;\">28</td><td style = \"text-align: left;\">5</td><td style = \"text-align: right;\">1</td><td style = \"text-align: left;\">Fell,Ronnery</td><td style = \"text-align: left;\">Black</td><td style = \"text-align: left;\">M</td><td style = \"text-align: left;\">27</td><td style = \"text-align: left;\">Hands/reaching</td><td style = \"text-align: left;\">Yes</td><td style = \"text-align: left;\">No</td><td style = \"text-align: left;\">No</td><td style = \"text-align: left;\">No</td><td style = \"text-align: left;\">http://www1.cityoforlando.net/opendatadocs/saoletters/11-257484.pdf</td><td style = \"text-align: left;\">POINT (-81.389041531 28.538220076)</td></tr><tr><td class = \"rowNumber\" style = \"font-weight: bold; text-align: right;\">73</td><td style = \"text-align: left;\">17-406642</td><td style = \"text-align: left;\">10/16/2017</td><td style = \"text-align: left;\">5700 Block N. Orange Blossom Trail</td><td style = \"text-align: left;\">Suspicious Person</td><td style = \"text-align: right;\">1</td><td style = \"text-align: left;\">Ehlers, Christopher</td><td style = \"text-align: left;\">W</td><td style = \"text-align: left;\">N</td><td style = \"text-align: left;\">M</td><td style = \"text-align: left;\">31</td><td style = \"text-align: left;\">5</td><td style = \"text-align: right;\">1</td><td style = \"text-align: left;\">Hill, Dracarris Mandel</td><td style = \"text-align: left;\">Black</td><td style = \"text-align: left;\">M</td><td style = \"text-align: left;\">23</td><td style = \"text-align: left;\">Handgun</td><td style = \"text-align: left;\">Yes</td><td style = \"text-align: left;\">No</td><td style = \"text-align: left;\">No</td><td style = \"text-align: left;\">No</td><td style = \"text-align: left;\">http://www1.cityoforlando.net/opendatadocs/saoletters/17-00406642.pdf</td><td style = \"text-align: left;\">POINT (-81.429694969 28.611062074)</td></tr><tr><td class = \"rowNumber\" style = \"font-weight: bold; text-align: right;\">74</td><td style = \"text-align: left;\">18-228375</td><td style = \"text-align: left;\">06/10/2018</td><td style = \"text-align: left;\">4832 Eaglesmere Drive</td><td style = \"text-align: left;\">Battery</td><td style = \"text-align: right;\">1</td><td style = \"text-align: left;\">Gonzalez, Emanuel</td><td style = \"text-align: left;\">W</td><td style = \"text-align: left;\">H</td><td style = \"text-align: left;\">M</td><td style = \"text-align: left;\">30</td><td style = \"text-align: left;\">1</td><td style = \"text-align: right;\">1</td><td style = \"text-align: left;\">Lindsey, Gary</td><td style = \"text-align: left;\">White</td><td style = \"text-align: left;\">M</td><td style = \"text-align: left;\">35</td><td style = \"text-align: left;\">Handgun</td><td style = \"text-align: left;\">Undetermined</td><td style = \"text-align: left;\">Self-Inflicted</td><td style = \"text-align: left;\">No</td><td style = \"text-align: left;\">No</td><td style = \"text-align: left;\">https://www1.cityoforlando.net/opendatadocs/saoletters/18-228375.pdf</td><td style = \"text-align: left;\">POINT (-81.462643153 28.490099922)</td></tr><tr><td class = \"rowNumber\" style = \"font-weight: bold; text-align: right;\">75</td><td style = \"text-align: left;\">12-074536</td><td style = \"text-align: left;\">02/19/2012</td><td style = \"text-align: left;\">8425 Northlake Pkwy</td><td style = \"text-align: left;\">Homicide</td><td style = \"text-align: right;\">1</td><td style = \"text-align: left;\">Toler, Jimmie</td><td style = \"text-align: left;\">W</td><td style = \"text-align: left;\">N</td><td style = \"text-align: left;\">M</td><td style = \"text-align: left;\">29</td><td style = \"text-align: left;\">7</td><td style = \"text-align: right;\">1</td><td style = \"text-align: left;\">Banner,Elmer</td><td style = \"text-align: left;\">White</td><td style = \"text-align: left;\">M</td><td style = \"text-align: left;\">43</td><td style = \"text-align: left;\">Handgun</td><td style = \"text-align: left;\">Yes</td><td style = \"text-align: left;\">No</td><td style = \"text-align: left;\">No</td><td style = \"text-align: left;\">No</td><td style = \"text-align: left;\">http://www1.cityoforlando.net/opendatadocs/saoletters/12-074536.pdf</td><td style = \"text-align: left;\">POINT (-81.269478007 28.420598013)</td></tr><tr><td class = \"rowNumber\" style = \"font-weight: bold; text-align: right;\">76</td><td style = \"text-align: left;\">16-153523</td><td style = \"text-align: left;\">04/13/2016</td><td style = \"text-align: left;\">Bowen DR at Folkstone</td><td style = \"text-align: left;\">Battery</td><td style = \"text-align: right;\">1</td><td style = \"text-align: left;\">Ospina, Rafael</td><td style = \"text-align: left;\">W</td><td style = \"text-align: left;\">H</td><td style = \"text-align: left;\">M</td><td style = \"text-align: left;\">34</td><td style = \"text-align: left;\">8</td><td style = \"text-align: right;\">1</td><td style = \"text-align: left;\">Robles, Jason</td><td style = \"text-align: left;\">White</td><td style = \"text-align: left;\">M</td><td style = \"text-align: left;\">22</td><td style = \"text-align: left;\">Handgun</td><td style = \"text-align: left;\">Yes</td><td style = \"text-align: left;\">No</td><td style = \"text-align: left;\">No</td><td style = \"text-align: left;\">No</td><td style = \"text-align: left;\">http://www1.cityoforlando.net/opendatadocs/saoletters/2016-153523.pdf</td><td style = \"text-align: left;\">POINT (-81.306244974 28.518123007)</td></tr><tr><td class = \"rowNumber\" style = \"font-weight: bold; text-align: right;\">77</td><td style = \"text-align: left;\">23-355012</td><td style = \"text-align: left;\">09/26/2023</td><td style = \"text-align: left;\">Carter Street and South Parramore Avenue</td><td style = \"text-align: left;\">Unknown Trouble/Person Robbery</td><td style = \"text-align: right;\">2</td><td style = \"text-align: left;\">Estrada, Phillip and Acevedo, Walberto</td><td style = \"text-align: left;\">W, W</td><td style = \"text-align: left;\">H</td><td style = \"text-align: left;\">M, M</td><td style = \"text-align: left;\">26, 34</td><td style = \"text-align: left;\">2, 4</td><td style = \"text-align: right;\">1</td><td style = \"text-align: left;\">Unknown</td><td style = \"text-align: left;\">Black</td><td style = \"text-align: left;\">M</td><td style = \"text-align: left;\">Unknown</td><td style = \"text-align: left;\">Firearm</td><td style = \"text-align: left;\">Unknown</td><td style = \"text-align: left;\">No</td><td style = \"text-align: left;\">No</td><td style = \"text-align: left;\">No</td><td style = \"text-align: left;\">https://www.orlando.gov/files/sharedassets/public/v/1/departments/public-safety/opd/open-data-docs/23-355012.pdf</td><td style = \"text-align: left;\">POINT (-81.388922977 28.534726006)</td></tr><tr><td class = \"rowNumber\" style = \"font-weight: bold; text-align: right;\">78</td><td style = \"text-align: left;\">09-308652</td><td style = \"text-align: left;\">07/01/2009</td><td style = \"text-align: left;\">1905 Lee Road</td><td style = \"text-align: left;\">Aggravated Assault</td><td style = \"text-align: right;\">1</td><td style = \"text-align: left;\">Michael, Edward</td><td style = \"text-align: left;\">W</td><td style = \"text-align: left;\">N</td><td style = \"text-align: left;\">M</td><td style = \"text-align: left;\">33</td><td style = \"text-align: left;\">8</td><td style = \"text-align: right;\">1</td><td style = \"text-align: left;\">Unknown</td><td style = \"text-align: left;\">Unk</td><td style = \"text-align: left;\">Unk</td><td style = \"text-align: left;\">Unk</td><td style = \"text-align: left;\">Handgun</td><td style = \"text-align: left;\">No</td><td style = \"text-align: left;\">No</td><td style = \"text-align: left;\">No</td><td style = \"text-align: left;\">No</td><td style = \"text-align: left;\">http://www1.cityoforlando.net/opendatadocs/saoletters/09-308652.pdf</td><td style = \"text-align: left;\">POINT (-81.413406013 28.601738987)</td></tr></tbody></table></div>"
      ],
      "text/latex": [
       "\\begin{tabular}{r|ccccc}\n",
       "\t& Case \\# & Date & Address & Incident Type & \\\\\n",
       "\t\\hline\n",
       "\t& String15 & String15 & String & String & \\\\\n",
       "\t\\hline\n",
       "\t1 & 22-174307 & 05/18/2022 & Mercy Drive and W.D. Judge Drive & Vehicle Stop & $\\dots$ \\\\\n",
       "\t2 & 18-448868 & 11/21/2018 & 9938 Universal Boulevard & Stolen Vehicle & $\\dots$ \\\\\n",
       "\t3 & 18-219116 & 06/04/2018 & 4629 Cason Cove Drive & Attempted Suicide & $\\dots$ \\\\\n",
       "\t4 & 20-397311 & 12/16/2020 & 5434 Baldwin Park Street, Unit 101 & Domestic Disturbance & $\\dots$ \\\\\n",
       "\t5 & 10-503738 & 10/26/2010 & Hiawassee \\& SR 50 & Armed Robbery & $\\dots$ \\\\\n",
       "\t6 & 13-022948 & 01/16/2013 & 1327 Arlington St & Drug Violation & $\\dots$ \\\\\n",
       "\t7 & 16-021812 & 01/16/2016 & 5400 North Lane & Traffic Stop & $\\dots$ \\\\\n",
       "\t8 & 14-086291 & 02/24/2014 & 595 W. Church St & Stalking & $\\dots$ \\\\\n",
       "\t9 & 15-291159 & 07/17/2015 & 1657 Watauga Way & Suspicious Person & $\\dots$ \\\\\n",
       "\t10 & 11-201994 & 05/06/2011 & 4900 Cason Cove & Armed Robbery & $\\dots$ \\\\\n",
       "\t11 & 20-133070 & 04/24/2020 & 555 North John Young Parkway, Orlando, FL 32811 & Attempted Suicide & $\\dots$ \\\\\n",
       "\t12 & 16-439059 & 10/30/2016 & 819 Randall St & Aggravated Battery & $\\dots$ \\\\\n",
       "\t13 & 12-237596 & 06/06/2012 & 756 Bennett Rd. & Battery & $\\dots$ \\\\\n",
       "\t14 & 10-437014 & 09/15/2010 & Lee Vista \\& SR 417 & Street Racing & $\\dots$ \\\\\n",
       "\t15 & 15-050643 & 02/04/2015 & 4326 Pershing Place & Shots fired & $\\dots$ \\\\\n",
       "\t16 & 09-559387 & 11/25/2009 & 1621 E Livingston & Barricaded Subject & $\\dots$ \\\\\n",
       "\t17 & 18-414226 & 10/26/2018 & 3936 W D Judge Drive & Violent Mentally Ill Person & $\\dots$ \\\\\n",
       "\t18 & 21-437603 & 12/29/2021 & 1338 S. Hiawassee Rd, Orlando 32835 & Suspicious Incident & $\\dots$ \\\\\n",
       "\t19 & 18-180878 & 05/07/2018 & 2642 E. Colonial Dr & Shoplifiting & $\\dots$ \\\\\n",
       "\t20 & 10-000324 & 01/01/2010 & 390 N Orange & Atempted Murder & $\\dots$ \\\\\n",
       "\t21 & 15-055695 & 02/08/2015 & 5688 International Dr & Shots fired & $\\dots$ \\\\\n",
       "\t22 & 13-495877 & 11/25/2013 & Thorpe/Wentwood & Traffic Stop & $\\dots$ \\\\\n",
       "\t23 & 21-314598 & 09/21/2021 & South Lakeland Avenue and Jacobs Place & Suspicious Persons & $\\dots$ \\\\\n",
       "\t24 & 16-246131 & 06/15/2016 & Millenia Blvd / Conroy Road & Vehicle Burglary & $\\dots$ \\\\\n",
       "\t$\\dots$ & $\\dots$ & $\\dots$ & $\\dots$ & $\\dots$ &  \\\\\n",
       "\\end{tabular}\n"
      ],
      "text/plain": [
       "\u001b[1m78×23 DataFrame\u001b[0m\n",
       "\u001b[1m Row \u001b[0m│\u001b[1m Case #    \u001b[0m\u001b[1m Date       \u001b[0m\u001b[1m Address                           \u001b[0m\u001b[1m Incident Type\u001b[0m ⋯\n",
       "     │\u001b[90m String15  \u001b[0m\u001b[90m String15   \u001b[0m\u001b[90m String                            \u001b[0m\u001b[90m String       \u001b[0m ⋯\n",
       "─────┼──────────────────────────────────────────────────────────────────────────\n",
       "   1 │ 22-174307  05/18/2022  Mercy Drive and W.D. Judge Drive   Vehicle Stop  ⋯\n",
       "   2 │ 18-448868  11/21/2018  9938 Universal Boulevard           Stolen Vehicl\n",
       "   3 │ 18-219116  06/04/2018  4629 Cason Cove Drive              Attempted Sui\n",
       "   4 │ 20-397311  12/16/2020  5434 Baldwin Park Street, Unit 1…  Domestic Dist\n",
       "   5 │ 10-503738  10/26/2010  Hiawassee & SR 50                  Armed Robbery ⋯\n",
       "   6 │ 13-022948  01/16/2013  1327 Arlington St                  Drug Violatio\n",
       "   7 │ 16-021812  01/16/2016  5400 North Lane                    Traffic Stop\n",
       "   8 │ 14-086291  02/24/2014  595 W. Church St                   Stalking\n",
       "  ⋮  │     ⋮          ⋮                       ⋮                                ⋱\n",
       "  72 │ 11-257484  06/10/2011  400 S. Parramore                   Drug Violatio ⋯\n",
       "  73 │ 17-406642  10/16/2017  5700 Block N. Orange Blossom Tra…  Suspicious Pe\n",
       "  74 │ 18-228375  06/10/2018  4832 Eaglesmere Drive              Battery\n",
       "  75 │ 12-074536  02/19/2012  8425 Northlake Pkwy                Homicide\n",
       "  76 │ 16-153523  04/13/2016  Bowen DR at Folkstone              Battery       ⋯\n",
       "  77 │ 23-355012  09/26/2023  Carter Street and South Parramor…  Unknown Troub\n",
       "  78 │ 09-308652  07/01/2009  1905 Lee Road                      Aggravated As\n",
       "\u001b[36m                                                  20 columns and 63 rows omitted\u001b[0m"
      ]
     },
     "metadata": {},
     "output_type": "display_data"
    }
   ],
   "source": [
    "# load and analyze data\n",
    "data = CSV.read(\"Data/OPD_Officer-Involved_Shootings_20241125.csv\", DataFrame)"
   ]
  },
  {
   "cell_type": "code",
   "execution_count": 66,
   "metadata": {},
   "outputs": [
    {
     "data": {
      "text/plain": [
       "convert_to_tuple (generic function with 1 method)"
      ]
     },
     "metadata": {},
     "output_type": "display_data"
    }
   ],
   "source": [
    "# Function to convert Georeferenced Columm to Tuple \n",
    "\n",
    "function convert_to_tuple(str)\n",
    "    test = str[7:end]\n",
    "    test = strip(test, ['(', ')'])\n",
    "    test = split(test, ' ')\n",
    "\n",
    "    return (parse(Float64, test[1]), parse(Float64, test[2]))\n",
    "\n",
    "end"
   ]
  },
  {
   "cell_type": "code",
   "execution_count": null,
   "metadata": {},
   "outputs": [
    {
     "data": {
      "text/plain": [
       "78-element Vector{Tuple{Float64, Float64}}:\n",
       " (-81.430522027, 28.559823981)\n",
       " (-81.444407991, 28.426330019)\n",
       " (-81.436934015, 28.497201986)\n",
       " (-81.31615297, 28.574676001)\n",
       " (-81.475974825, 28.552001109)\n",
       " (-81.398586976, 28.552194982)\n",
       " (-81.454123826, 28.596308986)\n",
       " (-81.386192991, 28.540632985)\n",
       " (-81.335092645, 28.522822186)\n",
       " (-81.444618041, 28.497712989)\n",
       " ⋮\n",
       " (-81.397620962, 28.544747996)\n",
       " (-81.307727984, 28.529062019)\n",
       " (-81.389041531, 28.538220076)\n",
       " (-81.429694969, 28.611062074)\n",
       " (-81.462643153, 28.490099922)\n",
       " (-81.269478007, 28.420598013)\n",
       " (-81.306244974, 28.518123007)\n",
       " (-81.388922977, 28.534726006)\n",
       " (-81.413406013, 28.601738987)"
      ]
     },
     "metadata": {},
     "output_type": "display_data"
    }
   ],
   "source": [
    "#Algorithm used\n",
    "location = convert_to_tuple.(data[:, \"Georeferenced Column\"])\n",
    "\n",
    "point = []\n",
    "\n",
    "for each in location\n",
    "    push!(point,LatLon(each[2],each[1]))\n",
    "end\n",
    "\n",
    "data[:, \"Point\"] = point"
   ]
  },
  {
   "cell_type": "code",
   "execution_count": 101,
   "metadata": {},
   "outputs": [
    {
     "name": "stdout",
     "output_type": "stream",
     "text": [
      "min_lat = minimum(lats) - 1 = 27.337043705\n",
      "max_lat = maximum(lats) + 1 = 29.611062074\n",
      "min_lon = minimum(lons) - 1 = -82.476621992\n",
      "max_lon = maximum(lons) + 1 = -80.239710013\n"
     ]
    },
    {
     "data": {
      "text/plain": [
       "-80.239710013"
      ]
     },
     "metadata": {},
     "output_type": "display_data"
    }
   ],
   "source": [
    "lats = [x[2] for x in location]\n",
    "lons = [x[1] for x in location]\n",
    "@show min_lat = minimum(lats) - 1\n",
    "@show max_lat = maximum(lats) + 1\n",
    "@show min_lon = minimum(lons) - 1\n",
    "@show max_lon = maximum(lons) + 1\n"
   ]
  },
  {
   "cell_type": "code",
   "execution_count": 97,
   "metadata": {},
   "outputs": [
    {
     "data": {
      "text/html": [
       "<div><div style = \"float: left;\"><span>41×2 DataFrame</span></div><div style = \"float: right;\"><span style = \"font-style: italic;\">16 rows omitted</span></div><div style = \"clear: both;\"></div></div><div class = \"data-frame\" style = \"overflow-x: scroll;\"><table class = \"data-frame\" style = \"margin-bottom: 6px;\"><thead><tr class = \"header\"><th class = \"rowNumber\" style = \"font-weight: bold; text-align: right;\">Row</th><th style = \"text-align: left;\">Incident Type</th><th style = \"text-align: left;\">Count</th></tr><tr class = \"subheader headerLastRow\"><th class = \"rowNumber\" style = \"font-weight: bold; text-align: right;\"></th><th title = \"String\" style = \"text-align: left;\">String</th><th title = \"Int64\" style = \"text-align: left;\">Int64</th></tr></thead><tbody><tr><td class = \"rowNumber\" style = \"font-weight: bold; text-align: right;\">1</td><td style = \"text-align: left;\">Vehicle Stop</td><td style = \"text-align: right;\">1</td></tr><tr><td class = \"rowNumber\" style = \"font-weight: bold; text-align: right;\">2</td><td style = \"text-align: left;\">Stolen Vehicle</td><td style = \"text-align: right;\">4</td></tr><tr><td class = \"rowNumber\" style = \"font-weight: bold; text-align: right;\">3</td><td style = \"text-align: left;\">Attempted Suicide</td><td style = \"text-align: right;\">4</td></tr><tr><td class = \"rowNumber\" style = \"font-weight: bold; text-align: right;\">4</td><td style = \"text-align: left;\">Domestic Disturbance</td><td style = \"text-align: right;\">2</td></tr><tr><td class = \"rowNumber\" style = \"font-weight: bold; text-align: right;\">5</td><td style = \"text-align: left;\">Armed Robbery</td><td style = \"text-align: right;\">5</td></tr><tr><td class = \"rowNumber\" style = \"font-weight: bold; text-align: right;\">6</td><td style = \"text-align: left;\">Drug Violation</td><td style = \"text-align: right;\">2</td></tr><tr><td class = \"rowNumber\" style = \"font-weight: bold; text-align: right;\">7</td><td style = \"text-align: left;\">Traffic Stop</td><td style = \"text-align: right;\">7</td></tr><tr><td class = \"rowNumber\" style = \"font-weight: bold; text-align: right;\">8</td><td style = \"text-align: left;\">Stalking</td><td style = \"text-align: right;\">1</td></tr><tr><td class = \"rowNumber\" style = \"font-weight: bold; text-align: right;\">9</td><td style = \"text-align: left;\">Suspicious Person</td><td style = \"text-align: right;\">6</td></tr><tr><td class = \"rowNumber\" style = \"font-weight: bold; text-align: right;\">10</td><td style = \"text-align: left;\">Aggravated Battery</td><td style = \"text-align: right;\">1</td></tr><tr><td class = \"rowNumber\" style = \"font-weight: bold; text-align: right;\">11</td><td style = \"text-align: left;\">Battery</td><td style = \"text-align: right;\">3</td></tr><tr><td class = \"rowNumber\" style = \"font-weight: bold; text-align: right;\">12</td><td style = \"text-align: left;\">Street Racing</td><td style = \"text-align: right;\">1</td></tr><tr><td class = \"rowNumber\" style = \"font-weight: bold; text-align: right;\">13</td><td style = \"text-align: left;\">Shots fired</td><td style = \"text-align: right;\">3</td></tr><tr><td style = \"text-align: right;\">&vellip;</td><td style = \"text-align: right;\">&vellip;</td><td style = \"text-align: right;\">&vellip;</td></tr><tr><td class = \"rowNumber\" style = \"font-weight: bold; text-align: right;\">30</td><td style = \"text-align: left;\">Suspicious Incident / Possible Kidnapping</td><td style = \"text-align: right;\">1</td></tr><tr><td class = \"rowNumber\" style = \"font-weight: bold; text-align: right;\">31</td><td style = \"text-align: left;\">Felony Warrant</td><td style = \"text-align: right;\">1</td></tr><tr><td class = \"rowNumber\" style = \"font-weight: bold; text-align: right;\">32</td><td style = \"text-align: left;\">Unknown Trouble</td><td style = \"text-align: right;\">2</td></tr><tr><td class = \"rowNumber\" style = \"font-weight: bold; text-align: right;\">33</td><td style = \"text-align: left;\">Suspicious Vehicle</td><td style = \"text-align: right;\">2</td></tr><tr><td class = \"rowNumber\" style = \"font-weight: bold; text-align: right;\">34</td><td style = \"text-align: left;\">Occupied Stolen Vehicle</td><td style = \"text-align: right;\">1</td></tr><tr><td class = \"rowNumber\" style = \"font-weight: bold; text-align: right;\">35</td><td style = \"text-align: left;\">Fraud</td><td style = \"text-align: right;\">1</td></tr><tr><td class = \"rowNumber\" style = \"font-weight: bold; text-align: right;\">36</td><td style = \"text-align: left;\">Well Being Check</td><td style = \"text-align: right;\">1</td></tr><tr><td class = \"rowNumber\" style = \"font-weight: bold; text-align: right;\">37</td><td style = \"text-align: left;\">Active Shooter</td><td style = \"text-align: right;\">1</td></tr><tr><td class = \"rowNumber\" style = \"font-weight: bold; text-align: right;\">38</td><td style = \"text-align: left;\">Homicide</td><td style = \"text-align: right;\">2</td></tr><tr><td class = \"rowNumber\" style = \"font-weight: bold; text-align: right;\">39</td><td style = \"text-align: left;\">Burglary</td><td style = \"text-align: right;\">1</td></tr><tr><td class = \"rowNumber\" style = \"font-weight: bold; text-align: right;\">40</td><td style = \"text-align: left;\">Unknown Trouble/Person Robbery</td><td style = \"text-align: right;\">1</td></tr><tr><td class = \"rowNumber\" style = \"font-weight: bold; text-align: right;\">41</td><td style = \"text-align: left;\">Aggravated Assault</td><td style = \"text-align: right;\">1</td></tr></tbody></table></div>"
      ],
      "text/latex": [
       "\\begin{tabular}{r|cc}\n",
       "\t& Incident Type & \\\\\n",
       "\t\\hline\n",
       "\t& String & \\\\\n",
       "\t\\hline\n",
       "\t1 & Vehicle Stop & $\\dots$ \\\\\n",
       "\t2 & Stolen Vehicle & $\\dots$ \\\\\n",
       "\t3 & Attempted Suicide & $\\dots$ \\\\\n",
       "\t4 & Domestic Disturbance & $\\dots$ \\\\\n",
       "\t5 & Armed Robbery & $\\dots$ \\\\\n",
       "\t6 & Drug Violation & $\\dots$ \\\\\n",
       "\t7 & Traffic Stop & $\\dots$ \\\\\n",
       "\t8 & Stalking & $\\dots$ \\\\\n",
       "\t9 & Suspicious Person & $\\dots$ \\\\\n",
       "\t10 & Aggravated Battery & $\\dots$ \\\\\n",
       "\t11 & Battery & $\\dots$ \\\\\n",
       "\t12 & Street Racing & $\\dots$ \\\\\n",
       "\t13 & Shots fired & $\\dots$ \\\\\n",
       "\t14 & Barricaded Subject & $\\dots$ \\\\\n",
       "\t15 & Violent Mentally Ill Person & $\\dots$ \\\\\n",
       "\t16 & Suspicious Incident & $\\dots$ \\\\\n",
       "\t17 & Shoplifiting & $\\dots$ \\\\\n",
       "\t18 & Atempted Murder & $\\dots$ \\\\\n",
       "\t19 & Suspicious Persons & $\\dots$ \\\\\n",
       "\t20 & Vehicle Burglary & $\\dots$ \\\\\n",
       "\t21 & Attempt to Contact & $\\dots$ \\\\\n",
       "\t22 & Robbery with a Firearm & $\\dots$ \\\\\n",
       "\t23 & Attempted Murder & $\\dots$ \\\\\n",
       "\t24 & Aggravated Assault on a Law Enforcement Officer with a Deadly Weapon, Armed Kidnapping (3 counts) & $\\dots$ \\\\\n",
       "\t$\\dots$ & $\\dots$ &  \\\\\n",
       "\\end{tabular}\n"
      ],
      "text/plain": [
       "\u001b[1m41×2 DataFrame\u001b[0m\n",
       "\u001b[1m Row \u001b[0m│\u001b[1m Incident Type                  \u001b[0m\u001b[1m Count \u001b[0m\n",
       "     │\u001b[90m String                         \u001b[0m\u001b[90m Int64 \u001b[0m\n",
       "─────┼───────────────────────────────────────\n",
       "   1 │ Vehicle Stop                        1\n",
       "   2 │ Stolen Vehicle                      4\n",
       "   3 │ Attempted Suicide                   4\n",
       "   4 │ Domestic Disturbance                2\n",
       "   5 │ Armed Robbery                       5\n",
       "   6 │ Drug Violation                      2\n",
       "   7 │ Traffic Stop                        7\n",
       "   8 │ Stalking                            1\n",
       "  ⋮  │               ⋮                   ⋮\n",
       "  35 │ Fraud                               1\n",
       "  36 │ Well Being Check                    1\n",
       "  37 │ Active Shooter                      1\n",
       "  38 │ Homicide                            2\n",
       "  39 │ Burglary                            1\n",
       "  40 │ Unknown Trouble/Person Robbery      1\n",
       "  41 │ Aggravated Assault                  1\n",
       "\u001b[36m                              26 rows omitted\u001b[0m"
      ]
     },
     "metadata": {},
     "output_type": "display_data"
    }
   ],
   "source": [
    "freq_by_type = combine(groupby(data, \"Incident Type\"), nrow => \"Count\")"
   ]
  },
  {
   "cell_type": "code",
   "execution_count": null,
   "metadata": {},
   "outputs": [],
   "source": [
    "\"\"\" \n",
    "1. Group all incidents in categories\n",
    "2. Assign each category a color and/or icon type\n",
    "3. Make Charts and Graphs with data\n",
    "4. Create a Heat or Color map based on the markers\n",
    "5. Maybe ad Police Stations on the map\n",
    "6. Follow analysis with conclusions\n",
    "\"\"\""
   ]
  },
  {
   "cell_type": "code",
   "execution_count": null,
   "metadata": {},
   "outputs": [
    {
     "ename": "UndefVarError",
     "evalue": "UndefVarError: `True` not defined in `Main`\nSuggestion: check for spelling errors or missing imports.",
     "output_type": "error",
     "traceback": [
      "UndefVarError: `True` not defined in `Main`\n",
      "Suggestion: check for spelling errors or missing imports.\n",
      "\n",
      "Stacktrace:\n",
      " [1] top-level scope\n",
      "   @ ~/Documents/GitHub/CatchingCrooks/jl_notebook_cell_df34fa98e69747e1a8f8a730347b8e2f_X15sZmlsZQ==.jl:1"
     ]
    }
   ],
   "source": [
    "map = foli.Map(\n",
    "    location = [28.601, -81.429],\n",
    "    max_bounds = True,\n",
    "    min_lat = min_lat,\n",
    "    max_lat = max_lat,\n",
    "    min_lon = min_lon,\n",
    "    max_lon = max_lon,\n",
    "    )\n",
    "\n",
    "\n",
    "for (idx,each) in enumerate(data.Point)\n",
    "    foli.Marker(\n",
    "        location=[each.lat, each.lon],  # Access latitude and longitude using .lat and .lon\n",
    "        tooltip=\"Crime Location\",\n",
    "        popup=\"Case #: $(data[!,\"Case #\"][idx])\\n\n",
    "               Inc. Type: $(data[!,\"Incident Type\"][idx])\n",
    "              \",\n",
    "        icon=foli.Icon(color=\"green\", icon=\"flag\")\n",
    "    ).add_to(map)\n",
    "end\n",
    "\n",
    "map\n"
   ]
  },
  {
   "cell_type": "markdown",
   "metadata": {},
   "source": [
    "References: <br>\n",
    "[OPD Officer-Involded Shootings](https://data.cityoforlando.net/Orlando-Police/OPD-Officer-Involved-Shootings/6kz6-6c7n/data_preview) <br>\n",
    "[Folium Popups](https://python-visualization.github.io/folium/latest/user_guide/ui_elements/popups.html) <br>\n",
    "[Folium Heatmap](https://python-visualization.github.io/folium/latest/user_guide/plugins/heatmap.html) <br>\n",
    "[Folium Colormaps](https://python-visualization.github.io/folium/latest/advanced_guide/colormaps.html) <br>\n",
    "[Folium Custon Icon](https://python-visualization.github.io/folium/latest/user_guide/ui_elements/icons.html) <br>"
   ]
  },
  {
   "cell_type": "code",
   "execution_count": null,
   "metadata": {},
   "outputs": [],
   "source": []
  }
 ],
 "metadata": {
  "kernelspec": {
   "display_name": "Julia 1.11.1",
   "language": "julia",
   "name": "julia-1.11"
  },
  "language_info": {
   "file_extension": ".jl",
   "mimetype": "application/julia",
   "name": "julia",
   "version": "1.11.1"
  },
  "vscode": {
   "interpreter": {
    "hash": "31f2aee4e71d21fbe5cf8b01ff0e069b9275f58929596ceb00d14d90e3e16cd6"
   }
  }
 },
 "nbformat": 4,
 "nbformat_minor": 2
}

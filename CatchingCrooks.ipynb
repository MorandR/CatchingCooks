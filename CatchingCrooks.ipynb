{
 "cells": [
  {
   "cell_type": "markdown",
   "metadata": {},
   "source": [
    "# Orlando Criminal Activities\n",
    "\n",
    "##### Presented by: Clark Jones, Umapathy Beema, Richard Morand <br> Dr. Spencer Lyon - Spring 2024 \n",
    "\n",
    "\n",
    "Ojective: We will be exploring the criminal acts in Orlando, and create a model to showcase the types of activities done in the city. <br>\n",
    "\n",
    "__Tools__ <br>\n",
    "Collaboration: VSCode, Github, Discord <br>\n",
    "Languages: Python, Julia\n",
    "Packages/Libraries: Agents, OpenStreetMap, Pandas, etc."
   ]
  },
  {
   "cell_type": "code",
   "execution_count": 1,
   "metadata": {},
   "outputs": [
    {
     "name": "stderr",
     "output_type": "stream",
     "text": [
      "\u001b[32m\u001b[1m   Resolving\u001b[22m\u001b[39m package versions...\n",
      "\u001b[32m\u001b[1m  No Changes\u001b[22m\u001b[39m to `C:\\Users\\umapa\\.julia\\environments\\v1.10\\Project.toml`\n",
      "\u001b[32m\u001b[1m  No Changes\u001b[22m\u001b[39m to `C:\\Users\\umapa\\.julia\\environments\\v1.10\\Manifest.toml`\n"
     ]
    }
   ],
   "source": [
    "#import packages here\n",
    "import Pkg\n",
    "Pkg.add([\"OpenStreetMapX\",\"CSV\", \"DataFrames\"])"
   ]
  },
  {
   "cell_type": "code",
   "execution_count": 2,
   "metadata": {},
   "outputs": [],
   "source": [
    "using Agents, OpenStreetMapX\n",
    "using  CSV, DataFrames"
   ]
  },
  {
   "cell_type": "code",
   "execution_count": 3,
   "metadata": {},
   "outputs": [
    {
     "data": {
      "text/html": [
       "<div><div style = \"float: left;\"><span>78×23 DataFrame</span></div><div style = \"float: right;\"><span style = \"font-style: italic;\">53 rows omitted</span></div><div style = \"clear: both;\"></div></div><div class = \"data-frame\" style = \"overflow-x: scroll;\"><table class = \"data-frame\" style = \"margin-bottom: 6px;\"><thead><tr class = \"header\"><th class = \"rowNumber\" style = \"font-weight: bold; text-align: right;\">Row</th><th style = \"text-align: left;\">Case #</th><th style = \"text-align: left;\">Date</th><th style = \"text-align: left;\">Address</th><th style = \"text-align: left;\">Incident Type</th><th style = \"text-align: left;\">Number of Officers Involved</th><th style = \"text-align: left;\">Officer Name</th><th style = \"text-align: left;\">Officer Race</th><th style = \"text-align: left;\">Ethnicity</th><th style = \"text-align: left;\">Officer Gender</th><th style = \"text-align: left;\">Officer Age</th><th style = \"text-align: left;\">Officer Tenure</th><th style = \"text-align: left;\">Number of Suspects Involved</th><th style = \"text-align: left;\">Suspect Name</th><th style = \"text-align: left;\">Suspect Race</th><th style = \"text-align: left;\">Suspect Gender</th><th style = \"text-align: left;\">Suspect Age</th><th style = \"text-align: left;\">Suspect&apos;s Weapon</th><th style = \"text-align: left;\">Suspect Hit</th><th style = \"text-align: left;\">Fatal</th><th style = \"text-align: left;\">Officer Hit</th><th style = \"text-align: left;\">Fatal (Officer)</th><th style = \"text-align: left;\">Review Letter</th><th style = \"text-align: left;\">Georeferenced Column</th></tr><tr class = \"subheader headerLastRow\"><th class = \"rowNumber\" style = \"font-weight: bold; text-align: right;\"></th><th title = \"String15\" style = \"text-align: left;\">String15</th><th title = \"String15\" style = \"text-align: left;\">String15</th><th title = \"String\" style = \"text-align: left;\">String</th><th title = \"String\" style = \"text-align: left;\">String</th><th title = \"Union{Missing, Int64}\" style = \"text-align: left;\">Int64?</th><th title = \"Union{Missing, String}\" style = \"text-align: left;\">String?</th><th title = \"Union{Missing, String}\" style = \"text-align: left;\">String?</th><th title = \"Union{Missing, String31}\" style = \"text-align: left;\">String31?</th><th title = \"String31\" style = \"text-align: left;\">String31</th><th title = \"String\" style = \"text-align: left;\">String</th><th title = \"String\" style = \"text-align: left;\">String</th><th title = \"Int64\" style = \"text-align: left;\">Int64</th><th title = \"String\" style = \"text-align: left;\">String</th><th title = \"String31\" style = \"text-align: left;\">String31</th><th title = \"String7\" style = \"text-align: left;\">String7</th><th title = \"String15\" style = \"text-align: left;\">String15</th><th title = \"String31\" style = \"text-align: left;\">String31</th><th title = \"String15\" style = \"text-align: left;\">String15</th><th title = \"String15\" style = \"text-align: left;\">String15</th><th title = \"String\" style = \"text-align: left;\">String</th><th title = \"String\" style = \"text-align: left;\">String</th><th title = \"Union{Missing, String}\" style = \"text-align: left;\">String?</th><th title = \"String\" style = \"text-align: left;\">String</th></tr></thead><tbody><tr><td class = \"rowNumber\" style = \"font-weight: bold; text-align: right;\">1</td><td style = \"text-align: left;\">22-174307</td><td style = \"text-align: left;\">05/18/2022</td><td style = \"text-align: left;\">Mercy Drive and W.D. Judge Drive</td><td style = \"text-align: left;\">Vehicle Stop</td><td style = \"text-align: right;\">2</td><td style = \"text-align: left;\">Marsy&apos;s Law Exempt</td><td style = \"text-align: left;\">White/White</td><td style = \"font-style: italic; text-align: left;\">missing</td><td style = \"text-align: left;\">M,F</td><td style = \"text-align: left;\">Marsy&apos;s Law Exempt</td><td style = \"text-align: left;\">Marsy&apos;s Law Exempt</td><td style = \"text-align: right;\">1</td><td style = \"text-align: left;\">Carlos Delano Dafill Roberts Jr.</td><td style = \"text-align: left;\">Black</td><td style = \"text-align: left;\">M</td><td style = \"text-align: left;\">29</td><td style = \"text-align: left;\">Handgun</td><td style = \"text-align: left;\">Yes</td><td style = \"text-align: left;\">No</td><td style = \"text-align: left;\">No, No</td><td style = \"text-align: left;\">No, No</td><td style = \"text-align: left;\">https://www.orlando.gov/files/sharedassets/public/v/1/departments/public-safety/opd/open-data-docs/22-174307.pdf</td><td style = \"text-align: left;\">POINT (-81.430522027 28.559823981)</td></tr><tr><td class = \"rowNumber\" style = \"font-weight: bold; text-align: right;\">2</td><td style = \"text-align: left;\">18-448868</td><td style = \"text-align: left;\">11/21/2018</td><td style = \"text-align: left;\">9938 Universal Boulevard</td><td style = \"text-align: left;\">Stolen Vehicle</td><td style = \"text-align: right;\">1</td><td style = \"text-align: left;\">Chase, Alex</td><td style = \"text-align: left;\">W</td><td style = \"text-align: left;\">N</td><td style = \"text-align: left;\">M</td><td style = \"text-align: left;\">35</td><td style = \"text-align: left;\">11</td><td style = \"text-align: right;\">1</td><td style = \"text-align: left;\">Martinez Gonzalez, Joselito</td><td style = \"text-align: left;\">White</td><td style = \"text-align: left;\">M</td><td style = \"text-align: left;\">30</td><td style = \"text-align: left;\">Motor Vehicle</td><td style = \"text-align: left;\">Yes</td><td style = \"text-align: left;\">No</td><td style = \"text-align: left;\">No</td><td style = \"text-align: left;\">No</td><td style = \"text-align: left;\">https://www1.cityoforlando.net/opendatadocs/saoletters/18-448869.pdf</td><td style = \"text-align: left;\">POINT (-81.444407991 28.426330019)</td></tr><tr><td class = \"rowNumber\" style = \"font-weight: bold; text-align: right;\">3</td><td style = \"text-align: left;\">18-219116</td><td style = \"text-align: left;\">06/04/2018</td><td style = \"text-align: left;\">4629 Cason Cove Drive</td><td style = \"text-align: left;\">Attempted Suicide</td><td style = \"text-align: right;\">1</td><td style = \"text-align: left;\">Sayer,Ryan</td><td style = \"text-align: left;\">W</td><td style = \"text-align: left;\">N</td><td style = \"text-align: left;\">M</td><td style = \"text-align: left;\">25</td><td style = \"text-align: left;\">2</td><td style = \"text-align: right;\">1</td><td style = \"text-align: left;\">White, Pamel</td><td style = \"text-align: left;\">Black</td><td style = \"text-align: left;\">F</td><td style = \"text-align: left;\">63</td><td style = \"text-align: left;\">Handgun</td><td style = \"text-align: left;\">No</td><td style = \"text-align: left;\">No</td><td style = \"text-align: left;\">No</td><td style = \"text-align: left;\">No</td><td style = \"text-align: left;\">https://www1.cityoforlando.net/opendatadocs/saoletters/18-219116.pdf</td><td style = \"text-align: left;\">POINT (-81.436934015 28.497201986)</td></tr><tr><td class = \"rowNumber\" style = \"font-weight: bold; text-align: right;\">4</td><td style = \"text-align: left;\">20-397311</td><td style = \"text-align: left;\">12/16/2020</td><td style = \"text-align: left;\">5434 Baldwin Park Street, Unit 101</td><td style = \"text-align: left;\">Domestic Disturbance</td><td style = \"text-align: right;\">1</td><td style = \"font-style: italic; text-align: left;\">missing</td><td style = \"text-align: left;\">W</td><td style = \"font-style: italic; text-align: left;\">missing</td><td style = \"text-align: left;\">M</td><td style = \"text-align: left;\">40</td><td style = \"text-align: left;\">14</td><td style = \"text-align: right;\">1</td><td style = \"text-align: left;\">Robertson, Adam</td><td style = \"text-align: left;\">White</td><td style = \"text-align: left;\">M</td><td style = \"text-align: left;\">34</td><td style = \"text-align: left;\">Handgun</td><td style = \"text-align: left;\">Yes</td><td style = \"text-align: left;\">Yes</td><td style = \"text-align: left;\">No</td><td style = \"text-align: left;\">No</td><td style = \"text-align: left;\">https://www.orlando.gov/files/sharedassets/public/departments/public-safety/opd/open-data-docs/ois_sao_zambito_ir-20-75.pdf</td><td style = \"text-align: left;\">POINT (-81.31615297 28.574676001)</td></tr><tr><td class = \"rowNumber\" style = \"font-weight: bold; text-align: right;\">5</td><td style = \"text-align: left;\">10-503738</td><td style = \"text-align: left;\">10/26/2010</td><td style = \"text-align: left;\">Hiawassee &amp; SR 50</td><td style = \"text-align: left;\">Armed Robbery</td><td style = \"text-align: right;\">3</td><td style = \"text-align: left;\">Hinkles, Cedrick; Herb, Todd; Fischer, Bryan</td><td style = \"text-align: left;\">B, W, W</td><td style = \"text-align: left;\">N, N, N</td><td style = \"text-align: left;\">M, M, M</td><td style = \"text-align: left;\">30, 38, 37</td><td style = \"text-align: left;\">6, 13, 4</td><td style = \"text-align: right;\">1</td><td style = \"text-align: left;\">Soman, Acrifa</td><td style = \"text-align: left;\">Black</td><td style = \"text-align: left;\">M</td><td style = \"text-align: left;\">21</td><td style = \"text-align: left;\">Handgun</td><td style = \"text-align: left;\">Yes</td><td style = \"text-align: left;\">Yes</td><td style = \"text-align: left;\">No, No, No</td><td style = \"text-align: left;\">No, No, No</td><td style = \"text-align: left;\">http://www1.cityoforlando.net/opendatadocs/saoletters/10-503738.pdf</td><td style = \"text-align: left;\">POINT (-81.475974825 28.552001109)</td></tr><tr><td class = \"rowNumber\" style = \"font-weight: bold; text-align: right;\">6</td><td style = \"text-align: left;\">13-022948</td><td style = \"text-align: left;\">01/16/2013</td><td style = \"text-align: left;\">1327 Arlington St</td><td style = \"text-align: left;\">Drug Violation</td><td style = \"text-align: right;\">2</td><td style = \"text-align: left;\">Mongeluzzo, Anthony; Bigelow, Chris</td><td style = \"text-align: left;\">W, W</td><td style = \"text-align: left;\">N, N</td><td style = \"text-align: left;\">M, M</td><td style = \"text-align: left;\">34, 29</td><td style = \"text-align: left;\">6, 6</td><td style = \"text-align: right;\">2</td><td style = \"text-align: left;\">Williams, Charles; Gamble, Karvas</td><td style = \"text-align: left;\">Black, Black</td><td style = \"text-align: left;\">M, M</td><td style = \"text-align: left;\">37, 19</td><td style = \"text-align: left;\">Handgun</td><td style = \"text-align: left;\">Yes, Yes</td><td style = \"text-align: left;\">No, Yes</td><td style = \"text-align: left;\">No, No</td><td style = \"text-align: left;\">No, No</td><td style = \"text-align: left;\">http://www1.cityoforlando.net/opendatadocs/saoletters/13-022948.pdf</td><td style = \"text-align: left;\">POINT (-81.398586976 28.552194982)</td></tr><tr><td class = \"rowNumber\" style = \"font-weight: bold; text-align: right;\">7</td><td style = \"text-align: left;\">16-021812</td><td style = \"text-align: left;\">01/16/2016</td><td style = \"text-align: left;\">5400 North Lane</td><td style = \"text-align: left;\">Traffic Stop</td><td style = \"text-align: right;\">1</td><td style = \"text-align: left;\">Mills, Jonathan</td><td style = \"text-align: left;\">W</td><td style = \"text-align: left;\">N</td><td style = \"text-align: left;\">M</td><td style = \"text-align: left;\">33</td><td style = \"text-align: left;\">4</td><td style = \"text-align: right;\">1</td><td style = \"text-align: left;\">Lamons, Trevon</td><td style = \"text-align: left;\">Black</td><td style = \"text-align: left;\">M</td><td style = \"text-align: left;\">17</td><td style = \"text-align: left;\">Motor Vehicle</td><td style = \"text-align: left;\">Yes</td><td style = \"text-align: left;\">No</td><td style = \"text-align: left;\">No</td><td style = \"text-align: left;\">No</td><td style = \"text-align: left;\">http://www1.cityoforlando.net/opendatadocs/saoletters/16-021812.pdf</td><td style = \"text-align: left;\">POINT (-81.454123826 28.596308986)</td></tr><tr><td class = \"rowNumber\" style = \"font-weight: bold; text-align: right;\">8</td><td style = \"text-align: left;\">14-086291</td><td style = \"text-align: left;\">02/24/2014</td><td style = \"text-align: left;\">595 W. Church St</td><td style = \"text-align: left;\">Stalking</td><td style = \"text-align: right;\">3</td><td style = \"text-align: left;\">Kipp, Alexander; Watts, Anthony; Johnston, David</td><td style = \"text-align: left;\">W, B, W</td><td style = \"text-align: left;\">N, N, N</td><td style = \"text-align: left;\">M, M, M</td><td style = \"text-align: left;\">32, 44, 24</td><td style = \"text-align: left;\">1, 1, 1</td><td style = \"text-align: right;\">1</td><td style = \"text-align: left;\">Lattimore, Derrick</td><td style = \"text-align: left;\">Black</td><td style = \"text-align: left;\">M</td><td style = \"text-align: left;\">27</td><td style = \"text-align: left;\">Motor Vehicle</td><td style = \"text-align: left;\">No</td><td style = \"text-align: left;\">No</td><td style = \"text-align: left;\">No, No, No</td><td style = \"text-align: left;\">No, No, No</td><td style = \"text-align: left;\">http://www1.cityoforlando.net/opendatadocs/saoletters/14-086291.pdf</td><td style = \"text-align: left;\">POINT (-81.386192991 28.540632985)</td></tr><tr><td class = \"rowNumber\" style = \"font-weight: bold; text-align: right;\">9</td><td style = \"text-align: left;\">15-291159</td><td style = \"text-align: left;\">07/17/2015</td><td style = \"text-align: left;\">1657 Watauga Way</td><td style = \"text-align: left;\">Suspicious Person</td><td style = \"text-align: right;\">1</td><td style = \"text-align: left;\">Vidro, Kelvin</td><td style = \"text-align: left;\">W</td><td style = \"text-align: left;\">H</td><td style = \"text-align: left;\">M</td><td style = \"text-align: left;\">29</td><td style = \"text-align: left;\">0.9</td><td style = \"text-align: right;\">1</td><td style = \"text-align: left;\">Davis, Albert</td><td style = \"text-align: left;\">Black</td><td style = \"text-align: left;\">M</td><td style = \"text-align: left;\">23</td><td style = \"text-align: left;\">Hands/ASP</td><td style = \"text-align: left;\">Yes</td><td style = \"text-align: left;\">Yes</td><td style = \"text-align: left;\">No</td><td style = \"text-align: left;\">No</td><td style = \"text-align: left;\">http://www1.cityoforlando.net/opendatadocs/saoletters/15-291159.pdf</td><td style = \"text-align: left;\">POINT (-81.335092645 28.522822186)</td></tr><tr><td class = \"rowNumber\" style = \"font-weight: bold; text-align: right;\">10</td><td style = \"text-align: left;\">11-201994</td><td style = \"text-align: left;\">05/06/2011</td><td style = \"text-align: left;\">4900 Cason Cove</td><td style = \"text-align: left;\">Armed Robbery</td><td style = \"text-align: right;\">1</td><td style = \"text-align: left;\">Villaverde, Carlos</td><td style = \"text-align: left;\">W</td><td style = \"text-align: left;\">H</td><td style = \"text-align: left;\">M</td><td style = \"text-align: left;\">48</td><td style = \"text-align: left;\">4</td><td style = \"text-align: right;\">1</td><td style = \"text-align: left;\">Cull,Marcus</td><td style = \"text-align: left;\">Black</td><td style = \"text-align: left;\">M</td><td style = \"text-align: left;\">25</td><td style = \"text-align: left;\">Motor Vehicle</td><td style = \"text-align: left;\">Yes</td><td style = \"text-align: left;\">No</td><td style = \"text-align: left;\">No, No</td><td style = \"text-align: left;\">No, No</td><td style = \"text-align: left;\">http://www1.cityoforlando.net/opendatadocs/saoletters/11-201994.pdf</td><td style = \"text-align: left;\">POINT (-81.444618041 28.497712989)</td></tr><tr><td class = \"rowNumber\" style = \"font-weight: bold; text-align: right;\">11</td><td style = \"text-align: left;\">20-133070</td><td style = \"text-align: left;\">04/24/2020</td><td style = \"text-align: left;\">555 North John Young Parkway, Orlando, FL 32811</td><td style = \"text-align: left;\">Attempted Suicide</td><td style = \"text-align: right;\">1</td><td style = \"text-align: left;\">Ring, Matthew</td><td style = \"text-align: left;\">W</td><td style = \"text-align: left;\">n/a</td><td style = \"text-align: left;\">M</td><td style = \"text-align: left;\">36</td><td style = \"text-align: left;\">14</td><td style = \"text-align: right;\">1</td><td style = \"text-align: left;\">Hudak, Matthew</td><td style = \"text-align: left;\">White</td><td style = \"text-align: left;\">M</td><td style = \"text-align: left;\">27</td><td style = \"text-align: left;\">Knife</td><td style = \"text-align: left;\">Yes</td><td style = \"text-align: left;\">No</td><td style = \"text-align: left;\">No</td><td style = \"text-align: left;\">No</td><td style = \"text-align: left;\">https://www.orlando.gov/files/sharedassets/public/departments/public-safety/opd/open-data-docs/20_133070.pdf</td><td style = \"text-align: left;\">POINT (-81.412285018 28.547911997)</td></tr><tr><td class = \"rowNumber\" style = \"font-weight: bold; text-align: right;\">12</td><td style = \"text-align: left;\">16-439059</td><td style = \"text-align: left;\">10/30/2016</td><td style = \"text-align: left;\">819 Randall St</td><td style = \"text-align: left;\">Aggravated Battery</td><td style = \"text-align: right;\">1</td><td style = \"text-align: left;\">Ragsdale, Michael</td><td style = \"text-align: left;\">W</td><td style = \"text-align: left;\">N</td><td style = \"text-align: left;\">M</td><td style = \"text-align: left;\">28</td><td style = \"text-align: left;\">1</td><td style = \"text-align: right;\">1</td><td style = \"text-align: left;\">Forster, Armani Rashaud</td><td style = \"text-align: left;\">Black</td><td style = \"text-align: left;\">M</td><td style = \"text-align: left;\">20</td><td style = \"text-align: left;\">Handgun</td><td style = \"text-align: left;\">Yes</td><td style = \"text-align: left;\">No</td><td style = \"text-align: left;\">N0</td><td style = \"text-align: left;\">No</td><td style = \"text-align: left;\">http://www1.cityoforlando.net/opendatadocs/saoletters/16-270271.pdf</td><td style = \"text-align: left;\">POINT (-81.3912463 28.537139514)</td></tr><tr><td class = \"rowNumber\" style = \"font-weight: bold; text-align: right;\">13</td><td style = \"text-align: left;\">12-237596</td><td style = \"text-align: left;\">06/06/2012</td><td style = \"text-align: left;\">756 Bennett Rd.</td><td style = \"text-align: left;\">Battery</td><td style = \"text-align: right;\">1</td><td style = \"text-align: left;\">Ramos, Sergio</td><td style = \"text-align: left;\">W</td><td style = \"text-align: left;\">H</td><td style = \"text-align: left;\">M</td><td style = \"text-align: left;\">28</td><td style = \"text-align: left;\">4</td><td style = \"text-align: right;\">1</td><td style = \"text-align: left;\">Cox, Emily</td><td style = \"text-align: left;\">White</td><td style = \"text-align: left;\">F</td><td style = \"text-align: left;\">19</td><td style = \"text-align: left;\">Motor Vehicle</td><td style = \"text-align: left;\">Yes</td><td style = \"text-align: left;\">No</td><td style = \"text-align: left;\">No</td><td style = \"text-align: left;\">No</td><td style = \"text-align: left;\">http://www1.cityoforlando.net/opendatadocs/saoletters/12-237596.pdf</td><td style = \"text-align: left;\">POINT (-81.334557031 28.556153001)</td></tr><tr><td style = \"text-align: right;\">&vellip;</td><td style = \"text-align: right;\">&vellip;</td><td style = \"text-align: right;\">&vellip;</td><td style = \"text-align: right;\">&vellip;</td><td style = \"text-align: right;\">&vellip;</td><td style = \"text-align: right;\">&vellip;</td><td style = \"text-align: right;\">&vellip;</td><td style = \"text-align: right;\">&vellip;</td><td style = \"text-align: right;\">&vellip;</td><td style = \"text-align: right;\">&vellip;</td><td style = \"text-align: right;\">&vellip;</td><td style = \"text-align: right;\">&vellip;</td><td style = \"text-align: right;\">&vellip;</td><td style = \"text-align: right;\">&vellip;</td><td style = \"text-align: right;\">&vellip;</td><td style = \"text-align: right;\">&vellip;</td><td style = \"text-align: right;\">&vellip;</td><td style = \"text-align: right;\">&vellip;</td><td style = \"text-align: right;\">&vellip;</td><td style = \"text-align: right;\">&vellip;</td><td style = \"text-align: right;\">&vellip;</td><td style = \"text-align: right;\">&vellip;</td><td style = \"text-align: right;\">&vellip;</td><td style = \"text-align: right;\">&vellip;</td></tr><tr><td class = \"rowNumber\" style = \"font-weight: bold; text-align: right;\">67</td><td style = \"text-align: left;\">16-242039</td><td style = \"text-align: left;\">06/12/2016</td><td style = \"text-align: left;\">1912 S. Orange Ave</td><td style = \"text-align: left;\">Active Shooter</td><td style = \"text-align: right;\">11</td><td style = \"text-align: left;\">Napolitano, Michael, Gruler, Adam; Parker, James; Smith. Scott; Backhaus, Jeff; Rivas, Raul; Stanley, Tim; Easterling, Kevin; Bishop, Andrew; Bigelow, John; Duenas, Ricardo</td><td style = \"text-align: left;\">W,W, W, W, W, B, W, W, B, W, W</td><td style = \"text-align: left;\">N,N, N, N, N, H, N, N, N, N, H</td><td style = \"text-align: left;\">M, M, M, M, M, M, M, M, M, M, M</td><td style = \"text-align: left;\">29, 39, 48, 46, 34, 45, 47, 44, 47, 38, 31</td><td style = \"text-align: left;\">4, 14, 25, 23, 11, 23, 18, 21, 21, 14, 2</td><td style = \"text-align: right;\">1</td><td style = \"text-align: left;\">Mateen, Omar</td><td style = \"text-align: left;\">Other</td><td style = \"text-align: left;\">M</td><td style = \"text-align: left;\">29</td><td style = \"text-align: left;\">Rifle</td><td style = \"text-align: left;\">Yes</td><td style = \"text-align: left;\">Yes</td><td style = \"text-align: left;\">Yes, No, No, No, No, No, No, No,No, No, No</td><td style = \"text-align: left;\">No, No, No, No, No, No, No, No, No, No, No</td><td style = \"text-align: left;\">https://www1.cityoforlando.net/opendatadocs/saoletters/16-242039.pdf</td><td style = \"text-align: left;\">POINT (-81.37680702 28.519611004)</td></tr><tr><td class = \"rowNumber\" style = \"font-weight: bold; text-align: right;\">68</td><td style = \"text-align: left;\">23-246025</td><td style = \"text-align: left;\">07/03/2023</td><td style = \"text-align: left;\">E. Jefferson Street/N. Orange Avenue</td><td style = \"text-align: left;\">Suspicious Vehicle</td><td style = \"text-align: right;\">1</td><td style = \"text-align: left;\">Velez-Negron, Jose</td><td style = \"text-align: left;\">W</td><td style = \"text-align: left;\">H</td><td style = \"text-align: left;\">M</td><td style = \"text-align: left;\">40</td><td style = \"text-align: left;\">3</td><td style = \"text-align: right;\">1</td><td style = \"text-align: left;\">Diaz, Derek</td><td style = \"text-align: left;\">White</td><td style = \"text-align: left;\">M</td><td style = \"text-align: left;\">26</td><td style = \"text-align: left;\">No</td><td style = \"text-align: left;\">Yes</td><td style = \"text-align: left;\">Yes</td><td style = \"text-align: left;\">No</td><td style = \"text-align: left;\">No</td><td style = \"text-align: left;\">https://www.orlando.gov/files/sharedassets/public/v/1/departments/public-safety/opd/open-data-docs/23-246025.pdf</td><td style = \"text-align: left;\">POINT (-81.37916436 28.551353716)</td></tr><tr><td class = \"rowNumber\" style = \"font-weight: bold; text-align: right;\">69</td><td style = \"text-align: left;\">10-329547</td><td style = \"text-align: left;\">07/13/2010</td><td style = \"text-align: left;\">2185 Lake Debra Dr</td><td style = \"text-align: left;\">Attempted Suicide</td><td style = \"text-align: right;\">1</td><td style = \"text-align: left;\">Gowen, Carter</td><td style = \"text-align: left;\">W</td><td style = \"text-align: left;\">N</td><td style = \"text-align: left;\">M</td><td style = \"text-align: left;\">33</td><td style = \"text-align: left;\">9</td><td style = \"text-align: right;\">1</td><td style = \"text-align: left;\">Chenowith, Eric</td><td style = \"text-align: left;\">White</td><td style = \"text-align: left;\">M</td><td style = \"text-align: left;\">41</td><td style = \"text-align: left;\">Shotgun,Handgun</td><td style = \"text-align: left;\">Yes</td><td style = \"text-align: left;\">No</td><td style = \"text-align: left;\">No</td><td style = \"text-align: left;\">No</td><td style = \"text-align: left;\">http://www1.cityoforlando.net/opendatadocs/saoletters/10-329547.pdf</td><td style = \"text-align: left;\">POINT (-81.476621992 28.515039011)</td></tr><tr><td class = \"rowNumber\" style = \"font-weight: bold; text-align: right;\">70</td><td style = \"text-align: left;\">14-206741</td><td style = \"text-align: left;\">05/18/2014</td><td style = \"text-align: left;\">220 N. OBT</td><td style = \"text-align: left;\">Homicide</td><td style = \"text-align: right;\">1</td><td style = \"text-align: left;\">Schellhorn, Bobby</td><td style = \"text-align: left;\">W</td><td style = \"text-align: left;\">N</td><td style = \"text-align: left;\">M</td><td style = \"text-align: left;\">43</td><td style = \"text-align: left;\">9</td><td style = \"text-align: right;\">1</td><td style = \"text-align: left;\">Bently,Travaris</td><td style = \"text-align: left;\">Black</td><td style = \"text-align: left;\">M</td><td style = \"text-align: left;\">24</td><td style = \"text-align: left;\">Motor Vehicle,Handgun</td><td style = \"text-align: left;\">Yes</td><td style = \"text-align: left;\">No</td><td style = \"text-align: left;\">No</td><td style = \"text-align: left;\">No</td><td style = \"text-align: left;\">http://www1.cityoforlando.net/opendatadocs/saoletters/14-206741.pdf</td><td style = \"text-align: left;\">POINT (-81.397620962 28.544747996)</td></tr><tr><td class = \"rowNumber\" style = \"font-weight: bold; text-align: right;\">71</td><td style = \"text-align: left;\">14-500135</td><td style = \"text-align: left;\">12/04/2014</td><td style = \"text-align: left;\">1159 Soria Ct</td><td style = \"text-align: left;\">Burglary</td><td style = \"text-align: right;\">1</td><td style = \"text-align: left;\">Howard, Andre</td><td style = \"text-align: left;\">B</td><td style = \"text-align: left;\">N</td><td style = \"text-align: left;\">M</td><td style = \"text-align: left;\">44</td><td style = \"text-align: left;\">15</td><td style = \"text-align: right;\">1</td><td style = \"text-align: left;\">Cordero-Rivera, Alejandro</td><td style = \"text-align: left;\">White</td><td style = \"text-align: left;\">M</td><td style = \"text-align: left;\">32</td><td style = \"text-align: left;\">Handgun</td><td style = \"text-align: left;\">Yes</td><td style = \"text-align: left;\">Yes</td><td style = \"text-align: left;\">No</td><td style = \"text-align: left;\">No</td><td style = \"text-align: left;\">http://www1.cityoforlando.net/opendatadocs/saoletters/14-500135.pdf</td><td style = \"text-align: left;\">POINT (-81.307727984 28.529062019)</td></tr><tr><td class = \"rowNumber\" style = \"font-weight: bold; text-align: right;\">72</td><td style = \"text-align: left;\">11-257484</td><td style = \"text-align: left;\">06/10/2011</td><td style = \"text-align: left;\">400 S. Parramore</td><td style = \"text-align: left;\">Drug Violation</td><td style = \"text-align: right;\">1</td><td style = \"text-align: left;\">Ochiuzzo, Matt</td><td style = \"text-align: left;\">W</td><td style = \"text-align: left;\">N</td><td style = \"text-align: left;\">M</td><td style = \"text-align: left;\">28</td><td style = \"text-align: left;\">5</td><td style = \"text-align: right;\">1</td><td style = \"text-align: left;\">Fell,Ronnery</td><td style = \"text-align: left;\">Black</td><td style = \"text-align: left;\">M</td><td style = \"text-align: left;\">27</td><td style = \"text-align: left;\">Hands/reaching</td><td style = \"text-align: left;\">Yes</td><td style = \"text-align: left;\">No</td><td style = \"text-align: left;\">No</td><td style = \"text-align: left;\">No</td><td style = \"text-align: left;\">http://www1.cityoforlando.net/opendatadocs/saoletters/11-257484.pdf</td><td style = \"text-align: left;\">POINT (-81.389041531 28.538220076)</td></tr><tr><td class = \"rowNumber\" style = \"font-weight: bold; text-align: right;\">73</td><td style = \"text-align: left;\">17-406642</td><td style = \"text-align: left;\">10/16/2017</td><td style = \"text-align: left;\">5700 Block N. Orange Blossom Trail</td><td style = \"text-align: left;\">Suspicious Person</td><td style = \"text-align: right;\">1</td><td style = \"text-align: left;\">Ehlers, Christopher</td><td style = \"text-align: left;\">W</td><td style = \"text-align: left;\">N</td><td style = \"text-align: left;\">M</td><td style = \"text-align: left;\">31</td><td style = \"text-align: left;\">5</td><td style = \"text-align: right;\">1</td><td style = \"text-align: left;\">Hill, Dracarris Mandel</td><td style = \"text-align: left;\">Black</td><td style = \"text-align: left;\">M</td><td style = \"text-align: left;\">23</td><td style = \"text-align: left;\">Handgun</td><td style = \"text-align: left;\">Yes</td><td style = \"text-align: left;\">No</td><td style = \"text-align: left;\">No</td><td style = \"text-align: left;\">No</td><td style = \"text-align: left;\">http://www1.cityoforlando.net/opendatadocs/saoletters/17-00406642.pdf</td><td style = \"text-align: left;\">POINT (-81.429694969 28.611062074)</td></tr><tr><td class = \"rowNumber\" style = \"font-weight: bold; text-align: right;\">74</td><td style = \"text-align: left;\">18-228375</td><td style = \"text-align: left;\">06/10/2018</td><td style = \"text-align: left;\">4832 Eaglesmere Drive</td><td style = \"text-align: left;\">Battery</td><td style = \"text-align: right;\">1</td><td style = \"text-align: left;\">Gonzalez, Emanuel</td><td style = \"text-align: left;\">W</td><td style = \"text-align: left;\">H</td><td style = \"text-align: left;\">M</td><td style = \"text-align: left;\">30</td><td style = \"text-align: left;\">1</td><td style = \"text-align: right;\">1</td><td style = \"text-align: left;\">Lindsey, Gary</td><td style = \"text-align: left;\">White</td><td style = \"text-align: left;\">M</td><td style = \"text-align: left;\">35</td><td style = \"text-align: left;\">Handgun</td><td style = \"text-align: left;\">Undetermined</td><td style = \"text-align: left;\">Self-Inflicted</td><td style = \"text-align: left;\">No</td><td style = \"text-align: left;\">No</td><td style = \"text-align: left;\">https://www1.cityoforlando.net/opendatadocs/saoletters/18-228375.pdf</td><td style = \"text-align: left;\">POINT (-81.462643153 28.490099922)</td></tr><tr><td class = \"rowNumber\" style = \"font-weight: bold; text-align: right;\">75</td><td style = \"text-align: left;\">12-074536</td><td style = \"text-align: left;\">02/19/2012</td><td style = \"text-align: left;\">8425 Northlake Pkwy</td><td style = \"text-align: left;\">Homicide</td><td style = \"text-align: right;\">1</td><td style = \"text-align: left;\">Toler, Jimmie</td><td style = \"text-align: left;\">W</td><td style = \"text-align: left;\">N</td><td style = \"text-align: left;\">M</td><td style = \"text-align: left;\">29</td><td style = \"text-align: left;\">7</td><td style = \"text-align: right;\">1</td><td style = \"text-align: left;\">Banner,Elmer</td><td style = \"text-align: left;\">White</td><td style = \"text-align: left;\">M</td><td style = \"text-align: left;\">43</td><td style = \"text-align: left;\">Handgun</td><td style = \"text-align: left;\">Yes</td><td style = \"text-align: left;\">No</td><td style = \"text-align: left;\">No</td><td style = \"text-align: left;\">No</td><td style = \"text-align: left;\">http://www1.cityoforlando.net/opendatadocs/saoletters/12-074536.pdf</td><td style = \"text-align: left;\">POINT (-81.269478007 28.420598013)</td></tr><tr><td class = \"rowNumber\" style = \"font-weight: bold; text-align: right;\">76</td><td style = \"text-align: left;\">16-153523</td><td style = \"text-align: left;\">04/13/2016</td><td style = \"text-align: left;\">Bowen DR at Folkstone</td><td style = \"text-align: left;\">Battery</td><td style = \"text-align: right;\">1</td><td style = \"text-align: left;\">Ospina, Rafael</td><td style = \"text-align: left;\">W</td><td style = \"text-align: left;\">H</td><td style = \"text-align: left;\">M</td><td style = \"text-align: left;\">34</td><td style = \"text-align: left;\">8</td><td style = \"text-align: right;\">1</td><td style = \"text-align: left;\">Robles, Jason</td><td style = \"text-align: left;\">White</td><td style = \"text-align: left;\">M</td><td style = \"text-align: left;\">22</td><td style = \"text-align: left;\">Handgun</td><td style = \"text-align: left;\">Yes</td><td style = \"text-align: left;\">No</td><td style = \"text-align: left;\">No</td><td style = \"text-align: left;\">No</td><td style = \"text-align: left;\">http://www1.cityoforlando.net/opendatadocs/saoletters/2016-153523.pdf</td><td style = \"text-align: left;\">POINT (-81.306244974 28.518123007)</td></tr><tr><td class = \"rowNumber\" style = \"font-weight: bold; text-align: right;\">77</td><td style = \"text-align: left;\">23-355012</td><td style = \"text-align: left;\">09/26/2023</td><td style = \"text-align: left;\">Carter Street and South Parramore Avenue</td><td style = \"text-align: left;\">Unknown Trouble/Person Robbery</td><td style = \"text-align: right;\">2</td><td style = \"text-align: left;\">Estrada, Phillip and Acevedo, Walberto</td><td style = \"text-align: left;\">W, W</td><td style = \"text-align: left;\">H</td><td style = \"text-align: left;\">M, M</td><td style = \"text-align: left;\">26, 34</td><td style = \"text-align: left;\">2, 4</td><td style = \"text-align: right;\">1</td><td style = \"text-align: left;\">Unknown</td><td style = \"text-align: left;\">Black</td><td style = \"text-align: left;\">M</td><td style = \"text-align: left;\">Unknown</td><td style = \"text-align: left;\">Firearm</td><td style = \"text-align: left;\">Unknown</td><td style = \"text-align: left;\">No</td><td style = \"text-align: left;\">No</td><td style = \"text-align: left;\">No</td><td style = \"text-align: left;\">https://www.orlando.gov/files/sharedassets/public/v/1/departments/public-safety/opd/open-data-docs/23-355012.pdf</td><td style = \"text-align: left;\">POINT (-81.388922977 28.534726006)</td></tr><tr><td class = \"rowNumber\" style = \"font-weight: bold; text-align: right;\">78</td><td style = \"text-align: left;\">09-308652</td><td style = \"text-align: left;\">07/01/2009</td><td style = \"text-align: left;\">1905 Lee Road</td><td style = \"text-align: left;\">Aggravated Assault</td><td style = \"text-align: right;\">1</td><td style = \"text-align: left;\">Michael, Edward</td><td style = \"text-align: left;\">W</td><td style = \"text-align: left;\">N</td><td style = \"text-align: left;\">M</td><td style = \"text-align: left;\">33</td><td style = \"text-align: left;\">8</td><td style = \"text-align: right;\">1</td><td style = \"text-align: left;\">Unknown</td><td style = \"text-align: left;\">Unk</td><td style = \"text-align: left;\">Unk</td><td style = \"text-align: left;\">Unk</td><td style = \"text-align: left;\">Handgun</td><td style = \"text-align: left;\">No</td><td style = \"text-align: left;\">No</td><td style = \"text-align: left;\">No</td><td style = \"text-align: left;\">No</td><td style = \"text-align: left;\">http://www1.cityoforlando.net/opendatadocs/saoletters/09-308652.pdf</td><td style = \"text-align: left;\">POINT (-81.413406013 28.601738987)</td></tr></tbody></table></div>"
      ],
      "text/latex": [
       "\\begin{tabular}{r|ccccc}\n",
       "\t& Case \\# & Date & Address & Incident Type & \\\\\n",
       "\t\\hline\n",
       "\t& String15 & String15 & String & String & \\\\\n",
       "\t\\hline\n",
       "\t1 & 22-174307 & 05/18/2022 & Mercy Drive and W.D. Judge Drive & Vehicle Stop & $\\dots$ \\\\\n",
       "\t2 & 18-448868 & 11/21/2018 & 9938 Universal Boulevard & Stolen Vehicle & $\\dots$ \\\\\n",
       "\t3 & 18-219116 & 06/04/2018 & 4629 Cason Cove Drive & Attempted Suicide & $\\dots$ \\\\\n",
       "\t4 & 20-397311 & 12/16/2020 & 5434 Baldwin Park Street, Unit 101 & Domestic Disturbance & $\\dots$ \\\\\n",
       "\t5 & 10-503738 & 10/26/2010 & Hiawassee \\& SR 50 & Armed Robbery & $\\dots$ \\\\\n",
       "\t6 & 13-022948 & 01/16/2013 & 1327 Arlington St & Drug Violation & $\\dots$ \\\\\n",
       "\t7 & 16-021812 & 01/16/2016 & 5400 North Lane & Traffic Stop & $\\dots$ \\\\\n",
       "\t8 & 14-086291 & 02/24/2014 & 595 W. Church St & Stalking & $\\dots$ \\\\\n",
       "\t9 & 15-291159 & 07/17/2015 & 1657 Watauga Way & Suspicious Person & $\\dots$ \\\\\n",
       "\t10 & 11-201994 & 05/06/2011 & 4900 Cason Cove & Armed Robbery & $\\dots$ \\\\\n",
       "\t11 & 20-133070 & 04/24/2020 & 555 North John Young Parkway, Orlando, FL 32811 & Attempted Suicide & $\\dots$ \\\\\n",
       "\t12 & 16-439059 & 10/30/2016 & 819 Randall St & Aggravated Battery & $\\dots$ \\\\\n",
       "\t13 & 12-237596 & 06/06/2012 & 756 Bennett Rd. & Battery & $\\dots$ \\\\\n",
       "\t14 & 10-437014 & 09/15/2010 & Lee Vista \\& SR 417 & Street Racing & $\\dots$ \\\\\n",
       "\t15 & 15-050643 & 02/04/2015 & 4326 Pershing Place & Shots fired & $\\dots$ \\\\\n",
       "\t16 & 09-559387 & 11/25/2009 & 1621 E Livingston & Barricaded Subject & $\\dots$ \\\\\n",
       "\t17 & 18-414226 & 10/26/2018 & 3936 W D Judge Drive & Violent Mentally Ill Person & $\\dots$ \\\\\n",
       "\t18 & 21-437603 & 12/29/2021 & 1338 S. Hiawassee Rd, Orlando 32835 & Suspicious Incident & $\\dots$ \\\\\n",
       "\t19 & 18-180878 & 05/07/2018 & 2642 E. Colonial Dr & Shoplifiting & $\\dots$ \\\\\n",
       "\t20 & 10-000324 & 01/01/2010 & 390 N Orange & Atempted Murder & $\\dots$ \\\\\n",
       "\t21 & 15-055695 & 02/08/2015 & 5688 International Dr & Shots fired & $\\dots$ \\\\\n",
       "\t22 & 13-495877 & 11/25/2013 & Thorpe/Wentwood & Traffic Stop & $\\dots$ \\\\\n",
       "\t23 & 21-314598 & 09/21/2021 & South Lakeland Avenue and Jacobs Place & Suspicious Persons & $\\dots$ \\\\\n",
       "\t24 & 16-246131 & 06/15/2016 & Millenia Blvd / Conroy Road & Vehicle Burglary & $\\dots$ \\\\\n",
       "\t$\\dots$ & $\\dots$ & $\\dots$ & $\\dots$ & $\\dots$ &  \\\\\n",
       "\\end{tabular}\n"
      ],
      "text/plain": [
       "\u001b[1m78×23 DataFrame\u001b[0m\n",
       "\u001b[1m Row \u001b[0m│\u001b[1m Case #    \u001b[0m\u001b[1m Date       \u001b[0m\u001b[1m Address                           \u001b[0m\u001b[1m Incident Type\u001b[0m ⋯\n",
       "     │\u001b[90m String15  \u001b[0m\u001b[90m String15   \u001b[0m\u001b[90m String                            \u001b[0m\u001b[90m String       \u001b[0m ⋯\n",
       "─────┼──────────────────────────────────────────────────────────────────────────\n",
       "   1 │ 22-174307  05/18/2022  Mercy Drive and W.D. Judge Drive   Vehicle Stop  ⋯\n",
       "   2 │ 18-448868  11/21/2018  9938 Universal Boulevard           Stolen Vehicl\n",
       "   3 │ 18-219116  06/04/2018  4629 Cason Cove Drive              Attempted Sui\n",
       "   4 │ 20-397311  12/16/2020  5434 Baldwin Park Street, Unit 1…  Domestic Dist\n",
       "   5 │ 10-503738  10/26/2010  Hiawassee & SR 50                  Armed Robbery ⋯\n",
       "   6 │ 13-022948  01/16/2013  1327 Arlington St                  Drug Violatio\n",
       "   7 │ 16-021812  01/16/2016  5400 North Lane                    Traffic Stop\n",
       "   8 │ 14-086291  02/24/2014  595 W. Church St                   Stalking\n",
       "  ⋮  │     ⋮          ⋮                       ⋮                                ⋱\n",
       "  72 │ 11-257484  06/10/2011  400 S. Parramore                   Drug Violatio ⋯\n",
       "  73 │ 17-406642  10/16/2017  5700 Block N. Orange Blossom Tra…  Suspicious Pe\n",
       "  74 │ 18-228375  06/10/2018  4832 Eaglesmere Drive              Battery\n",
       "  75 │ 12-074536  02/19/2012  8425 Northlake Pkwy                Homicide\n",
       "  76 │ 16-153523  04/13/2016  Bowen DR at Folkstone              Battery       ⋯\n",
       "  77 │ 23-355012  09/26/2023  Carter Street and South Parramor…  Unknown Troub\n",
       "  78 │ 09-308652  07/01/2009  1905 Lee Road                      Aggravated As\n",
       "\u001b[36m                                                  20 columns and 63 rows omitted\u001b[0m"
      ]
     },
     "metadata": {},
     "output_type": "display_data"
    }
   ],
   "source": [
    "# load and analyze data\n",
    "data = CSV.read(\"Data/OPD_Officer-Involved_Shootings_20241125.csv\", DataFrame)"
   ]
  },
  {
   "cell_type": "code",
   "execution_count": 4,
   "metadata": {},
   "outputs": [
    {
     "data": {
      "text/plain": [
       "convert_to_tuple (generic function with 1 method)"
      ]
     },
     "metadata": {},
     "output_type": "display_data"
    }
   ],
   "source": [
    "# Function to convert Georeferenced Columm to Tuple \n",
    "\n",
    "function convert_to_tuple(str)\n",
    "    test = str[7:end]\n",
    "    test = strip(test, ['(',')'])\n",
    "    test = split(test, ' ')\n",
    "\n",
    "    return  (parse(Float64,test[1]), parse(Float64,test[2]))\n",
    "\n",
    "end"
   ]
  },
  {
   "cell_type": "code",
   "execution_count": 5,
   "metadata": {},
   "outputs": [
    {
     "data": {
      "text/plain": [
       "78-element Vector{Tuple{Float64, Float64}}:\n",
       " (-81.430522027, 28.559823981)\n",
       " (-81.444407991, 28.426330019)\n",
       " (-81.436934015, 28.497201986)\n",
       " (-81.31615297, 28.574676001)\n",
       " (-81.475974825, 28.552001109)\n",
       " (-81.398586976, 28.552194982)\n",
       " (-81.454123826, 28.596308986)\n",
       " (-81.386192991, 28.540632985)\n",
       " (-81.335092645, 28.522822186)\n",
       " (-81.444618041, 28.497712989)\n",
       " ⋮\n",
       " (-81.397620962, 28.544747996)\n",
       " (-81.307727984, 28.529062019)\n",
       " (-81.389041531, 28.538220076)\n",
       " (-81.429694969, 28.611062074)\n",
       " (-81.462643153, 28.490099922)\n",
       " (-81.269478007, 28.420598013)\n",
       " (-81.306244974, 28.518123007)\n",
       " (-81.388922977, 28.534726006)\n",
       " (-81.413406013, 28.601738987)"
      ]
     },
     "metadata": {},
     "output_type": "display_data"
    }
   ],
   "source": [
    "#Algorithms used\n",
    "location = convert_to_tuple.(data[: , \"Georeferenced Column\"])"
   ]
  },
  {
   "cell_type": "code",
   "execution_count": 6,
   "metadata": {},
   "outputs": [
    {
     "data": {
      "text/plain": [
       "((-81.444407991, 28.426330019), (-81.430522027, 28.559823981))"
      ]
     },
     "metadata": {},
     "output_type": "display_data"
    }
   ],
   "source": [
    "minmax(location[1], location[2])"
   ]
  },
  {
   "cell_type": "code",
   "execution_count": 7,
   "metadata": {},
   "outputs": [
    {
     "data": {
      "text/plain": [
       "(78, 23)"
      ]
     },
     "metadata": {},
     "output_type": "display_data"
    }
   ],
   "source": [
    "size(data)"
   ]
  },
  {
   "cell_type": "code",
   "execution_count": 8,
   "metadata": {},
   "outputs": [
    {
     "data": {
      "text/html": [
       "<div><div style = \"float: left;\"><span>5×2 DataFrame</span></div><div style = \"clear: both;\"></div></div><div class = \"data-frame\" style = \"overflow-x: scroll;\"><table class = \"data-frame\" style = \"margin-bottom: 6px;\"><thead><tr class = \"header\"><th class = \"rowNumber\" style = \"font-weight: bold; text-align: right;\">Row</th><th style = \"text-align: left;\">Suspect Gender</th><th style = \"text-align: left;\">count</th></tr><tr class = \"subheader headerLastRow\"><th class = \"rowNumber\" style = \"font-weight: bold; text-align: right;\"></th><th title = \"String7\" style = \"text-align: left;\">String7</th><th title = \"Int64\" style = \"text-align: left;\">Int64</th></tr></thead><tbody><tr><td class = \"rowNumber\" style = \"font-weight: bold; text-align: right;\">1</td><td style = \"text-align: left;\">M</td><td style = \"text-align: right;\">68</td></tr><tr><td class = \"rowNumber\" style = \"font-weight: bold; text-align: right;\">2</td><td style = \"text-align: left;\">F</td><td style = \"text-align: right;\">4</td></tr><tr><td class = \"rowNumber\" style = \"font-weight: bold; text-align: right;\">3</td><td style = \"text-align: left;\">M, M</td><td style = \"text-align: right;\">4</td></tr><tr><td class = \"rowNumber\" style = \"font-weight: bold; text-align: right;\">4</td><td style = \"text-align: left;\">M, M, M</td><td style = \"text-align: right;\">1</td></tr><tr><td class = \"rowNumber\" style = \"font-weight: bold; text-align: right;\">5</td><td style = \"text-align: left;\">Unk</td><td style = \"text-align: right;\">1</td></tr></tbody></table></div>"
      ],
      "text/latex": [
       "\\begin{tabular}{r|cc}\n",
       "\t& Suspect Gender & count\\\\\n",
       "\t\\hline\n",
       "\t& String7 & Int64\\\\\n",
       "\t\\hline\n",
       "\t1 & M & 68 \\\\\n",
       "\t2 & F & 4 \\\\\n",
       "\t3 & M, M & 4 \\\\\n",
       "\t4 & M, M, M & 1 \\\\\n",
       "\t5 & Unk & 1 \\\\\n",
       "\\end{tabular}\n"
      ],
      "text/plain": [
       "\u001b[1m5×2 DataFrame\u001b[0m\n",
       "\u001b[1m Row \u001b[0m│\u001b[1m Suspect Gender \u001b[0m\u001b[1m count \u001b[0m\n",
       "     │\u001b[90m String7        \u001b[0m\u001b[90m Int64 \u001b[0m\n",
       "─────┼───────────────────────\n",
       "   1 │ M                  68\n",
       "   2 │ F                   4\n",
       "   3 │ M, M                4\n",
       "   4 │ M, M, M             1\n",
       "   5 │ Unk                 1"
      ]
     },
     "metadata": {},
     "output_type": "display_data"
    }
   ],
   "source": [
    "suspect_gender_cnt = combine(groupby(data,:\"Suspect Gender\"),nrow => :count)"
   ]
  },
  {
   "cell_type": "code",
   "execution_count": 9,
   "metadata": {},
   "outputs": [],
   "source": []
  },
  {
   "cell_type": "code",
   "execution_count": 10,
   "metadata": {},
   "outputs": [],
   "source": [
    "\n"
   ]
  },
  {
   "cell_type": "code",
   "execution_count": 11,
   "metadata": {},
   "outputs": [
    {
     "data": {
      "text/html": [
       "<div><div style = \"float: left;\"><span>17×2 DataFrame</span></div><div style = \"clear: both;\"></div></div><div class = \"data-frame\" style = \"overflow-x: scroll;\"><table class = \"data-frame\" style = \"margin-bottom: 6px;\"><thead><tr class = \"header\"><th class = \"rowNumber\" style = \"font-weight: bold; text-align: right;\">Row</th><th style = \"text-align: left;\">Suspect&apos;s Weapon</th><th style = \"text-align: left;\">count</th></tr><tr class = \"subheader headerLastRow\"><th class = \"rowNumber\" style = \"font-weight: bold; text-align: right;\"></th><th title = \"String31\" style = \"text-align: left;\">String31</th><th title = \"Int64\" style = \"text-align: left;\">Int64</th></tr></thead><tbody><tr><td class = \"rowNumber\" style = \"font-weight: bold; text-align: right;\">1</td><td style = \"text-align: left;\">Handgun</td><td style = \"text-align: right;\">40</td></tr><tr><td class = \"rowNumber\" style = \"font-weight: bold; text-align: right;\">2</td><td style = \"text-align: left;\">Motor Vehicle</td><td style = \"text-align: right;\">15</td></tr><tr><td class = \"rowNumber\" style = \"font-weight: bold; text-align: right;\">3</td><td style = \"text-align: left;\">Hands/ASP</td><td style = \"text-align: right;\">1</td></tr><tr><td class = \"rowNumber\" style = \"font-weight: bold; text-align: right;\">4</td><td style = \"text-align: left;\">Knife</td><td style = \"text-align: right;\">2</td></tr><tr><td class = \"rowNumber\" style = \"font-weight: bold; text-align: right;\">5</td><td style = \"text-align: left;\">No</td><td style = \"text-align: right;\">3</td></tr><tr><td class = \"rowNumber\" style = \"font-weight: bold; text-align: right;\">6</td><td style = \"text-align: left;\">Firearm, Firearm, Unknown</td><td style = \"text-align: right;\">1</td></tr><tr><td class = \"rowNumber\" style = \"font-weight: bold; text-align: right;\">7</td><td style = \"text-align: left;\">Handgun, None</td><td style = \"text-align: right;\">1</td></tr><tr><td class = \"rowNumber\" style = \"font-weight: bold; text-align: right;\">8</td><td style = \"text-align: left;\">Yes</td><td style = \"text-align: right;\">1</td></tr><tr><td class = \"rowNumber\" style = \"font-weight: bold; text-align: right;\">9</td><td style = \"text-align: left;\">Firearm</td><td style = \"text-align: right;\">4</td></tr><tr><td class = \"rowNumber\" style = \"font-weight: bold; text-align: right;\">10</td><td style = \"text-align: left;\">Baseball Bat</td><td style = \"text-align: right;\">1</td></tr><tr><td class = \"rowNumber\" style = \"font-weight: bold; text-align: right;\">11</td><td style = \"text-align: left;\">Hands/reaching</td><td style = \"text-align: right;\">3</td></tr><tr><td class = \"rowNumber\" style = \"font-weight: bold; text-align: right;\">12</td><td style = \"text-align: left;\">Knife (2)</td><td style = \"text-align: right;\">1</td></tr><tr><td class = \"rowNumber\" style = \"font-weight: bold; text-align: right;\">13</td><td style = \"text-align: left;\">Handgun (2)</td><td style = \"text-align: right;\">1</td></tr><tr><td class = \"rowNumber\" style = \"font-weight: bold; text-align: right;\">14</td><td style = \"text-align: left;\">Handgun (BB)</td><td style = \"text-align: right;\">1</td></tr><tr><td class = \"rowNumber\" style = \"font-weight: bold; text-align: right;\">15</td><td style = \"text-align: left;\">Rifle</td><td style = \"text-align: right;\">1</td></tr><tr><td class = \"rowNumber\" style = \"font-weight: bold; text-align: right;\">16</td><td style = \"text-align: left;\">Shotgun,Handgun</td><td style = \"text-align: right;\">1</td></tr><tr><td class = \"rowNumber\" style = \"font-weight: bold; text-align: right;\">17</td><td style = \"text-align: left;\">Motor Vehicle,Handgun</td><td style = \"text-align: right;\">1</td></tr></tbody></table></div>"
      ],
      "text/latex": [
       "\\begin{tabular}{r|cc}\n",
       "\t& Suspect's Weapon & count\\\\\n",
       "\t\\hline\n",
       "\t& String31 & Int64\\\\\n",
       "\t\\hline\n",
       "\t1 & Handgun & 40 \\\\\n",
       "\t2 & Motor Vehicle & 15 \\\\\n",
       "\t3 & Hands/ASP & 1 \\\\\n",
       "\t4 & Knife & 2 \\\\\n",
       "\t5 & No & 3 \\\\\n",
       "\t6 & Firearm, Firearm, Unknown & 1 \\\\\n",
       "\t7 & Handgun, None & 1 \\\\\n",
       "\t8 & Yes & 1 \\\\\n",
       "\t9 & Firearm & 4 \\\\\n",
       "\t10 & Baseball Bat & 1 \\\\\n",
       "\t11 & Hands/reaching & 3 \\\\\n",
       "\t12 & Knife (2) & 1 \\\\\n",
       "\t13 & Handgun (2) & 1 \\\\\n",
       "\t14 & Handgun (BB) & 1 \\\\\n",
       "\t15 & Rifle & 1 \\\\\n",
       "\t16 & Shotgun,Handgun & 1 \\\\\n",
       "\t17 & Motor Vehicle,Handgun & 1 \\\\\n",
       "\\end{tabular}\n"
      ],
      "text/plain": [
       "\u001b[1m17×2 DataFrame\u001b[0m\n",
       "\u001b[1m Row \u001b[0m│\u001b[1m Suspect's Weapon          \u001b[0m\u001b[1m count \u001b[0m\n",
       "     │\u001b[90m String31                  \u001b[0m\u001b[90m Int64 \u001b[0m\n",
       "─────┼──────────────────────────────────\n",
       "   1 │ Handgun                       40\n",
       "   2 │ Motor Vehicle                 15\n",
       "   3 │ Hands/ASP                      1\n",
       "   4 │ Knife                          2\n",
       "   5 │ No                             3\n",
       "   6 │ Firearm, Firearm, Unknown      1\n",
       "   7 │ Handgun, None                  1\n",
       "   8 │ Yes                            1\n",
       "   9 │ Firearm                        4\n",
       "  10 │ Baseball Bat                   1\n",
       "  11 │ Hands/reaching                 3\n",
       "  12 │ Knife (2)                      1\n",
       "  13 │ Handgun (2)                    1\n",
       "  14 │ Handgun (BB)                   1\n",
       "  15 │ Rifle                          1\n",
       "  16 │ Shotgun,Handgun                1\n",
       "  17 │ Motor Vehicle,Handgun          1"
      ]
     },
     "metadata": {},
     "output_type": "display_data"
    }
   ],
   "source": [
    "suspects_weapon_cnt = combine(groupby(data,:\"Suspect's Weapon\"),nrow => :count)"
   ]
  },
  {
   "cell_type": "code",
   "execution_count": 12,
   "metadata": {},
   "outputs": [
    {
     "data": {
      "text/html": [
       "<div><div style = \"float: left;\"><span>78×24 DataFrame</span></div><div style = \"float: right;\"><span style = \"font-style: italic;\">53 rows omitted</span></div><div style = \"clear: both;\"></div></div><div class = \"data-frame\" style = \"overflow-x: scroll;\"><table class = \"data-frame\" style = \"margin-bottom: 6px;\"><thead><tr class = \"header\"><th class = \"rowNumber\" style = \"font-weight: bold; text-align: right;\">Row</th><th style = \"text-align: left;\">Case #</th><th style = \"text-align: left;\">Date</th><th style = \"text-align: left;\">Address</th><th style = \"text-align: left;\">Incident Type</th><th style = \"text-align: left;\">Number of Officers Involved</th><th style = \"text-align: left;\">Officer Name</th><th style = \"text-align: left;\">Officer Race</th><th style = \"text-align: left;\">Ethnicity</th><th style = \"text-align: left;\">Officer Gender</th><th style = \"text-align: left;\">Officer Age</th><th style = \"text-align: left;\">Officer Tenure</th><th style = \"text-align: left;\">Number of Suspects Involved</th><th style = \"text-align: left;\">Suspect Name</th><th style = \"text-align: left;\">Suspect Race</th><th style = \"text-align: left;\">Suspect Gender</th><th style = \"text-align: left;\">Suspect Age</th><th style = \"text-align: left;\">Suspect&apos;s Weapon</th><th style = \"text-align: left;\">Suspect Hit</th><th style = \"text-align: left;\">Fatal</th><th style = \"text-align: left;\">Officer Hit</th><th style = \"text-align: left;\">Fatal (Officer)</th><th style = \"text-align: left;\">Review Letter</th><th style = \"text-align: left;\">Georeferenced Column</th><th style = \"text-align: left;\">weap_cat</th></tr><tr class = \"subheader headerLastRow\"><th class = \"rowNumber\" style = \"font-weight: bold; text-align: right;\"></th><th title = \"String15\" style = \"text-align: left;\">String15</th><th title = \"String15\" style = \"text-align: left;\">String15</th><th title = \"String\" style = \"text-align: left;\">String</th><th title = \"String\" style = \"text-align: left;\">String</th><th title = \"Union{Missing, Int64}\" style = \"text-align: left;\">Int64?</th><th title = \"Union{Missing, String}\" style = \"text-align: left;\">String?</th><th title = \"Union{Missing, String}\" style = \"text-align: left;\">String?</th><th title = \"Union{Missing, String31}\" style = \"text-align: left;\">String31?</th><th title = \"String31\" style = \"text-align: left;\">String31</th><th title = \"String\" style = \"text-align: left;\">String</th><th title = \"String\" style = \"text-align: left;\">String</th><th title = \"Int64\" style = \"text-align: left;\">Int64</th><th title = \"String\" style = \"text-align: left;\">String</th><th title = \"String31\" style = \"text-align: left;\">String31</th><th title = \"String7\" style = \"text-align: left;\">String7</th><th title = \"String15\" style = \"text-align: left;\">String15</th><th title = \"String31\" style = \"text-align: left;\">String31</th><th title = \"String15\" style = \"text-align: left;\">String15</th><th title = \"String15\" style = \"text-align: left;\">String15</th><th title = \"String\" style = \"text-align: left;\">String</th><th title = \"String\" style = \"text-align: left;\">String</th><th title = \"Union{Missing, String}\" style = \"text-align: left;\">String?</th><th title = \"String\" style = \"text-align: left;\">String</th><th title = \"String\" style = \"text-align: left;\">String</th></tr></thead><tbody><tr><td class = \"rowNumber\" style = \"font-weight: bold; text-align: right;\">1</td><td style = \"text-align: left;\">22-174307</td><td style = \"text-align: left;\">05/18/2022</td><td style = \"text-align: left;\">Mercy Drive and W.D. Judge Drive</td><td style = \"text-align: left;\">Vehicle Stop</td><td style = \"text-align: right;\">2</td><td style = \"text-align: left;\">Marsy&apos;s Law Exempt</td><td style = \"text-align: left;\">White/White</td><td style = \"font-style: italic; text-align: left;\">missing</td><td style = \"text-align: left;\">M,F</td><td style = \"text-align: left;\">Marsy&apos;s Law Exempt</td><td style = \"text-align: left;\">Marsy&apos;s Law Exempt</td><td style = \"text-align: right;\">1</td><td style = \"text-align: left;\">Carlos Delano Dafill Roberts Jr.</td><td style = \"text-align: left;\">Black</td><td style = \"text-align: left;\">M</td><td style = \"text-align: left;\">29</td><td style = \"text-align: left;\">Handgun</td><td style = \"text-align: left;\">Yes</td><td style = \"text-align: left;\">No</td><td style = \"text-align: left;\">No, No</td><td style = \"text-align: left;\">No, No</td><td style = \"text-align: left;\">https://www.orlando.gov/files/sharedassets/public/v/1/departments/public-safety/opd/open-data-docs/22-174307.pdf</td><td style = \"text-align: left;\">POINT (-81.430522027 28.559823981)</td><td style = \"text-align: left;\">Gun</td></tr><tr><td class = \"rowNumber\" style = \"font-weight: bold; text-align: right;\">2</td><td style = \"text-align: left;\">18-448868</td><td style = \"text-align: left;\">11/21/2018</td><td style = \"text-align: left;\">9938 Universal Boulevard</td><td style = \"text-align: left;\">Stolen Vehicle</td><td style = \"text-align: right;\">1</td><td style = \"text-align: left;\">Chase, Alex</td><td style = \"text-align: left;\">W</td><td style = \"text-align: left;\">N</td><td style = \"text-align: left;\">M</td><td style = \"text-align: left;\">35</td><td style = \"text-align: left;\">11</td><td style = \"text-align: right;\">1</td><td style = \"text-align: left;\">Martinez Gonzalez, Joselito</td><td style = \"text-align: left;\">White</td><td style = \"text-align: left;\">M</td><td style = \"text-align: left;\">30</td><td style = \"text-align: left;\">Motor Vehicle</td><td style = \"text-align: left;\">Yes</td><td style = \"text-align: left;\">No</td><td style = \"text-align: left;\">No</td><td style = \"text-align: left;\">No</td><td style = \"text-align: left;\">https://www1.cityoforlando.net/opendatadocs/saoletters/18-448869.pdf</td><td style = \"text-align: left;\">POINT (-81.444407991 28.426330019)</td><td style = \"text-align: left;\">No Weapon</td></tr><tr><td class = \"rowNumber\" style = \"font-weight: bold; text-align: right;\">3</td><td style = \"text-align: left;\">18-219116</td><td style = \"text-align: left;\">06/04/2018</td><td style = \"text-align: left;\">4629 Cason Cove Drive</td><td style = \"text-align: left;\">Attempted Suicide</td><td style = \"text-align: right;\">1</td><td style = \"text-align: left;\">Sayer,Ryan</td><td style = \"text-align: left;\">W</td><td style = \"text-align: left;\">N</td><td style = \"text-align: left;\">M</td><td style = \"text-align: left;\">25</td><td style = \"text-align: left;\">2</td><td style = \"text-align: right;\">1</td><td style = \"text-align: left;\">White, Pamel</td><td style = \"text-align: left;\">Black</td><td style = \"text-align: left;\">F</td><td style = \"text-align: left;\">63</td><td style = \"text-align: left;\">Handgun</td><td style = \"text-align: left;\">No</td><td style = \"text-align: left;\">No</td><td style = \"text-align: left;\">No</td><td style = \"text-align: left;\">No</td><td style = \"text-align: left;\">https://www1.cityoforlando.net/opendatadocs/saoletters/18-219116.pdf</td><td style = \"text-align: left;\">POINT (-81.436934015 28.497201986)</td><td style = \"text-align: left;\">Gun</td></tr><tr><td class = \"rowNumber\" style = \"font-weight: bold; text-align: right;\">4</td><td style = \"text-align: left;\">20-397311</td><td style = \"text-align: left;\">12/16/2020</td><td style = \"text-align: left;\">5434 Baldwin Park Street, Unit 101</td><td style = \"text-align: left;\">Domestic Disturbance</td><td style = \"text-align: right;\">1</td><td style = \"font-style: italic; text-align: left;\">missing</td><td style = \"text-align: left;\">W</td><td style = \"font-style: italic; text-align: left;\">missing</td><td style = \"text-align: left;\">M</td><td style = \"text-align: left;\">40</td><td style = \"text-align: left;\">14</td><td style = \"text-align: right;\">1</td><td style = \"text-align: left;\">Robertson, Adam</td><td style = \"text-align: left;\">White</td><td style = \"text-align: left;\">M</td><td style = \"text-align: left;\">34</td><td style = \"text-align: left;\">Handgun</td><td style = \"text-align: left;\">Yes</td><td style = \"text-align: left;\">Yes</td><td style = \"text-align: left;\">No</td><td style = \"text-align: left;\">No</td><td style = \"text-align: left;\">https://www.orlando.gov/files/sharedassets/public/departments/public-safety/opd/open-data-docs/ois_sao_zambito_ir-20-75.pdf</td><td style = \"text-align: left;\">POINT (-81.31615297 28.574676001)</td><td style = \"text-align: left;\">Gun</td></tr><tr><td class = \"rowNumber\" style = \"font-weight: bold; text-align: right;\">5</td><td style = \"text-align: left;\">10-503738</td><td style = \"text-align: left;\">10/26/2010</td><td style = \"text-align: left;\">Hiawassee &amp; SR 50</td><td style = \"text-align: left;\">Armed Robbery</td><td style = \"text-align: right;\">3</td><td style = \"text-align: left;\">Hinkles, Cedrick; Herb, Todd; Fischer, Bryan</td><td style = \"text-align: left;\">B, W, W</td><td style = \"text-align: left;\">N, N, N</td><td style = \"text-align: left;\">M, M, M</td><td style = \"text-align: left;\">30, 38, 37</td><td style = \"text-align: left;\">6, 13, 4</td><td style = \"text-align: right;\">1</td><td style = \"text-align: left;\">Soman, Acrifa</td><td style = \"text-align: left;\">Black</td><td style = \"text-align: left;\">M</td><td style = \"text-align: left;\">21</td><td style = \"text-align: left;\">Handgun</td><td style = \"text-align: left;\">Yes</td><td style = \"text-align: left;\">Yes</td><td style = \"text-align: left;\">No, No, No</td><td style = \"text-align: left;\">No, No, No</td><td style = \"text-align: left;\">http://www1.cityoforlando.net/opendatadocs/saoletters/10-503738.pdf</td><td style = \"text-align: left;\">POINT (-81.475974825 28.552001109)</td><td style = \"text-align: left;\">Gun</td></tr><tr><td class = \"rowNumber\" style = \"font-weight: bold; text-align: right;\">6</td><td style = \"text-align: left;\">13-022948</td><td style = \"text-align: left;\">01/16/2013</td><td style = \"text-align: left;\">1327 Arlington St</td><td style = \"text-align: left;\">Drug Violation</td><td style = \"text-align: right;\">2</td><td style = \"text-align: left;\">Mongeluzzo, Anthony; Bigelow, Chris</td><td style = \"text-align: left;\">W, W</td><td style = \"text-align: left;\">N, N</td><td style = \"text-align: left;\">M, M</td><td style = \"text-align: left;\">34, 29</td><td style = \"text-align: left;\">6, 6</td><td style = \"text-align: right;\">2</td><td style = \"text-align: left;\">Williams, Charles; Gamble, Karvas</td><td style = \"text-align: left;\">Black, Black</td><td style = \"text-align: left;\">M, M</td><td style = \"text-align: left;\">37, 19</td><td style = \"text-align: left;\">Handgun</td><td style = \"text-align: left;\">Yes, Yes</td><td style = \"text-align: left;\">No, Yes</td><td style = \"text-align: left;\">No, No</td><td style = \"text-align: left;\">No, No</td><td style = \"text-align: left;\">http://www1.cityoforlando.net/opendatadocs/saoletters/13-022948.pdf</td><td style = \"text-align: left;\">POINT (-81.398586976 28.552194982)</td><td style = \"text-align: left;\">Gun</td></tr><tr><td class = \"rowNumber\" style = \"font-weight: bold; text-align: right;\">7</td><td style = \"text-align: left;\">16-021812</td><td style = \"text-align: left;\">01/16/2016</td><td style = \"text-align: left;\">5400 North Lane</td><td style = \"text-align: left;\">Traffic Stop</td><td style = \"text-align: right;\">1</td><td style = \"text-align: left;\">Mills, Jonathan</td><td style = \"text-align: left;\">W</td><td style = \"text-align: left;\">N</td><td style = \"text-align: left;\">M</td><td style = \"text-align: left;\">33</td><td style = \"text-align: left;\">4</td><td style = \"text-align: right;\">1</td><td style = \"text-align: left;\">Lamons, Trevon</td><td style = \"text-align: left;\">Black</td><td style = \"text-align: left;\">M</td><td style = \"text-align: left;\">17</td><td style = \"text-align: left;\">Motor Vehicle</td><td style = \"text-align: left;\">Yes</td><td style = \"text-align: left;\">No</td><td style = \"text-align: left;\">No</td><td style = \"text-align: left;\">No</td><td style = \"text-align: left;\">http://www1.cityoforlando.net/opendatadocs/saoletters/16-021812.pdf</td><td style = \"text-align: left;\">POINT (-81.454123826 28.596308986)</td><td style = \"text-align: left;\">No Weapon</td></tr><tr><td class = \"rowNumber\" style = \"font-weight: bold; text-align: right;\">8</td><td style = \"text-align: left;\">14-086291</td><td style = \"text-align: left;\">02/24/2014</td><td style = \"text-align: left;\">595 W. Church St</td><td style = \"text-align: left;\">Stalking</td><td style = \"text-align: right;\">3</td><td style = \"text-align: left;\">Kipp, Alexander; Watts, Anthony; Johnston, David</td><td style = \"text-align: left;\">W, B, W</td><td style = \"text-align: left;\">N, N, N</td><td style = \"text-align: left;\">M, M, M</td><td style = \"text-align: left;\">32, 44, 24</td><td style = \"text-align: left;\">1, 1, 1</td><td style = \"text-align: right;\">1</td><td style = \"text-align: left;\">Lattimore, Derrick</td><td style = \"text-align: left;\">Black</td><td style = \"text-align: left;\">M</td><td style = \"text-align: left;\">27</td><td style = \"text-align: left;\">Motor Vehicle</td><td style = \"text-align: left;\">No</td><td style = \"text-align: left;\">No</td><td style = \"text-align: left;\">No, No, No</td><td style = \"text-align: left;\">No, No, No</td><td style = \"text-align: left;\">http://www1.cityoforlando.net/opendatadocs/saoletters/14-086291.pdf</td><td style = \"text-align: left;\">POINT (-81.386192991 28.540632985)</td><td style = \"text-align: left;\">No Weapon</td></tr><tr><td class = \"rowNumber\" style = \"font-weight: bold; text-align: right;\">9</td><td style = \"text-align: left;\">15-291159</td><td style = \"text-align: left;\">07/17/2015</td><td style = \"text-align: left;\">1657 Watauga Way</td><td style = \"text-align: left;\">Suspicious Person</td><td style = \"text-align: right;\">1</td><td style = \"text-align: left;\">Vidro, Kelvin</td><td style = \"text-align: left;\">W</td><td style = \"text-align: left;\">H</td><td style = \"text-align: left;\">M</td><td style = \"text-align: left;\">29</td><td style = \"text-align: left;\">0.9</td><td style = \"text-align: right;\">1</td><td style = \"text-align: left;\">Davis, Albert</td><td style = \"text-align: left;\">Black</td><td style = \"text-align: left;\">M</td><td style = \"text-align: left;\">23</td><td style = \"text-align: left;\">Hands/ASP</td><td style = \"text-align: left;\">Yes</td><td style = \"text-align: left;\">Yes</td><td style = \"text-align: left;\">No</td><td style = \"text-align: left;\">No</td><td style = \"text-align: left;\">http://www1.cityoforlando.net/opendatadocs/saoletters/15-291159.pdf</td><td style = \"text-align: left;\">POINT (-81.335092645 28.522822186)</td><td style = \"text-align: left;\">No Weapon</td></tr><tr><td class = \"rowNumber\" style = \"font-weight: bold; text-align: right;\">10</td><td style = \"text-align: left;\">11-201994</td><td style = \"text-align: left;\">05/06/2011</td><td style = \"text-align: left;\">4900 Cason Cove</td><td style = \"text-align: left;\">Armed Robbery</td><td style = \"text-align: right;\">1</td><td style = \"text-align: left;\">Villaverde, Carlos</td><td style = \"text-align: left;\">W</td><td style = \"text-align: left;\">H</td><td style = \"text-align: left;\">M</td><td style = \"text-align: left;\">48</td><td style = \"text-align: left;\">4</td><td style = \"text-align: right;\">1</td><td style = \"text-align: left;\">Cull,Marcus</td><td style = \"text-align: left;\">Black</td><td style = \"text-align: left;\">M</td><td style = \"text-align: left;\">25</td><td style = \"text-align: left;\">Motor Vehicle</td><td style = \"text-align: left;\">Yes</td><td style = \"text-align: left;\">No</td><td style = \"text-align: left;\">No, No</td><td style = \"text-align: left;\">No, No</td><td style = \"text-align: left;\">http://www1.cityoforlando.net/opendatadocs/saoletters/11-201994.pdf</td><td style = \"text-align: left;\">POINT (-81.444618041 28.497712989)</td><td style = \"text-align: left;\">No Weapon</td></tr><tr><td class = \"rowNumber\" style = \"font-weight: bold; text-align: right;\">11</td><td style = \"text-align: left;\">20-133070</td><td style = \"text-align: left;\">04/24/2020</td><td style = \"text-align: left;\">555 North John Young Parkway, Orlando, FL 32811</td><td style = \"text-align: left;\">Attempted Suicide</td><td style = \"text-align: right;\">1</td><td style = \"text-align: left;\">Ring, Matthew</td><td style = \"text-align: left;\">W</td><td style = \"text-align: left;\">n/a</td><td style = \"text-align: left;\">M</td><td style = \"text-align: left;\">36</td><td style = \"text-align: left;\">14</td><td style = \"text-align: right;\">1</td><td style = \"text-align: left;\">Hudak, Matthew</td><td style = \"text-align: left;\">White</td><td style = \"text-align: left;\">M</td><td style = \"text-align: left;\">27</td><td style = \"text-align: left;\">Knife</td><td style = \"text-align: left;\">Yes</td><td style = \"text-align: left;\">No</td><td style = \"text-align: left;\">No</td><td style = \"text-align: left;\">No</td><td style = \"text-align: left;\">https://www.orlando.gov/files/sharedassets/public/departments/public-safety/opd/open-data-docs/20_133070.pdf</td><td style = \"text-align: left;\">POINT (-81.412285018 28.547911997)</td><td style = \"text-align: left;\">No Weapon</td></tr><tr><td class = \"rowNumber\" style = \"font-weight: bold; text-align: right;\">12</td><td style = \"text-align: left;\">16-439059</td><td style = \"text-align: left;\">10/30/2016</td><td style = \"text-align: left;\">819 Randall St</td><td style = \"text-align: left;\">Aggravated Battery</td><td style = \"text-align: right;\">1</td><td style = \"text-align: left;\">Ragsdale, Michael</td><td style = \"text-align: left;\">W</td><td style = \"text-align: left;\">N</td><td style = \"text-align: left;\">M</td><td style = \"text-align: left;\">28</td><td style = \"text-align: left;\">1</td><td style = \"text-align: right;\">1</td><td style = \"text-align: left;\">Forster, Armani Rashaud</td><td style = \"text-align: left;\">Black</td><td style = \"text-align: left;\">M</td><td style = \"text-align: left;\">20</td><td style = \"text-align: left;\">Handgun</td><td style = \"text-align: left;\">Yes</td><td style = \"text-align: left;\">No</td><td style = \"text-align: left;\">N0</td><td style = \"text-align: left;\">No</td><td style = \"text-align: left;\">http://www1.cityoforlando.net/opendatadocs/saoletters/16-270271.pdf</td><td style = \"text-align: left;\">POINT (-81.3912463 28.537139514)</td><td style = \"text-align: left;\">Gun</td></tr><tr><td class = \"rowNumber\" style = \"font-weight: bold; text-align: right;\">13</td><td style = \"text-align: left;\">12-237596</td><td style = \"text-align: left;\">06/06/2012</td><td style = \"text-align: left;\">756 Bennett Rd.</td><td style = \"text-align: left;\">Battery</td><td style = \"text-align: right;\">1</td><td style = \"text-align: left;\">Ramos, Sergio</td><td style = \"text-align: left;\">W</td><td style = \"text-align: left;\">H</td><td style = \"text-align: left;\">M</td><td style = \"text-align: left;\">28</td><td style = \"text-align: left;\">4</td><td style = \"text-align: right;\">1</td><td style = \"text-align: left;\">Cox, Emily</td><td style = \"text-align: left;\">White</td><td style = \"text-align: left;\">F</td><td style = \"text-align: left;\">19</td><td style = \"text-align: left;\">Motor Vehicle</td><td style = \"text-align: left;\">Yes</td><td style = \"text-align: left;\">No</td><td style = \"text-align: left;\">No</td><td style = \"text-align: left;\">No</td><td style = \"text-align: left;\">http://www1.cityoforlando.net/opendatadocs/saoletters/12-237596.pdf</td><td style = \"text-align: left;\">POINT (-81.334557031 28.556153001)</td><td style = \"text-align: left;\">No Weapon</td></tr><tr><td style = \"text-align: right;\">&vellip;</td><td style = \"text-align: right;\">&vellip;</td><td style = \"text-align: right;\">&vellip;</td><td style = \"text-align: right;\">&vellip;</td><td style = \"text-align: right;\">&vellip;</td><td style = \"text-align: right;\">&vellip;</td><td style = \"text-align: right;\">&vellip;</td><td style = \"text-align: right;\">&vellip;</td><td style = \"text-align: right;\">&vellip;</td><td style = \"text-align: right;\">&vellip;</td><td style = \"text-align: right;\">&vellip;</td><td style = \"text-align: right;\">&vellip;</td><td style = \"text-align: right;\">&vellip;</td><td style = \"text-align: right;\">&vellip;</td><td style = \"text-align: right;\">&vellip;</td><td style = \"text-align: right;\">&vellip;</td><td style = \"text-align: right;\">&vellip;</td><td style = \"text-align: right;\">&vellip;</td><td style = \"text-align: right;\">&vellip;</td><td style = \"text-align: right;\">&vellip;</td><td style = \"text-align: right;\">&vellip;</td><td style = \"text-align: right;\">&vellip;</td><td style = \"text-align: right;\">&vellip;</td><td style = \"text-align: right;\">&vellip;</td><td style = \"text-align: right;\">&vellip;</td></tr><tr><td class = \"rowNumber\" style = \"font-weight: bold; text-align: right;\">67</td><td style = \"text-align: left;\">16-242039</td><td style = \"text-align: left;\">06/12/2016</td><td style = \"text-align: left;\">1912 S. Orange Ave</td><td style = \"text-align: left;\">Active Shooter</td><td style = \"text-align: right;\">11</td><td style = \"text-align: left;\">Napolitano, Michael, Gruler, Adam; Parker, James; Smith. Scott; Backhaus, Jeff; Rivas, Raul; Stanley, Tim; Easterling, Kevin; Bishop, Andrew; Bigelow, John; Duenas, Ricardo</td><td style = \"text-align: left;\">W,W, W, W, W, B, W, W, B, W, W</td><td style = \"text-align: left;\">N,N, N, N, N, H, N, N, N, N, H</td><td style = \"text-align: left;\">M, M, M, M, M, M, M, M, M, M, M</td><td style = \"text-align: left;\">29, 39, 48, 46, 34, 45, 47, 44, 47, 38, 31</td><td style = \"text-align: left;\">4, 14, 25, 23, 11, 23, 18, 21, 21, 14, 2</td><td style = \"text-align: right;\">1</td><td style = \"text-align: left;\">Mateen, Omar</td><td style = \"text-align: left;\">Other</td><td style = \"text-align: left;\">M</td><td style = \"text-align: left;\">29</td><td style = \"text-align: left;\">Rifle</td><td style = \"text-align: left;\">Yes</td><td style = \"text-align: left;\">Yes</td><td style = \"text-align: left;\">Yes, No, No, No, No, No, No, No,No, No, No</td><td style = \"text-align: left;\">No, No, No, No, No, No, No, No, No, No, No</td><td style = \"text-align: left;\">https://www1.cityoforlando.net/opendatadocs/saoletters/16-242039.pdf</td><td style = \"text-align: left;\">POINT (-81.37680702 28.519611004)</td><td style = \"text-align: left;\">No Weapon</td></tr><tr><td class = \"rowNumber\" style = \"font-weight: bold; text-align: right;\">68</td><td style = \"text-align: left;\">23-246025</td><td style = \"text-align: left;\">07/03/2023</td><td style = \"text-align: left;\">E. Jefferson Street/N. Orange Avenue</td><td style = \"text-align: left;\">Suspicious Vehicle</td><td style = \"text-align: right;\">1</td><td style = \"text-align: left;\">Velez-Negron, Jose</td><td style = \"text-align: left;\">W</td><td style = \"text-align: left;\">H</td><td style = \"text-align: left;\">M</td><td style = \"text-align: left;\">40</td><td style = \"text-align: left;\">3</td><td style = \"text-align: right;\">1</td><td style = \"text-align: left;\">Diaz, Derek</td><td style = \"text-align: left;\">White</td><td style = \"text-align: left;\">M</td><td style = \"text-align: left;\">26</td><td style = \"text-align: left;\">No</td><td style = \"text-align: left;\">Yes</td><td style = \"text-align: left;\">Yes</td><td style = \"text-align: left;\">No</td><td style = \"text-align: left;\">No</td><td style = \"text-align: left;\">https://www.orlando.gov/files/sharedassets/public/v/1/departments/public-safety/opd/open-data-docs/23-246025.pdf</td><td style = \"text-align: left;\">POINT (-81.37916436 28.551353716)</td><td style = \"text-align: left;\">No Weapon</td></tr><tr><td class = \"rowNumber\" style = \"font-weight: bold; text-align: right;\">69</td><td style = \"text-align: left;\">10-329547</td><td style = \"text-align: left;\">07/13/2010</td><td style = \"text-align: left;\">2185 Lake Debra Dr</td><td style = \"text-align: left;\">Attempted Suicide</td><td style = \"text-align: right;\">1</td><td style = \"text-align: left;\">Gowen, Carter</td><td style = \"text-align: left;\">W</td><td style = \"text-align: left;\">N</td><td style = \"text-align: left;\">M</td><td style = \"text-align: left;\">33</td><td style = \"text-align: left;\">9</td><td style = \"text-align: right;\">1</td><td style = \"text-align: left;\">Chenowith, Eric</td><td style = \"text-align: left;\">White</td><td style = \"text-align: left;\">M</td><td style = \"text-align: left;\">41</td><td style = \"text-align: left;\">Shotgun,Handgun</td><td style = \"text-align: left;\">Yes</td><td style = \"text-align: left;\">No</td><td style = \"text-align: left;\">No</td><td style = \"text-align: left;\">No</td><td style = \"text-align: left;\">http://www1.cityoforlando.net/opendatadocs/saoletters/10-329547.pdf</td><td style = \"text-align: left;\">POINT (-81.476621992 28.515039011)</td><td style = \"text-align: left;\">No Weapon</td></tr><tr><td class = \"rowNumber\" style = \"font-weight: bold; text-align: right;\">70</td><td style = \"text-align: left;\">14-206741</td><td style = \"text-align: left;\">05/18/2014</td><td style = \"text-align: left;\">220 N. OBT</td><td style = \"text-align: left;\">Homicide</td><td style = \"text-align: right;\">1</td><td style = \"text-align: left;\">Schellhorn, Bobby</td><td style = \"text-align: left;\">W</td><td style = \"text-align: left;\">N</td><td style = \"text-align: left;\">M</td><td style = \"text-align: left;\">43</td><td style = \"text-align: left;\">9</td><td style = \"text-align: right;\">1</td><td style = \"text-align: left;\">Bently,Travaris</td><td style = \"text-align: left;\">Black</td><td style = \"text-align: left;\">M</td><td style = \"text-align: left;\">24</td><td style = \"text-align: left;\">Motor Vehicle,Handgun</td><td style = \"text-align: left;\">Yes</td><td style = \"text-align: left;\">No</td><td style = \"text-align: left;\">No</td><td style = \"text-align: left;\">No</td><td style = \"text-align: left;\">http://www1.cityoforlando.net/opendatadocs/saoletters/14-206741.pdf</td><td style = \"text-align: left;\">POINT (-81.397620962 28.544747996)</td><td style = \"text-align: left;\">No Weapon</td></tr><tr><td class = \"rowNumber\" style = \"font-weight: bold; text-align: right;\">71</td><td style = \"text-align: left;\">14-500135</td><td style = \"text-align: left;\">12/04/2014</td><td style = \"text-align: left;\">1159 Soria Ct</td><td style = \"text-align: left;\">Burglary</td><td style = \"text-align: right;\">1</td><td style = \"text-align: left;\">Howard, Andre</td><td style = \"text-align: left;\">B</td><td style = \"text-align: left;\">N</td><td style = \"text-align: left;\">M</td><td style = \"text-align: left;\">44</td><td style = \"text-align: left;\">15</td><td style = \"text-align: right;\">1</td><td style = \"text-align: left;\">Cordero-Rivera, Alejandro</td><td style = \"text-align: left;\">White</td><td style = \"text-align: left;\">M</td><td style = \"text-align: left;\">32</td><td style = \"text-align: left;\">Handgun</td><td style = \"text-align: left;\">Yes</td><td style = \"text-align: left;\">Yes</td><td style = \"text-align: left;\">No</td><td style = \"text-align: left;\">No</td><td style = \"text-align: left;\">http://www1.cityoforlando.net/opendatadocs/saoletters/14-500135.pdf</td><td style = \"text-align: left;\">POINT (-81.307727984 28.529062019)</td><td style = \"text-align: left;\">Gun</td></tr><tr><td class = \"rowNumber\" style = \"font-weight: bold; text-align: right;\">72</td><td style = \"text-align: left;\">11-257484</td><td style = \"text-align: left;\">06/10/2011</td><td style = \"text-align: left;\">400 S. Parramore</td><td style = \"text-align: left;\">Drug Violation</td><td style = \"text-align: right;\">1</td><td style = \"text-align: left;\">Ochiuzzo, Matt</td><td style = \"text-align: left;\">W</td><td style = \"text-align: left;\">N</td><td style = \"text-align: left;\">M</td><td style = \"text-align: left;\">28</td><td style = \"text-align: left;\">5</td><td style = \"text-align: right;\">1</td><td style = \"text-align: left;\">Fell,Ronnery</td><td style = \"text-align: left;\">Black</td><td style = \"text-align: left;\">M</td><td style = \"text-align: left;\">27</td><td style = \"text-align: left;\">Hands/reaching</td><td style = \"text-align: left;\">Yes</td><td style = \"text-align: left;\">No</td><td style = \"text-align: left;\">No</td><td style = \"text-align: left;\">No</td><td style = \"text-align: left;\">http://www1.cityoforlando.net/opendatadocs/saoletters/11-257484.pdf</td><td style = \"text-align: left;\">POINT (-81.389041531 28.538220076)</td><td style = \"text-align: left;\">No Weapon</td></tr><tr><td class = \"rowNumber\" style = \"font-weight: bold; text-align: right;\">73</td><td style = \"text-align: left;\">17-406642</td><td style = \"text-align: left;\">10/16/2017</td><td style = \"text-align: left;\">5700 Block N. Orange Blossom Trail</td><td style = \"text-align: left;\">Suspicious Person</td><td style = \"text-align: right;\">1</td><td style = \"text-align: left;\">Ehlers, Christopher</td><td style = \"text-align: left;\">W</td><td style = \"text-align: left;\">N</td><td style = \"text-align: left;\">M</td><td style = \"text-align: left;\">31</td><td style = \"text-align: left;\">5</td><td style = \"text-align: right;\">1</td><td style = \"text-align: left;\">Hill, Dracarris Mandel</td><td style = \"text-align: left;\">Black</td><td style = \"text-align: left;\">M</td><td style = \"text-align: left;\">23</td><td style = \"text-align: left;\">Handgun</td><td style = \"text-align: left;\">Yes</td><td style = \"text-align: left;\">No</td><td style = \"text-align: left;\">No</td><td style = \"text-align: left;\">No</td><td style = \"text-align: left;\">http://www1.cityoforlando.net/opendatadocs/saoletters/17-00406642.pdf</td><td style = \"text-align: left;\">POINT (-81.429694969 28.611062074)</td><td style = \"text-align: left;\">Gun</td></tr><tr><td class = \"rowNumber\" style = \"font-weight: bold; text-align: right;\">74</td><td style = \"text-align: left;\">18-228375</td><td style = \"text-align: left;\">06/10/2018</td><td style = \"text-align: left;\">4832 Eaglesmere Drive</td><td style = \"text-align: left;\">Battery</td><td style = \"text-align: right;\">1</td><td style = \"text-align: left;\">Gonzalez, Emanuel</td><td style = \"text-align: left;\">W</td><td style = \"text-align: left;\">H</td><td style = \"text-align: left;\">M</td><td style = \"text-align: left;\">30</td><td style = \"text-align: left;\">1</td><td style = \"text-align: right;\">1</td><td style = \"text-align: left;\">Lindsey, Gary</td><td style = \"text-align: left;\">White</td><td style = \"text-align: left;\">M</td><td style = \"text-align: left;\">35</td><td style = \"text-align: left;\">Handgun</td><td style = \"text-align: left;\">Undetermined</td><td style = \"text-align: left;\">Self-Inflicted</td><td style = \"text-align: left;\">No</td><td style = \"text-align: left;\">No</td><td style = \"text-align: left;\">https://www1.cityoforlando.net/opendatadocs/saoletters/18-228375.pdf</td><td style = \"text-align: left;\">POINT (-81.462643153 28.490099922)</td><td style = \"text-align: left;\">Gun</td></tr><tr><td class = \"rowNumber\" style = \"font-weight: bold; text-align: right;\">75</td><td style = \"text-align: left;\">12-074536</td><td style = \"text-align: left;\">02/19/2012</td><td style = \"text-align: left;\">8425 Northlake Pkwy</td><td style = \"text-align: left;\">Homicide</td><td style = \"text-align: right;\">1</td><td style = \"text-align: left;\">Toler, Jimmie</td><td style = \"text-align: left;\">W</td><td style = \"text-align: left;\">N</td><td style = \"text-align: left;\">M</td><td style = \"text-align: left;\">29</td><td style = \"text-align: left;\">7</td><td style = \"text-align: right;\">1</td><td style = \"text-align: left;\">Banner,Elmer</td><td style = \"text-align: left;\">White</td><td style = \"text-align: left;\">M</td><td style = \"text-align: left;\">43</td><td style = \"text-align: left;\">Handgun</td><td style = \"text-align: left;\">Yes</td><td style = \"text-align: left;\">No</td><td style = \"text-align: left;\">No</td><td style = \"text-align: left;\">No</td><td style = \"text-align: left;\">http://www1.cityoforlando.net/opendatadocs/saoletters/12-074536.pdf</td><td style = \"text-align: left;\">POINT (-81.269478007 28.420598013)</td><td style = \"text-align: left;\">Gun</td></tr><tr><td class = \"rowNumber\" style = \"font-weight: bold; text-align: right;\">76</td><td style = \"text-align: left;\">16-153523</td><td style = \"text-align: left;\">04/13/2016</td><td style = \"text-align: left;\">Bowen DR at Folkstone</td><td style = \"text-align: left;\">Battery</td><td style = \"text-align: right;\">1</td><td style = \"text-align: left;\">Ospina, Rafael</td><td style = \"text-align: left;\">W</td><td style = \"text-align: left;\">H</td><td style = \"text-align: left;\">M</td><td style = \"text-align: left;\">34</td><td style = \"text-align: left;\">8</td><td style = \"text-align: right;\">1</td><td style = \"text-align: left;\">Robles, Jason</td><td style = \"text-align: left;\">White</td><td style = \"text-align: left;\">M</td><td style = \"text-align: left;\">22</td><td style = \"text-align: left;\">Handgun</td><td style = \"text-align: left;\">Yes</td><td style = \"text-align: left;\">No</td><td style = \"text-align: left;\">No</td><td style = \"text-align: left;\">No</td><td style = \"text-align: left;\">http://www1.cityoforlando.net/opendatadocs/saoletters/2016-153523.pdf</td><td style = \"text-align: left;\">POINT (-81.306244974 28.518123007)</td><td style = \"text-align: left;\">Gun</td></tr><tr><td class = \"rowNumber\" style = \"font-weight: bold; text-align: right;\">77</td><td style = \"text-align: left;\">23-355012</td><td style = \"text-align: left;\">09/26/2023</td><td style = \"text-align: left;\">Carter Street and South Parramore Avenue</td><td style = \"text-align: left;\">Unknown Trouble/Person Robbery</td><td style = \"text-align: right;\">2</td><td style = \"text-align: left;\">Estrada, Phillip and Acevedo, Walberto</td><td style = \"text-align: left;\">W, W</td><td style = \"text-align: left;\">H</td><td style = \"text-align: left;\">M, M</td><td style = \"text-align: left;\">26, 34</td><td style = \"text-align: left;\">2, 4</td><td style = \"text-align: right;\">1</td><td style = \"text-align: left;\">Unknown</td><td style = \"text-align: left;\">Black</td><td style = \"text-align: left;\">M</td><td style = \"text-align: left;\">Unknown</td><td style = \"text-align: left;\">Firearm</td><td style = \"text-align: left;\">Unknown</td><td style = \"text-align: left;\">No</td><td style = \"text-align: left;\">No</td><td style = \"text-align: left;\">No</td><td style = \"text-align: left;\">https://www.orlando.gov/files/sharedassets/public/v/1/departments/public-safety/opd/open-data-docs/23-355012.pdf</td><td style = \"text-align: left;\">POINT (-81.388922977 28.534726006)</td><td style = \"text-align: left;\">No Weapon</td></tr><tr><td class = \"rowNumber\" style = \"font-weight: bold; text-align: right;\">78</td><td style = \"text-align: left;\">09-308652</td><td style = \"text-align: left;\">07/01/2009</td><td style = \"text-align: left;\">1905 Lee Road</td><td style = \"text-align: left;\">Aggravated Assault</td><td style = \"text-align: right;\">1</td><td style = \"text-align: left;\">Michael, Edward</td><td style = \"text-align: left;\">W</td><td style = \"text-align: left;\">N</td><td style = \"text-align: left;\">M</td><td style = \"text-align: left;\">33</td><td style = \"text-align: left;\">8</td><td style = \"text-align: right;\">1</td><td style = \"text-align: left;\">Unknown</td><td style = \"text-align: left;\">Unk</td><td style = \"text-align: left;\">Unk</td><td style = \"text-align: left;\">Unk</td><td style = \"text-align: left;\">Handgun</td><td style = \"text-align: left;\">No</td><td style = \"text-align: left;\">No</td><td style = \"text-align: left;\">No</td><td style = \"text-align: left;\">No</td><td style = \"text-align: left;\">http://www1.cityoforlando.net/opendatadocs/saoletters/09-308652.pdf</td><td style = \"text-align: left;\">POINT (-81.413406013 28.601738987)</td><td style = \"text-align: left;\">Gun</td></tr></tbody></table></div>"
      ],
      "text/latex": [
       "\\begin{tabular}{r|ccccc}\n",
       "\t& Case \\# & Date & Address & Incident Type & \\\\\n",
       "\t\\hline\n",
       "\t& String15 & String15 & String & String & \\\\\n",
       "\t\\hline\n",
       "\t1 & 22-174307 & 05/18/2022 & Mercy Drive and W.D. Judge Drive & Vehicle Stop & $\\dots$ \\\\\n",
       "\t2 & 18-448868 & 11/21/2018 & 9938 Universal Boulevard & Stolen Vehicle & $\\dots$ \\\\\n",
       "\t3 & 18-219116 & 06/04/2018 & 4629 Cason Cove Drive & Attempted Suicide & $\\dots$ \\\\\n",
       "\t4 & 20-397311 & 12/16/2020 & 5434 Baldwin Park Street, Unit 101 & Domestic Disturbance & $\\dots$ \\\\\n",
       "\t5 & 10-503738 & 10/26/2010 & Hiawassee \\& SR 50 & Armed Robbery & $\\dots$ \\\\\n",
       "\t6 & 13-022948 & 01/16/2013 & 1327 Arlington St & Drug Violation & $\\dots$ \\\\\n",
       "\t7 & 16-021812 & 01/16/2016 & 5400 North Lane & Traffic Stop & $\\dots$ \\\\\n",
       "\t8 & 14-086291 & 02/24/2014 & 595 W. Church St & Stalking & $\\dots$ \\\\\n",
       "\t9 & 15-291159 & 07/17/2015 & 1657 Watauga Way & Suspicious Person & $\\dots$ \\\\\n",
       "\t10 & 11-201994 & 05/06/2011 & 4900 Cason Cove & Armed Robbery & $\\dots$ \\\\\n",
       "\t11 & 20-133070 & 04/24/2020 & 555 North John Young Parkway, Orlando, FL 32811 & Attempted Suicide & $\\dots$ \\\\\n",
       "\t12 & 16-439059 & 10/30/2016 & 819 Randall St & Aggravated Battery & $\\dots$ \\\\\n",
       "\t13 & 12-237596 & 06/06/2012 & 756 Bennett Rd. & Battery & $\\dots$ \\\\\n",
       "\t14 & 10-437014 & 09/15/2010 & Lee Vista \\& SR 417 & Street Racing & $\\dots$ \\\\\n",
       "\t15 & 15-050643 & 02/04/2015 & 4326 Pershing Place & Shots fired & $\\dots$ \\\\\n",
       "\t16 & 09-559387 & 11/25/2009 & 1621 E Livingston & Barricaded Subject & $\\dots$ \\\\\n",
       "\t17 & 18-414226 & 10/26/2018 & 3936 W D Judge Drive & Violent Mentally Ill Person & $\\dots$ \\\\\n",
       "\t18 & 21-437603 & 12/29/2021 & 1338 S. Hiawassee Rd, Orlando 32835 & Suspicious Incident & $\\dots$ \\\\\n",
       "\t19 & 18-180878 & 05/07/2018 & 2642 E. Colonial Dr & Shoplifiting & $\\dots$ \\\\\n",
       "\t20 & 10-000324 & 01/01/2010 & 390 N Orange & Atempted Murder & $\\dots$ \\\\\n",
       "\t21 & 15-055695 & 02/08/2015 & 5688 International Dr & Shots fired & $\\dots$ \\\\\n",
       "\t22 & 13-495877 & 11/25/2013 & Thorpe/Wentwood & Traffic Stop & $\\dots$ \\\\\n",
       "\t23 & 21-314598 & 09/21/2021 & South Lakeland Avenue and Jacobs Place & Suspicious Persons & $\\dots$ \\\\\n",
       "\t24 & 16-246131 & 06/15/2016 & Millenia Blvd / Conroy Road & Vehicle Burglary & $\\dots$ \\\\\n",
       "\t$\\dots$ & $\\dots$ & $\\dots$ & $\\dots$ & $\\dots$ &  \\\\\n",
       "\\end{tabular}\n"
      ],
      "text/plain": [
       "\u001b[1m78×24 DataFrame\u001b[0m\n",
       "\u001b[1m Row \u001b[0m│\u001b[1m Case #    \u001b[0m\u001b[1m Date       \u001b[0m\u001b[1m Address                           \u001b[0m\u001b[1m Incident Type\u001b[0m ⋯\n",
       "     │\u001b[90m String15  \u001b[0m\u001b[90m String15   \u001b[0m\u001b[90m String                            \u001b[0m\u001b[90m String       \u001b[0m ⋯\n",
       "─────┼──────────────────────────────────────────────────────────────────────────\n",
       "   1 │ 22-174307  05/18/2022  Mercy Drive and W.D. Judge Drive   Vehicle Stop  ⋯\n",
       "   2 │ 18-448868  11/21/2018  9938 Universal Boulevard           Stolen Vehicl\n",
       "   3 │ 18-219116  06/04/2018  4629 Cason Cove Drive              Attempted Sui\n",
       "   4 │ 20-397311  12/16/2020  5434 Baldwin Park Street, Unit 1…  Domestic Dist\n",
       "   5 │ 10-503738  10/26/2010  Hiawassee & SR 50                  Armed Robbery ⋯\n",
       "   6 │ 13-022948  01/16/2013  1327 Arlington St                  Drug Violatio\n",
       "   7 │ 16-021812  01/16/2016  5400 North Lane                    Traffic Stop\n",
       "   8 │ 14-086291  02/24/2014  595 W. Church St                   Stalking\n",
       "  ⋮  │     ⋮          ⋮                       ⋮                                ⋱\n",
       "  72 │ 11-257484  06/10/2011  400 S. Parramore                   Drug Violatio ⋯\n",
       "  73 │ 17-406642  10/16/2017  5700 Block N. Orange Blossom Tra…  Suspicious Pe\n",
       "  74 │ 18-228375  06/10/2018  4832 Eaglesmere Drive              Battery\n",
       "  75 │ 12-074536  02/19/2012  8425 Northlake Pkwy                Homicide\n",
       "  76 │ 16-153523  04/13/2016  Bowen DR at Folkstone              Battery       ⋯\n",
       "  77 │ 23-355012  09/26/2023  Carter Street and South Parramor…  Unknown Troub\n",
       "  78 │ 09-308652  07/01/2009  1905 Lee Road                      Aggravated As\n",
       "\u001b[36m                                                  21 columns and 63 rows omitted\u001b[0m"
      ]
     },
     "metadata": {},
     "output_type": "display_data"
    }
   ],
   "source": [
    "#Categorize Suspect's Weapons used into Handgun or no weapon used\n",
    "data.weap_cat = [Weapon == \"Handgun\" ? \"Gun\" : \"No Weapon\" for Weapon in data.\"Suspect's Weapon\"]\n",
    "data"
   ]
  },
  {
   "cell_type": "code",
   "execution_count": 13,
   "metadata": {},
   "outputs": [
    {
     "data": {
      "text/html": [
       "<div><div style = \"float: left;\"><span>2×2 DataFrame</span></div><div style = \"clear: both;\"></div></div><div class = \"data-frame\" style = \"overflow-x: scroll;\"><table class = \"data-frame\" style = \"margin-bottom: 6px;\"><thead><tr class = \"header\"><th class = \"rowNumber\" style = \"font-weight: bold; text-align: right;\">Row</th><th style = \"text-align: left;\">weap_cat</th><th style = \"text-align: left;\">count</th></tr><tr class = \"subheader headerLastRow\"><th class = \"rowNumber\" style = \"font-weight: bold; text-align: right;\"></th><th title = \"String\" style = \"text-align: left;\">String</th><th title = \"Int64\" style = \"text-align: left;\">Int64</th></tr></thead><tbody><tr><td class = \"rowNumber\" style = \"font-weight: bold; text-align: right;\">1</td><td style = \"text-align: left;\">Gun</td><td style = \"text-align: right;\">40</td></tr><tr><td class = \"rowNumber\" style = \"font-weight: bold; text-align: right;\">2</td><td style = \"text-align: left;\">No Weapon</td><td style = \"text-align: right;\">38</td></tr></tbody></table></div>"
      ],
      "text/latex": [
       "\\begin{tabular}{r|cc}\n",
       "\t& weap\\_cat & count\\\\\n",
       "\t\\hline\n",
       "\t& String & Int64\\\\\n",
       "\t\\hline\n",
       "\t1 & Gun & 40 \\\\\n",
       "\t2 & No Weapon & 38 \\\\\n",
       "\\end{tabular}\n"
      ],
      "text/plain": [
       "\u001b[1m2×2 DataFrame\u001b[0m\n",
       "\u001b[1m Row \u001b[0m│\u001b[1m weap_cat  \u001b[0m\u001b[1m count \u001b[0m\n",
       "     │\u001b[90m String    \u001b[0m\u001b[90m Int64 \u001b[0m\n",
       "─────┼──────────────────\n",
       "   1 │ Gun           40\n",
       "   2 │ No Weapon     38"
      ]
     },
     "metadata": {},
     "output_type": "display_data"
    }
   ],
   "source": [
    "#suspect_weap_cat = combine(groupby(suspects_weapon_cnt,:\"weap_cat\"),nrow => :count)\n",
    "suspects_weapon_cnt = combine(groupby(data,:\"weap_cat\"),nrow => :count)"
   ]
  },
  {
   "cell_type": "code",
   "execution_count": 14,
   "metadata": {},
   "outputs": [
    {
     "data": {
      "text/plain": [
       "classify_weapon (generic function with 1 method)"
      ]
     },
     "metadata": {},
     "output_type": "display_data"
    }
   ],
   "source": [
    "#Define a function to classify Suspect's weapons type used into 3 categoreis Gun,Motor Vehicle and No arms.\n",
    "function classify_weapon(weapon)\n",
    "    if occursin(\"gun\",weapon) || occursin(\"Firearm\",weapon) || occursin(\"Knife\",weapon) \n",
    "        return \"Gun\"\n",
    "    elseif occursin(\"Vehicle\",weapon)\n",
    "        return \"Motor Vehicle\"\n",
    "    else\n",
    "        return \"No arms\"\n",
    "    end\n",
    "end"
   ]
  },
  {
   "cell_type": "code",
   "execution_count": 15,
   "metadata": {},
   "outputs": [
    {
     "data": {
      "text/plain": [
       "78-element Vector{String}:\n",
       " \"Gun\"\n",
       " \"Motor Vehicle\"\n",
       " \"Gun\"\n",
       " \"Gun\"\n",
       " \"Gun\"\n",
       " \"Gun\"\n",
       " \"Motor Vehicle\"\n",
       " \"Motor Vehicle\"\n",
       " \"No arms\"\n",
       " \"Motor Vehicle\"\n",
       " ⋮\n",
       " \"Gun\"\n",
       " \"Gun\"\n",
       " \"No arms\"\n",
       " \"Gun\"\n",
       " \"Gun\"\n",
       " \"Gun\"\n",
       " \"Gun\"\n",
       " \"Gun\"\n",
       " \"Gun\""
      ]
     },
     "metadata": {},
     "output_type": "display_data"
    }
   ],
   "source": [
    "#Apply function classify_weapon to dataframe data and store in new column weap_categoryN\n",
    "data.weap_categoryN = classify_weapon.(data.\"Suspect's Weapon\" )"
   ]
  },
  {
   "cell_type": "code",
   "execution_count": 16,
   "metadata": {},
   "outputs": [
    {
     "data": {
      "text/html": [
       "<div><div style = \"float: left;\"><span>3×2 DataFrame</span></div><div style = \"clear: both;\"></div></div><div class = \"data-frame\" style = \"overflow-x: scroll;\"><table class = \"data-frame\" style = \"margin-bottom: 6px;\"><thead><tr class = \"header\"><th class = \"rowNumber\" style = \"font-weight: bold; text-align: right;\">Row</th><th style = \"text-align: left;\">weap_categoryN</th><th style = \"text-align: left;\">count</th></tr><tr class = \"subheader headerLastRow\"><th class = \"rowNumber\" style = \"font-weight: bold; text-align: right;\"></th><th title = \"String\" style = \"text-align: left;\">String</th><th title = \"Int64\" style = \"text-align: left;\">Int64</th></tr></thead><tbody><tr><td class = \"rowNumber\" style = \"font-weight: bold; text-align: right;\">1</td><td style = \"text-align: left;\">Gun</td><td style = \"text-align: right;\">53</td></tr><tr><td class = \"rowNumber\" style = \"font-weight: bold; text-align: right;\">2</td><td style = \"text-align: left;\">Motor Vehicle</td><td style = \"text-align: right;\">15</td></tr><tr><td class = \"rowNumber\" style = \"font-weight: bold; text-align: right;\">3</td><td style = \"text-align: left;\">No arms</td><td style = \"text-align: right;\">10</td></tr></tbody></table></div>"
      ],
      "text/latex": [
       "\\begin{tabular}{r|cc}\n",
       "\t& weap\\_categoryN & count\\\\\n",
       "\t\\hline\n",
       "\t& String & Int64\\\\\n",
       "\t\\hline\n",
       "\t1 & Gun & 53 \\\\\n",
       "\t2 & Motor Vehicle & 15 \\\\\n",
       "\t3 & No arms & 10 \\\\\n",
       "\\end{tabular}\n"
      ],
      "text/plain": [
       "\u001b[1m3×2 DataFrame\u001b[0m\n",
       "\u001b[1m Row \u001b[0m│\u001b[1m weap_categoryN \u001b[0m\u001b[1m count \u001b[0m\n",
       "     │\u001b[90m String         \u001b[0m\u001b[90m Int64 \u001b[0m\n",
       "─────┼───────────────────────\n",
       "   1 │ Gun                53\n",
       "   2 │ Motor Vehicle      15\n",
       "   3 │ No arms            10"
      ]
     },
     "metadata": {},
     "output_type": "display_data"
    }
   ],
   "source": [
    "#Find the frequency count of three different categories of Suspect's weapons type used.\n",
    "susp_weap_catN_cnt = combine(groupby(data,:\"weap_categoryN\"),nrow => :count)"
   ]
  },
  {
   "cell_type": "code",
   "execution_count": 17,
   "metadata": {},
   "outputs": [
    {
     "data": {
      "text/html": [
       "<div><div style = \"float: left;\"><span>41×2 DataFrame</span></div><div style = \"float: right;\"><span style = \"font-style: italic;\">16 rows omitted</span></div><div style = \"clear: both;\"></div></div><div class = \"data-frame\" style = \"overflow-x: scroll;\"><table class = \"data-frame\" style = \"margin-bottom: 6px;\"><thead><tr class = \"header\"><th class = \"rowNumber\" style = \"font-weight: bold; text-align: right;\">Row</th><th style = \"text-align: left;\">Incident Type</th><th style = \"text-align: left;\">count</th></tr><tr class = \"subheader headerLastRow\"><th class = \"rowNumber\" style = \"font-weight: bold; text-align: right;\"></th><th title = \"String\" style = \"text-align: left;\">String</th><th title = \"Int64\" style = \"text-align: left;\">Int64</th></tr></thead><tbody><tr><td class = \"rowNumber\" style = \"font-weight: bold; text-align: right;\">1</td><td style = \"text-align: left;\">Vehicle Stop</td><td style = \"text-align: right;\">1</td></tr><tr><td class = \"rowNumber\" style = \"font-weight: bold; text-align: right;\">2</td><td style = \"text-align: left;\">Stolen Vehicle</td><td style = \"text-align: right;\">4</td></tr><tr><td class = \"rowNumber\" style = \"font-weight: bold; text-align: right;\">3</td><td style = \"text-align: left;\">Attempted Suicide</td><td style = \"text-align: right;\">4</td></tr><tr><td class = \"rowNumber\" style = \"font-weight: bold; text-align: right;\">4</td><td style = \"text-align: left;\">Domestic Disturbance</td><td style = \"text-align: right;\">2</td></tr><tr><td class = \"rowNumber\" style = \"font-weight: bold; text-align: right;\">5</td><td style = \"text-align: left;\">Armed Robbery</td><td style = \"text-align: right;\">5</td></tr><tr><td class = \"rowNumber\" style = \"font-weight: bold; text-align: right;\">6</td><td style = \"text-align: left;\">Drug Violation</td><td style = \"text-align: right;\">2</td></tr><tr><td class = \"rowNumber\" style = \"font-weight: bold; text-align: right;\">7</td><td style = \"text-align: left;\">Traffic Stop</td><td style = \"text-align: right;\">7</td></tr><tr><td class = \"rowNumber\" style = \"font-weight: bold; text-align: right;\">8</td><td style = \"text-align: left;\">Stalking</td><td style = \"text-align: right;\">1</td></tr><tr><td class = \"rowNumber\" style = \"font-weight: bold; text-align: right;\">9</td><td style = \"text-align: left;\">Suspicious Person</td><td style = \"text-align: right;\">6</td></tr><tr><td class = \"rowNumber\" style = \"font-weight: bold; text-align: right;\">10</td><td style = \"text-align: left;\">Aggravated Battery</td><td style = \"text-align: right;\">1</td></tr><tr><td class = \"rowNumber\" style = \"font-weight: bold; text-align: right;\">11</td><td style = \"text-align: left;\">Battery</td><td style = \"text-align: right;\">3</td></tr><tr><td class = \"rowNumber\" style = \"font-weight: bold; text-align: right;\">12</td><td style = \"text-align: left;\">Street Racing</td><td style = \"text-align: right;\">1</td></tr><tr><td class = \"rowNumber\" style = \"font-weight: bold; text-align: right;\">13</td><td style = \"text-align: left;\">Shots fired</td><td style = \"text-align: right;\">3</td></tr><tr><td style = \"text-align: right;\">&vellip;</td><td style = \"text-align: right;\">&vellip;</td><td style = \"text-align: right;\">&vellip;</td></tr><tr><td class = \"rowNumber\" style = \"font-weight: bold; text-align: right;\">30</td><td style = \"text-align: left;\">Suspicious Incident / Possible Kidnapping</td><td style = \"text-align: right;\">1</td></tr><tr><td class = \"rowNumber\" style = \"font-weight: bold; text-align: right;\">31</td><td style = \"text-align: left;\">Felony Warrant</td><td style = \"text-align: right;\">1</td></tr><tr><td class = \"rowNumber\" style = \"font-weight: bold; text-align: right;\">32</td><td style = \"text-align: left;\">Unknown Trouble</td><td style = \"text-align: right;\">2</td></tr><tr><td class = \"rowNumber\" style = \"font-weight: bold; text-align: right;\">33</td><td style = \"text-align: left;\">Suspicious Vehicle</td><td style = \"text-align: right;\">2</td></tr><tr><td class = \"rowNumber\" style = \"font-weight: bold; text-align: right;\">34</td><td style = \"text-align: left;\">Occupied Stolen Vehicle</td><td style = \"text-align: right;\">1</td></tr><tr><td class = \"rowNumber\" style = \"font-weight: bold; text-align: right;\">35</td><td style = \"text-align: left;\">Fraud</td><td style = \"text-align: right;\">1</td></tr><tr><td class = \"rowNumber\" style = \"font-weight: bold; text-align: right;\">36</td><td style = \"text-align: left;\">Well Being Check</td><td style = \"text-align: right;\">1</td></tr><tr><td class = \"rowNumber\" style = \"font-weight: bold; text-align: right;\">37</td><td style = \"text-align: left;\">Active Shooter</td><td style = \"text-align: right;\">1</td></tr><tr><td class = \"rowNumber\" style = \"font-weight: bold; text-align: right;\">38</td><td style = \"text-align: left;\">Homicide</td><td style = \"text-align: right;\">2</td></tr><tr><td class = \"rowNumber\" style = \"font-weight: bold; text-align: right;\">39</td><td style = \"text-align: left;\">Burglary</td><td style = \"text-align: right;\">1</td></tr><tr><td class = \"rowNumber\" style = \"font-weight: bold; text-align: right;\">40</td><td style = \"text-align: left;\">Unknown Trouble/Person Robbery</td><td style = \"text-align: right;\">1</td></tr><tr><td class = \"rowNumber\" style = \"font-weight: bold; text-align: right;\">41</td><td style = \"text-align: left;\">Aggravated Assault</td><td style = \"text-align: right;\">1</td></tr></tbody></table></div>"
      ],
      "text/latex": [
       "\\begin{tabular}{r|cc}\n",
       "\t& Incident Type & \\\\\n",
       "\t\\hline\n",
       "\t& String & \\\\\n",
       "\t\\hline\n",
       "\t1 & Vehicle Stop & $\\dots$ \\\\\n",
       "\t2 & Stolen Vehicle & $\\dots$ \\\\\n",
       "\t3 & Attempted Suicide & $\\dots$ \\\\\n",
       "\t4 & Domestic Disturbance & $\\dots$ \\\\\n",
       "\t5 & Armed Robbery & $\\dots$ \\\\\n",
       "\t6 & Drug Violation & $\\dots$ \\\\\n",
       "\t7 & Traffic Stop & $\\dots$ \\\\\n",
       "\t8 & Stalking & $\\dots$ \\\\\n",
       "\t9 & Suspicious Person & $\\dots$ \\\\\n",
       "\t10 & Aggravated Battery & $\\dots$ \\\\\n",
       "\t11 & Battery & $\\dots$ \\\\\n",
       "\t12 & Street Racing & $\\dots$ \\\\\n",
       "\t13 & Shots fired & $\\dots$ \\\\\n",
       "\t14 & Barricaded Subject & $\\dots$ \\\\\n",
       "\t15 & Violent Mentally Ill Person & $\\dots$ \\\\\n",
       "\t16 & Suspicious Incident & $\\dots$ \\\\\n",
       "\t17 & Shoplifiting & $\\dots$ \\\\\n",
       "\t18 & Atempted Murder & $\\dots$ \\\\\n",
       "\t19 & Suspicious Persons & $\\dots$ \\\\\n",
       "\t20 & Vehicle Burglary & $\\dots$ \\\\\n",
       "\t21 & Attempt to Contact & $\\dots$ \\\\\n",
       "\t22 & Robbery with a Firearm & $\\dots$ \\\\\n",
       "\t23 & Attempted Murder & $\\dots$ \\\\\n",
       "\t24 & Aggravated Assault on a Law Enforcement Officer with a Deadly Weapon, Armed Kidnapping (3 counts) & $\\dots$ \\\\\n",
       "\t$\\dots$ & $\\dots$ &  \\\\\n",
       "\\end{tabular}\n"
      ],
      "text/plain": [
       "\u001b[1m41×2 DataFrame\u001b[0m\n",
       "\u001b[1m Row \u001b[0m│\u001b[1m Incident Type                  \u001b[0m\u001b[1m count \u001b[0m\n",
       "     │\u001b[90m String                         \u001b[0m\u001b[90m Int64 \u001b[0m\n",
       "─────┼───────────────────────────────────────\n",
       "   1 │ Vehicle Stop                        1\n",
       "   2 │ Stolen Vehicle                      4\n",
       "   3 │ Attempted Suicide                   4\n",
       "   4 │ Domestic Disturbance                2\n",
       "   5 │ Armed Robbery                       5\n",
       "   6 │ Drug Violation                      2\n",
       "   7 │ Traffic Stop                        7\n",
       "   8 │ Stalking                            1\n",
       "  ⋮  │               ⋮                   ⋮\n",
       "  35 │ Fraud                               1\n",
       "  36 │ Well Being Check                    1\n",
       "  37 │ Active Shooter                      1\n",
       "  38 │ Homicide                            2\n",
       "  39 │ Burglary                            1\n",
       "  40 │ Unknown Trouble/Person Robbery      1\n",
       "  41 │ Aggravated Assault                  1\n",
       "\u001b[36m                              26 rows omitted\u001b[0m"
      ]
     },
     "metadata": {},
     "output_type": "display_data"
    }
   ],
   "source": [
    "#Individual Incident type frequency count\n",
    "IncType_cnt = combine(groupby(data,:\"Incident Type\"),nrow=>:count)"
   ]
  },
  {
   "cell_type": "code",
   "execution_count": 18,
   "metadata": {},
   "outputs": [
    {
     "data": {
      "text/plain": [
       "Classify_Inc_ty (generic function with 1 method)"
      ]
     },
     "metadata": {},
     "output_type": "display_data"
    }
   ],
   "source": [
    "#function to classify Incident type broadly into 3 different categories i.e. Burglary, Battery and Vehicle Motor\n",
    "function Classify_Inc_ty(IncType)\n",
    "    if occursin(\"Vehicle\",IncType) || occursin(\"Traffic \",IncType)\n",
    "        return \"Vehicle Motor\"\n",
    "    elseif occursin(\"Robbery\",IncType) || occursin(\"Burglary \",IncType) || occursin(\"Suspicious  \",IncType) || occursin(\"Aggravated\",IncType) || occursin(\"Homicide\",IncType)\n",
    "        return \"Burglary\"\n",
    "    else\n",
    "        return \"Battery\"\n",
    "    end\n",
    "end"
   ]
  },
  {
   "cell_type": "code",
   "execution_count": 19,
   "metadata": {},
   "outputs": [
    {
     "name": "stderr",
     "output_type": "stream",
     "text": [
      "\u001b[32m\u001b[1m   Resolving\u001b[22m\u001b[39m package versions...\n",
      "\u001b[32m\u001b[1m  No Changes\u001b[22m\u001b[39m to `C:\\Users\\umapa\\.julia\\environments\\v1.10\\Project.toml`\n",
      "\u001b[32m\u001b[1m  No Changes\u001b[22m\u001b[39m to `C:\\Users\\umapa\\.julia\\environments\\v1.10\\Manifest.toml`\n"
     ]
    }
   ],
   "source": [
    "Pkg.add(\"PGFPlotsX\")"
   ]
  },
  {
   "cell_type": "code",
   "execution_count": 20,
   "metadata": {},
   "outputs": [
    {
     "data": {
      "text/html": [
       "<div><div style = \"float: left;\"><span>2×2 DataFrame</span></div><div style = \"clear: both;\"></div></div><div class = \"data-frame\" style = \"overflow-x: scroll;\"><table class = \"data-frame\" style = \"margin-bottom: 6px;\"><thead><tr class = \"header\"><th class = \"rowNumber\" style = \"font-weight: bold; text-align: right;\">Row</th><th style = \"text-align: left;\">Match</th><th style = \"text-align: left;\">Count</th></tr><tr class = \"subheader headerLastRow\"><th class = \"rowNumber\" style = \"font-weight: bold; text-align: right;\"></th><th title = \"Bool\" style = \"text-align: left;\">Bool</th><th title = \"Int64\" style = \"text-align: left;\">Int64</th></tr></thead><tbody><tr><td class = \"rowNumber\" style = \"font-weight: bold; text-align: right;\">1</td><td style = \"text-align: right;\">false</td><td style = \"text-align: right;\">33</td></tr><tr><td class = \"rowNumber\" style = \"font-weight: bold; text-align: right;\">2</td><td style = \"text-align: right;\">true</td><td style = \"text-align: right;\">45</td></tr></tbody></table></div>"
      ],
      "text/latex": [
       "\\begin{tabular}{r|cc}\n",
       "\t& Match & Count\\\\\n",
       "\t\\hline\n",
       "\t& Bool & Int64\\\\\n",
       "\t\\hline\n",
       "\t1 & 0 & 33 \\\\\n",
       "\t2 & 1 & 45 \\\\\n",
       "\\end{tabular}\n"
      ],
      "text/plain": [
       "\u001b[1m2×2 DataFrame\u001b[0m\n",
       "\u001b[1m Row \u001b[0m│\u001b[1m Match \u001b[0m\u001b[1m Count \u001b[0m\n",
       "     │\u001b[90m Bool  \u001b[0m\u001b[90m Int64 \u001b[0m\n",
       "─────┼──────────────\n",
       "   1 │ false     33\n",
       "   2 │  true     45"
      ]
     },
     "metadata": {},
     "output_type": "display_data"
    }
   ],
   "source": [
    "#Frequencey count of suspects weapon type containing gun\n",
    "data.Match = occursin.(r\"gun\",data.\"Suspect's Weapon\")\n",
    "grouped = groupby(data,:Match)\n",
    "grouped_cnt = combine(grouped,nrow => :Count)\n",
    "grouped_cnt"
   ]
  },
  {
   "cell_type": "code",
   "execution_count": 21,
   "metadata": {},
   "outputs": [
    {
     "data": {
      "text/html": [
       "<div><div style = \"float: left;\"><span>41×2 DataFrame</span></div><div style = \"float: right;\"><span style = \"font-style: italic;\">16 rows omitted</span></div><div style = \"clear: both;\"></div></div><div class = \"data-frame\" style = \"overflow-x: scroll;\"><table class = \"data-frame\" style = \"margin-bottom: 6px;\"><thead><tr class = \"header\"><th class = \"rowNumber\" style = \"font-weight: bold; text-align: right;\">Row</th><th style = \"text-align: left;\">Incident Type</th><th style = \"text-align: left;\">count</th></tr><tr class = \"subheader headerLastRow\"><th class = \"rowNumber\" style = \"font-weight: bold; text-align: right;\"></th><th title = \"String\" style = \"text-align: left;\">String</th><th title = \"Int64\" style = \"text-align: left;\">Int64</th></tr></thead><tbody><tr><td class = \"rowNumber\" style = \"font-weight: bold; text-align: right;\">1</td><td style = \"text-align: left;\">Traffic Stop</td><td style = \"text-align: right;\">7</td></tr><tr><td class = \"rowNumber\" style = \"font-weight: bold; text-align: right;\">2</td><td style = \"text-align: left;\">Suspicious Person</td><td style = \"text-align: right;\">6</td></tr><tr><td class = \"rowNumber\" style = \"font-weight: bold; text-align: right;\">3</td><td style = \"text-align: left;\">Armed Robbery</td><td style = \"text-align: right;\">5</td></tr><tr><td class = \"rowNumber\" style = \"font-weight: bold; text-align: right;\">4</td><td style = \"text-align: left;\">Stolen Vehicle</td><td style = \"text-align: right;\">4</td></tr><tr><td class = \"rowNumber\" style = \"font-weight: bold; text-align: right;\">5</td><td style = \"text-align: left;\">Attempted Suicide</td><td style = \"text-align: right;\">4</td></tr><tr><td class = \"rowNumber\" style = \"font-weight: bold; text-align: right;\">6</td><td style = \"text-align: left;\">Armed Subject</td><td style = \"text-align: right;\">4</td></tr><tr><td class = \"rowNumber\" style = \"font-weight: bold; text-align: right;\">7</td><td style = \"text-align: left;\">Battery</td><td style = \"text-align: right;\">3</td></tr><tr><td class = \"rowNumber\" style = \"font-weight: bold; text-align: right;\">8</td><td style = \"text-align: left;\">Shots fired</td><td style = \"text-align: right;\">3</td></tr><tr><td class = \"rowNumber\" style = \"font-weight: bold; text-align: right;\">9</td><td style = \"text-align: left;\">Domestic Disturbance</td><td style = \"text-align: right;\">2</td></tr><tr><td class = \"rowNumber\" style = \"font-weight: bold; text-align: right;\">10</td><td style = \"text-align: left;\">Drug Violation</td><td style = \"text-align: right;\">2</td></tr><tr><td class = \"rowNumber\" style = \"font-weight: bold; text-align: right;\">11</td><td style = \"text-align: left;\">Suspicious Incident</td><td style = \"text-align: right;\">2</td></tr><tr><td class = \"rowNumber\" style = \"font-weight: bold; text-align: right;\">12</td><td style = \"text-align: left;\">Suspicious Persons</td><td style = \"text-align: right;\">2</td></tr><tr><td class = \"rowNumber\" style = \"font-weight: bold; text-align: right;\">13</td><td style = \"text-align: left;\">Attempted Murder</td><td style = \"text-align: right;\">2</td></tr><tr><td style = \"text-align: right;\">&vellip;</td><td style = \"text-align: right;\">&vellip;</td><td style = \"text-align: right;\">&vellip;</td></tr><tr><td class = \"rowNumber\" style = \"font-weight: bold; text-align: right;\">30</td><td style = \"text-align: left;\">Threats/Assault</td><td style = \"text-align: right;\">1</td></tr><tr><td class = \"rowNumber\" style = \"font-weight: bold; text-align: right;\">31</td><td style = \"text-align: left;\">Traffic Crash</td><td style = \"text-align: right;\">1</td></tr><tr><td class = \"rowNumber\" style = \"font-weight: bold; text-align: right;\">32</td><td style = \"text-align: left;\">Disturbance</td><td style = \"text-align: right;\">1</td></tr><tr><td class = \"rowNumber\" style = \"font-weight: bold; text-align: right;\">33</td><td style = \"text-align: left;\">Suspicious Incident / Possible Kidnapping</td><td style = \"text-align: right;\">1</td></tr><tr><td class = \"rowNumber\" style = \"font-weight: bold; text-align: right;\">34</td><td style = \"text-align: left;\">Felony Warrant</td><td style = \"text-align: right;\">1</td></tr><tr><td class = \"rowNumber\" style = \"font-weight: bold; text-align: right;\">35</td><td style = \"text-align: left;\">Occupied Stolen Vehicle</td><td style = \"text-align: right;\">1</td></tr><tr><td class = \"rowNumber\" style = \"font-weight: bold; text-align: right;\">36</td><td style = \"text-align: left;\">Fraud</td><td style = \"text-align: right;\">1</td></tr><tr><td class = \"rowNumber\" style = \"font-weight: bold; text-align: right;\">37</td><td style = \"text-align: left;\">Well Being Check</td><td style = \"text-align: right;\">1</td></tr><tr><td class = \"rowNumber\" style = \"font-weight: bold; text-align: right;\">38</td><td style = \"text-align: left;\">Active Shooter</td><td style = \"text-align: right;\">1</td></tr><tr><td class = \"rowNumber\" style = \"font-weight: bold; text-align: right;\">39</td><td style = \"text-align: left;\">Burglary</td><td style = \"text-align: right;\">1</td></tr><tr><td class = \"rowNumber\" style = \"font-weight: bold; text-align: right;\">40</td><td style = \"text-align: left;\">Unknown Trouble/Person Robbery</td><td style = \"text-align: right;\">1</td></tr><tr><td class = \"rowNumber\" style = \"font-weight: bold; text-align: right;\">41</td><td style = \"text-align: left;\">Aggravated Assault</td><td style = \"text-align: right;\">1</td></tr></tbody></table></div>"
      ],
      "text/latex": [
       "\\begin{tabular}{r|cc}\n",
       "\t& Incident Type & count\\\\\n",
       "\t\\hline\n",
       "\t& String & Int64\\\\\n",
       "\t\\hline\n",
       "\t1 & Traffic Stop & 7 \\\\\n",
       "\t2 & Suspicious Person & 6 \\\\\n",
       "\t3 & Armed Robbery & 5 \\\\\n",
       "\t4 & Stolen Vehicle & 4 \\\\\n",
       "\t5 & Attempted Suicide & 4 \\\\\n",
       "\t6 & Armed Subject & 4 \\\\\n",
       "\t7 & Battery & 3 \\\\\n",
       "\t8 & Shots fired & 3 \\\\\n",
       "\t9 & Domestic Disturbance & 2 \\\\\n",
       "\t10 & Drug Violation & 2 \\\\\n",
       "\t11 & Suspicious Incident & 2 \\\\\n",
       "\t12 & Suspicious Persons & 2 \\\\\n",
       "\t13 & Attempted Murder & 2 \\\\\n",
       "\t14 & Carjacking & 2 \\\\\n",
       "\t15 & Unknown Trouble & 2 \\\\\n",
       "\t16 & Suspicious Vehicle & 2 \\\\\n",
       "\t17 & Homicide & 2 \\\\\n",
       "\t18 & Vehicle Stop & 1 \\\\\n",
       "\t19 & Stalking & 1 \\\\\n",
       "\t20 & Aggravated Battery & 1 \\\\\n",
       "\t21 & Street Racing & 1 \\\\\n",
       "\t22 & Barricaded Subject & 1 \\\\\n",
       "\t23 & Violent Mentally Ill Person & 1 \\\\\n",
       "\t24 & Shoplifiting & 1 \\\\\n",
       "\t$\\dots$ & $\\dots$ & $\\dots$ \\\\\n",
       "\\end{tabular}\n"
      ],
      "text/plain": [
       "\u001b[1m41×2 DataFrame\u001b[0m\n",
       "\u001b[1m Row \u001b[0m│\u001b[1m Incident Type                     \u001b[0m\u001b[1m count \u001b[0m\n",
       "     │\u001b[90m String                            \u001b[0m\u001b[90m Int64 \u001b[0m\n",
       "─────┼──────────────────────────────────────────\n",
       "   1 │ Traffic Stop                           7\n",
       "   2 │ Suspicious Person                      6\n",
       "   3 │ Armed Robbery                          5\n",
       "   4 │ Stolen Vehicle                         4\n",
       "   5 │ Attempted Suicide                      4\n",
       "   6 │ Armed Subject                          4\n",
       "   7 │ Battery                                3\n",
       "   8 │ Shots fired                            3\n",
       "  ⋮  │                 ⋮                    ⋮\n",
       "  35 │ Occupied Stolen Vehicle                1\n",
       "  36 │ Fraud                                  1\n",
       "  37 │ Well Being Check                       1\n",
       "  38 │ Active Shooter                         1\n",
       "  39 │ Burglary                               1\n",
       "  40 │ Unknown Trouble/Person Robbery         1\n",
       "  41 │ Aggravated Assault                     1\n",
       "\u001b[36m                                 26 rows omitted\u001b[0m"
      ]
     },
     "metadata": {},
     "output_type": "display_data"
    }
   ],
   "source": [
    "Inc_type_cnt = combine(groupby(data,:\"Incident Type\"),nrow => :count)\n",
    "sort(Inc_type_cnt,:count,rev=true)"
   ]
  },
  {
   "cell_type": "code",
   "execution_count": 22,
   "metadata": {},
   "outputs": [
    {
     "data": {
      "text/plain": [
       "78-element Vector{String}:\n",
       " \"Vehicle Motor\"\n",
       " \"Vehicle Motor\"\n",
       " \"Battery\"\n",
       " \"Battery\"\n",
       " \"Burglary\"\n",
       " \"Battery\"\n",
       " \"Vehicle Motor\"\n",
       " \"Battery\"\n",
       " \"Battery\"\n",
       " \"Burglary\"\n",
       " ⋮\n",
       " \"Burglary\"\n",
       " \"Battery\"\n",
       " \"Battery\"\n",
       " \"Battery\"\n",
       " \"Battery\"\n",
       " \"Burglary\"\n",
       " \"Battery\"\n",
       " \"Burglary\"\n",
       " \"Burglary\""
      ]
     },
     "metadata": {},
     "output_type": "display_data"
    }
   ],
   "source": [
    "data.Incident_Type = Classify_Inc_ty.(data.\"Incident Type\")\n"
   ]
  },
  {
   "cell_type": "code",
   "execution_count": 24,
   "metadata": {},
   "outputs": [
    {
     "data": {
      "text/html": [
       "<div><div style = \"float: left;\"><span>3×2 DataFrame</span></div><div style = \"clear: both;\"></div></div><div class = \"data-frame\" style = \"overflow-x: scroll;\"><table class = \"data-frame\" style = \"margin-bottom: 6px;\"><thead><tr class = \"header\"><th class = \"rowNumber\" style = \"font-weight: bold; text-align: right;\">Row</th><th style = \"text-align: left;\">Incident_Type</th><th style = \"text-align: left;\">count</th></tr><tr class = \"subheader headerLastRow\"><th class = \"rowNumber\" style = \"font-weight: bold; text-align: right;\"></th><th title = \"String\" style = \"text-align: left;\">String</th><th title = \"Int64\" style = \"text-align: left;\">Int64</th></tr></thead><tbody><tr><td class = \"rowNumber\" style = \"font-weight: bold; text-align: right;\">1</td><td style = \"text-align: left;\">Battery</td><td style = \"text-align: right;\">49</td></tr><tr><td class = \"rowNumber\" style = \"font-weight: bold; text-align: right;\">2</td><td style = \"text-align: left;\">Vehicle Motor</td><td style = \"text-align: right;\">17</td></tr><tr><td class = \"rowNumber\" style = \"font-weight: bold; text-align: right;\">3</td><td style = \"text-align: left;\">Burglary</td><td style = \"text-align: right;\">12</td></tr></tbody></table></div>"
      ],
      "text/latex": [
       "\\begin{tabular}{r|cc}\n",
       "\t& Incident\\_Type & count\\\\\n",
       "\t\\hline\n",
       "\t& String & Int64\\\\\n",
       "\t\\hline\n",
       "\t1 & Battery & 49 \\\\\n",
       "\t2 & Vehicle Motor & 17 \\\\\n",
       "\t3 & Burglary & 12 \\\\\n",
       "\\end{tabular}\n"
      ],
      "text/plain": [
       "\u001b[1m3×2 DataFrame\u001b[0m\n",
       "\u001b[1m Row \u001b[0m│\u001b[1m Incident_Type \u001b[0m\u001b[1m count \u001b[0m\n",
       "     │\u001b[90m String        \u001b[0m\u001b[90m Int64 \u001b[0m\n",
       "─────┼──────────────────────\n",
       "   1 │ Battery           49\n",
       "   2 │ Vehicle Motor     17\n",
       "   3 │ Burglary          12"
      ]
     },
     "metadata": {},
     "output_type": "display_data"
    }
   ],
   "source": [
    "#Incident Type frequency \n",
    "Inc_cat_cnt = combine(groupby(data,:\"Incident_Type\"),nrow => :count)\n",
    "sort(Inc_cat_cnt,:count,rev=true)"
   ]
  },
  {
   "cell_type": "code",
   "execution_count": 26,
   "metadata": {},
   "outputs": [
    {
     "name": "stderr",
     "output_type": "stream",
     "text": [
      "\u001b[32m\u001b[1m   Resolving\u001b[22m\u001b[39m package versions...\n",
      "\u001b[32m\u001b[1m  No Changes\u001b[22m\u001b[39m to `C:\\Users\\umapa\\.julia\\environments\\v1.10\\Project.toml`\n",
      "\u001b[32m\u001b[1m  No Changes\u001b[22m\u001b[39m to `C:\\Users\\umapa\\.julia\\environments\\v1.10\\Manifest.toml`\n",
      "\u001b[32m\u001b[1m   Resolving\u001b[22m\u001b[39m package versions...\n",
      "\u001b[32m\u001b[1m  No Changes\u001b[22m\u001b[39m to `C:\\Users\\umapa\\.julia\\environments\\v1.10\\Project.toml`\n",
      "\u001b[32m\u001b[1m  No Changes\u001b[22m\u001b[39m to `C:\\Users\\umapa\\.julia\\environments\\v1.10\\Manifest.toml`\n",
      "\u001b[32m\u001b[1m   Resolving\u001b[22m\u001b[39m package versions...\n",
      "\u001b[32m\u001b[1m  No Changes\u001b[22m\u001b[39m to `C:\\Users\\umapa\\.julia\\environments\\v1.10\\Project.toml`\n",
      "\u001b[32m\u001b[1m  No Changes\u001b[22m\u001b[39m to `C:\\Users\\umapa\\.julia\\environments\\v1.10\\Manifest.toml`\n"
     ]
    }
   ],
   "source": [
    "using Pkg\n",
    "Pkg.add(\"Plots\")\n",
    "using  Plots\n",
    "#using PyPlot\n",
    "\n",
    "Pkg.add(\"GR\") \n",
    "Pkg.add(\"PGFPlotsX\") "
   ]
  },
  {
   "cell_type": "code",
   "execution_count": 29,
   "metadata": {},
   "outputs": [
    {
     "data": {
      "image/png": "[encoded data removed]",
      "image/svg+xml": [
       "<?xml version=\"1.0\" encoding=\"utf-8\"?>\n",
       "<svg xmlns=\"http://www.w3.org/2000/svg\" xmlns:xlink=\"http://www.w3.org/1999/xlink\" width=\"600\" height=\"400\" viewBox=\"0 0 2400 1600\">\n",
       "<defs>\n",
       "  <clipPath id=\"clip110\">\n",
       "    <rect x=\"0\" y=\"0\" width=\"2400\" height=\"1600\"/>\n",
       "  </clipPath>\n",
       "</defs>\n",
       "<path clip-path=\"url(#clip110)\" d=\"M0 1600 L2400 1600 L2400 0 L0 0  Z\" fill=\"#ffffff\" fill-rule=\"evenodd\" fill-opacity=\"1\"/>\n",
       "<defs>\n",
       "  <clipPath id=\"clip111\">\n",
       "    <rect x=\"480\" y=\"0\" width=\"1681\" height=\"1600\"/>\n",
       "  </clipPath>\n",
       "</defs>\n",
       "<path clip-path=\"url(#clip110)\" d=\"M193.936 1486.45 L2352.76 1486.45 L2352.76 123.472 L193.936 123.472  Z\" fill=\"#ffffff\" fill-rule=\"evenodd\" fill-opacity=\"1\"/>\n",
       "<defs>\n",
       "  <clipPath id=\"clip112\">\n",
       "    <rect x=\"193\" y=\"123\" width=\"2160\" height=\"1364\"/>\n",
       "  </clipPath>\n",
       "</defs>\n",
       "<path clip-path=\"url(#clip110)\" d=\"M631.581 12.096 L639.764 12.096 L639.764 72.576 L631.581 72.576 L631.581 12.096 Z\" fill=\"#000000\" fill-rule=\"nonzero\" fill-opacity=\"1\" /><path clip-path=\"url(#clip110)\" d=\"M693.439 45.1919 L693.439 72.576 L685.985 72.576 L685.985 45.4349 Q685.985 38.994 683.474 35.7938 Q680.962 32.5936 675.939 32.5936 Q669.903 32.5936 666.419 36.4419 Q662.935 40.2903 662.935 46.9338 L662.935 72.576 L655.441 72.576 L655.441 27.2059 L662.935 27.2059 L662.935 34.2544 Q665.609 30.163 669.214 28.1376 Q672.86 26.1121 677.6 26.1121 Q685.418 26.1121 689.428 30.9732 Q693.439 35.7938 693.439 45.1919 Z\" fill=\"#000000\" fill-rule=\"nonzero\" fill-opacity=\"1\" /><path clip-path=\"url(#clip110)\" d=\"M740.956 28.9478 L740.956 35.9153 Q737.796 34.1734 734.596 33.3227 Q731.436 32.4315 728.196 32.4315 Q720.944 32.4315 716.934 37.0496 Q712.924 41.6271 712.924 49.9314 Q712.924 58.2358 716.934 62.8538 Q720.944 67.4314 728.196 67.4314 Q731.436 67.4314 734.596 66.5807 Q737.796 65.6895 740.956 63.9476 L740.956 70.8341 Q737.837 72.2924 734.474 73.0216 Q731.153 73.7508 727.385 73.7508 Q717.137 73.7508 711.101 67.3098 Q705.065 60.8689 705.065 49.9314 Q705.065 38.832 711.141 32.472 Q717.258 26.1121 727.871 26.1121 Q731.315 26.1121 734.596 26.8413 Q737.877 27.5299 740.956 28.9478 Z\" fill=\"#000000\" fill-rule=\"nonzero\" fill-opacity=\"1\" /><path clip-path=\"url(#clip110)\" d=\"M753.919 27.2059 L761.372 27.2059 L761.372 72.576 L753.919 72.576 L753.919 27.2059 M753.919 9.54393 L761.372 9.54393 L761.372 18.9825 L753.919 18.9825 L753.919 9.54393 Z\" fill=\"#000000\" fill-rule=\"nonzero\" fill-opacity=\"1\" /><path clip-path=\"url(#clip110)\" d=\"M806.824 34.0924 L806.824 9.54393 L814.277 9.54393 L814.277 72.576 L806.824 72.576 L806.824 65.7705 Q804.474 69.8214 800.869 71.8063 Q797.304 73.7508 792.281 73.7508 Q784.057 73.7508 778.872 67.1883 Q773.728 60.6258 773.728 49.9314 Q773.728 39.2371 778.872 32.6746 Q784.057 26.1121 792.281 26.1121 Q797.304 26.1121 800.869 28.0971 Q804.474 30.0415 806.824 34.0924 M781.424 49.9314 Q781.424 58.1548 784.787 62.8538 Q788.189 67.5124 794.104 67.5124 Q800.018 67.5124 803.421 62.8538 Q806.824 58.1548 806.824 49.9314 Q806.824 41.7081 803.421 37.0496 Q800.018 32.3505 794.104 32.3505 Q788.189 32.3505 784.787 37.0496 Q781.424 41.7081 781.424 49.9314 Z\" fill=\"#000000\" fill-rule=\"nonzero\" fill-opacity=\"1\" /><path clip-path=\"url(#clip110)\" d=\"M868.438 48.0275 L868.438 51.6733 L834.167 51.6733 Q834.653 59.3701 838.785 63.421 Q842.958 67.4314 850.371 67.4314 Q854.665 67.4314 858.675 66.3781 Q862.726 65.3249 866.696 63.2184 L866.696 70.267 Q862.686 71.9684 858.473 72.8596 Q854.26 73.7508 849.925 73.7508 Q839.069 73.7508 832.709 67.4314 Q826.389 61.1119 826.389 50.3365 Q826.389 39.1965 832.385 32.6746 Q838.421 26.1121 848.629 26.1121 Q857.784 26.1121 863.091 32.0264 Q868.438 37.9003 868.438 48.0275 M860.984 45.84 Q860.903 39.7232 857.541 36.0774 Q854.219 32.4315 848.71 32.4315 Q842.472 32.4315 838.704 35.9558 Q834.977 39.4801 834.41 45.8805 L860.984 45.84 Z\" fill=\"#000000\" fill-rule=\"nonzero\" fill-opacity=\"1\" /><path clip-path=\"url(#clip110)\" d=\"M918.385 45.1919 L918.385 72.576 L910.932 72.576 L910.932 45.4349 Q910.932 38.994 908.42 35.7938 Q905.909 32.5936 900.886 32.5936 Q894.85 32.5936 891.366 36.4419 Q887.882 40.2903 887.882 46.9338 L887.882 72.576 L880.388 72.576 L880.388 27.2059 L887.882 27.2059 L887.882 34.2544 Q890.556 30.163 894.161 28.1376 Q897.807 26.1121 902.546 26.1121 Q910.365 26.1121 914.375 30.9732 Q918.385 35.7938 918.385 45.1919 Z\" fill=\"#000000\" fill-rule=\"nonzero\" fill-opacity=\"1\" /><path clip-path=\"url(#clip110)\" d=\"M940.625 14.324 L940.625 27.2059 L955.978 27.2059 L955.978 32.9987 L940.625 32.9987 L940.625 57.6282 Q940.625 63.1779 942.124 64.7578 Q943.663 66.3376 948.322 66.3376 L955.978 66.3376 L955.978 72.576 L948.322 72.576 Q939.693 72.576 936.412 69.3758 Q933.131 66.1351 933.131 57.6282 L933.131 32.9987 L927.662 32.9987 L927.662 27.2059 L933.131 27.2059 L933.131 14.324 L940.625 14.324 Z\" fill=\"#000000\" fill-rule=\"nonzero\" fill-opacity=\"1\" /><path clip-path=\"url(#clip110)\" d=\"M984.091 12.096 L1035.25 12.096 L1035.25 18.9825 L1013.78 18.9825 L1013.78 72.576 L1005.56 72.576 L1005.56 18.9825 L984.091 18.9825 L984.091 12.096 Z\" fill=\"#000000\" fill-rule=\"nonzero\" fill-opacity=\"1\" /><path clip-path=\"url(#clip110)\" d=\"M1048.78 76.7889 Q1045.62 84.8907 1042.63 87.3618 Q1039.63 89.8329 1034.61 89.8329 L1028.65 89.8329 L1028.65 83.5945 L1033.03 83.5945 Q1036.1 83.5945 1037.81 82.1361 Q1039.51 80.6778 1041.57 75.2496 L1042.91 71.8468 L1024.56 27.2059 L1032.46 27.2059 L1046.64 62.6918 L1060.82 27.2059 L1068.71 27.2059 L1048.78 76.7889 Z\" fill=\"#000000\" fill-rule=\"nonzero\" fill-opacity=\"1\" /><path clip-path=\"url(#clip110)\" d=\"M1086.21 65.7705 L1086.21 89.8329 L1078.72 89.8329 L1078.72 27.2059 L1086.21 27.2059 L1086.21 34.0924 Q1088.56 30.0415 1092.13 28.0971 Q1095.73 26.1121 1100.72 26.1121 Q1108.98 26.1121 1114.13 32.6746 Q1119.31 39.2371 1119.31 49.9314 Q1119.31 60.6258 1114.13 67.1883 Q1108.98 73.7508 1100.72 73.7508 Q1095.73 73.7508 1092.13 71.8063 Q1088.56 69.8214 1086.21 65.7705 M1111.57 49.9314 Q1111.57 41.7081 1108.17 37.0496 Q1104.81 32.3505 1098.89 32.3505 Q1092.98 32.3505 1089.58 37.0496 Q1086.21 41.7081 1086.21 49.9314 Q1086.21 58.1548 1089.58 62.8538 Q1092.98 67.5124 1098.89 67.5124 Q1104.81 67.5124 1108.17 62.8538 Q1111.57 58.1548 1111.57 49.9314 Z\" fill=\"#000000\" fill-rule=\"nonzero\" fill-opacity=\"1\" /><path clip-path=\"url(#clip110)\" d=\"M1170.47 48.0275 L1170.47 51.6733 L1136.2 51.6733 Q1136.69 59.3701 1140.82 63.421 Q1144.99 67.4314 1152.41 67.4314 Q1156.7 67.4314 1160.71 66.3781 Q1164.76 65.3249 1168.73 63.2184 L1168.73 70.267 Q1164.72 71.9684 1160.51 72.8596 Q1156.3 73.7508 1151.96 73.7508 Q1141.1 73.7508 1134.74 67.4314 Q1128.42 61.1119 1128.42 50.3365 Q1128.42 39.1965 1134.42 32.6746 Q1140.46 26.1121 1150.66 26.1121 Q1159.82 26.1121 1165.13 32.0264 Q1170.47 37.9003 1170.47 48.0275 M1163.02 45.84 Q1162.94 39.7232 1159.58 36.0774 Q1156.25 32.4315 1150.75 32.4315 Q1144.51 32.4315 1140.74 35.9558 Q1137.01 39.4801 1136.45 45.8805 L1163.02 45.84 Z\" fill=\"#000000\" fill-rule=\"nonzero\" fill-opacity=\"1\" /><path clip-path=\"url(#clip110)\" d=\"M1204.74 27.2059 L1212.2 27.2059 L1221.51 62.6108 L1230.79 27.2059 L1239.58 27.2059 L1248.9 62.6108 L1258.18 27.2059 L1265.63 27.2059 L1253.76 72.576 L1244.97 72.576 L1235.21 35.3887 L1225.4 72.576 L1216.61 72.576 L1204.74 27.2059 Z\" fill=\"#000000\" fill-rule=\"nonzero\" fill-opacity=\"1\" /><path clip-path=\"url(#clip110)\" d=\"M1276.93 27.2059 L1284.38 27.2059 L1284.38 72.576 L1276.93 72.576 L1276.93 27.2059 M1276.93 9.54393 L1284.38 9.54393 L1284.38 18.9825 L1276.93 18.9825 L1276.93 9.54393 Z\" fill=\"#000000\" fill-rule=\"nonzero\" fill-opacity=\"1\" /><path clip-path=\"url(#clip110)\" d=\"M1307.35 14.324 L1307.35 27.2059 L1322.71 27.2059 L1322.71 32.9987 L1307.35 32.9987 L1307.35 57.6282 Q1307.35 63.1779 1308.85 64.7578 Q1310.39 66.3376 1315.05 66.3376 L1322.71 66.3376 L1322.71 72.576 L1315.05 72.576 Q1306.42 72.576 1303.14 69.3758 Q1299.86 66.1351 1299.86 57.6282 L1299.86 32.9987 L1294.39 32.9987 L1294.39 27.2059 L1299.86 27.2059 L1299.86 14.324 L1307.35 14.324 Z\" fill=\"#000000\" fill-rule=\"nonzero\" fill-opacity=\"1\" /><path clip-path=\"url(#clip110)\" d=\"M1370.22 45.1919 L1370.22 72.576 L1362.77 72.576 L1362.77 45.4349 Q1362.77 38.994 1360.26 35.7938 Q1357.75 32.5936 1352.72 32.5936 Q1346.69 32.5936 1343.2 36.4419 Q1339.72 40.2903 1339.72 46.9338 L1339.72 72.576 L1332.23 72.576 L1332.23 9.54393 L1339.72 9.54393 L1339.72 34.2544 Q1342.39 30.163 1346 28.1376 Q1349.64 26.1121 1354.38 26.1121 Q1362.2 26.1121 1366.21 30.9732 Q1370.22 35.7938 1370.22 45.1919 Z\" fill=\"#000000\" fill-rule=\"nonzero\" fill-opacity=\"1\" /><path clip-path=\"url(#clip110)\" d=\"M1418.67 65.7705 L1418.67 89.8329 L1411.18 89.8329 L1411.18 27.2059 L1418.67 27.2059 L1418.67 34.0924 Q1421.02 30.0415 1424.59 28.0971 Q1428.19 26.1121 1433.17 26.1121 Q1441.44 26.1121 1446.58 32.6746 Q1451.77 39.2371 1451.77 49.9314 Q1451.77 60.6258 1446.58 67.1883 Q1441.44 73.7508 1433.17 73.7508 Q1428.19 73.7508 1424.59 71.8063 Q1421.02 69.8214 1418.67 65.7705 M1444.03 49.9314 Q1444.03 41.7081 1440.63 37.0496 Q1437.27 32.3505 1431.35 32.3505 Q1425.44 32.3505 1422.03 37.0496 Q1418.67 41.7081 1418.67 49.9314 Q1418.67 58.1548 1422.03 62.8538 Q1425.44 67.5124 1431.35 67.5124 Q1437.27 67.5124 1440.63 62.8538 Q1444.03 58.1548 1444.03 49.9314 Z\" fill=\"#000000\" fill-rule=\"nonzero\" fill-opacity=\"1\" /><path clip-path=\"url(#clip110)\" d=\"M1502.93 48.0275 L1502.93 51.6733 L1468.66 51.6733 Q1469.15 59.3701 1473.28 63.421 Q1477.45 67.4314 1484.86 67.4314 Q1489.16 67.4314 1493.17 66.3781 Q1497.22 65.3249 1501.19 63.2184 L1501.19 70.267 Q1497.18 71.9684 1492.97 72.8596 Q1488.75 73.7508 1484.42 73.7508 Q1473.56 73.7508 1467.2 67.4314 Q1460.88 61.1119 1460.88 50.3365 Q1460.88 39.1965 1466.88 32.6746 Q1472.91 26.1121 1483.12 26.1121 Q1492.28 26.1121 1497.58 32.0264 Q1502.93 37.9003 1502.93 48.0275 M1495.48 45.84 Q1495.4 39.7232 1492.03 36.0774 Q1488.71 32.4315 1483.2 32.4315 Q1476.96 32.4315 1473.2 35.9558 Q1469.47 39.4801 1468.9 45.8805 L1495.48 45.84 Z\" fill=\"#000000\" fill-rule=\"nonzero\" fill-opacity=\"1\" /><path clip-path=\"url(#clip110)\" d=\"M1541.46 34.1734 Q1540.2 33.4443 1538.7 33.1202 Q1537.24 32.7556 1535.46 32.7556 Q1529.14 32.7556 1525.74 36.8875 Q1522.38 40.9789 1522.38 48.6757 L1522.38 72.576 L1514.88 72.576 L1514.88 27.2059 L1522.38 27.2059 L1522.38 34.2544 Q1524.72 30.1225 1528.49 28.1376 Q1532.26 26.1121 1537.65 26.1121 Q1538.42 26.1121 1539.35 26.2337 Q1540.28 26.3147 1541.41 26.5172 L1541.46 34.1734 Z\" fill=\"#000000\" fill-rule=\"nonzero\" fill-opacity=\"1\" /><path clip-path=\"url(#clip110)\" d=\"M1580.1 28.9478 L1580.1 35.9153 Q1576.94 34.1734 1573.74 33.3227 Q1570.58 32.4315 1567.34 32.4315 Q1560.09 32.4315 1556.08 37.0496 Q1552.07 41.6271 1552.07 49.9314 Q1552.07 58.2358 1556.08 62.8538 Q1560.09 67.4314 1567.34 67.4314 Q1570.58 67.4314 1573.74 66.5807 Q1576.94 65.6895 1580.1 63.9476 L1580.1 70.8341 Q1576.98 72.2924 1573.62 73.0216 Q1570.3 73.7508 1566.53 73.7508 Q1556.28 73.7508 1550.25 67.3098 Q1544.21 60.8689 1544.21 49.9314 Q1544.21 38.832 1550.29 32.472 Q1556.4 26.1121 1567.02 26.1121 Q1570.46 26.1121 1573.74 26.8413 Q1577.02 27.5299 1580.1 28.9478 Z\" fill=\"#000000\" fill-rule=\"nonzero\" fill-opacity=\"1\" /><path clip-path=\"url(#clip110)\" d=\"M1631.87 48.0275 L1631.87 51.6733 L1597.6 51.6733 Q1598.09 59.3701 1602.22 63.421 Q1606.39 67.4314 1613.8 67.4314 Q1618.1 67.4314 1622.11 66.3781 Q1626.16 65.3249 1630.13 63.2184 L1630.13 70.267 Q1626.12 71.9684 1621.91 72.8596 Q1617.69 73.7508 1613.36 73.7508 Q1602.5 73.7508 1596.14 67.4314 Q1589.82 61.1119 1589.82 50.3365 Q1589.82 39.1965 1595.82 32.6746 Q1601.85 26.1121 1612.06 26.1121 Q1621.22 26.1121 1626.52 32.0264 Q1631.87 37.9003 1631.87 48.0275 M1624.42 45.84 Q1624.34 39.7232 1620.97 36.0774 Q1617.65 32.4315 1612.14 32.4315 Q1605.9 32.4315 1602.14 35.9558 Q1598.41 39.4801 1597.84 45.8805 L1624.42 45.84 Z\" fill=\"#000000\" fill-rule=\"nonzero\" fill-opacity=\"1\" /><path clip-path=\"url(#clip110)\" d=\"M1681.82 45.1919 L1681.82 72.576 L1674.37 72.576 L1674.37 45.4349 Q1674.37 38.994 1671.85 35.7938 Q1669.34 32.5936 1664.32 32.5936 Q1658.28 32.5936 1654.8 36.4419 Q1651.32 40.2903 1651.32 46.9338 L1651.32 72.576 L1643.82 72.576 L1643.82 27.2059 L1651.32 27.2059 L1651.32 34.2544 Q1653.99 30.163 1657.59 28.1376 Q1661.24 26.1121 1665.98 26.1121 Q1673.8 26.1121 1677.81 30.9732 Q1681.82 35.7938 1681.82 45.1919 Z\" fill=\"#000000\" fill-rule=\"nonzero\" fill-opacity=\"1\" /><path clip-path=\"url(#clip110)\" d=\"M1704.06 14.324 L1704.06 27.2059 L1719.41 27.2059 L1719.41 32.9987 L1704.06 32.9987 L1704.06 57.6282 Q1704.06 63.1779 1705.56 64.7578 Q1707.1 66.3376 1711.76 66.3376 L1719.41 66.3376 L1719.41 72.576 L1711.76 72.576 Q1703.13 72.576 1699.85 69.3758 Q1696.56 66.1351 1696.56 57.6282 L1696.56 32.9987 L1691.1 32.9987 L1691.1 27.2059 L1696.56 27.2059 L1696.56 14.324 L1704.06 14.324 Z\" fill=\"#000000\" fill-rule=\"nonzero\" fill-opacity=\"1\" /><path clip-path=\"url(#clip110)\" d=\"M1749.83 49.7694 Q1740.8 49.7694 1737.32 51.8354 Q1733.83 53.9013 1733.83 58.8839 Q1733.83 62.8538 1736.43 65.2034 Q1739.06 67.5124 1743.55 67.5124 Q1749.75 67.5124 1753.48 63.1374 Q1757.25 58.7219 1757.25 51.4303 L1757.25 49.7694 L1749.83 49.7694 M1764.7 46.6907 L1764.7 72.576 L1757.25 72.576 L1757.25 65.6895 Q1754.69 69.8214 1750.89 71.8063 Q1747.08 73.7508 1741.57 73.7508 Q1734.6 73.7508 1730.47 69.8619 Q1726.38 65.9325 1726.38 59.3701 Q1726.38 51.7138 1731.48 47.825 Q1736.63 43.9361 1746.8 43.9361 L1757.25 43.9361 L1757.25 43.2069 Q1757.25 38.0623 1753.84 35.2672 Q1750.48 32.4315 1744.36 32.4315 Q1740.48 32.4315 1736.79 33.3632 Q1733.1 34.295 1729.7 36.1584 L1729.7 29.2718 Q1733.79 27.692 1737.64 26.9223 Q1741.49 26.1121 1745.13 26.1121 Q1754.98 26.1121 1759.84 31.2163 Q1764.7 36.3204 1764.7 46.6907 Z\" fill=\"#000000\" fill-rule=\"nonzero\" fill-opacity=\"1\" /><path clip-path=\"url(#clip110)\" d=\"M1809.91 49.3643 Q1809.91 41.2625 1806.55 36.8065 Q1803.22 32.3505 1797.19 32.3505 Q1791.19 32.3505 1787.83 36.8065 Q1784.51 41.2625 1784.51 49.3643 Q1784.51 57.4256 1787.83 61.8816 Q1791.19 66.3376 1797.19 66.3376 Q1803.22 66.3376 1806.55 61.8816 Q1809.91 57.4256 1809.91 49.3643 M1817.36 66.9452 Q1817.36 78.5308 1812.22 84.1616 Q1807.07 89.8329 1796.46 89.8329 Q1792.53 89.8329 1789.05 89.2252 Q1785.56 88.6581 1782.28 87.4428 L1782.28 80.1917 Q1785.56 81.9741 1788.76 82.8248 Q1791.96 83.6755 1795.28 83.6755 Q1802.62 83.6755 1806.26 79.8271 Q1809.91 76.0193 1809.91 68.282 L1809.91 64.5957 Q1807.6 68.6061 1803.99 70.5911 Q1800.39 72.576 1795.37 72.576 Q1787.02 72.576 1781.92 66.2161 Q1776.81 59.8562 1776.81 49.3643 Q1776.81 38.832 1781.92 32.472 Q1787.02 26.1121 1795.37 26.1121 Q1800.39 26.1121 1803.99 28.0971 Q1807.6 30.082 1809.91 34.0924 L1809.91 27.2059 L1817.36 27.2059 L1817.36 66.9452 Z\" fill=\"#000000\" fill-rule=\"nonzero\" fill-opacity=\"1\" /><path clip-path=\"url(#clip110)\" d=\"M1871.52 48.0275 L1871.52 51.6733 L1837.25 51.6733 Q1837.74 59.3701 1841.87 63.421 Q1846.04 67.4314 1853.46 67.4314 Q1857.75 67.4314 1861.76 66.3781 Q1865.81 65.3249 1869.78 63.2184 L1869.78 70.267 Q1865.77 71.9684 1861.56 72.8596 Q1857.34 73.7508 1853.01 73.7508 Q1842.15 73.7508 1835.79 67.4314 Q1829.47 61.1119 1829.47 50.3365 Q1829.47 39.1965 1835.47 32.6746 Q1841.51 26.1121 1851.71 26.1121 Q1860.87 26.1121 1866.18 32.0264 Q1871.52 37.9003 1871.52 48.0275 M1864.07 45.84 Q1863.99 39.7232 1860.63 36.0774 Q1857.3 32.4315 1851.79 32.4315 Q1845.56 32.4315 1841.79 35.9558 Q1838.06 39.4801 1837.5 45.8805 L1864.07 45.84 Z\" fill=\"#000000\" fill-rule=\"nonzero\" fill-opacity=\"1\" /><path clip-path=\"url(#clip110)\" d=\"M1912.68 28.5427 L1912.68 35.5912 Q1909.52 33.9709 1906.12 33.1607 Q1902.71 32.3505 1899.07 32.3505 Q1893.52 32.3505 1890.72 34.0519 Q1887.97 35.7533 1887.97 39.156 Q1887.97 41.7486 1889.95 43.2475 Q1891.94 44.7058 1897.93 46.0426 L1900.49 46.6097 Q1908.43 48.3111 1911.75 51.4303 Q1915.11 54.509 1915.11 60.0587 Q1915.11 66.3781 1910.09 70.0644 Q1905.1 73.7508 1896.35 73.7508 Q1892.71 73.7508 1888.74 73.0216 Q1884.81 72.3329 1880.43 70.9151 L1880.43 63.2184 Q1884.57 65.3654 1888.58 66.4591 Q1892.59 67.5124 1896.52 67.5124 Q1901.78 67.5124 1904.62 65.73 Q1907.45 63.9071 1907.45 60.6258 Q1907.45 57.5877 1905.39 55.9673 Q1903.36 54.3469 1896.44 52.8481 L1893.84 52.2405 Q1886.92 50.7821 1883.84 47.7845 Q1880.76 44.7463 1880.76 39.4801 Q1880.76 33.0797 1885.3 29.5959 Q1889.83 26.1121 1898.18 26.1121 Q1902.31 26.1121 1905.96 26.7198 Q1909.6 27.3274 1912.68 28.5427 Z\" fill=\"#000000\" fill-rule=\"nonzero\" fill-opacity=\"1\" /><path clip-path=\"url(#clip112)\" d=\"M1273.35 804.96 L1916.78 804.96 L1916.53 786.98 L1915.78 769.014 L1914.52 751.077 L1912.76 733.181 L1910.51 715.341 L1907.76 697.572 L1904.51 679.886 L1900.77 662.298 L1896.53 644.821 L1891.82 627.47 L1886.62 610.257 L1880.94 593.196 L1874.78 576.3 L1868.16 559.583 L1861.07 543.058 L1853.52 526.737 L1845.52 510.634 L1837.07 494.76 L1828.18 479.129 L1818.86 463.752 L1809.11 448.642 L1798.95 433.81 L1788.37 419.268 L1777.39 405.027 L1766.02 391.098 L1754.26 377.493 L1742.13 364.221 L1729.63 351.294 L1716.77 338.721 L1703.57 326.512 L1690.04 314.676 L1676.17 303.224 L1662 292.164 L1647.51 281.504 L1632.74 271.252 L1617.69 261.418 L1602.36 252.008 L1586.78 243.03 L1570.96 234.491 L1554.9 226.397 L1538.63 218.756 L1522.14 211.572 L1505.46 204.851 L1488.6 198.599 L1471.57 192.821 L1454.39 187.521 L1437.07 182.703 L1419.62 178.371 L1402.05 174.528 L1273.35 804.96  Z\" fill=\"#009af9\" fill-rule=\"evenodd\" fill-opacity=\"1\"/>\n",
       "<polyline clip-path=\"url(#clip112)\" style=\"stroke:#000000; stroke-linecap:round; stroke-linejoin:round; stroke-width:4; stroke-opacity:1; fill:none\" points=\"1273.35,804.96 1916.78,804.96 1916.53,786.98 1915.78,769.014 1914.52,751.077 1912.76,733.181 1910.51,715.341 1907.76,697.572 1904.51,679.886 1900.77,662.298 1896.53,644.821 1891.82,627.47 1886.62,610.257 1880.94,593.196 1874.78,576.3 1868.16,559.583 1861.07,543.058 1853.52,526.737 1845.52,510.634 1837.07,494.76 1828.18,479.129 1818.86,463.752 1809.11,448.642 1798.95,433.81 1788.37,419.268 1777.39,405.027 1766.02,391.098 1754.26,377.493 1742.13,364.221 1729.63,351.294 1716.77,338.721 1703.57,326.512 1690.04,314.676 1676.17,303.224 1662,292.164 1647.51,281.504 1632.74,271.252 1617.69,261.418 1602.36,252.008 1586.78,243.03 1570.96,234.491 1554.9,226.397 1538.63,218.756 1522.14,211.572 1505.46,204.851 1488.6,198.599 1471.57,192.821 1454.39,187.521 1437.07,182.703 1419.62,178.371 1402.05,174.528 1273.35,804.96 \"/>\n",
       "<path clip-path=\"url(#clip112)\" d=\"M1273.35 804.96 L1402.05 174.528 L1350.9 166.216 L1299.25 162.047 L1247.44 162.047 L1195.79 166.216 L1144.64 174.528 L1094.33 186.929 L1045.18 203.338 L997.51 223.648 L951.628 247.729 L907.833 275.423 L866.409 306.552 L827.623 340.913 L791.728 378.284 L758.957 418.421 L729.521 461.066 L703.613 505.941 L681.399 552.755 L663.024 601.205 L648.608 650.976 L638.243 701.746 L631.997 753.185 L629.911 804.96 L631.997 856.735 L638.243 908.174 L648.608 958.944 L663.024 1008.72 L681.399 1057.17 L703.613 1103.98 L729.521 1148.85 L758.957 1191.5 L791.728 1231.64 L827.623 1269.01 L866.409 1303.37 L907.833 1334.5 L951.628 1362.19 L997.51 1386.27 L1045.18 1406.58 L1094.33 1422.99 L1144.64 1435.39 L1195.79 1443.7 L1247.44 1447.87 L1299.25 1447.87 L1350.9 1443.7 L1402.05 1435.39 L1452.36 1422.99 L1501.51 1406.58 L1549.18 1386.27 L1595.06 1362.19 L1638.86 1334.5 L1273.35 804.96  Z\" fill=\"#e26f46\" fill-rule=\"evenodd\" fill-opacity=\"1\"/>\n",
       "<polyline clip-path=\"url(#clip112)\" style=\"stroke:#000000; stroke-linecap:round; stroke-linejoin:round; stroke-width:4; stroke-opacity:1; fill:none\" points=\"1273.35,804.96 1402.05,174.528 1350.9,166.216 1299.25,162.047 1247.44,162.047 1195.79,166.216 1144.64,174.528 1094.33,186.929 1045.18,203.338 997.51,223.648 951.628,247.729 907.833,275.423 866.409,306.552 827.623,340.913 791.728,378.284 758.957,418.421 729.521,461.066 703.613,505.941 681.399,552.755 663.024,601.205 648.608,650.976 638.243,701.746 631.997,753.185 629.911,804.96 631.997,856.735 638.243,908.174 648.608,958.944 663.024,1008.72 681.399,1057.17 703.613,1103.98 729.521,1148.85 758.957,1191.5 791.728,1231.64 827.623,1269.01 866.409,1303.37 907.833,1334.5 951.628,1362.19 997.51,1386.27 1045.18,1406.58 1094.33,1422.99 1144.64,1435.39 1195.79,1443.7 1247.44,1447.87 1299.25,1447.87 1350.9,1443.7 1402.05,1435.39 1452.36,1422.99 1501.51,1406.58 1549.18,1386.27 1595.06,1362.19 1638.86,1334.5 1273.35,804.96 \"/>\n",
       "<path clip-path=\"url(#clip112)\" d=\"M1273.35 804.96 L1638.86 1334.5 L1649.23 1327.18 L1659.46 1319.67 L1669.54 1311.95 L1679.46 1304.04 L1689.23 1295.93 L1698.83 1287.63 L1708.27 1279.14 L1717.54 1270.47 L1726.64 1261.62 L1735.56 1252.59 L1744.3 1243.38 L1752.85 1234.01 L1761.22 1224.46 L1769.4 1214.76 L1777.39 1204.89 L1785.18 1194.87 L1792.77 1184.7 L1800.16 1174.38 L1807.35 1163.92 L1814.33 1153.31 L1821.09 1142.57 L1827.65 1131.7 L1833.98 1120.7 L1840.1 1109.58 L1846 1098.34 L1851.68 1086.99 L1857.13 1075.53 L1862.35 1063.96 L1867.35 1052.29 L1872.11 1040.53 L1876.64 1028.67 L1880.94 1016.72 L1884.99 1004.7 L1888.82 992.593 L1892.4 980.416 L1895.74 968.17 L1898.84 955.861 L1901.69 943.493 L1904.3 931.071 L1906.67 918.601 L1908.78 906.086 L1910.66 893.531 L1912.28 880.942 L1913.65 868.324 L1914.78 855.681 L1915.65 843.018 L1916.28 830.34 L1916.66 817.652 L1916.78 804.96 L1273.35 804.96  Z\" fill=\"#3da44d\" fill-rule=\"evenodd\" fill-opacity=\"1\"/>\n",
       "<polyline clip-path=\"url(#clip112)\" style=\"stroke:#000000; stroke-linecap:round; stroke-linejoin:round; stroke-width:4; stroke-opacity:1; fill:none\" points=\"1273.35,804.96 1638.86,1334.5 1649.23,1327.18 1659.46,1319.67 1669.54,1311.95 1679.46,1304.04 1689.23,1295.93 1698.83,1287.63 1708.27,1279.14 1717.54,1270.47 1726.64,1261.62 1735.56,1252.59 1744.3,1243.38 1752.85,1234.01 1761.22,1224.46 1769.4,1214.76 1777.39,1204.89 1785.18,1194.87 1792.77,1184.7 1800.16,1174.38 1807.35,1163.92 1814.33,1153.31 1821.09,1142.57 1827.65,1131.7 1833.98,1120.7 1840.1,1109.58 1846,1098.34 1851.68,1086.99 1857.13,1075.53 1862.35,1063.96 1867.35,1052.29 1872.11,1040.53 1876.64,1028.67 1880.94,1016.72 1884.99,1004.7 1888.82,992.593 1892.4,980.416 1895.74,968.17 1898.84,955.861 1901.69,943.493 1904.3,931.071 1906.67,918.601 1908.78,906.086 1910.66,893.531 1912.28,880.942 1913.65,868.324 1914.78,855.681 1915.65,843.018 1916.28,830.34 1916.66,817.652 1916.78,804.96 1273.35,804.96 \"/>\n",
       "<path clip-path=\"url(#clip110)\" d=\"M1545.1 376.265 L2280.8 376.265 L2280.8 168.905 L1545.1 168.905  Z\" fill=\"#ffffff\" fill-rule=\"evenodd\" fill-opacity=\"1\"/>\n",
       "<polyline clip-path=\"url(#clip110)\" style=\"stroke:#000000; stroke-linecap:round; stroke-linejoin:round; stroke-width:4; stroke-opacity:1; fill:none\" points=\"1545.1,376.265 2280.8,376.265 2280.8,168.905 1545.1,168.905 1545.1,376.265 \"/>\n",
       "<path clip-path=\"url(#clip110)\" d=\"M1569.09 241.481 L1713.01 241.481 L1713.01 200.009 L1569.09 200.009 L1569.09 241.481  Z\" fill=\"#009af9\" fill-rule=\"evenodd\" fill-opacity=\"1\"/>\n",
       "<polyline clip-path=\"url(#clip110)\" style=\"stroke:#000000; stroke-linecap:round; stroke-linejoin:round; stroke-width:4; stroke-opacity:1; fill:none\" points=\"1569.09,241.481 1713.01,241.481 1713.01,200.009 1569.09,200.009 1569.09,241.481 \"/>\n",
       "<path clip-path=\"url(#clip110)\" d=\"M1750.19 238.025 L1737 203.465 L1741.88 203.465 L1752.83 232.562 L1763.8 203.465 L1768.66 203.465 L1755.49 238.025 L1750.19 238.025 Z\" fill=\"#000000\" fill-rule=\"nonzero\" fill-opacity=\"1\" /><path clip-path=\"url(#clip110)\" d=\"M1792.02 223.997 L1792.02 226.08 L1772.44 226.08 Q1772.71 230.478 1775.07 232.793 Q1777.46 235.085 1781.7 235.085 Q1784.15 235.085 1786.44 234.483 Q1788.76 233.881 1791.02 232.677 L1791.02 236.705 Q1788.73 237.677 1786.32 238.187 Q1783.92 238.696 1781.44 238.696 Q1775.24 238.696 1771.6 235.085 Q1767.99 231.474 1767.99 225.316 Q1767.99 218.951 1771.42 215.224 Q1774.87 211.474 1780.7 211.474 Q1785.93 211.474 1788.96 214.853 Q1792.02 218.21 1792.02 223.997 M1787.76 222.747 Q1787.71 219.252 1785.79 217.168 Q1783.89 215.085 1780.75 215.085 Q1777.18 215.085 1775.03 217.099 Q1772.9 219.113 1772.57 222.77 L1787.76 222.747 Z\" fill=\"#000000\" fill-rule=\"nonzero\" fill-opacity=\"1\" /><path clip-path=\"url(#clip110)\" d=\"M1820.56 222.377 L1820.56 238.025 L1816.3 238.025 L1816.3 222.515 Q1816.3 218.835 1814.87 217.006 Q1813.43 215.178 1810.56 215.178 Q1807.11 215.178 1805.12 217.377 Q1803.13 219.576 1803.13 223.372 L1803.13 238.025 L1798.85 238.025 L1798.85 202.006 L1803.13 202.006 L1803.13 216.127 Q1804.66 213.789 1806.72 212.631 Q1808.8 211.474 1811.51 211.474 Q1815.98 211.474 1818.27 214.252 Q1820.56 217.006 1820.56 222.377 Z\" fill=\"#000000\" fill-rule=\"nonzero\" fill-opacity=\"1\" /><path clip-path=\"url(#clip110)\" d=\"M1829.06 212.099 L1833.32 212.099 L1833.32 238.025 L1829.06 238.025 L1829.06 212.099 M1829.06 202.006 L1833.32 202.006 L1833.32 207.4 L1829.06 207.4 L1829.06 202.006 Z\" fill=\"#000000\" fill-rule=\"nonzero\" fill-opacity=\"1\" /><path clip-path=\"url(#clip110)\" d=\"M1860.88 213.094 L1860.88 217.076 Q1859.08 216.08 1857.25 215.594 Q1855.44 215.085 1853.59 215.085 Q1849.45 215.085 1847.16 217.724 Q1844.87 220.34 1844.87 225.085 Q1844.87 229.83 1847.16 232.469 Q1849.45 235.085 1853.59 235.085 Q1855.44 235.085 1857.25 234.599 Q1859.08 234.089 1860.88 233.094 L1860.88 237.029 Q1859.1 237.863 1857.18 238.279 Q1855.28 238.696 1853.13 238.696 Q1847.27 238.696 1843.82 235.015 Q1840.38 231.335 1840.38 225.085 Q1840.38 218.742 1843.85 215.108 Q1847.34 211.474 1853.41 211.474 Q1855.38 211.474 1857.25 211.891 Q1859.13 212.284 1860.88 213.094 Z\" fill=\"#000000\" fill-rule=\"nonzero\" fill-opacity=\"1\" /><path clip-path=\"url(#clip110)\" d=\"M1868.29 202.006 L1872.55 202.006 L1872.55 238.025 L1868.29 238.025 L1868.29 202.006 Z\" fill=\"#000000\" fill-rule=\"nonzero\" fill-opacity=\"1\" /><path clip-path=\"url(#clip110)\" d=\"M1903.64 223.997 L1903.64 226.08 L1884.06 226.08 Q1884.33 230.478 1886.69 232.793 Q1889.08 235.085 1893.31 235.085 Q1895.77 235.085 1898.06 234.483 Q1900.38 233.881 1902.64 232.677 L1902.64 236.705 Q1900.35 237.677 1897.94 238.187 Q1895.54 238.696 1893.06 238.696 Q1886.86 238.696 1883.22 235.085 Q1879.61 231.474 1879.61 225.316 Q1879.61 218.951 1883.04 215.224 Q1886.49 211.474 1892.32 211.474 Q1897.55 211.474 1900.58 214.853 Q1903.64 218.21 1903.64 223.997 M1899.38 222.747 Q1899.33 219.252 1897.41 217.168 Q1895.51 215.085 1892.37 215.085 Q1888.8 215.085 1886.65 217.099 Q1884.52 219.113 1884.19 222.77 L1899.38 222.747 Z\" fill=\"#000000\" fill-rule=\"nonzero\" fill-opacity=\"1\" /><path clip-path=\"url(#clip110)\" d=\"M1925.88 203.465 L1932.85 203.465 L1941.67 226.983 L1950.54 203.465 L1957.5 203.465 L1957.5 238.025 L1952.94 238.025 L1952.94 207.678 L1944.03 231.381 L1939.33 231.381 L1930.42 207.678 L1930.42 238.025 L1925.88 238.025 L1925.88 203.465 Z\" fill=\"#000000\" fill-rule=\"nonzero\" fill-opacity=\"1\" /><path clip-path=\"url(#clip110)\" d=\"M1976.65 215.085 Q1973.22 215.085 1971.23 217.77 Q1969.24 220.432 1969.24 225.085 Q1969.24 229.738 1971.21 232.423 Q1973.2 235.085 1976.65 235.085 Q1980.05 235.085 1982.04 232.4 Q1984.03 229.715 1984.03 225.085 Q1984.03 220.478 1982.04 217.793 Q1980.05 215.085 1976.65 215.085 M1976.65 211.474 Q1982.2 211.474 1985.37 215.085 Q1988.55 218.696 1988.55 225.085 Q1988.55 231.451 1985.37 235.085 Q1982.2 238.696 1976.65 238.696 Q1971.07 238.696 1967.9 235.085 Q1964.75 231.451 1964.75 225.085 Q1964.75 218.696 1967.9 215.085 Q1971.07 211.474 1976.65 211.474 Z\" fill=\"#000000\" fill-rule=\"nonzero\" fill-opacity=\"1\" /><path clip-path=\"url(#clip110)\" d=\"M1999.82 204.738 L1999.82 212.099 L2008.59 212.099 L2008.59 215.409 L1999.82 215.409 L1999.82 229.483 Q1999.82 232.654 2000.68 233.557 Q2001.56 234.46 2004.22 234.46 L2008.59 234.46 L2008.59 238.025 L2004.22 238.025 Q1999.29 238.025 1997.41 236.196 Q1995.54 234.344 1995.54 229.483 L1995.54 215.409 L1992.41 215.409 L1992.41 212.099 L1995.54 212.099 L1995.54 204.738 L1999.82 204.738 Z\" fill=\"#000000\" fill-rule=\"nonzero\" fill-opacity=\"1\" /><path clip-path=\"url(#clip110)\" d=\"M2024.24 215.085 Q2020.81 215.085 2018.82 217.77 Q2016.83 220.432 2016.83 225.085 Q2016.83 229.738 2018.8 232.423 Q2020.79 235.085 2024.24 235.085 Q2027.64 235.085 2029.63 232.4 Q2031.62 229.715 2031.62 225.085 Q2031.62 220.478 2029.63 217.793 Q2027.64 215.085 2024.24 215.085 M2024.24 211.474 Q2029.8 211.474 2032.97 215.085 Q2036.14 218.696 2036.14 225.085 Q2036.14 231.451 2032.97 235.085 Q2029.8 238.696 2024.24 238.696 Q2018.66 238.696 2015.49 235.085 Q2012.34 231.451 2012.34 225.085 Q2012.34 218.696 2015.49 215.085 Q2018.66 211.474 2024.24 211.474 Z\" fill=\"#000000\" fill-rule=\"nonzero\" fill-opacity=\"1\" /><path clip-path=\"url(#clip110)\" d=\"M2058.22 216.08 Q2057.5 215.664 2056.65 215.478 Q2055.81 215.27 2054.8 215.27 Q2051.18 215.27 2049.24 217.631 Q2047.32 219.969 2047.32 224.367 L2047.32 238.025 L2043.04 238.025 L2043.04 212.099 L2047.32 212.099 L2047.32 216.127 Q2048.66 213.766 2050.81 212.631 Q2052.97 211.474 2056.05 211.474 Q2056.49 211.474 2057.02 211.543 Q2057.55 211.59 2058.2 211.705 L2058.22 216.08 Z\" fill=\"#000000\" fill-rule=\"nonzero\" fill-opacity=\"1\" /><path clip-path=\"url(#clip110)\" d=\"M2087.99 202.053 Q2084.89 207.377 2083.38 212.585 Q2081.88 217.793 2081.88 223.14 Q2081.88 228.488 2083.38 233.742 Q2084.91 238.974 2087.99 244.275 L2084.29 244.275 Q2080.81 238.835 2079.08 233.58 Q2077.36 228.326 2077.36 223.14 Q2077.36 217.978 2079.08 212.747 Q2080.79 207.516 2084.29 202.053 L2087.99 202.053 Z\" fill=\"#000000\" fill-rule=\"nonzero\" fill-opacity=\"1\" /><path clip-path=\"url(#clip110)\" d=\"M2100.88 234.089 L2117.2 234.089 L2117.2 238.025 L2095.26 238.025 L2095.26 234.089 Q2097.92 231.335 2102.5 226.705 Q2107.11 222.053 2108.29 220.71 Q2110.54 218.187 2111.42 216.451 Q2112.32 214.691 2112.32 213.002 Q2112.32 210.247 2110.37 208.511 Q2108.45 206.775 2105.35 206.775 Q2103.15 206.775 2100.7 207.539 Q2098.27 208.303 2095.49 209.854 L2095.49 205.131 Q2098.31 203.997 2100.77 203.418 Q2103.22 202.84 2105.26 202.84 Q2110.63 202.84 2113.82 205.525 Q2117.02 208.21 2117.02 212.701 Q2117.02 214.83 2116.21 216.752 Q2115.42 218.65 2113.31 221.242 Q2112.74 221.914 2109.63 225.131 Q2106.53 228.326 2100.88 234.089 Z\" fill=\"#000000\" fill-rule=\"nonzero\" fill-opacity=\"1\" /><path clip-path=\"url(#clip110)\" d=\"M2127.83 234.089 L2135.47 234.089 L2135.47 207.724 L2127.16 209.391 L2127.16 205.131 L2135.42 203.465 L2140.1 203.465 L2140.1 234.089 L2147.73 234.089 L2147.73 238.025 L2127.83 238.025 L2127.83 234.089 Z\" fill=\"#000000\" fill-rule=\"nonzero\" fill-opacity=\"1\" /><path clip-path=\"url(#clip110)\" d=\"M2157.18 232.145 L2162.06 232.145 L2162.06 238.025 L2157.18 238.025 L2157.18 232.145 Z\" fill=\"#000000\" fill-rule=\"nonzero\" fill-opacity=\"1\" /><path clip-path=\"url(#clip110)\" d=\"M2182.25 221.613 Q2178.92 221.613 2176.99 223.395 Q2175.1 225.177 2175.1 228.302 Q2175.1 231.427 2176.99 233.21 Q2178.92 234.992 2182.25 234.992 Q2185.58 234.992 2187.5 233.21 Q2189.42 231.404 2189.42 228.302 Q2189.42 225.177 2187.5 223.395 Q2185.61 221.613 2182.25 221.613 M2177.57 219.622 Q2174.56 218.881 2172.87 216.821 Q2171.21 214.761 2171.21 211.798 Q2171.21 207.654 2174.15 205.247 Q2177.11 202.84 2182.25 202.84 Q2187.41 202.84 2190.35 205.247 Q2193.29 207.654 2193.29 211.798 Q2193.29 214.761 2191.6 216.821 Q2189.93 218.881 2186.95 219.622 Q2190.33 220.409 2192.2 222.701 Q2194.1 224.992 2194.1 228.302 Q2194.1 233.326 2191.02 236.011 Q2187.97 238.696 2182.25 238.696 Q2176.53 238.696 2173.45 236.011 Q2170.4 233.326 2170.4 228.302 Q2170.4 224.992 2172.29 222.701 Q2174.19 220.409 2177.57 219.622 M2175.86 212.238 Q2175.86 214.923 2177.53 216.428 Q2179.22 217.932 2182.25 217.932 Q2185.26 217.932 2186.95 216.428 Q2188.66 214.923 2188.66 212.238 Q2188.66 209.553 2186.95 208.048 Q2185.26 206.543 2182.25 206.543 Q2179.22 206.543 2177.53 208.048 Q2175.86 209.553 2175.86 212.238 Z\" fill=\"#000000\" fill-rule=\"nonzero\" fill-opacity=\"1\" /><path clip-path=\"url(#clip110)\" d=\"M2231.81 222.816 Q2229.79 222.816 2228.64 224.529 Q2227.5 226.242 2227.5 229.298 Q2227.5 232.307 2228.64 234.043 Q2229.79 235.756 2231.81 235.756 Q2233.78 235.756 2234.91 234.043 Q2236.07 232.307 2236.07 229.298 Q2236.07 226.265 2234.91 224.553 Q2233.78 222.816 2231.81 222.816 M2231.81 219.877 Q2235.47 219.877 2237.62 222.423 Q2239.77 224.969 2239.77 229.298 Q2239.77 233.627 2237.6 236.173 Q2235.44 238.696 2231.81 238.696 Q2228.1 238.696 2225.95 236.173 Q2223.8 233.627 2223.8 229.298 Q2223.8 224.946 2225.95 222.423 Q2228.13 219.877 2231.81 219.877 M2207.92 205.779 Q2205.93 205.779 2204.77 207.516 Q2203.64 209.229 2203.64 212.238 Q2203.64 215.293 2204.77 217.006 Q2205.91 218.719 2207.92 218.719 Q2209.93 218.719 2211.07 217.006 Q2212.23 215.293 2212.23 212.238 Q2212.23 209.252 2211.07 207.516 Q2209.91 205.779 2207.92 205.779 M2228.82 202.84 L2232.53 202.84 L2210.91 238.696 L2207.2 238.696 L2228.82 202.84 M2207.92 202.84 Q2211.58 202.84 2213.75 205.386 Q2215.93 207.909 2215.93 212.238 Q2215.93 216.613 2213.75 219.136 Q2211.6 221.659 2207.92 221.659 Q2204.24 221.659 2202.09 219.136 Q2199.96 216.59 2199.96 212.238 Q2199.96 207.932 2202.11 205.386 Q2204.26 202.84 2207.92 202.84 Z\" fill=\"#000000\" fill-rule=\"nonzero\" fill-opacity=\"1\" /><path clip-path=\"url(#clip110)\" d=\"M2246.18 202.053 L2249.89 202.053 Q2253.36 207.516 2255.07 212.747 Q2256.81 217.978 2256.81 223.14 Q2256.81 228.326 2255.07 233.58 Q2253.36 238.835 2249.89 244.275 L2246.18 244.275 Q2249.26 238.974 2250.77 233.742 Q2252.29 228.488 2252.29 223.14 Q2252.29 217.793 2250.77 212.585 Q2249.26 207.377 2246.18 202.053 Z\" fill=\"#000000\" fill-rule=\"nonzero\" fill-opacity=\"1\" /><path clip-path=\"url(#clip110)\" d=\"M1569.09 293.321 L1713.01 293.321 L1713.01 251.849 L1569.09 251.849 L1569.09 293.321  Z\" fill=\"#e26f46\" fill-rule=\"evenodd\" fill-opacity=\"1\"/>\n",
       "<polyline clip-path=\"url(#clip110)\" style=\"stroke:#000000; stroke-linecap:round; stroke-linejoin:round; stroke-width:4; stroke-opacity:1; fill:none\" points=\"1569.09,293.321 1713.01,293.321 1713.01,251.849 1569.09,251.849 1569.09,293.321 \"/>\n",
       "<path clip-path=\"url(#clip110)\" d=\"M1741.67 273.36 L1741.67 286.022 L1749.17 286.022 Q1752.95 286.022 1754.75 284.471 Q1756.58 282.897 1756.58 279.68 Q1756.58 276.439 1754.75 274.911 Q1752.95 273.36 1749.17 273.36 L1741.67 273.36 M1741.67 259.147 L1741.67 269.564 L1748.59 269.564 Q1752.02 269.564 1753.69 268.291 Q1755.38 266.994 1755.38 264.356 Q1755.38 261.74 1753.69 260.444 Q1752.02 259.147 1748.59 259.147 L1741.67 259.147 M1737 255.305 L1748.94 255.305 Q1754.29 255.305 1757.18 257.527 Q1760.07 259.749 1760.07 263.846 Q1760.07 267.018 1758.59 268.893 Q1757.11 270.768 1754.24 271.23 Q1757.69 271.971 1759.59 274.332 Q1761.51 276.67 1761.51 280.189 Q1761.51 284.818 1758.36 287.342 Q1755.21 289.865 1749.4 289.865 L1737 289.865 L1737 255.305 Z\" fill=\"#000000\" fill-rule=\"nonzero\" fill-opacity=\"1\" /><path clip-path=\"url(#clip110)\" d=\"M1781.12 276.832 Q1775.95 276.832 1773.96 278.013 Q1771.97 279.193 1771.97 282.041 Q1771.97 284.309 1773.45 285.652 Q1774.96 286.971 1777.53 286.971 Q1781.07 286.971 1783.2 284.471 Q1785.35 281.948 1785.35 277.781 L1785.35 276.832 L1781.12 276.832 M1789.61 275.073 L1789.61 289.865 L1785.35 289.865 L1785.35 285.929 Q1783.89 288.291 1781.72 289.425 Q1779.54 290.536 1776.39 290.536 Q1772.41 290.536 1770.05 288.314 Q1767.71 286.068 1767.71 282.318 Q1767.71 277.943 1770.63 275.721 Q1773.57 273.499 1779.38 273.499 L1785.35 273.499 L1785.35 273.082 Q1785.35 270.143 1783.41 268.545 Q1781.49 266.925 1777.99 266.925 Q1775.77 266.925 1773.66 267.457 Q1771.56 267.99 1769.61 269.055 L1769.61 265.119 Q1771.95 264.217 1774.15 263.777 Q1776.35 263.314 1778.43 263.314 Q1784.06 263.314 1786.83 266.231 Q1789.61 269.147 1789.61 275.073 Z\" fill=\"#000000\" fill-rule=\"nonzero\" fill-opacity=\"1\" /><path clip-path=\"url(#clip110)\" d=\"M1802.6 256.578 L1802.6 263.939 L1811.37 263.939 L1811.37 267.249 L1802.6 267.249 L1802.6 281.323 Q1802.6 284.494 1803.45 285.397 Q1804.33 286.3 1807 286.3 L1811.37 286.3 L1811.37 289.865 L1807 289.865 Q1802.07 289.865 1800.19 288.036 Q1798.32 286.184 1798.32 281.323 L1798.32 267.249 L1795.19 267.249 L1795.19 263.939 L1798.32 263.939 L1798.32 256.578 L1802.6 256.578 Z\" fill=\"#000000\" fill-rule=\"nonzero\" fill-opacity=\"1\" /><path clip-path=\"url(#clip110)\" d=\"M1821.19 256.578 L1821.19 263.939 L1829.96 263.939 L1829.96 267.249 L1821.19 267.249 L1821.19 281.323 Q1821.19 284.494 1822.04 285.397 Q1822.92 286.3 1825.58 286.3 L1829.96 286.3 L1829.96 289.865 L1825.58 289.865 Q1820.65 289.865 1818.78 288.036 Q1816.9 286.184 1816.9 281.323 L1816.9 267.249 L1813.78 267.249 L1813.78 263.939 L1816.9 263.939 L1816.9 256.578 L1821.19 256.578 Z\" fill=\"#000000\" fill-rule=\"nonzero\" fill-opacity=\"1\" /><path clip-path=\"url(#clip110)\" d=\"M1857.74 275.837 L1857.74 277.92 L1838.15 277.92 Q1838.43 282.318 1840.79 284.633 Q1843.18 286.925 1847.41 286.925 Q1849.87 286.925 1852.16 286.323 Q1854.47 285.721 1856.74 284.517 L1856.74 288.545 Q1854.45 289.517 1852.04 290.027 Q1849.63 290.536 1847.16 290.536 Q1840.95 290.536 1837.32 286.925 Q1833.71 283.314 1833.71 277.156 Q1833.71 270.791 1837.13 267.064 Q1840.58 263.314 1846.42 263.314 Q1851.65 263.314 1854.68 266.693 Q1857.74 270.05 1857.74 275.837 M1853.48 274.587 Q1853.43 271.092 1851.51 269.008 Q1849.61 266.925 1846.46 266.925 Q1842.9 266.925 1840.75 268.939 Q1838.62 270.953 1838.29 274.61 L1853.48 274.587 Z\" fill=\"#000000\" fill-rule=\"nonzero\" fill-opacity=\"1\" /><path clip-path=\"url(#clip110)\" d=\"M1879.75 267.92 Q1879.03 267.504 1878.18 267.318 Q1877.34 267.11 1876.32 267.11 Q1872.71 267.11 1870.77 269.471 Q1868.85 271.809 1868.85 276.207 L1868.85 289.865 L1864.57 289.865 L1864.57 263.939 L1868.85 263.939 L1868.85 267.967 Q1870.19 265.606 1872.34 264.471 Q1874.5 263.314 1877.57 263.314 Q1878.01 263.314 1878.55 263.383 Q1879.08 263.43 1879.73 263.545 L1879.75 267.92 Z\" fill=\"#000000\" fill-rule=\"nonzero\" fill-opacity=\"1\" /><path clip-path=\"url(#clip110)\" d=\"M1895 292.272 Q1893.2 296.902 1891.49 298.314 Q1889.77 299.726 1886.9 299.726 L1883.5 299.726 L1883.5 296.161 L1886 296.161 Q1887.76 296.161 1888.73 295.328 Q1889.7 294.494 1890.88 291.392 L1891.65 289.448 L1881.16 263.939 L1885.68 263.939 L1893.78 284.217 L1901.88 263.939 L1906.39 263.939 L1895 292.272 Z\" fill=\"#000000\" fill-rule=\"nonzero\" fill-opacity=\"1\" /><path clip-path=\"url(#clip110)\" d=\"M1937.57 253.893 Q1934.47 259.217 1932.97 264.425 Q1931.46 269.633 1931.46 274.98 Q1931.46 280.328 1932.97 285.582 Q1934.5 290.814 1937.57 296.115 L1933.87 296.115 Q1930.4 290.675 1928.66 285.42 Q1926.95 280.166 1926.95 274.98 Q1926.95 269.818 1928.66 264.587 Q1930.37 259.356 1933.87 253.893 L1937.57 253.893 Z\" fill=\"#000000\" fill-rule=\"nonzero\" fill-opacity=\"1\" /><path clip-path=\"url(#clip110)\" d=\"M1957.02 270.721 Q1953.87 270.721 1952.02 272.874 Q1950.19 275.027 1950.19 278.777 Q1950.19 282.504 1952.02 284.679 Q1953.87 286.832 1957.02 286.832 Q1960.17 286.832 1962 284.679 Q1963.85 282.504 1963.85 278.777 Q1963.85 275.027 1962 272.874 Q1960.17 270.721 1957.02 270.721 M1966.3 256.069 L1966.3 260.328 Q1964.54 259.494 1962.74 259.055 Q1960.95 258.615 1959.19 258.615 Q1954.56 258.615 1952.11 261.74 Q1949.68 264.865 1949.33 271.184 Q1950.7 269.17 1952.76 268.106 Q1954.82 267.018 1957.3 267.018 Q1962.5 267.018 1965.51 270.189 Q1968.55 273.337 1968.55 278.777 Q1968.55 284.101 1965.4 287.318 Q1962.25 290.536 1957.02 290.536 Q1951.02 290.536 1947.85 285.953 Q1944.68 281.346 1944.68 272.619 Q1944.68 264.425 1948.57 259.564 Q1952.46 254.68 1959.01 254.68 Q1960.77 254.68 1962.55 255.027 Q1964.36 255.374 1966.3 256.069 Z\" fill=\"#000000\" fill-rule=\"nonzero\" fill-opacity=\"1\" /><path clip-path=\"url(#clip110)\" d=\"M1980.63 285.929 L1996.95 285.929 L1996.95 289.865 L1975 289.865 L1975 285.929 Q1977.67 283.175 1982.25 278.545 Q1986.86 273.893 1988.04 272.55 Q1990.28 270.027 1991.16 268.291 Q1992.06 266.531 1992.06 264.842 Q1992.06 262.087 1990.12 260.351 Q1988.2 258.615 1985.1 258.615 Q1982.9 258.615 1980.44 259.379 Q1978.01 260.143 1975.24 261.694 L1975.24 256.971 Q1978.06 255.837 1980.51 255.258 Q1982.97 254.68 1985 254.68 Q1990.37 254.68 1993.57 257.365 Q1996.76 260.05 1996.76 264.541 Q1996.76 266.67 1995.95 268.592 Q1995.17 270.49 1993.06 273.082 Q1992.48 273.754 1989.38 276.971 Q1986.28 280.166 1980.63 285.929 Z\" fill=\"#000000\" fill-rule=\"nonzero\" fill-opacity=\"1\" /><path clip-path=\"url(#clip110)\" d=\"M2006.76 283.985 L2011.65 283.985 L2011.65 289.865 L2006.76 289.865 L2006.76 283.985 Z\" fill=\"#000000\" fill-rule=\"nonzero\" fill-opacity=\"1\" /><path clip-path=\"url(#clip110)\" d=\"M2031.83 273.453 Q2028.5 273.453 2026.58 275.235 Q2024.68 277.017 2024.68 280.142 Q2024.68 283.267 2026.58 285.05 Q2028.5 286.832 2031.83 286.832 Q2035.17 286.832 2037.09 285.05 Q2039.01 283.244 2039.01 280.142 Q2039.01 277.017 2037.09 275.235 Q2035.19 273.453 2031.83 273.453 M2027.16 271.462 Q2024.15 270.721 2022.46 268.661 Q2020.79 266.601 2020.79 263.638 Q2020.79 259.494 2023.73 257.087 Q2026.69 254.68 2031.83 254.68 Q2036.99 254.68 2039.93 257.087 Q2042.87 259.494 2042.87 263.638 Q2042.87 266.601 2041.18 268.661 Q2039.52 270.721 2036.53 271.462 Q2039.91 272.249 2041.79 274.541 Q2043.68 276.832 2043.68 280.142 Q2043.68 285.166 2040.61 287.851 Q2037.55 290.536 2031.83 290.536 Q2026.12 290.536 2023.04 287.851 Q2019.98 285.166 2019.98 280.142 Q2019.98 276.832 2021.88 274.541 Q2023.78 272.249 2027.16 271.462 M2025.44 264.078 Q2025.44 266.763 2027.11 268.268 Q2028.8 269.772 2031.83 269.772 Q2034.84 269.772 2036.53 268.268 Q2038.24 266.763 2038.24 264.078 Q2038.24 261.393 2036.53 259.888 Q2034.84 258.383 2031.83 258.383 Q2028.8 258.383 2027.11 259.888 Q2025.44 261.393 2025.44 264.078 Z\" fill=\"#000000\" fill-rule=\"nonzero\" fill-opacity=\"1\" /><path clip-path=\"url(#clip110)\" d=\"M2081.39 274.656 Q2079.38 274.656 2078.22 276.369 Q2077.09 278.082 2077.09 281.138 Q2077.09 284.147 2078.22 285.883 Q2079.38 287.596 2081.39 287.596 Q2083.36 287.596 2084.49 285.883 Q2085.65 284.147 2085.65 281.138 Q2085.65 278.105 2084.49 276.393 Q2083.36 274.656 2081.39 274.656 M2081.39 271.717 Q2085.05 271.717 2087.2 274.263 Q2089.36 276.809 2089.36 281.138 Q2089.36 285.467 2087.18 288.013 Q2085.03 290.536 2081.39 290.536 Q2077.69 290.536 2075.54 288.013 Q2073.38 285.467 2073.38 281.138 Q2073.38 276.786 2075.54 274.263 Q2077.71 271.717 2081.39 271.717 M2057.5 257.619 Q2055.51 257.619 2054.36 259.356 Q2053.22 261.069 2053.22 264.078 Q2053.22 267.133 2054.36 268.846 Q2055.49 270.559 2057.5 270.559 Q2059.52 270.559 2060.65 268.846 Q2061.81 267.133 2061.81 264.078 Q2061.81 261.092 2060.65 259.356 Q2059.49 257.619 2057.5 257.619 M2078.41 254.68 L2082.11 254.68 L2060.49 290.536 L2056.79 290.536 L2078.41 254.68 M2057.5 254.68 Q2061.16 254.68 2063.34 257.226 Q2065.51 259.749 2065.51 264.078 Q2065.51 268.453 2063.34 270.976 Q2061.18 273.499 2057.5 273.499 Q2053.82 273.499 2051.67 270.976 Q2049.54 268.43 2049.54 264.078 Q2049.54 259.772 2051.69 257.226 Q2053.85 254.68 2057.5 254.68 Z\" fill=\"#000000\" fill-rule=\"nonzero\" fill-opacity=\"1\" /><path clip-path=\"url(#clip110)\" d=\"M2095.77 253.893 L2099.47 253.893 Q2102.94 259.356 2104.66 264.587 Q2106.39 269.818 2106.39 274.98 Q2106.39 280.166 2104.66 285.42 Q2102.94 290.675 2099.47 296.115 L2095.77 296.115 Q2098.85 290.814 2100.35 285.582 Q2101.88 280.328 2101.88 274.98 Q2101.88 269.633 2100.35 264.425 Q2098.85 259.217 2095.77 253.893 Z\" fill=\"#000000\" fill-rule=\"nonzero\" fill-opacity=\"1\" /><path clip-path=\"url(#clip110)\" d=\"M1569.09 345.161 L1713.01 345.161 L1713.01 303.689 L1569.09 303.689 L1569.09 345.161  Z\" fill=\"#3da44d\" fill-rule=\"evenodd\" fill-opacity=\"1\"/>\n",
       "<polyline clip-path=\"url(#clip110)\" style=\"stroke:#000000; stroke-linecap:round; stroke-linejoin:round; stroke-width:4; stroke-opacity:1; fill:none\" points=\"1569.09,345.161 1713.01,345.161 1713.01,303.689 1569.09,303.689 1569.09,345.161 \"/>\n",
       "<path clip-path=\"url(#clip110)\" d=\"M1741.67 325.2 L1741.67 337.862 L1749.17 337.862 Q1752.95 337.862 1754.75 336.311 Q1756.58 334.737 1756.58 331.52 Q1756.58 328.279 1754.75 326.751 Q1752.95 325.2 1749.17 325.2 L1741.67 325.2 M1741.67 310.987 L1741.67 321.404 L1748.59 321.404 Q1752.02 321.404 1753.69 320.131 Q1755.38 318.834 1755.38 316.196 Q1755.38 313.58 1753.69 312.284 Q1752.02 310.987 1748.59 310.987 L1741.67 310.987 M1737 307.145 L1748.94 307.145 Q1754.29 307.145 1757.18 309.367 Q1760.07 311.589 1760.07 315.686 Q1760.07 318.858 1758.59 320.733 Q1757.11 322.608 1754.24 323.07 Q1757.69 323.811 1759.59 326.172 Q1761.51 328.51 1761.51 332.029 Q1761.51 336.658 1758.36 339.182 Q1755.21 341.705 1749.4 341.705 L1737 341.705 L1737 307.145 Z\" fill=\"#000000\" fill-rule=\"nonzero\" fill-opacity=\"1\" /><path clip-path=\"url(#clip110)\" d=\"M1768.89 331.473 L1768.89 315.779 L1773.15 315.779 L1773.15 331.311 Q1773.15 334.992 1774.59 336.844 Q1776.02 338.672 1778.89 338.672 Q1782.34 338.672 1784.33 336.473 Q1786.35 334.274 1786.35 330.478 L1786.35 315.779 L1790.61 315.779 L1790.61 341.705 L1786.35 341.705 L1786.35 337.723 Q1784.8 340.084 1782.74 341.242 Q1780.7 342.376 1777.99 342.376 Q1773.52 342.376 1771.21 339.598 Q1768.89 336.82 1768.89 331.473 M1779.61 315.154 L1779.61 315.154 Z\" fill=\"#000000\" fill-rule=\"nonzero\" fill-opacity=\"1\" /><path clip-path=\"url(#clip110)\" d=\"M1814.4 319.76 Q1813.69 319.344 1812.83 319.158 Q1812 318.95 1810.98 318.95 Q1807.37 318.95 1805.42 321.311 Q1803.5 323.649 1803.5 328.047 L1803.5 341.705 L1799.22 341.705 L1799.22 315.779 L1803.5 315.779 L1803.5 319.807 Q1804.84 317.446 1807 316.311 Q1809.15 315.154 1812.23 315.154 Q1812.67 315.154 1813.2 315.223 Q1813.73 315.27 1814.38 315.385 L1814.4 319.76 Z\" fill=\"#000000\" fill-rule=\"nonzero\" fill-opacity=\"1\" /><path clip-path=\"url(#clip110)\" d=\"M1835.1 328.441 Q1835.1 323.811 1833.18 321.265 Q1831.28 318.719 1827.83 318.719 Q1824.4 318.719 1822.48 321.265 Q1820.58 323.811 1820.58 328.441 Q1820.58 333.047 1822.48 335.594 Q1824.4 338.14 1827.83 338.14 Q1831.28 338.14 1833.18 335.594 Q1835.1 333.047 1835.1 328.441 M1839.36 338.487 Q1839.36 345.107 1836.42 348.325 Q1833.48 351.566 1827.41 351.566 Q1825.17 351.566 1823.18 351.218 Q1821.19 350.894 1819.31 350.2 L1819.31 346.056 Q1821.19 347.075 1823.01 347.561 Q1824.84 348.047 1826.74 348.047 Q1830.93 348.047 1833.01 345.848 Q1835.1 343.672 1835.1 339.251 L1835.1 337.144 Q1833.78 339.436 1831.72 340.57 Q1829.66 341.705 1826.79 341.705 Q1822.02 341.705 1819.1 338.07 Q1816.19 334.436 1816.19 328.441 Q1816.19 322.422 1819.1 318.788 Q1822.02 315.154 1826.79 315.154 Q1829.66 315.154 1831.72 316.288 Q1833.78 317.422 1835.1 319.714 L1835.1 315.779 L1839.36 315.779 L1839.36 338.487 Z\" fill=\"#000000\" fill-rule=\"nonzero\" fill-opacity=\"1\" /><path clip-path=\"url(#clip110)\" d=\"M1848.13 305.686 L1852.39 305.686 L1852.39 341.705 L1848.13 341.705 L1848.13 305.686 Z\" fill=\"#000000\" fill-rule=\"nonzero\" fill-opacity=\"1\" /><path clip-path=\"url(#clip110)\" d=\"M1873.08 328.672 Q1867.92 328.672 1865.93 329.853 Q1863.94 331.033 1863.94 333.881 Q1863.94 336.149 1865.42 337.492 Q1866.93 338.811 1869.5 338.811 Q1873.04 338.811 1875.17 336.311 Q1877.32 333.788 1877.32 329.621 L1877.32 328.672 L1873.08 328.672 M1881.58 326.913 L1881.58 341.705 L1877.32 341.705 L1877.32 337.769 Q1875.86 340.131 1873.69 341.265 Q1871.51 342.376 1868.36 342.376 Q1864.38 342.376 1862.02 340.154 Q1859.68 337.908 1859.68 334.158 Q1859.68 329.783 1862.6 327.561 Q1865.54 325.339 1871.35 325.339 L1877.32 325.339 L1877.32 324.922 Q1877.32 321.983 1875.38 320.385 Q1873.45 318.765 1869.96 318.765 Q1867.74 318.765 1865.63 319.297 Q1863.52 319.83 1861.58 320.895 L1861.58 316.959 Q1863.92 316.057 1866.12 315.617 Q1868.32 315.154 1870.4 315.154 Q1876.02 315.154 1878.8 318.071 Q1881.58 320.987 1881.58 326.913 Z\" fill=\"#000000\" fill-rule=\"nonzero\" fill-opacity=\"1\" /><path clip-path=\"url(#clip110)\" d=\"M1905.38 319.76 Q1904.66 319.344 1903.8 319.158 Q1902.97 318.95 1901.95 318.95 Q1898.34 318.95 1896.39 321.311 Q1894.47 323.649 1894.47 328.047 L1894.47 341.705 L1890.19 341.705 L1890.19 315.779 L1894.47 315.779 L1894.47 319.807 Q1895.81 317.446 1897.97 316.311 Q1900.12 315.154 1903.2 315.154 Q1903.64 315.154 1904.17 315.223 Q1904.7 315.27 1905.35 315.385 L1905.38 319.76 Z\" fill=\"#000000\" fill-rule=\"nonzero\" fill-opacity=\"1\" /><path clip-path=\"url(#clip110)\" d=\"M1920.63 344.112 Q1918.82 348.742 1917.11 350.154 Q1915.4 351.566 1912.53 351.566 L1909.13 351.566 L1909.13 348.001 L1911.63 348.001 Q1913.38 348.001 1914.36 347.168 Q1915.33 346.334 1916.51 343.232 L1917.27 341.288 L1906.79 315.779 L1911.3 315.779 L1919.4 336.057 L1927.5 315.779 L1932.02 315.779 L1920.63 344.112 Z\" fill=\"#000000\" fill-rule=\"nonzero\" fill-opacity=\"1\" /><path clip-path=\"url(#clip110)\" d=\"M1963.2 305.733 Q1960.1 311.057 1958.59 316.265 Q1957.09 321.473 1957.09 326.82 Q1957.09 332.168 1958.59 337.422 Q1960.12 342.654 1963.2 347.955 L1959.5 347.955 Q1956.02 342.515 1954.29 337.26 Q1952.57 332.006 1952.57 326.82 Q1952.57 321.658 1954.29 316.427 Q1956 311.196 1959.5 305.733 L1963.2 305.733 Z\" fill=\"#000000\" fill-rule=\"nonzero\" fill-opacity=\"1\" /><path clip-path=\"url(#clip110)\" d=\"M1972.87 337.769 L1980.51 337.769 L1980.51 311.404 L1972.2 313.071 L1972.2 308.811 L1980.47 307.145 L1985.14 307.145 L1985.14 337.769 L1992.78 337.769 L1992.78 341.705 L1972.87 341.705 L1972.87 337.769 Z\" fill=\"#000000\" fill-rule=\"nonzero\" fill-opacity=\"1\" /><path clip-path=\"url(#clip110)\" d=\"M2002.27 307.145 L2020.63 307.145 L2020.63 311.08 L2006.56 311.08 L2006.56 319.552 Q2007.57 319.205 2008.59 319.043 Q2009.61 318.858 2010.63 318.858 Q2016.42 318.858 2019.8 322.029 Q2023.18 325.2 2023.18 330.617 Q2023.18 336.195 2019.7 339.297 Q2016.23 342.376 2009.91 342.376 Q2007.74 342.376 2005.47 342.006 Q2003.22 341.635 2000.81 340.894 L2000.81 336.195 Q2002.9 337.33 2005.12 337.885 Q2007.34 338.441 2009.82 338.441 Q2013.82 338.441 2016.16 336.334 Q2018.5 334.228 2018.5 330.617 Q2018.5 327.006 2016.16 324.899 Q2013.82 322.793 2009.82 322.793 Q2007.94 322.793 2006.07 323.209 Q2004.22 323.626 2002.27 324.506 L2002.27 307.145 Z\" fill=\"#000000\" fill-rule=\"nonzero\" fill-opacity=\"1\" /><path clip-path=\"url(#clip110)\" d=\"M2032.39 335.825 L2037.27 335.825 L2037.27 341.705 L2032.39 341.705 L2032.39 335.825 Z\" fill=\"#000000\" fill-rule=\"nonzero\" fill-opacity=\"1\" /><path clip-path=\"url(#clip110)\" d=\"M2060.3 311.219 L2048.5 329.668 L2060.3 329.668 L2060.3 311.219 M2059.08 307.145 L2064.96 307.145 L2064.96 329.668 L2069.89 329.668 L2069.89 333.557 L2064.96 333.557 L2064.96 341.705 L2060.3 341.705 L2060.3 333.557 L2044.7 333.557 L2044.7 329.043 L2059.08 307.145 Z\" fill=\"#000000\" fill-rule=\"nonzero\" fill-opacity=\"1\" /><path clip-path=\"url(#clip110)\" d=\"M2107.02 326.496 Q2105 326.496 2103.85 328.209 Q2102.71 329.922 2102.71 332.978 Q2102.71 335.987 2103.85 337.723 Q2105 339.436 2107.02 339.436 Q2108.99 339.436 2110.12 337.723 Q2111.28 335.987 2111.28 332.978 Q2111.28 329.945 2110.12 328.233 Q2108.99 326.496 2107.02 326.496 M2107.02 323.557 Q2110.67 323.557 2112.83 326.103 Q2114.98 328.649 2114.98 332.978 Q2114.98 337.307 2112.8 339.853 Q2110.65 342.376 2107.02 342.376 Q2103.31 342.376 2101.16 339.853 Q2099.01 337.307 2099.01 332.978 Q2099.01 328.626 2101.16 326.103 Q2103.34 323.557 2107.02 323.557 M2083.13 309.459 Q2081.14 309.459 2079.98 311.196 Q2078.85 312.909 2078.85 315.918 Q2078.85 318.973 2079.98 320.686 Q2081.11 322.399 2083.13 322.399 Q2085.14 322.399 2086.28 320.686 Q2087.43 318.973 2087.43 315.918 Q2087.43 312.932 2086.28 311.196 Q2085.12 309.459 2083.13 309.459 M2104.03 306.52 L2107.74 306.52 L2086.11 342.376 L2082.41 342.376 L2104.03 306.52 M2083.13 306.52 Q2086.79 306.52 2088.96 309.066 Q2091.14 311.589 2091.14 315.918 Q2091.14 320.293 2088.96 322.816 Q2086.81 325.339 2083.13 325.339 Q2079.45 325.339 2077.3 322.816 Q2075.17 320.27 2075.17 315.918 Q2075.17 311.612 2077.32 309.066 Q2079.47 306.52 2083.13 306.52 Z\" fill=\"#000000\" fill-rule=\"nonzero\" fill-opacity=\"1\" /><path clip-path=\"url(#clip110)\" d=\"M2121.39 305.733 L2125.1 305.733 Q2128.57 311.196 2130.28 316.427 Q2132.02 321.658 2132.02 326.82 Q2132.02 332.006 2130.28 337.26 Q2128.57 342.515 2125.1 347.955 L2121.39 347.955 Q2124.47 342.654 2125.98 337.422 Q2127.5 332.168 2127.5 326.82 Q2127.5 321.473 2125.98 316.265 Q2124.47 311.057 2121.39 305.733 Z\" fill=\"#000000\" fill-rule=\"nonzero\" fill-opacity=\"1\" /></svg>\n"
      ],
      "text/html": [
       "<?xml version=\"1.0\" encoding=\"utf-8\"?>\n",
       "<svg xmlns=\"http://www.w3.org/2000/svg\" xmlns:xlink=\"http://www.w3.org/1999/xlink\" width=\"600\" height=\"400\" viewBox=\"0 0 2400 1600\">\n",
       "<defs>\n",
       "  <clipPath id=\"clip160\">\n",
       "    <rect x=\"0\" y=\"0\" width=\"2400\" height=\"1600\"/>\n",
       "  </clipPath>\n",
       "</defs>\n",
       "<path clip-path=\"url(#clip160)\" d=\"M0 1600 L2400 1600 L2400 0 L0 0  Z\" fill=\"#ffffff\" fill-rule=\"evenodd\" fill-opacity=\"1\"/>\n",
       "<defs>\n",
       "  <clipPath id=\"clip161\">\n",
       "    <rect x=\"480\" y=\"0\" width=\"1681\" height=\"1600\"/>\n",
       "  </clipPath>\n",
       "</defs>\n",
       "<path clip-path=\"url(#clip160)\" d=\"M193.936 1486.45 L2352.76 1486.45 L2352.76 123.472 L193.936 123.472  Z\" fill=\"#ffffff\" fill-rule=\"evenodd\" fill-opacity=\"1\"/>\n",
       "<defs>\n",
       "  <clipPath id=\"clip162\">\n",
       "    <rect x=\"193\" y=\"123\" width=\"2160\" height=\"1364\"/>\n",
       "  </clipPath>\n",
       "</defs>\n",
       "<path clip-path=\"url(#clip160)\" d=\"M631.581 12.096 L639.764 12.096 L639.764 72.576 L631.581 72.576 L631.581 12.096 Z\" fill=\"#000000\" fill-rule=\"nonzero\" fill-opacity=\"1\" /><path clip-path=\"url(#clip160)\" d=\"M693.439 45.1919 L693.439 72.576 L685.985 72.576 L685.985 45.4349 Q685.985 38.994 683.474 35.7938 Q680.962 32.5936 675.939 32.5936 Q669.903 32.5936 666.419 36.4419 Q662.935 40.2903 662.935 46.9338 L662.935 72.576 L655.441 72.576 L655.441 27.2059 L662.935 27.2059 L662.935 34.2544 Q665.609 30.163 669.214 28.1376 Q672.86 26.1121 677.6 26.1121 Q685.418 26.1121 689.428 30.9732 Q693.439 35.7938 693.439 45.1919 Z\" fill=\"#000000\" fill-rule=\"nonzero\" fill-opacity=\"1\" /><path clip-path=\"url(#clip160)\" d=\"M740.956 28.9478 L740.956 35.9153 Q737.796 34.1734 734.596 33.3227 Q731.436 32.4315 728.196 32.4315 Q720.944 32.4315 716.934 37.0496 Q712.924 41.6271 712.924 49.9314 Q712.924 58.2358 716.934 62.8538 Q720.944 67.4314 728.196 67.4314 Q731.436 67.4314 734.596 66.5807 Q737.796 65.6895 740.956 63.9476 L740.956 70.8341 Q737.837 72.2924 734.474 73.0216 Q731.153 73.7508 727.385 73.7508 Q717.137 73.7508 711.101 67.3098 Q705.065 60.8689 705.065 49.9314 Q705.065 38.832 711.141 32.472 Q717.258 26.1121 727.871 26.1121 Q731.315 26.1121 734.596 26.8413 Q737.877 27.5299 740.956 28.9478 Z\" fill=\"#000000\" fill-rule=\"nonzero\" fill-opacity=\"1\" /><path clip-path=\"url(#clip160)\" d=\"M753.919 27.2059 L761.372 27.2059 L761.372 72.576 L753.919 72.576 L753.919 27.2059 M753.919 9.54393 L761.372 9.54393 L761.372 18.9825 L753.919 18.9825 L753.919 9.54393 Z\" fill=\"#000000\" fill-rule=\"nonzero\" fill-opacity=\"1\" /><path clip-path=\"url(#clip160)\" d=\"M806.824 34.0924 L806.824 9.54393 L814.277 9.54393 L814.277 72.576 L806.824 72.576 L806.824 65.7705 Q804.474 69.8214 800.869 71.8063 Q797.304 73.7508 792.281 73.7508 Q784.057 73.7508 778.872 67.1883 Q773.728 60.6258 773.728 49.9314 Q773.728 39.2371 778.872 32.6746 Q784.057 26.1121 792.281 26.1121 Q797.304 26.1121 800.869 28.0971 Q804.474 30.0415 806.824 34.0924 M781.424 49.9314 Q781.424 58.1548 784.787 62.8538 Q788.189 67.5124 794.104 67.5124 Q800.018 67.5124 803.421 62.8538 Q806.824 58.1548 806.824 49.9314 Q806.824 41.7081 803.421 37.0496 Q800.018 32.3505 794.104 32.3505 Q788.189 32.3505 784.787 37.0496 Q781.424 41.7081 781.424 49.9314 Z\" fill=\"#000000\" fill-rule=\"nonzero\" fill-opacity=\"1\" /><path clip-path=\"url(#clip160)\" d=\"M868.438 48.0275 L868.438 51.6733 L834.167 51.6733 Q834.653 59.3701 838.785 63.421 Q842.958 67.4314 850.371 67.4314 Q854.665 67.4314 858.675 66.3781 Q862.726 65.3249 866.696 63.2184 L866.696 70.267 Q862.686 71.9684 858.473 72.8596 Q854.26 73.7508 849.925 73.7508 Q839.069 73.7508 832.709 67.4314 Q826.389 61.1119 826.389 50.3365 Q826.389 39.1965 832.385 32.6746 Q838.421 26.1121 848.629 26.1121 Q857.784 26.1121 863.091 32.0264 Q868.438 37.9003 868.438 48.0275 M860.984 45.84 Q860.903 39.7232 857.541 36.0774 Q854.219 32.4315 848.71 32.4315 Q842.472 32.4315 838.704 35.9558 Q834.977 39.4801 834.41 45.8805 L860.984 45.84 Z\" fill=\"#000000\" fill-rule=\"nonzero\" fill-opacity=\"1\" /><path clip-path=\"url(#clip160)\" d=\"M918.385 45.1919 L918.385 72.576 L910.932 72.576 L910.932 45.4349 Q910.932 38.994 908.42 35.7938 Q905.909 32.5936 900.886 32.5936 Q894.85 32.5936 891.366 36.4419 Q887.882 40.2903 887.882 46.9338 L887.882 72.576 L880.388 72.576 L880.388 27.2059 L887.882 27.2059 L887.882 34.2544 Q890.556 30.163 894.161 28.1376 Q897.807 26.1121 902.546 26.1121 Q910.365 26.1121 914.375 30.9732 Q918.385 35.7938 918.385 45.1919 Z\" fill=\"#000000\" fill-rule=\"nonzero\" fill-opacity=\"1\" /><path clip-path=\"url(#clip160)\" d=\"M940.625 14.324 L940.625 27.2059 L955.978 27.2059 L955.978 32.9987 L940.625 32.9987 L940.625 57.6282 Q940.625 63.1779 942.124 64.7578 Q943.663 66.3376 948.322 66.3376 L955.978 66.3376 L955.978 72.576 L948.322 72.576 Q939.693 72.576 936.412 69.3758 Q933.131 66.1351 933.131 57.6282 L933.131 32.9987 L927.662 32.9987 L927.662 27.2059 L933.131 27.2059 L933.131 14.324 L940.625 14.324 Z\" fill=\"#000000\" fill-rule=\"nonzero\" fill-opacity=\"1\" /><path clip-path=\"url(#clip160)\" d=\"M984.091 12.096 L1035.25 12.096 L1035.25 18.9825 L1013.78 18.9825 L1013.78 72.576 L1005.56 72.576 L1005.56 18.9825 L984.091 18.9825 L984.091 12.096 Z\" fill=\"#000000\" fill-rule=\"nonzero\" fill-opacity=\"1\" /><path clip-path=\"url(#clip160)\" d=\"M1048.78 76.7889 Q1045.62 84.8907 1042.63 87.3618 Q1039.63 89.8329 1034.61 89.8329 L1028.65 89.8329 L1028.65 83.5945 L1033.03 83.5945 Q1036.1 83.5945 1037.81 82.1361 Q1039.51 80.6778 1041.57 75.2496 L1042.91 71.8468 L1024.56 27.2059 L1032.46 27.2059 L1046.64 62.6918 L1060.82 27.2059 L1068.71 27.2059 L1048.78 76.7889 Z\" fill=\"#000000\" fill-rule=\"nonzero\" fill-opacity=\"1\" /><path clip-path=\"url(#clip160)\" d=\"M1086.21 65.7705 L1086.21 89.8329 L1078.72 89.8329 L1078.72 27.2059 L1086.21 27.2059 L1086.21 34.0924 Q1088.56 30.0415 1092.13 28.0971 Q1095.73 26.1121 1100.72 26.1121 Q1108.98 26.1121 1114.13 32.6746 Q1119.31 39.2371 1119.31 49.9314 Q1119.31 60.6258 1114.13 67.1883 Q1108.98 73.7508 1100.72 73.7508 Q1095.73 73.7508 1092.13 71.8063 Q1088.56 69.8214 1086.21 65.7705 M1111.57 49.9314 Q1111.57 41.7081 1108.17 37.0496 Q1104.81 32.3505 1098.89 32.3505 Q1092.98 32.3505 1089.58 37.0496 Q1086.21 41.7081 1086.21 49.9314 Q1086.21 58.1548 1089.58 62.8538 Q1092.98 67.5124 1098.89 67.5124 Q1104.81 67.5124 1108.17 62.8538 Q1111.57 58.1548 1111.57 49.9314 Z\" fill=\"#000000\" fill-rule=\"nonzero\" fill-opacity=\"1\" /><path clip-path=\"url(#clip160)\" d=\"M1170.47 48.0275 L1170.47 51.6733 L1136.2 51.6733 Q1136.69 59.3701 1140.82 63.421 Q1144.99 67.4314 1152.41 67.4314 Q1156.7 67.4314 1160.71 66.3781 Q1164.76 65.3249 1168.73 63.2184 L1168.73 70.267 Q1164.72 71.9684 1160.51 72.8596 Q1156.3 73.7508 1151.96 73.7508 Q1141.1 73.7508 1134.74 67.4314 Q1128.42 61.1119 1128.42 50.3365 Q1128.42 39.1965 1134.42 32.6746 Q1140.46 26.1121 1150.66 26.1121 Q1159.82 26.1121 1165.13 32.0264 Q1170.47 37.9003 1170.47 48.0275 M1163.02 45.84 Q1162.94 39.7232 1159.58 36.0774 Q1156.25 32.4315 1150.75 32.4315 Q1144.51 32.4315 1140.74 35.9558 Q1137.01 39.4801 1136.45 45.8805 L1163.02 45.84 Z\" fill=\"#000000\" fill-rule=\"nonzero\" fill-opacity=\"1\" /><path clip-path=\"url(#clip160)\" d=\"M1204.74 27.2059 L1212.2 27.2059 L1221.51 62.6108 L1230.79 27.2059 L1239.58 27.2059 L1248.9 62.6108 L1258.18 27.2059 L1265.63 27.2059 L1253.76 72.576 L1244.97 72.576 L1235.21 35.3887 L1225.4 72.576 L1216.61 72.576 L1204.74 27.2059 Z\" fill=\"#000000\" fill-rule=\"nonzero\" fill-opacity=\"1\" /><path clip-path=\"url(#clip160)\" d=\"M1276.93 27.2059 L1284.38 27.2059 L1284.38 72.576 L1276.93 72.576 L1276.93 27.2059 M1276.93 9.54393 L1284.38 9.54393 L1284.38 18.9825 L1276.93 18.9825 L1276.93 9.54393 Z\" fill=\"#000000\" fill-rule=\"nonzero\" fill-opacity=\"1\" /><path clip-path=\"url(#clip160)\" d=\"M1307.35 14.324 L1307.35 27.2059 L1322.71 27.2059 L1322.71 32.9987 L1307.35 32.9987 L1307.35 57.6282 Q1307.35 63.1779 1308.85 64.7578 Q1310.39 66.3376 1315.05 66.3376 L1322.71 66.3376 L1322.71 72.576 L1315.05 72.576 Q1306.42 72.576 1303.14 69.3758 Q1299.86 66.1351 1299.86 57.6282 L1299.86 32.9987 L1294.39 32.9987 L1294.39 27.2059 L1299.86 27.2059 L1299.86 14.324 L1307.35 14.324 Z\" fill=\"#000000\" fill-rule=\"nonzero\" fill-opacity=\"1\" /><path clip-path=\"url(#clip160)\" d=\"M1370.22 45.1919 L1370.22 72.576 L1362.77 72.576 L1362.77 45.4349 Q1362.77 38.994 1360.26 35.7938 Q1357.75 32.5936 1352.72 32.5936 Q1346.69 32.5936 1343.2 36.4419 Q1339.72 40.2903 1339.72 46.9338 L1339.72 72.576 L1332.23 72.576 L1332.23 9.54393 L1339.72 9.54393 L1339.72 34.2544 Q1342.39 30.163 1346 28.1376 Q1349.64 26.1121 1354.38 26.1121 Q1362.2 26.1121 1366.21 30.9732 Q1370.22 35.7938 1370.22 45.1919 Z\" fill=\"#000000\" fill-rule=\"nonzero\" fill-opacity=\"1\" /><path clip-path=\"url(#clip160)\" d=\"M1418.67 65.7705 L1418.67 89.8329 L1411.18 89.8329 L1411.18 27.2059 L1418.67 27.2059 L1418.67 34.0924 Q1421.02 30.0415 1424.59 28.0971 Q1428.19 26.1121 1433.17 26.1121 Q1441.44 26.1121 1446.58 32.6746 Q1451.77 39.2371 1451.77 49.9314 Q1451.77 60.6258 1446.58 67.1883 Q1441.44 73.7508 1433.17 73.7508 Q1428.19 73.7508 1424.59 71.8063 Q1421.02 69.8214 1418.67 65.7705 M1444.03 49.9314 Q1444.03 41.7081 1440.63 37.0496 Q1437.27 32.3505 1431.35 32.3505 Q1425.44 32.3505 1422.03 37.0496 Q1418.67 41.7081 1418.67 49.9314 Q1418.67 58.1548 1422.03 62.8538 Q1425.44 67.5124 1431.35 67.5124 Q1437.27 67.5124 1440.63 62.8538 Q1444.03 58.1548 1444.03 49.9314 Z\" fill=\"#000000\" fill-rule=\"nonzero\" fill-opacity=\"1\" /><path clip-path=\"url(#clip160)\" d=\"M1502.93 48.0275 L1502.93 51.6733 L1468.66 51.6733 Q1469.15 59.3701 1473.28 63.421 Q1477.45 67.4314 1484.86 67.4314 Q1489.16 67.4314 1493.17 66.3781 Q1497.22 65.3249 1501.19 63.2184 L1501.19 70.267 Q1497.18 71.9684 1492.97 72.8596 Q1488.75 73.7508 1484.42 73.7508 Q1473.56 73.7508 1467.2 67.4314 Q1460.88 61.1119 1460.88 50.3365 Q1460.88 39.1965 1466.88 32.6746 Q1472.91 26.1121 1483.12 26.1121 Q1492.28 26.1121 1497.58 32.0264 Q1502.93 37.9003 1502.93 48.0275 M1495.48 45.84 Q1495.4 39.7232 1492.03 36.0774 Q1488.71 32.4315 1483.2 32.4315 Q1476.96 32.4315 1473.2 35.9558 Q1469.47 39.4801 1468.9 45.8805 L1495.48 45.84 Z\" fill=\"#000000\" fill-rule=\"nonzero\" fill-opacity=\"1\" /><path clip-path=\"url(#clip160)\" d=\"M1541.46 34.1734 Q1540.2 33.4443 1538.7 33.1202 Q1537.24 32.7556 1535.46 32.7556 Q1529.14 32.7556 1525.74 36.8875 Q1522.38 40.9789 1522.38 48.6757 L1522.38 72.576 L1514.88 72.576 L1514.88 27.2059 L1522.38 27.2059 L1522.38 34.2544 Q1524.72 30.1225 1528.49 28.1376 Q1532.26 26.1121 1537.65 26.1121 Q1538.42 26.1121 1539.35 26.2337 Q1540.28 26.3147 1541.41 26.5172 L1541.46 34.1734 Z\" fill=\"#000000\" fill-rule=\"nonzero\" fill-opacity=\"1\" /><path clip-path=\"url(#clip160)\" d=\"M1580.1 28.9478 L1580.1 35.9153 Q1576.94 34.1734 1573.74 33.3227 Q1570.58 32.4315 1567.34 32.4315 Q1560.09 32.4315 1556.08 37.0496 Q1552.07 41.6271 1552.07 49.9314 Q1552.07 58.2358 1556.08 62.8538 Q1560.09 67.4314 1567.34 67.4314 Q1570.58 67.4314 1573.74 66.5807 Q1576.94 65.6895 1580.1 63.9476 L1580.1 70.8341 Q1576.98 72.2924 1573.62 73.0216 Q1570.3 73.7508 1566.53 73.7508 Q1556.28 73.7508 1550.25 67.3098 Q1544.21 60.8689 1544.21 49.9314 Q1544.21 38.832 1550.29 32.472 Q1556.4 26.1121 1567.02 26.1121 Q1570.46 26.1121 1573.74 26.8413 Q1577.02 27.5299 1580.1 28.9478 Z\" fill=\"#000000\" fill-rule=\"nonzero\" fill-opacity=\"1\" /><path clip-path=\"url(#clip160)\" d=\"M1631.87 48.0275 L1631.87 51.6733 L1597.6 51.6733 Q1598.09 59.3701 1602.22 63.421 Q1606.39 67.4314 1613.8 67.4314 Q1618.1 67.4314 1622.11 66.3781 Q1626.16 65.3249 1630.13 63.2184 L1630.13 70.267 Q1626.12 71.9684 1621.91 72.8596 Q1617.69 73.7508 1613.36 73.7508 Q1602.5 73.7508 1596.14 67.4314 Q1589.82 61.1119 1589.82 50.3365 Q1589.82 39.1965 1595.82 32.6746 Q1601.85 26.1121 1612.06 26.1121 Q1621.22 26.1121 1626.52 32.0264 Q1631.87 37.9003 1631.87 48.0275 M1624.42 45.84 Q1624.34 39.7232 1620.97 36.0774 Q1617.65 32.4315 1612.14 32.4315 Q1605.9 32.4315 1602.14 35.9558 Q1598.41 39.4801 1597.84 45.8805 L1624.42 45.84 Z\" fill=\"#000000\" fill-rule=\"nonzero\" fill-opacity=\"1\" /><path clip-path=\"url(#clip160)\" d=\"M1681.82 45.1919 L1681.82 72.576 L1674.37 72.576 L1674.37 45.4349 Q1674.37 38.994 1671.85 35.7938 Q1669.34 32.5936 1664.32 32.5936 Q1658.28 32.5936 1654.8 36.4419 Q1651.32 40.2903 1651.32 46.9338 L1651.32 72.576 L1643.82 72.576 L1643.82 27.2059 L1651.32 27.2059 L1651.32 34.2544 Q1653.99 30.163 1657.59 28.1376 Q1661.24 26.1121 1665.98 26.1121 Q1673.8 26.1121 1677.81 30.9732 Q1681.82 35.7938 1681.82 45.1919 Z\" fill=\"#000000\" fill-rule=\"nonzero\" fill-opacity=\"1\" /><path clip-path=\"url(#clip160)\" d=\"M1704.06 14.324 L1704.06 27.2059 L1719.41 27.2059 L1719.41 32.9987 L1704.06 32.9987 L1704.06 57.6282 Q1704.06 63.1779 1705.56 64.7578 Q1707.1 66.3376 1711.76 66.3376 L1719.41 66.3376 L1719.41 72.576 L1711.76 72.576 Q1703.13 72.576 1699.85 69.3758 Q1696.56 66.1351 1696.56 57.6282 L1696.56 32.9987 L1691.1 32.9987 L1691.1 27.2059 L1696.56 27.2059 L1696.56 14.324 L1704.06 14.324 Z\" fill=\"#000000\" fill-rule=\"nonzero\" fill-opacity=\"1\" /><path clip-path=\"url(#clip160)\" d=\"M1749.83 49.7694 Q1740.8 49.7694 1737.32 51.8354 Q1733.83 53.9013 1733.83 58.8839 Q1733.83 62.8538 1736.43 65.2034 Q1739.06 67.5124 1743.55 67.5124 Q1749.75 67.5124 1753.48 63.1374 Q1757.25 58.7219 1757.25 51.4303 L1757.25 49.7694 L1749.83 49.7694 M1764.7 46.6907 L1764.7 72.576 L1757.25 72.576 L1757.25 65.6895 Q1754.69 69.8214 1750.89 71.8063 Q1747.08 73.7508 1741.57 73.7508 Q1734.6 73.7508 1730.47 69.8619 Q1726.38 65.9325 1726.38 59.3701 Q1726.38 51.7138 1731.48 47.825 Q1736.63 43.9361 1746.8 43.9361 L1757.25 43.9361 L1757.25 43.2069 Q1757.25 38.0623 1753.84 35.2672 Q1750.48 32.4315 1744.36 32.4315 Q1740.48 32.4315 1736.79 33.3632 Q1733.1 34.295 1729.7 36.1584 L1729.7 29.2718 Q1733.79 27.692 1737.64 26.9223 Q1741.49 26.1121 1745.13 26.1121 Q1754.98 26.1121 1759.84 31.2163 Q1764.7 36.3204 1764.7 46.6907 Z\" fill=\"#000000\" fill-rule=\"nonzero\" fill-opacity=\"1\" /><path clip-path=\"url(#clip160)\" d=\"M1809.91 49.3643 Q1809.91 41.2625 1806.55 36.8065 Q1803.22 32.3505 1797.19 32.3505 Q1791.19 32.3505 1787.83 36.8065 Q1784.51 41.2625 1784.51 49.3643 Q1784.51 57.4256 1787.83 61.8816 Q1791.19 66.3376 1797.19 66.3376 Q1803.22 66.3376 1806.55 61.8816 Q1809.91 57.4256 1809.91 49.3643 M1817.36 66.9452 Q1817.36 78.5308 1812.22 84.1616 Q1807.07 89.8329 1796.46 89.8329 Q1792.53 89.8329 1789.05 89.2252 Q1785.56 88.6581 1782.28 87.4428 L1782.28 80.1917 Q1785.56 81.9741 1788.76 82.8248 Q1791.96 83.6755 1795.28 83.6755 Q1802.62 83.6755 1806.26 79.8271 Q1809.91 76.0193 1809.91 68.282 L1809.91 64.5957 Q1807.6 68.6061 1803.99 70.5911 Q1800.39 72.576 1795.37 72.576 Q1787.02 72.576 1781.92 66.2161 Q1776.81 59.8562 1776.81 49.3643 Q1776.81 38.832 1781.92 32.472 Q1787.02 26.1121 1795.37 26.1121 Q1800.39 26.1121 1803.99 28.0971 Q1807.6 30.082 1809.91 34.0924 L1809.91 27.2059 L1817.36 27.2059 L1817.36 66.9452 Z\" fill=\"#000000\" fill-rule=\"nonzero\" fill-opacity=\"1\" /><path clip-path=\"url(#clip160)\" d=\"M1871.52 48.0275 L1871.52 51.6733 L1837.25 51.6733 Q1837.74 59.3701 1841.87 63.421 Q1846.04 67.4314 1853.46 67.4314 Q1857.75 67.4314 1861.76 66.3781 Q1865.81 65.3249 1869.78 63.2184 L1869.78 70.267 Q1865.77 71.9684 1861.56 72.8596 Q1857.34 73.7508 1853.01 73.7508 Q1842.15 73.7508 1835.79 67.4314 Q1829.47 61.1119 1829.47 50.3365 Q1829.47 39.1965 1835.47 32.6746 Q1841.51 26.1121 1851.71 26.1121 Q1860.87 26.1121 1866.18 32.0264 Q1871.52 37.9003 1871.52 48.0275 M1864.07 45.84 Q1863.99 39.7232 1860.63 36.0774 Q1857.3 32.4315 1851.79 32.4315 Q1845.56 32.4315 1841.79 35.9558 Q1838.06 39.4801 1837.5 45.8805 L1864.07 45.84 Z\" fill=\"#000000\" fill-rule=\"nonzero\" fill-opacity=\"1\" /><path clip-path=\"url(#clip160)\" d=\"M1912.68 28.5427 L1912.68 35.5912 Q1909.52 33.9709 1906.12 33.1607 Q1902.71 32.3505 1899.07 32.3505 Q1893.52 32.3505 1890.72 34.0519 Q1887.97 35.7533 1887.97 39.156 Q1887.97 41.7486 1889.95 43.2475 Q1891.94 44.7058 1897.93 46.0426 L1900.49 46.6097 Q1908.43 48.3111 1911.75 51.4303 Q1915.11 54.509 1915.11 60.0587 Q1915.11 66.3781 1910.09 70.0644 Q1905.1 73.7508 1896.35 73.7508 Q1892.71 73.7508 1888.74 73.0216 Q1884.81 72.3329 1880.43 70.9151 L1880.43 63.2184 Q1884.57 65.3654 1888.58 66.4591 Q1892.59 67.5124 1896.52 67.5124 Q1901.78 67.5124 1904.62 65.73 Q1907.45 63.9071 1907.45 60.6258 Q1907.45 57.5877 1905.39 55.9673 Q1903.36 54.3469 1896.44 52.8481 L1893.84 52.2405 Q1886.92 50.7821 1883.84 47.7845 Q1880.76 44.7463 1880.76 39.4801 Q1880.76 33.0797 1885.3 29.5959 Q1889.83 26.1121 1898.18 26.1121 Q1902.31 26.1121 1905.96 26.7198 Q1909.6 27.3274 1912.68 28.5427 Z\" fill=\"#000000\" fill-rule=\"nonzero\" fill-opacity=\"1\" /><path clip-path=\"url(#clip162)\" d=\"M1273.35 804.96 L1916.78 804.96 L1916.53 786.98 L1915.78 769.014 L1914.52 751.077 L1912.76 733.181 L1910.51 715.341 L1907.76 697.572 L1904.51 679.886 L1900.77 662.298 L1896.53 644.821 L1891.82 627.47 L1886.62 610.257 L1880.94 593.196 L1874.78 576.3 L1868.16 559.583 L1861.07 543.058 L1853.52 526.737 L1845.52 510.634 L1837.07 494.76 L1828.18 479.129 L1818.86 463.752 L1809.11 448.642 L1798.95 433.81 L1788.37 419.268 L1777.39 405.027 L1766.02 391.098 L1754.26 377.493 L1742.13 364.221 L1729.63 351.294 L1716.77 338.721 L1703.57 326.512 L1690.04 314.676 L1676.17 303.224 L1662 292.164 L1647.51 281.504 L1632.74 271.252 L1617.69 261.418 L1602.36 252.008 L1586.78 243.03 L1570.96 234.491 L1554.9 226.397 L1538.63 218.756 L1522.14 211.572 L1505.46 204.851 L1488.6 198.599 L1471.57 192.821 L1454.39 187.521 L1437.07 182.703 L1419.62 178.371 L1402.05 174.528 L1273.35 804.96  Z\" fill=\"#009af9\" fill-rule=\"evenodd\" fill-opacity=\"1\"/>\n",
       "<polyline clip-path=\"url(#clip162)\" style=\"stroke:#000000; stroke-linecap:round; stroke-linejoin:round; stroke-width:4; stroke-opacity:1; fill:none\" points=\"1273.35,804.96 1916.78,804.96 1916.53,786.98 1915.78,769.014 1914.52,751.077 1912.76,733.181 1910.51,715.341 1907.76,697.572 1904.51,679.886 1900.77,662.298 1896.53,644.821 1891.82,627.47 1886.62,610.257 1880.94,593.196 1874.78,576.3 1868.16,559.583 1861.07,543.058 1853.52,526.737 1845.52,510.634 1837.07,494.76 1828.18,479.129 1818.86,463.752 1809.11,448.642 1798.95,433.81 1788.37,419.268 1777.39,405.027 1766.02,391.098 1754.26,377.493 1742.13,364.221 1729.63,351.294 1716.77,338.721 1703.57,326.512 1690.04,314.676 1676.17,303.224 1662,292.164 1647.51,281.504 1632.74,271.252 1617.69,261.418 1602.36,252.008 1586.78,243.03 1570.96,234.491 1554.9,226.397 1538.63,218.756 1522.14,211.572 1505.46,204.851 1488.6,198.599 1471.57,192.821 1454.39,187.521 1437.07,182.703 1419.62,178.371 1402.05,174.528 1273.35,804.96 \"/>\n",
       "<path clip-path=\"url(#clip162)\" d=\"M1273.35 804.96 L1402.05 174.528 L1350.9 166.216 L1299.25 162.047 L1247.44 162.047 L1195.79 166.216 L1144.64 174.528 L1094.33 186.929 L1045.18 203.338 L997.51 223.648 L951.628 247.729 L907.833 275.423 L866.409 306.552 L827.623 340.913 L791.728 378.284 L758.957 418.421 L729.521 461.066 L703.613 505.941 L681.399 552.755 L663.024 601.205 L648.608 650.976 L638.243 701.746 L631.997 753.185 L629.911 804.96 L631.997 856.735 L638.243 908.174 L648.608 958.944 L663.024 1008.72 L681.399 1057.17 L703.613 1103.98 L729.521 1148.85 L758.957 1191.5 L791.728 1231.64 L827.623 1269.01 L866.409 1303.37 L907.833 1334.5 L951.628 1362.19 L997.51 1386.27 L1045.18 1406.58 L1094.33 1422.99 L1144.64 1435.39 L1195.79 1443.7 L1247.44 1447.87 L1299.25 1447.87 L1350.9 1443.7 L1402.05 1435.39 L1452.36 1422.99 L1501.51 1406.58 L1549.18 1386.27 L1595.06 1362.19 L1638.86 1334.5 L1273.35 804.96  Z\" fill=\"#e26f46\" fill-rule=\"evenodd\" fill-opacity=\"1\"/>\n",
       "<polyline clip-path=\"url(#clip162)\" style=\"stroke:#000000; stroke-linecap:round; stroke-linejoin:round; stroke-width:4; stroke-opacity:1; fill:none\" points=\"1273.35,804.96 1402.05,174.528 1350.9,166.216 1299.25,162.047 1247.44,162.047 1195.79,166.216 1144.64,174.528 1094.33,186.929 1045.18,203.338 997.51,223.648 951.628,247.729 907.833,275.423 866.409,306.552 827.623,340.913 791.728,378.284 758.957,418.421 729.521,461.066 703.613,505.941 681.399,552.755 663.024,601.205 648.608,650.976 638.243,701.746 631.997,753.185 629.911,804.96 631.997,856.735 638.243,908.174 648.608,958.944 663.024,1008.72 681.399,1057.17 703.613,1103.98 729.521,1148.85 758.957,1191.5 791.728,1231.64 827.623,1269.01 866.409,1303.37 907.833,1334.5 951.628,1362.19 997.51,1386.27 1045.18,1406.58 1094.33,1422.99 1144.64,1435.39 1195.79,1443.7 1247.44,1447.87 1299.25,1447.87 1350.9,1443.7 1402.05,1435.39 1452.36,1422.99 1501.51,1406.58 1549.18,1386.27 1595.06,1362.19 1638.86,1334.5 1273.35,804.96 \"/>\n",
       "<path clip-path=\"url(#clip162)\" d=\"M1273.35 804.96 L1638.86 1334.5 L1649.23 1327.18 L1659.46 1319.67 L1669.54 1311.95 L1679.46 1304.04 L1689.23 1295.93 L1698.83 1287.63 L1708.27 1279.14 L1717.54 1270.47 L1726.64 1261.62 L1735.56 1252.59 L1744.3 1243.38 L1752.85 1234.01 L1761.22 1224.46 L1769.4 1214.76 L1777.39 1204.89 L1785.18 1194.87 L1792.77 1184.7 L1800.16 1174.38 L1807.35 1163.92 L1814.33 1153.31 L1821.09 1142.57 L1827.65 1131.7 L1833.98 1120.7 L1840.1 1109.58 L1846 1098.34 L1851.68 1086.99 L1857.13 1075.53 L1862.35 1063.96 L1867.35 1052.29 L1872.11 1040.53 L1876.64 1028.67 L1880.94 1016.72 L1884.99 1004.7 L1888.82 992.593 L1892.4 980.416 L1895.74 968.17 L1898.84 955.861 L1901.69 943.493 L1904.3 931.071 L1906.67 918.601 L1908.78 906.086 L1910.66 893.531 L1912.28 880.942 L1913.65 868.324 L1914.78 855.681 L1915.65 843.018 L1916.28 830.34 L1916.66 817.652 L1916.78 804.96 L1273.35 804.96  Z\" fill=\"#3da44d\" fill-rule=\"evenodd\" fill-opacity=\"1\"/>\n",
       "<polyline clip-path=\"url(#clip162)\" style=\"stroke:#000000; stroke-linecap:round; stroke-linejoin:round; stroke-width:4; stroke-opacity:1; fill:none\" points=\"1273.35,804.96 1638.86,1334.5 1649.23,1327.18 1659.46,1319.67 1669.54,1311.95 1679.46,1304.04 1689.23,1295.93 1698.83,1287.63 1708.27,1279.14 1717.54,1270.47 1726.64,1261.62 1735.56,1252.59 1744.3,1243.38 1752.85,1234.01 1761.22,1224.46 1769.4,1214.76 1777.39,1204.89 1785.18,1194.87 1792.77,1184.7 1800.16,1174.38 1807.35,1163.92 1814.33,1153.31 1821.09,1142.57 1827.65,1131.7 1833.98,1120.7 1840.1,1109.58 1846,1098.34 1851.68,1086.99 1857.13,1075.53 1862.35,1063.96 1867.35,1052.29 1872.11,1040.53 1876.64,1028.67 1880.94,1016.72 1884.99,1004.7 1888.82,992.593 1892.4,980.416 1895.74,968.17 1898.84,955.861 1901.69,943.493 1904.3,931.071 1906.67,918.601 1908.78,906.086 1910.66,893.531 1912.28,880.942 1913.65,868.324 1914.78,855.681 1915.65,843.018 1916.28,830.34 1916.66,817.652 1916.78,804.96 1273.35,804.96 \"/>\n",
       "<path clip-path=\"url(#clip160)\" d=\"M1545.1 376.265 L2280.8 376.265 L2280.8 168.905 L1545.1 168.905  Z\" fill=\"#ffffff\" fill-rule=\"evenodd\" fill-opacity=\"1\"/>\n",
       "<polyline clip-path=\"url(#clip160)\" style=\"stroke:#000000; stroke-linecap:round; stroke-linejoin:round; stroke-width:4; stroke-opacity:1; fill:none\" points=\"1545.1,376.265 2280.8,376.265 2280.8,168.905 1545.1,168.905 1545.1,376.265 \"/>\n",
       "<path clip-path=\"url(#clip160)\" d=\"M1569.09 241.481 L1713.01 241.481 L1713.01 200.009 L1569.09 200.009 L1569.09 241.481  Z\" fill=\"#009af9\" fill-rule=\"evenodd\" fill-opacity=\"1\"/>\n",
       "<polyline clip-path=\"url(#clip160)\" style=\"stroke:#000000; stroke-linecap:round; stroke-linejoin:round; stroke-width:4; stroke-opacity:1; fill:none\" points=\"1569.09,241.481 1713.01,241.481 1713.01,200.009 1569.09,200.009 1569.09,241.481 \"/>\n",
       "<path clip-path=\"url(#clip160)\" d=\"M1750.19 238.025 L1737 203.465 L1741.88 203.465 L1752.83 232.562 L1763.8 203.465 L1768.66 203.465 L1755.49 238.025 L1750.19 238.025 Z\" fill=\"#000000\" fill-rule=\"nonzero\" fill-opacity=\"1\" /><path clip-path=\"url(#clip160)\" d=\"M1792.02 223.997 L1792.02 226.08 L1772.44 226.08 Q1772.71 230.478 1775.07 232.793 Q1777.46 235.085 1781.7 235.085 Q1784.15 235.085 1786.44 234.483 Q1788.76 233.881 1791.02 232.677 L1791.02 236.705 Q1788.73 237.677 1786.32 238.187 Q1783.92 238.696 1781.44 238.696 Q1775.24 238.696 1771.6 235.085 Q1767.99 231.474 1767.99 225.316 Q1767.99 218.951 1771.42 215.224 Q1774.87 211.474 1780.7 211.474 Q1785.93 211.474 1788.96 214.853 Q1792.02 218.21 1792.02 223.997 M1787.76 222.747 Q1787.71 219.252 1785.79 217.168 Q1783.89 215.085 1780.75 215.085 Q1777.18 215.085 1775.03 217.099 Q1772.9 219.113 1772.57 222.77 L1787.76 222.747 Z\" fill=\"#000000\" fill-rule=\"nonzero\" fill-opacity=\"1\" /><path clip-path=\"url(#clip160)\" d=\"M1820.56 222.377 L1820.56 238.025 L1816.3 238.025 L1816.3 222.515 Q1816.3 218.835 1814.87 217.006 Q1813.43 215.178 1810.56 215.178 Q1807.11 215.178 1805.12 217.377 Q1803.13 219.576 1803.13 223.372 L1803.13 238.025 L1798.85 238.025 L1798.85 202.006 L1803.13 202.006 L1803.13 216.127 Q1804.66 213.789 1806.72 212.631 Q1808.8 211.474 1811.51 211.474 Q1815.98 211.474 1818.27 214.252 Q1820.56 217.006 1820.56 222.377 Z\" fill=\"#000000\" fill-rule=\"nonzero\" fill-opacity=\"1\" /><path clip-path=\"url(#clip160)\" d=\"M1829.06 212.099 L1833.32 212.099 L1833.32 238.025 L1829.06 238.025 L1829.06 212.099 M1829.06 202.006 L1833.32 202.006 L1833.32 207.4 L1829.06 207.4 L1829.06 202.006 Z\" fill=\"#000000\" fill-rule=\"nonzero\" fill-opacity=\"1\" /><path clip-path=\"url(#clip160)\" d=\"M1860.88 213.094 L1860.88 217.076 Q1859.08 216.08 1857.25 215.594 Q1855.44 215.085 1853.59 215.085 Q1849.45 215.085 1847.16 217.724 Q1844.87 220.34 1844.87 225.085 Q1844.87 229.83 1847.16 232.469 Q1849.45 235.085 1853.59 235.085 Q1855.44 235.085 1857.25 234.599 Q1859.08 234.089 1860.88 233.094 L1860.88 237.029 Q1859.1 237.863 1857.18 238.279 Q1855.28 238.696 1853.13 238.696 Q1847.27 238.696 1843.82 235.015 Q1840.38 231.335 1840.38 225.085 Q1840.38 218.742 1843.85 215.108 Q1847.34 211.474 1853.41 211.474 Q1855.38 211.474 1857.25 211.891 Q1859.13 212.284 1860.88 213.094 Z\" fill=\"#000000\" fill-rule=\"nonzero\" fill-opacity=\"1\" /><path clip-path=\"url(#clip160)\" d=\"M1868.29 202.006 L1872.55 202.006 L1872.55 238.025 L1868.29 238.025 L1868.29 202.006 Z\" fill=\"#000000\" fill-rule=\"nonzero\" fill-opacity=\"1\" /><path clip-path=\"url(#clip160)\" d=\"M1903.64 223.997 L1903.64 226.08 L1884.06 226.08 Q1884.33 230.478 1886.69 232.793 Q1889.08 235.085 1893.31 235.085 Q1895.77 235.085 1898.06 234.483 Q1900.38 233.881 1902.64 232.677 L1902.64 236.705 Q1900.35 237.677 1897.94 238.187 Q1895.54 238.696 1893.06 238.696 Q1886.86 238.696 1883.22 235.085 Q1879.61 231.474 1879.61 225.316 Q1879.61 218.951 1883.04 215.224 Q1886.49 211.474 1892.32 211.474 Q1897.55 211.474 1900.58 214.853 Q1903.64 218.21 1903.64 223.997 M1899.38 222.747 Q1899.33 219.252 1897.41 217.168 Q1895.51 215.085 1892.37 215.085 Q1888.8 215.085 1886.65 217.099 Q1884.52 219.113 1884.19 222.77 L1899.38 222.747 Z\" fill=\"#000000\" fill-rule=\"nonzero\" fill-opacity=\"1\" /><path clip-path=\"url(#clip160)\" d=\"M1925.88 203.465 L1932.85 203.465 L1941.67 226.983 L1950.54 203.465 L1957.5 203.465 L1957.5 238.025 L1952.94 238.025 L1952.94 207.678 L1944.03 231.381 L1939.33 231.381 L1930.42 207.678 L1930.42 238.025 L1925.88 238.025 L1925.88 203.465 Z\" fill=\"#000000\" fill-rule=\"nonzero\" fill-opacity=\"1\" /><path clip-path=\"url(#clip160)\" d=\"M1976.65 215.085 Q1973.22 215.085 1971.23 217.77 Q1969.24 220.432 1969.24 225.085 Q1969.24 229.738 1971.21 232.423 Q1973.2 235.085 1976.65 235.085 Q1980.05 235.085 1982.04 232.4 Q1984.03 229.715 1984.03 225.085 Q1984.03 220.478 1982.04 217.793 Q1980.05 215.085 1976.65 215.085 M1976.65 211.474 Q1982.2 211.474 1985.37 215.085 Q1988.55 218.696 1988.55 225.085 Q1988.55 231.451 1985.37 235.085 Q1982.2 238.696 1976.65 238.696 Q1971.07 238.696 1967.9 235.085 Q1964.75 231.451 1964.75 225.085 Q1964.75 218.696 1967.9 215.085 Q1971.07 211.474 1976.65 211.474 Z\" fill=\"#000000\" fill-rule=\"nonzero\" fill-opacity=\"1\" /><path clip-path=\"url(#clip160)\" d=\"M1999.82 204.738 L1999.82 212.099 L2008.59 212.099 L2008.59 215.409 L1999.82 215.409 L1999.82 229.483 Q1999.82 232.654 2000.68 233.557 Q2001.56 234.46 2004.22 234.46 L2008.59 234.46 L2008.59 238.025 L2004.22 238.025 Q1999.29 238.025 1997.41 236.196 Q1995.54 234.344 1995.54 229.483 L1995.54 215.409 L1992.41 215.409 L1992.41 212.099 L1995.54 212.099 L1995.54 204.738 L1999.82 204.738 Z\" fill=\"#000000\" fill-rule=\"nonzero\" fill-opacity=\"1\" /><path clip-path=\"url(#clip160)\" d=\"M2024.24 215.085 Q2020.81 215.085 2018.82 217.77 Q2016.83 220.432 2016.83 225.085 Q2016.83 229.738 2018.8 232.423 Q2020.79 235.085 2024.24 235.085 Q2027.64 235.085 2029.63 232.4 Q2031.62 229.715 2031.62 225.085 Q2031.62 220.478 2029.63 217.793 Q2027.64 215.085 2024.24 215.085 M2024.24 211.474 Q2029.8 211.474 2032.97 215.085 Q2036.14 218.696 2036.14 225.085 Q2036.14 231.451 2032.97 235.085 Q2029.8 238.696 2024.24 238.696 Q2018.66 238.696 2015.49 235.085 Q2012.34 231.451 2012.34 225.085 Q2012.34 218.696 2015.49 215.085 Q2018.66 211.474 2024.24 211.474 Z\" fill=\"#000000\" fill-rule=\"nonzero\" fill-opacity=\"1\" /><path clip-path=\"url(#clip160)\" d=\"M2058.22 216.08 Q2057.5 215.664 2056.65 215.478 Q2055.81 215.27 2054.8 215.27 Q2051.18 215.27 2049.24 217.631 Q2047.32 219.969 2047.32 224.367 L2047.32 238.025 L2043.04 238.025 L2043.04 212.099 L2047.32 212.099 L2047.32 216.127 Q2048.66 213.766 2050.81 212.631 Q2052.97 211.474 2056.05 211.474 Q2056.49 211.474 2057.02 211.543 Q2057.55 211.59 2058.2 211.705 L2058.22 216.08 Z\" fill=\"#000000\" fill-rule=\"nonzero\" fill-opacity=\"1\" /><path clip-path=\"url(#clip160)\" d=\"M2087.99 202.053 Q2084.89 207.377 2083.38 212.585 Q2081.88 217.793 2081.88 223.14 Q2081.88 228.488 2083.38 233.742 Q2084.91 238.974 2087.99 244.275 L2084.29 244.275 Q2080.81 238.835 2079.08 233.58 Q2077.36 228.326 2077.36 223.14 Q2077.36 217.978 2079.08 212.747 Q2080.79 207.516 2084.29 202.053 L2087.99 202.053 Z\" fill=\"#000000\" fill-rule=\"nonzero\" fill-opacity=\"1\" /><path clip-path=\"url(#clip160)\" d=\"M2100.88 234.089 L2117.2 234.089 L2117.2 238.025 L2095.26 238.025 L2095.26 234.089 Q2097.92 231.335 2102.5 226.705 Q2107.11 222.053 2108.29 220.71 Q2110.54 218.187 2111.42 216.451 Q2112.32 214.691 2112.32 213.002 Q2112.32 210.247 2110.37 208.511 Q2108.45 206.775 2105.35 206.775 Q2103.15 206.775 2100.7 207.539 Q2098.27 208.303 2095.49 209.854 L2095.49 205.131 Q2098.31 203.997 2100.77 203.418 Q2103.22 202.84 2105.26 202.84 Q2110.63 202.84 2113.82 205.525 Q2117.02 208.21 2117.02 212.701 Q2117.02 214.83 2116.21 216.752 Q2115.42 218.65 2113.31 221.242 Q2112.74 221.914 2109.63 225.131 Q2106.53 228.326 2100.88 234.089 Z\" fill=\"#000000\" fill-rule=\"nonzero\" fill-opacity=\"1\" /><path clip-path=\"url(#clip160)\" d=\"M2127.83 234.089 L2135.47 234.089 L2135.47 207.724 L2127.16 209.391 L2127.16 205.131 L2135.42 203.465 L2140.1 203.465 L2140.1 234.089 L2147.73 234.089 L2147.73 238.025 L2127.83 238.025 L2127.83 234.089 Z\" fill=\"#000000\" fill-rule=\"nonzero\" fill-opacity=\"1\" /><path clip-path=\"url(#clip160)\" d=\"M2157.18 232.145 L2162.06 232.145 L2162.06 238.025 L2157.18 238.025 L2157.18 232.145 Z\" fill=\"#000000\" fill-rule=\"nonzero\" fill-opacity=\"1\" /><path clip-path=\"url(#clip160)\" d=\"M2182.25 221.613 Q2178.92 221.613 2176.99 223.395 Q2175.1 225.177 2175.1 228.302 Q2175.1 231.427 2176.99 233.21 Q2178.92 234.992 2182.25 234.992 Q2185.58 234.992 2187.5 233.21 Q2189.42 231.404 2189.42 228.302 Q2189.42 225.177 2187.5 223.395 Q2185.61 221.613 2182.25 221.613 M2177.57 219.622 Q2174.56 218.881 2172.87 216.821 Q2171.21 214.761 2171.21 211.798 Q2171.21 207.654 2174.15 205.247 Q2177.11 202.84 2182.25 202.84 Q2187.41 202.84 2190.35 205.247 Q2193.29 207.654 2193.29 211.798 Q2193.29 214.761 2191.6 216.821 Q2189.93 218.881 2186.95 219.622 Q2190.33 220.409 2192.2 222.701 Q2194.1 224.992 2194.1 228.302 Q2194.1 233.326 2191.02 236.011 Q2187.97 238.696 2182.25 238.696 Q2176.53 238.696 2173.45 236.011 Q2170.4 233.326 2170.4 228.302 Q2170.4 224.992 2172.29 222.701 Q2174.19 220.409 2177.57 219.622 M2175.86 212.238 Q2175.86 214.923 2177.53 216.428 Q2179.22 217.932 2182.25 217.932 Q2185.26 217.932 2186.95 216.428 Q2188.66 214.923 2188.66 212.238 Q2188.66 209.553 2186.95 208.048 Q2185.26 206.543 2182.25 206.543 Q2179.22 206.543 2177.53 208.048 Q2175.86 209.553 2175.86 212.238 Z\" fill=\"#000000\" fill-rule=\"nonzero\" fill-opacity=\"1\" /><path clip-path=\"url(#clip160)\" d=\"M2231.81 222.816 Q2229.79 222.816 2228.64 224.529 Q2227.5 226.242 2227.5 229.298 Q2227.5 232.307 2228.64 234.043 Q2229.79 235.756 2231.81 235.756 Q2233.78 235.756 2234.91 234.043 Q2236.07 232.307 2236.07 229.298 Q2236.07 226.265 2234.91 224.553 Q2233.78 222.816 2231.81 222.816 M2231.81 219.877 Q2235.47 219.877 2237.62 222.423 Q2239.77 224.969 2239.77 229.298 Q2239.77 233.627 2237.6 236.173 Q2235.44 238.696 2231.81 238.696 Q2228.1 238.696 2225.95 236.173 Q2223.8 233.627 2223.8 229.298 Q2223.8 224.946 2225.95 222.423 Q2228.13 219.877 2231.81 219.877 M2207.92 205.779 Q2205.93 205.779 2204.77 207.516 Q2203.64 209.229 2203.64 212.238 Q2203.64 215.293 2204.77 217.006 Q2205.91 218.719 2207.92 218.719 Q2209.93 218.719 2211.07 217.006 Q2212.23 215.293 2212.23 212.238 Q2212.23 209.252 2211.07 207.516 Q2209.91 205.779 2207.92 205.779 M2228.82 202.84 L2232.53 202.84 L2210.91 238.696 L2207.2 238.696 L2228.82 202.84 M2207.92 202.84 Q2211.58 202.84 2213.75 205.386 Q2215.93 207.909 2215.93 212.238 Q2215.93 216.613 2213.75 219.136 Q2211.6 221.659 2207.92 221.659 Q2204.24 221.659 2202.09 219.136 Q2199.96 216.59 2199.96 212.238 Q2199.96 207.932 2202.11 205.386 Q2204.26 202.84 2207.92 202.84 Z\" fill=\"#000000\" fill-rule=\"nonzero\" fill-opacity=\"1\" /><path clip-path=\"url(#clip160)\" d=\"M2246.18 202.053 L2249.89 202.053 Q2253.36 207.516 2255.07 212.747 Q2256.81 217.978 2256.81 223.14 Q2256.81 228.326 2255.07 233.58 Q2253.36 238.835 2249.89 244.275 L2246.18 244.275 Q2249.26 238.974 2250.77 233.742 Q2252.29 228.488 2252.29 223.14 Q2252.29 217.793 2250.77 212.585 Q2249.26 207.377 2246.18 202.053 Z\" fill=\"#000000\" fill-rule=\"nonzero\" fill-opacity=\"1\" /><path clip-path=\"url(#clip160)\" d=\"M1569.09 293.321 L1713.01 293.321 L1713.01 251.849 L1569.09 251.849 L1569.09 293.321  Z\" fill=\"#e26f46\" fill-rule=\"evenodd\" fill-opacity=\"1\"/>\n",
       "<polyline clip-path=\"url(#clip160)\" style=\"stroke:#000000; stroke-linecap:round; stroke-linejoin:round; stroke-width:4; stroke-opacity:1; fill:none\" points=\"1569.09,293.321 1713.01,293.321 1713.01,251.849 1569.09,251.849 1569.09,293.321 \"/>\n",
       "<path clip-path=\"url(#clip160)\" d=\"M1741.67 273.36 L1741.67 286.022 L1749.17 286.022 Q1752.95 286.022 1754.75 284.471 Q1756.58 282.897 1756.58 279.68 Q1756.58 276.439 1754.75 274.911 Q1752.95 273.36 1749.17 273.36 L1741.67 273.36 M1741.67 259.147 L1741.67 269.564 L1748.59 269.564 Q1752.02 269.564 1753.69 268.291 Q1755.38 266.994 1755.38 264.356 Q1755.38 261.74 1753.69 260.444 Q1752.02 259.147 1748.59 259.147 L1741.67 259.147 M1737 255.305 L1748.94 255.305 Q1754.29 255.305 1757.18 257.527 Q1760.07 259.749 1760.07 263.846 Q1760.07 267.018 1758.59 268.893 Q1757.11 270.768 1754.24 271.23 Q1757.69 271.971 1759.59 274.332 Q1761.51 276.67 1761.51 280.189 Q1761.51 284.818 1758.36 287.342 Q1755.21 289.865 1749.4 289.865 L1737 289.865 L1737 255.305 Z\" fill=\"#000000\" fill-rule=\"nonzero\" fill-opacity=\"1\" /><path clip-path=\"url(#clip160)\" d=\"M1781.12 276.832 Q1775.95 276.832 1773.96 278.013 Q1771.97 279.193 1771.97 282.041 Q1771.97 284.309 1773.45 285.652 Q1774.96 286.971 1777.53 286.971 Q1781.07 286.971 1783.2 284.471 Q1785.35 281.948 1785.35 277.781 L1785.35 276.832 L1781.12 276.832 M1789.61 275.073 L1789.61 289.865 L1785.35 289.865 L1785.35 285.929 Q1783.89 288.291 1781.72 289.425 Q1779.54 290.536 1776.39 290.536 Q1772.41 290.536 1770.05 288.314 Q1767.71 286.068 1767.71 282.318 Q1767.71 277.943 1770.63 275.721 Q1773.57 273.499 1779.38 273.499 L1785.35 273.499 L1785.35 273.082 Q1785.35 270.143 1783.41 268.545 Q1781.49 266.925 1777.99 266.925 Q1775.77 266.925 1773.66 267.457 Q1771.56 267.99 1769.61 269.055 L1769.61 265.119 Q1771.95 264.217 1774.15 263.777 Q1776.35 263.314 1778.43 263.314 Q1784.06 263.314 1786.83 266.231 Q1789.61 269.147 1789.61 275.073 Z\" fill=\"#000000\" fill-rule=\"nonzero\" fill-opacity=\"1\" /><path clip-path=\"url(#clip160)\" d=\"M1802.6 256.578 L1802.6 263.939 L1811.37 263.939 L1811.37 267.249 L1802.6 267.249 L1802.6 281.323 Q1802.6 284.494 1803.45 285.397 Q1804.33 286.3 1807 286.3 L1811.37 286.3 L1811.37 289.865 L1807 289.865 Q1802.07 289.865 1800.19 288.036 Q1798.32 286.184 1798.32 281.323 L1798.32 267.249 L1795.19 267.249 L1795.19 263.939 L1798.32 263.939 L1798.32 256.578 L1802.6 256.578 Z\" fill=\"#000000\" fill-rule=\"nonzero\" fill-opacity=\"1\" /><path clip-path=\"url(#clip160)\" d=\"M1821.19 256.578 L1821.19 263.939 L1829.96 263.939 L1829.96 267.249 L1821.19 267.249 L1821.19 281.323 Q1821.19 284.494 1822.04 285.397 Q1822.92 286.3 1825.58 286.3 L1829.96 286.3 L1829.96 289.865 L1825.58 289.865 Q1820.65 289.865 1818.78 288.036 Q1816.9 286.184 1816.9 281.323 L1816.9 267.249 L1813.78 267.249 L1813.78 263.939 L1816.9 263.939 L1816.9 256.578 L1821.19 256.578 Z\" fill=\"#000000\" fill-rule=\"nonzero\" fill-opacity=\"1\" /><path clip-path=\"url(#clip160)\" d=\"M1857.74 275.837 L1857.74 277.92 L1838.15 277.92 Q1838.43 282.318 1840.79 284.633 Q1843.18 286.925 1847.41 286.925 Q1849.87 286.925 1852.16 286.323 Q1854.47 285.721 1856.74 284.517 L1856.74 288.545 Q1854.45 289.517 1852.04 290.027 Q1849.63 290.536 1847.16 290.536 Q1840.95 290.536 1837.32 286.925 Q1833.71 283.314 1833.71 277.156 Q1833.71 270.791 1837.13 267.064 Q1840.58 263.314 1846.42 263.314 Q1851.65 263.314 1854.68 266.693 Q1857.74 270.05 1857.74 275.837 M1853.48 274.587 Q1853.43 271.092 1851.51 269.008 Q1849.61 266.925 1846.46 266.925 Q1842.9 266.925 1840.75 268.939 Q1838.62 270.953 1838.29 274.61 L1853.48 274.587 Z\" fill=\"#000000\" fill-rule=\"nonzero\" fill-opacity=\"1\" /><path clip-path=\"url(#clip160)\" d=\"M1879.75 267.92 Q1879.03 267.504 1878.18 267.318 Q1877.34 267.11 1876.32 267.11 Q1872.71 267.11 1870.77 269.471 Q1868.85 271.809 1868.85 276.207 L1868.85 289.865 L1864.57 289.865 L1864.57 263.939 L1868.85 263.939 L1868.85 267.967 Q1870.19 265.606 1872.34 264.471 Q1874.5 263.314 1877.57 263.314 Q1878.01 263.314 1878.55 263.383 Q1879.08 263.43 1879.73 263.545 L1879.75 267.92 Z\" fill=\"#000000\" fill-rule=\"nonzero\" fill-opacity=\"1\" /><path clip-path=\"url(#clip160)\" d=\"M1895 292.272 Q1893.2 296.902 1891.49 298.314 Q1889.77 299.726 1886.9 299.726 L1883.5 299.726 L1883.5 296.161 L1886 296.161 Q1887.76 296.161 1888.73 295.328 Q1889.7 294.494 1890.88 291.392 L1891.65 289.448 L1881.16 263.939 L1885.68 263.939 L1893.78 284.217 L1901.88 263.939 L1906.39 263.939 L1895 292.272 Z\" fill=\"#000000\" fill-rule=\"nonzero\" fill-opacity=\"1\" /><path clip-path=\"url(#clip160)\" d=\"M1937.57 253.893 Q1934.47 259.217 1932.97 264.425 Q1931.46 269.633 1931.46 274.98 Q1931.46 280.328 1932.97 285.582 Q1934.5 290.814 1937.57 296.115 L1933.87 296.115 Q1930.4 290.675 1928.66 285.42 Q1926.95 280.166 1926.95 274.98 Q1926.95 269.818 1928.66 264.587 Q1930.37 259.356 1933.87 253.893 L1937.57 253.893 Z\" fill=\"#000000\" fill-rule=\"nonzero\" fill-opacity=\"1\" /><path clip-path=\"url(#clip160)\" d=\"M1957.02 270.721 Q1953.87 270.721 1952.02 272.874 Q1950.19 275.027 1950.19 278.777 Q1950.19 282.504 1952.02 284.679 Q1953.87 286.832 1957.02 286.832 Q1960.17 286.832 1962 284.679 Q1963.85 282.504 1963.85 278.777 Q1963.85 275.027 1962 272.874 Q1960.17 270.721 1957.02 270.721 M1966.3 256.069 L1966.3 260.328 Q1964.54 259.494 1962.74 259.055 Q1960.95 258.615 1959.19 258.615 Q1954.56 258.615 1952.11 261.74 Q1949.68 264.865 1949.33 271.184 Q1950.7 269.17 1952.76 268.106 Q1954.82 267.018 1957.3 267.018 Q1962.5 267.018 1965.51 270.189 Q1968.55 273.337 1968.55 278.777 Q1968.55 284.101 1965.4 287.318 Q1962.25 290.536 1957.02 290.536 Q1951.02 290.536 1947.85 285.953 Q1944.68 281.346 1944.68 272.619 Q1944.68 264.425 1948.57 259.564 Q1952.46 254.68 1959.01 254.68 Q1960.77 254.68 1962.55 255.027 Q1964.36 255.374 1966.3 256.069 Z\" fill=\"#000000\" fill-rule=\"nonzero\" fill-opacity=\"1\" /><path clip-path=\"url(#clip160)\" d=\"M1980.63 285.929 L1996.95 285.929 L1996.95 289.865 L1975 289.865 L1975 285.929 Q1977.67 283.175 1982.25 278.545 Q1986.86 273.893 1988.04 272.55 Q1990.28 270.027 1991.16 268.291 Q1992.06 266.531 1992.06 264.842 Q1992.06 262.087 1990.12 260.351 Q1988.2 258.615 1985.1 258.615 Q1982.9 258.615 1980.44 259.379 Q1978.01 260.143 1975.24 261.694 L1975.24 256.971 Q1978.06 255.837 1980.51 255.258 Q1982.97 254.68 1985 254.68 Q1990.37 254.68 1993.57 257.365 Q1996.76 260.05 1996.76 264.541 Q1996.76 266.67 1995.95 268.592 Q1995.17 270.49 1993.06 273.082 Q1992.48 273.754 1989.38 276.971 Q1986.28 280.166 1980.63 285.929 Z\" fill=\"#000000\" fill-rule=\"nonzero\" fill-opacity=\"1\" /><path clip-path=\"url(#clip160)\" d=\"M2006.76 283.985 L2011.65 283.985 L2011.65 289.865 L2006.76 289.865 L2006.76 283.985 Z\" fill=\"#000000\" fill-rule=\"nonzero\" fill-opacity=\"1\" /><path clip-path=\"url(#clip160)\" d=\"M2031.83 273.453 Q2028.5 273.453 2026.58 275.235 Q2024.68 277.017 2024.68 280.142 Q2024.68 283.267 2026.58 285.05 Q2028.5 286.832 2031.83 286.832 Q2035.17 286.832 2037.09 285.05 Q2039.01 283.244 2039.01 280.142 Q2039.01 277.017 2037.09 275.235 Q2035.19 273.453 2031.83 273.453 M2027.16 271.462 Q2024.15 270.721 2022.46 268.661 Q2020.79 266.601 2020.79 263.638 Q2020.79 259.494 2023.73 257.087 Q2026.69 254.68 2031.83 254.68 Q2036.99 254.68 2039.93 257.087 Q2042.87 259.494 2042.87 263.638 Q2042.87 266.601 2041.18 268.661 Q2039.52 270.721 2036.53 271.462 Q2039.91 272.249 2041.79 274.541 Q2043.68 276.832 2043.68 280.142 Q2043.68 285.166 2040.61 287.851 Q2037.55 290.536 2031.83 290.536 Q2026.12 290.536 2023.04 287.851 Q2019.98 285.166 2019.98 280.142 Q2019.98 276.832 2021.88 274.541 Q2023.78 272.249 2027.16 271.462 M2025.44 264.078 Q2025.44 266.763 2027.11 268.268 Q2028.8 269.772 2031.83 269.772 Q2034.84 269.772 2036.53 268.268 Q2038.24 266.763 2038.24 264.078 Q2038.24 261.393 2036.53 259.888 Q2034.84 258.383 2031.83 258.383 Q2028.8 258.383 2027.11 259.888 Q2025.44 261.393 2025.44 264.078 Z\" fill=\"#000000\" fill-rule=\"nonzero\" fill-opacity=\"1\" /><path clip-path=\"url(#clip160)\" d=\"M2081.39 274.656 Q2079.38 274.656 2078.22 276.369 Q2077.09 278.082 2077.09 281.138 Q2077.09 284.147 2078.22 285.883 Q2079.38 287.596 2081.39 287.596 Q2083.36 287.596 2084.49 285.883 Q2085.65 284.147 2085.65 281.138 Q2085.65 278.105 2084.49 276.393 Q2083.36 274.656 2081.39 274.656 M2081.39 271.717 Q2085.05 271.717 2087.2 274.263 Q2089.36 276.809 2089.36 281.138 Q2089.36 285.467 2087.18 288.013 Q2085.03 290.536 2081.39 290.536 Q2077.69 290.536 2075.54 288.013 Q2073.38 285.467 2073.38 281.138 Q2073.38 276.786 2075.54 274.263 Q2077.71 271.717 2081.39 271.717 M2057.5 257.619 Q2055.51 257.619 2054.36 259.356 Q2053.22 261.069 2053.22 264.078 Q2053.22 267.133 2054.36 268.846 Q2055.49 270.559 2057.5 270.559 Q2059.52 270.559 2060.65 268.846 Q2061.81 267.133 2061.81 264.078 Q2061.81 261.092 2060.65 259.356 Q2059.49 257.619 2057.5 257.619 M2078.41 254.68 L2082.11 254.68 L2060.49 290.536 L2056.79 290.536 L2078.41 254.68 M2057.5 254.68 Q2061.16 254.68 2063.34 257.226 Q2065.51 259.749 2065.51 264.078 Q2065.51 268.453 2063.34 270.976 Q2061.18 273.499 2057.5 273.499 Q2053.82 273.499 2051.67 270.976 Q2049.54 268.43 2049.54 264.078 Q2049.54 259.772 2051.69 257.226 Q2053.85 254.68 2057.5 254.68 Z\" fill=\"#000000\" fill-rule=\"nonzero\" fill-opacity=\"1\" /><path clip-path=\"url(#clip160)\" d=\"M2095.77 253.893 L2099.47 253.893 Q2102.94 259.356 2104.66 264.587 Q2106.39 269.818 2106.39 274.98 Q2106.39 280.166 2104.66 285.42 Q2102.94 290.675 2099.47 296.115 L2095.77 296.115 Q2098.85 290.814 2100.35 285.582 Q2101.88 280.328 2101.88 274.98 Q2101.88 269.633 2100.35 264.425 Q2098.85 259.217 2095.77 253.893 Z\" fill=\"#000000\" fill-rule=\"nonzero\" fill-opacity=\"1\" /><path clip-path=\"url(#clip160)\" d=\"M1569.09 345.161 L1713.01 345.161 L1713.01 303.689 L1569.09 303.689 L1569.09 345.161  Z\" fill=\"#3da44d\" fill-rule=\"evenodd\" fill-opacity=\"1\"/>\n",
       "<polyline clip-path=\"url(#clip160)\" style=\"stroke:#000000; stroke-linecap:round; stroke-linejoin:round; stroke-width:4; stroke-opacity:1; fill:none\" points=\"1569.09,345.161 1713.01,345.161 1713.01,303.689 1569.09,303.689 1569.09,345.161 \"/>\n",
       "<path clip-path=\"url(#clip160)\" d=\"M1741.67 325.2 L1741.67 337.862 L1749.17 337.862 Q1752.95 337.862 1754.75 336.311 Q1756.58 334.737 1756.58 331.52 Q1756.58 328.279 1754.75 326.751 Q1752.95 325.2 1749.17 325.2 L1741.67 325.2 M1741.67 310.987 L1741.67 321.404 L1748.59 321.404 Q1752.02 321.404 1753.69 320.131 Q1755.38 318.834 1755.38 316.196 Q1755.38 313.58 1753.69 312.284 Q1752.02 310.987 1748.59 310.987 L1741.67 310.987 M1737 307.145 L1748.94 307.145 Q1754.29 307.145 1757.18 309.367 Q1760.07 311.589 1760.07 315.686 Q1760.07 318.858 1758.59 320.733 Q1757.11 322.608 1754.24 323.07 Q1757.69 323.811 1759.59 326.172 Q1761.51 328.51 1761.51 332.029 Q1761.51 336.658 1758.36 339.182 Q1755.21 341.705 1749.4 341.705 L1737 341.705 L1737 307.145 Z\" fill=\"#000000\" fill-rule=\"nonzero\" fill-opacity=\"1\" /><path clip-path=\"url(#clip160)\" d=\"M1768.89 331.473 L1768.89 315.779 L1773.15 315.779 L1773.15 331.311 Q1773.15 334.992 1774.59 336.844 Q1776.02 338.672 1778.89 338.672 Q1782.34 338.672 1784.33 336.473 Q1786.35 334.274 1786.35 330.478 L1786.35 315.779 L1790.61 315.779 L1790.61 341.705 L1786.35 341.705 L1786.35 337.723 Q1784.8 340.084 1782.74 341.242 Q1780.7 342.376 1777.99 342.376 Q1773.52 342.376 1771.21 339.598 Q1768.89 336.82 1768.89 331.473 M1779.61 315.154 L1779.61 315.154 Z\" fill=\"#000000\" fill-rule=\"nonzero\" fill-opacity=\"1\" /><path clip-path=\"url(#clip160)\" d=\"M1814.4 319.76 Q1813.69 319.344 1812.83 319.158 Q1812 318.95 1810.98 318.95 Q1807.37 318.95 1805.42 321.311 Q1803.5 323.649 1803.5 328.047 L1803.5 341.705 L1799.22 341.705 L1799.22 315.779 L1803.5 315.779 L1803.5 319.807 Q1804.84 317.446 1807 316.311 Q1809.15 315.154 1812.23 315.154 Q1812.67 315.154 1813.2 315.223 Q1813.73 315.27 1814.38 315.385 L1814.4 319.76 Z\" fill=\"#000000\" fill-rule=\"nonzero\" fill-opacity=\"1\" /><path clip-path=\"url(#clip160)\" d=\"M1835.1 328.441 Q1835.1 323.811 1833.18 321.265 Q1831.28 318.719 1827.83 318.719 Q1824.4 318.719 1822.48 321.265 Q1820.58 323.811 1820.58 328.441 Q1820.58 333.047 1822.48 335.594 Q1824.4 338.14 1827.83 338.14 Q1831.28 338.14 1833.18 335.594 Q1835.1 333.047 1835.1 328.441 M1839.36 338.487 Q1839.36 345.107 1836.42 348.325 Q1833.48 351.566 1827.41 351.566 Q1825.17 351.566 1823.18 351.218 Q1821.19 350.894 1819.31 350.2 L1819.31 346.056 Q1821.19 347.075 1823.01 347.561 Q1824.84 348.047 1826.74 348.047 Q1830.93 348.047 1833.01 345.848 Q1835.1 343.672 1835.1 339.251 L1835.1 337.144 Q1833.78 339.436 1831.72 340.57 Q1829.66 341.705 1826.79 341.705 Q1822.02 341.705 1819.1 338.07 Q1816.19 334.436 1816.19 328.441 Q1816.19 322.422 1819.1 318.788 Q1822.02 315.154 1826.79 315.154 Q1829.66 315.154 1831.72 316.288 Q1833.78 317.422 1835.1 319.714 L1835.1 315.779 L1839.36 315.779 L1839.36 338.487 Z\" fill=\"#000000\" fill-rule=\"nonzero\" fill-opacity=\"1\" /><path clip-path=\"url(#clip160)\" d=\"M1848.13 305.686 L1852.39 305.686 L1852.39 341.705 L1848.13 341.705 L1848.13 305.686 Z\" fill=\"#000000\" fill-rule=\"nonzero\" fill-opacity=\"1\" /><path clip-path=\"url(#clip160)\" d=\"M1873.08 328.672 Q1867.92 328.672 1865.93 329.853 Q1863.94 331.033 1863.94 333.881 Q1863.94 336.149 1865.42 337.492 Q1866.93 338.811 1869.5 338.811 Q1873.04 338.811 1875.17 336.311 Q1877.32 333.788 1877.32 329.621 L1877.32 328.672 L1873.08 328.672 M1881.58 326.913 L1881.58 341.705 L1877.32 341.705 L1877.32 337.769 Q1875.86 340.131 1873.69 341.265 Q1871.51 342.376 1868.36 342.376 Q1864.38 342.376 1862.02 340.154 Q1859.68 337.908 1859.68 334.158 Q1859.68 329.783 1862.6 327.561 Q1865.54 325.339 1871.35 325.339 L1877.32 325.339 L1877.32 324.922 Q1877.32 321.983 1875.38 320.385 Q1873.45 318.765 1869.96 318.765 Q1867.74 318.765 1865.63 319.297 Q1863.52 319.83 1861.58 320.895 L1861.58 316.959 Q1863.92 316.057 1866.12 315.617 Q1868.32 315.154 1870.4 315.154 Q1876.02 315.154 1878.8 318.071 Q1881.58 320.987 1881.58 326.913 Z\" fill=\"#000000\" fill-rule=\"nonzero\" fill-opacity=\"1\" /><path clip-path=\"url(#clip160)\" d=\"M1905.38 319.76 Q1904.66 319.344 1903.8 319.158 Q1902.97 318.95 1901.95 318.95 Q1898.34 318.95 1896.39 321.311 Q1894.47 323.649 1894.47 328.047 L1894.47 341.705 L1890.19 341.705 L1890.19 315.779 L1894.47 315.779 L1894.47 319.807 Q1895.81 317.446 1897.97 316.311 Q1900.12 315.154 1903.2 315.154 Q1903.64 315.154 1904.17 315.223 Q1904.7 315.27 1905.35 315.385 L1905.38 319.76 Z\" fill=\"#000000\" fill-rule=\"nonzero\" fill-opacity=\"1\" /><path clip-path=\"url(#clip160)\" d=\"M1920.63 344.112 Q1918.82 348.742 1917.11 350.154 Q1915.4 351.566 1912.53 351.566 L1909.13 351.566 L1909.13 348.001 L1911.63 348.001 Q1913.38 348.001 1914.36 347.168 Q1915.33 346.334 1916.51 343.232 L1917.27 341.288 L1906.79 315.779 L1911.3 315.779 L1919.4 336.057 L1927.5 315.779 L1932.02 315.779 L1920.63 344.112 Z\" fill=\"#000000\" fill-rule=\"nonzero\" fill-opacity=\"1\" /><path clip-path=\"url(#clip160)\" d=\"M1963.2 305.733 Q1960.1 311.057 1958.59 316.265 Q1957.09 321.473 1957.09 326.82 Q1957.09 332.168 1958.59 337.422 Q1960.12 342.654 1963.2 347.955 L1959.5 347.955 Q1956.02 342.515 1954.29 337.26 Q1952.57 332.006 1952.57 326.82 Q1952.57 321.658 1954.29 316.427 Q1956 311.196 1959.5 305.733 L1963.2 305.733 Z\" fill=\"#000000\" fill-rule=\"nonzero\" fill-opacity=\"1\" /><path clip-path=\"url(#clip160)\" d=\"M1972.87 337.769 L1980.51 337.769 L1980.51 311.404 L1972.2 313.071 L1972.2 308.811 L1980.47 307.145 L1985.14 307.145 L1985.14 337.769 L1992.78 337.769 L1992.78 341.705 L1972.87 341.705 L1972.87 337.769 Z\" fill=\"#000000\" fill-rule=\"nonzero\" fill-opacity=\"1\" /><path clip-path=\"url(#clip160)\" d=\"M2002.27 307.145 L2020.63 307.145 L2020.63 311.08 L2006.56 311.08 L2006.56 319.552 Q2007.57 319.205 2008.59 319.043 Q2009.61 318.858 2010.63 318.858 Q2016.42 318.858 2019.8 322.029 Q2023.18 325.2 2023.18 330.617 Q2023.18 336.195 2019.7 339.297 Q2016.23 342.376 2009.91 342.376 Q2007.74 342.376 2005.47 342.006 Q2003.22 341.635 2000.81 340.894 L2000.81 336.195 Q2002.9 337.33 2005.12 337.885 Q2007.34 338.441 2009.82 338.441 Q2013.82 338.441 2016.16 336.334 Q2018.5 334.228 2018.5 330.617 Q2018.5 327.006 2016.16 324.899 Q2013.82 322.793 2009.82 322.793 Q2007.94 322.793 2006.07 323.209 Q2004.22 323.626 2002.27 324.506 L2002.27 307.145 Z\" fill=\"#000000\" fill-rule=\"nonzero\" fill-opacity=\"1\" /><path clip-path=\"url(#clip160)\" d=\"M2032.39 335.825 L2037.27 335.825 L2037.27 341.705 L2032.39 341.705 L2032.39 335.825 Z\" fill=\"#000000\" fill-rule=\"nonzero\" fill-opacity=\"1\" /><path clip-path=\"url(#clip160)\" d=\"M2060.3 311.219 L2048.5 329.668 L2060.3 329.668 L2060.3 311.219 M2059.08 307.145 L2064.96 307.145 L2064.96 329.668 L2069.89 329.668 L2069.89 333.557 L2064.96 333.557 L2064.96 341.705 L2060.3 341.705 L2060.3 333.557 L2044.7 333.557 L2044.7 329.043 L2059.08 307.145 Z\" fill=\"#000000\" fill-rule=\"nonzero\" fill-opacity=\"1\" /><path clip-path=\"url(#clip160)\" d=\"M2107.02 326.496 Q2105 326.496 2103.85 328.209 Q2102.71 329.922 2102.71 332.978 Q2102.71 335.987 2103.85 337.723 Q2105 339.436 2107.02 339.436 Q2108.99 339.436 2110.12 337.723 Q2111.28 335.987 2111.28 332.978 Q2111.28 329.945 2110.12 328.233 Q2108.99 326.496 2107.02 326.496 M2107.02 323.557 Q2110.67 323.557 2112.83 326.103 Q2114.98 328.649 2114.98 332.978 Q2114.98 337.307 2112.8 339.853 Q2110.65 342.376 2107.02 342.376 Q2103.31 342.376 2101.16 339.853 Q2099.01 337.307 2099.01 332.978 Q2099.01 328.626 2101.16 326.103 Q2103.34 323.557 2107.02 323.557 M2083.13 309.459 Q2081.14 309.459 2079.98 311.196 Q2078.85 312.909 2078.85 315.918 Q2078.85 318.973 2079.98 320.686 Q2081.11 322.399 2083.13 322.399 Q2085.14 322.399 2086.28 320.686 Q2087.43 318.973 2087.43 315.918 Q2087.43 312.932 2086.28 311.196 Q2085.12 309.459 2083.13 309.459 M2104.03 306.52 L2107.74 306.52 L2086.11 342.376 L2082.41 342.376 L2104.03 306.52 M2083.13 306.52 Q2086.79 306.52 2088.96 309.066 Q2091.14 311.589 2091.14 315.918 Q2091.14 320.293 2088.96 322.816 Q2086.81 325.339 2083.13 325.339 Q2079.45 325.339 2077.3 322.816 Q2075.17 320.27 2075.17 315.918 Q2075.17 311.612 2077.32 309.066 Q2079.47 306.52 2083.13 306.52 Z\" fill=\"#000000\" fill-rule=\"nonzero\" fill-opacity=\"1\" /><path clip-path=\"url(#clip160)\" d=\"M2121.39 305.733 L2125.1 305.733 Q2128.57 311.196 2130.28 316.427 Q2132.02 321.658 2132.02 326.82 Q2132.02 332.006 2130.28 337.26 Q2128.57 342.515 2125.1 347.955 L2121.39 347.955 Q2124.47 342.654 2125.98 337.422 Q2127.5 332.168 2127.5 326.82 Q2127.5 321.473 2125.98 316.265 Q2124.47 311.057 2121.39 305.733 Z\" fill=\"#000000\" fill-rule=\"nonzero\" fill-opacity=\"1\" /></svg>\n"
      ]
     },
     "metadata": {},
     "output_type": "display_data"
    }
   ],
   "source": [
    "#Showing pie chart and percentages of Incident types classifying 3 different categories\n",
    "\n",
    "total = sum(Inc_cat_cnt.count)\n",
    "Inc_cat_cnt.Percent = round.(Inc_cat_cnt.count ./total .* 100,digits = 1)\n",
    "labels = [\"$(Inc_cat_cnt.Incident_Type[i]) ($(round(Inc_cat_cnt.Percent[i],digits = 1))%)\" for i in 1:nrow(Inc_cat_cnt)]\n",
    "# P = Plots.pie(x,y,l=1.5)\n",
    "# P\n",
    "PiePer = Plots.pie(labels,Inc_cat_cnt.count,title = \"Incident Type with percentages\")\n",
    "PiePer\n"
   ]
  },
  {
   "cell_type": "code",
   "execution_count": 30,
   "metadata": {},
   "outputs": [
    {
     "name": "stderr",
     "output_type": "stream",
     "text": [
      "┌ Warning: It looks like the Kaleido process is not responding. \n",
      "│ The unresponsive process will be killed, but this means that you will not be able to save figures using `savefig`.\n",
      "│ \n",
      "│ If you are on Windows this might be caused by known problems with Kaleido v0.2 on Windows (you are using version 0.2.1).\n",
      "│ You might want to try forcing a downgrade of the Kaleido_jll library to 0.1.\n",
      "│ Check the Package Readme at https://github.com/JuliaPlots/PlotlyKaleido.jl/tree/main#windows-note for more details.\n",
      "│ \n",
      "│ If you think this is not your case, you might try using a longer timeout to check if the process is not responding (defaults to 10 seconds) by passing the desired value in seconds using the `timeout` kwarg when calling `PlotlyKaleido.start` or `PlotlyKaleido.restart`\n",
      "└ @ PlotlyKaleido C:\\Users\\umapa\\.julia\\packages\\PlotlyKaleido\\U5CX4\\src\\PlotlyKaleido.jl:24\n"
     ]
    }
   ],
   "source": [
    "using PlotlyJS, CSV, DataFrames"
   ]
  },
  {
   "cell_type": "code",
   "execution_count": 31,
   "metadata": {},
   "outputs": [
    {
     "name": "stderr",
     "output_type": "stream",
     "text": [
      "┌ Warning: It looks like the Kaleido process is not responding. \n",
      "│ The unresponsive process will be killed, but this means that you will not be able to save figures using `savefig`.\n",
      "│ \n",
      "│ If you are on Windows this might be caused by known problems with Kaleido v0.2 on Windows (you are using version 0.2.1).\n",
      "│ You might want to try forcing a downgrade of the Kaleido_jll library to 0.1.\n",
      "│ Check the Package Readme at https://github.com/JuliaPlots/PlotlyKaleido.jl/tree/main#windows-note for more details.\n",
      "│ \n",
      "│ If you think this is not your case, you might try using a longer timeout to check if the process is not responding (defaults to 10 seconds) by passing the desired value in seconds using the `timeout` kwarg when calling `PlotlyKaleido.start` or `PlotlyKaleido.restart`\n",
      "└ @ PlotlyKaleido C:\\Users\\umapa\\.julia\\packages\\PlotlyKaleido\\U5CX4\\src\\PlotlyKaleido.jl:24\n",
      "┌ Warning: It looks like the Kaleido process is not responding. \n",
      "│ The unresponsive process will be killed, but this means that you will not be able to save figures using `savefig`.\n",
      "│ \n",
      "│ If you are on Windows this might be caused by known problems with Kaleido v0.2 on Windows (you are using version 0.2.1).\n",
      "│ You might want to try forcing a downgrade of the Kaleido_jll library to 0.1.\n",
      "│ Check the Package Readme at https://github.com/JuliaPlots/PlotlyKaleido.jl/tree/main#windows-note for more details.\n",
      "│ \n",
      "│ If you think this is not your case, you might try using a longer timeout to check if the process is not responding (defaults to 10 seconds) by passing the desired value in seconds using the `timeout` kwarg when calling `PlotlyKaleido.start` or `PlotlyKaleido.restart`\n",
      "└ @ PlotlyKaleido C:\\Users\\umapa\\.julia\\packages\\PlotlyKaleido\\U5CX4\\src\\PlotlyKaleido.jl:24\n"
     ]
    },
    {
     "data": {
      "application/vnd.plotly.v1+json": {
       "config": {
        "editable": false,
        "responsive": true,
        "scrollZoom": true,
        "showLink": false,
        "staticPlot": false
       },
       "data": [
        {
         "type": "bar",
         "x": [
          "Gun",
          "Motor Vehicle",
          "No arms"
         ],
         "xaxis": "x",
         "y": [
          53,
          15,
          10
         ],
         "yaxis": "y"
        }
       ],
       "frames": [],
       "layout": {
        "legend": {
         "tracegroupgap": 0
        },
        "margin": {
         "b": 50,
         "l": 50,
         "r": 50,
         "t": 60
        },
        "template": {
         "data": {
          "bar": [
           {
            "error_x": {
             "color": "#2a3f5f"
            },
            "error_y": {
             "color": "#2a3f5f"
            },
            "marker": {
             "line": {
              "color": "#E5ECF6",
              "width": 0.5
             }
            },
            "type": "bar"
           }
          ],
          "barpolar": [
           {
            "marker": {
             "line": {
              "color": "#E5ECF6",
              "width": 0.5
             }
            },
            "type": "barpolar"
           }
          ],
          "carpet": [
           {
            "aaxis": {
             "endlinecolor": "#2a3f5f",
             "gridcolor": "white",
             "linecolor": "white",
             "minorgridcolor": "white",
             "startlinecolor": "#2a3f5f"
            },
            "baxis": {
             "endlinecolor": "#2a3f5f",
             "gridcolor": "white",
             "linecolor": "white",
             "minorgridcolor": "white",
             "startlinecolor": "#2a3f5f"
            },
            "type": "carpet"
           }
          ],
          "choropleth": [
           {
            "colorbar": {
             "outlinewidth": 0,
             "ticks": ""
            },
            "type": "choropleth"
           }
          ],
          "contour": [
           {
            "colorbar": {
             "outlinewidth": 0,
             "ticks": ""
            },
            "colorscale": [
             [
              0,
              "#0d0887"
             ],
             [
              0.1111111111111111,
              "#46039f"
             ],
             [
              0.2222222222222222,
              "#7201a8"
             ],
             [
              0.3333333333333333,
              "#9c179e"
             ],
             [
              0.4444444444444444,
              "#bd3786"
             ],
             [
              0.5555555555555556,
              "#d8576b"
             ],
             [
              0.6666666666666666,
              "#ed7953"
             ],
             [
              0.7777777777777778,
              "#fb9f3a"
             ],
             [
              0.8888888888888888,
              "#fdca26"
             ],
             [
              1,
              "#f0f921"
             ]
            ],
            "type": "contour"
           }
          ],
          "contourcarpet": [
           {
            "colorbar": {
             "outlinewidth": 0,
             "ticks": ""
            },
            "type": "contourcarpet"
           }
          ],
          "heatmap": [
           {
            "colorbar": {
             "outlinewidth": 0,
             "ticks": ""
            },
            "colorscale": [
             [
              0,
              "#0d0887"
             ],
             [
              0.1111111111111111,
              "#46039f"
             ],
             [
              0.2222222222222222,
              "#7201a8"
             ],
             [
              0.3333333333333333,
              "#9c179e"
             ],
             [
              0.4444444444444444,
              "#bd3786"
             ],
             [
              0.5555555555555556,
              "#d8576b"
             ],
             [
              0.6666666666666666,
              "#ed7953"
             ],
             [
              0.7777777777777778,
              "#fb9f3a"
             ],
             [
              0.8888888888888888,
              "#fdca26"
             ],
             [
              1,
              "#f0f921"
             ]
            ],
            "type": "heatmap"
           }
          ],
          "heatmapgl": [
           {
            "colorbar": {
             "outlinewidth": 0,
             "ticks": ""
            },
            "colorscale": [
             [
              0,
              "#0d0887"
             ],
             [
              0.1111111111111111,
              "#46039f"
             ],
             [
              0.2222222222222222,
              "#7201a8"
             ],
             [
              0.3333333333333333,
              "#9c179e"
             ],
             [
              0.4444444444444444,
              "#bd3786"
             ],
             [
              0.5555555555555556,
              "#d8576b"
             ],
             [
              0.6666666666666666,
              "#ed7953"
             ],
             [
              0.7777777777777778,
              "#fb9f3a"
             ],
             [
              0.8888888888888888,
              "#fdca26"
             ],
             [
              1,
              "#f0f921"
             ]
            ],
            "type": "heatmapgl"
           }
          ],
          "histogram": [
           {
            "marker": {
             "colorbar": {
              "outlinewidth": 0,
              "ticks": ""
             }
            },
            "type": "histogram"
           }
          ],
          "histogram2d": [
           {
            "colorbar": {
             "outlinewidth": 0,
             "ticks": ""
            },
            "colorscale": [
             [
              0,
              "#0d0887"
             ],
             [
              0.1111111111111111,
              "#46039f"
             ],
             [
              0.2222222222222222,
              "#7201a8"
             ],
             [
              0.3333333333333333,
              "#9c179e"
             ],
             [
              0.4444444444444444,
              "#bd3786"
             ],
             [
              0.5555555555555556,
              "#d8576b"
             ],
             [
              0.6666666666666666,
              "#ed7953"
             ],
             [
              0.7777777777777778,
              "#fb9f3a"
             ],
             [
              0.8888888888888888,
              "#fdca26"
             ],
             [
              1,
              "#f0f921"
             ]
            ],
            "type": "histogram2d"
           }
          ],
          "histogram2dcontour": [
           {
            "colorbar": {
             "outlinewidth": 0,
             "ticks": ""
            },
            "colorscale": [
             [
              0,
              "#0d0887"
             ],
             [
              0.1111111111111111,
              "#46039f"
             ],
             [
              0.2222222222222222,
              "#7201a8"
             ],
             [
              0.3333333333333333,
              "#9c179e"
             ],
             [
              0.4444444444444444,
              "#bd3786"
             ],
             [
              0.5555555555555556,
              "#d8576b"
             ],
             [
              0.6666666666666666,
              "#ed7953"
             ],
             [
              0.7777777777777778,
              "#fb9f3a"
             ],
             [
              0.8888888888888888,
              "#fdca26"
             ],
             [
              1,
              "#f0f921"
             ]
            ],
            "type": "histogram2dcontour"
           }
          ],
          "mesh3d": [
           {
            "colorbar": {
             "outlinewidth": 0,
             "ticks": ""
            },
            "type": "mesh3d"
           }
          ],
          "parcoords": [
           {
            "line": {
             "colorbar": {
              "outlinewidth": 0,
              "ticks": ""
             }
            },
            "type": "parcoords"
           }
          ],
          "pie": [
           {
            "automargin": true,
            "type": "pie"
           }
          ],
          "scatter": [
           {
            "marker": {
             "colorbar": {
              "outlinewidth": 0,
              "ticks": ""
             }
            },
            "type": "scatter"
           }
          ],
          "scatter3d": [
           {
            "line": {
             "colorbar": {
              "outlinewidth": 0,
              "ticks": ""
             }
            },
            "marker": {
             "colorbar": {
              "outlinewidth": 0,
              "ticks": ""
             }
            },
            "type": "scatter3d"
           }
          ],
          "scattercarpet": [
           {
            "marker": {
             "colorbar": {
              "outlinewidth": 0,
              "ticks": ""
             }
            },
            "type": "scattercarpet"
           }
          ],
          "scattergeo": [
           {
            "marker": {
             "colorbar": {
              "outlinewidth": 0,
              "ticks": ""
             }
            },
            "type": "scattergeo"
           }
          ],
          "scattergl": [
           {
            "marker": {
             "colorbar": {
              "outlinewidth": 0,
              "ticks": ""
             }
            },
            "type": "scattergl"
           }
          ],
          "scattermapbox": [
           {
            "marker": {
             "colorbar": {
              "outlinewidth": 0,
              "ticks": ""
             }
            },
            "type": "scattermapbox"
           }
          ],
          "scatterpolar": [
           {
            "marker": {
             "colorbar": {
              "outlinewidth": 0,
              "ticks": ""
             }
            },
            "type": "scatterpolar"
           }
          ],
          "scatterpolargl": [
           {
            "marker": {
             "colorbar": {
              "outlinewidth": 0,
              "ticks": ""
             }
            },
            "type": "scatterpolargl"
           }
          ],
          "scatterternary": [
           {
            "marker": {
             "colorbar": {
              "outlinewidth": 0,
              "ticks": ""
             }
            },
            "type": "scatterternary"
           }
          ],
          "surface": [
           {
            "colorbar": {
             "outlinewidth": 0,
             "ticks": ""
            },
            "colorscale": [
             [
              0,
              "#0d0887"
             ],
             [
              0.1111111111111111,
              "#46039f"
             ],
             [
              0.2222222222222222,
              "#7201a8"
             ],
             [
              0.3333333333333333,
              "#9c179e"
             ],
             [
              0.4444444444444444,
              "#bd3786"
             ],
             [
              0.5555555555555556,
              "#d8576b"
             ],
             [
              0.6666666666666666,
              "#ed7953"
             ],
             [
              0.7777777777777778,
              "#fb9f3a"
             ],
             [
              0.8888888888888888,
              "#fdca26"
             ],
             [
              1,
              "#f0f921"
             ]
            ],
            "type": "surface"
           }
          ],
          "table": [
           {
            "cells": {
             "fill": {
              "color": "#EBF0F8"
             },
             "line": {
              "color": "white"
             }
            },
            "header": {
             "fill": {
              "color": "#C8D4E3"
             },
             "line": {
              "color": "white"
             }
            },
            "type": "table"
           }
          ]
         },
         "layout": {
          "annotationdefaults": {
           "arrowcolor": "#2a3f5f",
           "arrowhead": 0,
           "arrowwidth": 1
          },
          "autotypenumbers": "strict",
          "coloraxis": {
           "colorbar": {
            "outlinewidth": 0,
            "ticks": ""
           }
          },
          "colorscale": {
           "diverging": [
            [
             0,
             "#8e0152"
            ],
            [
             0.1,
             "#c51b7d"
            ],
            [
             0.2,
             "#de77ae"
            ],
            [
             0.3,
             "#f1b6da"
            ],
            [
             0.4,
             "#fde0ef"
            ],
            [
             0.5,
             "#f7f7f7"
            ],
            [
             0.6,
             "#e6f5d0"
            ],
            [
             0.7,
             "#b8e186"
            ],
            [
             0.8,
             "#7fbc41"
            ],
            [
             0.9,
             "#4d9221"
            ],
            [
             1,
             "#276419"
            ]
           ],
           "sequential": [
            [
             0,
             "#0d0887"
            ],
            [
             0.1111111111111111,
             "#46039f"
            ],
            [
             0.2222222222222222,
             "#7201a8"
            ],
            [
             0.3333333333333333,
             "#9c179e"
            ],
            [
             0.4444444444444444,
             "#bd3786"
            ],
            [
             0.5555555555555556,
             "#d8576b"
            ],
            [
             0.6666666666666666,
             "#ed7953"
            ],
            [
             0.7777777777777778,
             "#fb9f3a"
            ],
            [
             0.8888888888888888,
             "#fdca26"
            ],
            [
             1,
             "#f0f921"
            ]
           ],
           "sequentialminus": [
            [
             0,
             "#0d0887"
            ],
            [
             0.1111111111111111,
             "#46039f"
            ],
            [
             0.2222222222222222,
             "#7201a8"
            ],
            [
             0.3333333333333333,
             "#9c179e"
            ],
            [
             0.4444444444444444,
             "#bd3786"
            ],
            [
             0.5555555555555556,
             "#d8576b"
            ],
            [
             0.6666666666666666,
             "#ed7953"
            ],
            [
             0.7777777777777778,
             "#fb9f3a"
            ],
            [
             0.8888888888888888,
             "#fdca26"
            ],
            [
             1,
             "#f0f921"
            ]
           ]
          },
          "colorway": [
           "#636efa",
           "#EF553B",
           "#00cc96",
           "#ab63fa",
           "#FFA15A",
           "#19d3f3",
           "#FF6692",
           "#B6E880",
           "#FF97FF",
           "#FECB52"
          ],
          "font": {
           "color": "#2a3f5f"
          },
          "geo": {
           "bgcolor": "white",
           "lakecolor": "white",
           "landcolor": "#E5ECF6",
           "showlakes": true,
           "showland": true,
           "subunitcolor": "white"
          },
          "hoverlabel": {
           "align": "left"
          },
          "hovermode": "closest",
          "mapbox": {
           "style": "light"
          },
          "paper_bgcolor": "white",
          "plot_bgcolor": "#E5ECF6",
          "polar": {
           "angularaxis": {
            "gridcolor": "white",
            "linecolor": "white",
            "ticks": ""
           },
           "bgcolor": "#E5ECF6",
           "radialaxis": {
            "gridcolor": "white",
            "linecolor": "white",
            "ticks": ""
           }
          },
          "scene": {
           "xaxis": {
            "backgroundcolor": "#E5ECF6",
            "gridcolor": "white",
            "gridwidth": 2,
            "linecolor": "white",
            "showbackground": true,
            "ticks": "",
            "zerolinecolor": "white"
           },
           "yaxis": {
            "backgroundcolor": "#E5ECF6",
            "gridcolor": "white",
            "gridwidth": 2,
            "linecolor": "white",
            "showbackground": true,
            "ticks": "",
            "zerolinecolor": "white"
           },
           "zaxis": {
            "backgroundcolor": "#E5ECF6",
            "gridcolor": "white",
            "gridwidth": 2,
            "linecolor": "white",
            "showbackground": true,
            "ticks": "",
            "zerolinecolor": "white"
           }
          },
          "shapedefaults": {
           "line": {
            "color": "#2a3f5f"
           }
          },
          "ternary": {
           "aaxis": {
            "gridcolor": "white",
            "linecolor": "white",
            "ticks": ""
           },
           "baxis": {
            "gridcolor": "white",
            "linecolor": "white",
            "ticks": ""
           },
           "bgcolor": "#E5ECF6",
           "caxis": {
            "gridcolor": "white",
            "linecolor": "white",
            "ticks": ""
           }
          },
          "title": {
           "x": 0.05
          },
          "xaxis": {
           "automargin": true,
           "gridcolor": "white",
           "linecolor": "white",
           "ticks": "",
           "title": {
            "standoff": 15
           },
           "zerolinecolor": "white",
           "zerolinewidth": 2
          },
          "yaxis": {
           "automargin": true,
           "gridcolor": "white",
           "linecolor": "white",
           "ticks": "",
           "title": {
            "standoff": 15
           },
           "zerolinecolor": "white",
           "zerolinewidth": 2
          }
         }
        },
        "xaxis": {
         "title": {
          "text": "weap_categoryN"
         }
        },
        "yaxis": {
         "title": {
          "text": "count"
         }
        }
       }
      },
      "text/html": [
       "<div\n",
       "    class=\"webio-mountpoint\"\n",
       "    data-webio-mountpoint=\"14107055907611324200\"\n",
       ">\n",
       "    <script>\n",
       "    (function(){\n",
       "    // Some integrations (namely, IJulia/Jupyter) use an alternate render pathway than\n",
       "    // just putting the html on the page. If WebIO isn't defined, then it's pretty likely\n",
       "    // that we're in one of those situations and the integration just isn't installed\n",
       "    // correctly.\n",
       "    if (typeof window.WebIO === \"undefined\") {\n",
       "        document\n",
       "            .querySelector('[data-webio-mountpoint=\"14107055907611324200\"]')\n",
       "            .innerHTML = (\n",
       "                '<div style=\"padding: 1em; background-color: #f8d6da; border: 1px solid #f5c6cb; font-weight: bold;\">' +\n",
       "                '<p><strong>WebIO not detected.</strong></p>' +\n",
       "                '<p>Please read ' +\n",
       "                '<a href=\"https://juliagizmos.github.io/WebIO.jl/latest/troubleshooting/not-detected/\" target=\"_blank\">the troubleshooting guide</a> ' +\n",
       "                'for more information on how to resolve this issue.</p>' +\n",
       "                '<p><a href=\"https://juliagizmos.github.io/WebIO.jl/latest/troubleshooting/not-detected/\" target=\"_blank\">https://juliagizmos.github.io/WebIO.jl/latest/troubleshooting/not-detected/</a></p>' +\n",
       "                '</div>'\n",
       "            );\n",
       "        return;\n",
       "    }\n",
       "    WebIO.mount(\n",
       "        document.querySelector('[data-webio-mountpoint=\"14107055907611324200\"]'),\n",
       "        {\"props\":{},\"nodeType\":\"Scope\",\"type\":\"node\",\"instanceArgs\":{\"imports\":{\"data\":[{\"name\":\"Plotly\",\"type\":\"js\",\"url\":\"\\/assetserver\\/d82a14b1c859567ad3254d8002dcc4a1df48093f-plotly.min.js\"},{\"name\":null,\"type\":\"js\",\"url\":\"\\/assetserver\\/415a0106353cbe42cf3926751cf85a5d04be6ee3-plotly_webio.bundle.js\"}],\"type\":\"async_block\"},\"id\":\"13927296694803437204\",\"handlers\":{\"_toImage\":[\"(function (options){return this.Plotly.toImage(this.plotElem,options).then((function (data){return WebIO.setval({\\\"name\\\":\\\"image\\\",\\\"scope\\\":\\\"13927296694803437204\\\",\\\"id\\\":\\\"5\\\",\\\"type\\\":\\\"observable\\\"},data)}))})\"],\"__get_gd_contents\":[\"(function (prop){prop==\\\"data\\\" ? (WebIO.setval({\\\"name\\\":\\\"__gd_contents\\\",\\\"scope\\\":\\\"13927296694803437204\\\",\\\"id\\\":\\\"6\\\",\\\"type\\\":\\\"observable\\\"},this.plotElem.data)) : undefined; return prop==\\\"layout\\\" ? (WebIO.setval({\\\"name\\\":\\\"__gd_contents\\\",\\\"scope\\\":\\\"13927296694803437204\\\",\\\"id\\\":\\\"6\\\",\\\"type\\\":\\\"observable\\\"},this.plotElem.layout)) : undefined})\"],\"_downloadImage\":[\"(function (options){return this.Plotly.downloadImage(this.plotElem,options)})\"],\"_commands\":[\"(function (args){var fn=args.shift(); var elem=this.plotElem; var Plotly=this.Plotly; args.unshift(elem); return Plotly[fn].apply(this,args)})\"]},\"systemjs_options\":null,\"mount_callbacks\":[\"function () {\\n    var handler = ((function (Plotly,PlotlyWebIO){PlotlyWebIO.init(WebIO); var gd=this.dom.querySelector(\\\"#plot-24b51f11-02a1-486f-9650-36201c4a6e4f\\\"); this.plotElem=gd; this.Plotly=Plotly; (window.Blink!==undefined) ? (gd.style.width=\\\"100%\\\", gd.style.height=\\\"100vh\\\", gd.style.marginLeft=\\\"0%\\\", gd.style.marginTop=\\\"0vh\\\") : undefined; window.onresize=(function (){return Plotly.Plots.resize(gd)}); Plotly.newPlot(gd,[{\\\"xaxis\\\":\\\"x\\\",\\\"y\\\":[53,15,10],\\\"type\\\":\\\"bar\\\",\\\"yaxis\\\":\\\"y\\\",\\\"x\\\":[\\\"Gun\\\",\\\"Motor Vehicle\\\",\\\"No arms\\\"]}],{\\\"xaxis\\\":{\\\"title\\\":{\\\"text\\\":\\\"weap_categoryN\\\"}},\\\"template\\\":{\\\"layout\\\":{\\\"coloraxis\\\":{\\\"colorbar\\\":{\\\"ticks\\\":\\\"\\\",\\\"outlinewidth\\\":0}},\\\"xaxis\\\":{\\\"gridcolor\\\":\\\"white\\\",\\\"zerolinewidth\\\":2,\\\"title\\\":{\\\"standoff\\\":15},\\\"ticks\\\":\\\"\\\",\\\"zerolinecolor\\\":\\\"white\\\",\\\"automargin\\\":true,\\\"linecolor\\\":\\\"white\\\"},\\\"hovermode\\\":\\\"closest\\\",\\\"paper_bgcolor\\\":\\\"white\\\",\\\"geo\\\":{\\\"showlakes\\\":true,\\\"showland\\\":true,\\\"landcolor\\\":\\\"#E5ECF6\\\",\\\"bgcolor\\\":\\\"white\\\",\\\"subunitcolor\\\":\\\"white\\\",\\\"lakecolor\\\":\\\"white\\\"},\\\"colorscale\\\":{\\\"sequential\\\":[[0.0,\\\"#0d0887\\\"],[0.1111111111111111,\\\"#46039f\\\"],[0.2222222222222222,\\\"#7201a8\\\"],[0.3333333333333333,\\\"#9c179e\\\"],[0.4444444444444444,\\\"#bd3786\\\"],[0.5555555555555556,\\\"#d8576b\\\"],[0.6666666666666666,\\\"#ed7953\\\"],[0.7777777777777778,\\\"#fb9f3a\\\"],[0.8888888888888888,\\\"#fdca26\\\"],[1.0,\\\"#f0f921\\\"]],\\\"diverging\\\":[[0,\\\"#8e0152\\\"],[0.1,\\\"#c51b7d\\\"],[0.2,\\\"#de77ae\\\"],[0.3,\\\"#f1b6da\\\"],[0.4,\\\"#fde0ef\\\"],[0.5,\\\"#f7f7f7\\\"],[0.6,\\\"#e6f5d0\\\"],[0.7,\\\"#b8e186\\\"],[0.8,\\\"#7fbc41\\\"],[0.9,\\\"#4d9221\\\"],[1,\\\"#276419\\\"]],\\\"sequentialminus\\\":[[0.0,\\\"#0d0887\\\"],[0.1111111111111111,\\\"#46039f\\\"],[0.2222222222222222,\\\"#7201a8\\\"],[0.3333333333333333,\\\"#9c179e\\\"],[0.4444444444444444,\\\"#bd3786\\\"],[0.5555555555555556,\\\"#d8576b\\\"],[0.6666666666666666,\\\"#ed7953\\\"],[0.7777777777777778,\\\"#fb9f3a\\\"],[0.8888888888888888,\\\"#fdca26\\\"],[1.0,\\\"#f0f921\\\"]]},\\\"yaxis\\\":{\\\"gridcolor\\\":\\\"white\\\",\\\"zerolinewidth\\\":2,\\\"title\\\":{\\\"standoff\\\":15},\\\"ticks\\\":\\\"\\\",\\\"zerolinecolor\\\":\\\"white\\\",\\\"automargin\\\":true,\\\"linecolor\\\":\\\"white\\\"},\\\"shapedefaults\\\":{\\\"line\\\":{\\\"color\\\":\\\"#2a3f5f\\\"}},\\\"hoverlabel\\\":{\\\"align\\\":\\\"left\\\"},\\\"mapbox\\\":{\\\"style\\\":\\\"light\\\"},\\\"polar\\\":{\\\"angularaxis\\\":{\\\"gridcolor\\\":\\\"white\\\",\\\"ticks\\\":\\\"\\\",\\\"linecolor\\\":\\\"white\\\"},\\\"bgcolor\\\":\\\"#E5ECF6\\\",\\\"radialaxis\\\":{\\\"gridcolor\\\":\\\"white\\\",\\\"ticks\\\":\\\"\\\",\\\"linecolor\\\":\\\"white\\\"}},\\\"autotypenumbers\\\":\\\"strict\\\",\\\"font\\\":{\\\"color\\\":\\\"#2a3f5f\\\"},\\\"ternary\\\":{\\\"baxis\\\":{\\\"gridcolor\\\":\\\"white\\\",\\\"ticks\\\":\\\"\\\",\\\"linecolor\\\":\\\"white\\\"},\\\"bgcolor\\\":\\\"#E5ECF6\\\",\\\"caxis\\\":{\\\"gridcolor\\\":\\\"white\\\",\\\"ticks\\\":\\\"\\\",\\\"linecolor\\\":\\\"white\\\"},\\\"aaxis\\\":{\\\"gridcolor\\\":\\\"white\\\",\\\"ticks\\\":\\\"\\\",\\\"linecolor\\\":\\\"white\\\"}},\\\"annotationdefaults\\\":{\\\"arrowhead\\\":0,\\\"arrowwidth\\\":1,\\\"arrowcolor\\\":\\\"#2a3f5f\\\"},\\\"plot_bgcolor\\\":\\\"#E5ECF6\\\",\\\"title\\\":{\\\"x\\\":0.05},\\\"scene\\\":{\\\"xaxis\\\":{\\\"gridcolor\\\":\\\"white\\\",\\\"gridwidth\\\":2,\\\"backgroundcolor\\\":\\\"#E5ECF6\\\",\\\"ticks\\\":\\\"\\\",\\\"showbackground\\\":true,\\\"zerolinecolor\\\":\\\"white\\\",\\\"linecolor\\\":\\\"white\\\"},\\\"zaxis\\\":{\\\"gridcolor\\\":\\\"white\\\",\\\"gridwidth\\\":2,\\\"backgroundcolor\\\":\\\"#E5ECF6\\\",\\\"ticks\\\":\\\"\\\",\\\"showbackground\\\":true,\\\"zerolinecolor\\\":\\\"white\\\",\\\"linecolor\\\":\\\"white\\\"},\\\"yaxis\\\":{\\\"gridcolor\\\":\\\"white\\\",\\\"gridwidth\\\":2,\\\"backgroundcolor\\\":\\\"#E5ECF6\\\",\\\"ticks\\\":\\\"\\\",\\\"showbackground\\\":true,\\\"zerolinecolor\\\":\\\"white\\\",\\\"linecolor\\\":\\\"white\\\"}},\\\"colorway\\\":[\\\"#636efa\\\",\\\"#EF553B\\\",\\\"#00cc96\\\",\\\"#ab63fa\\\",\\\"#FFA15A\\\",\\\"#19d3f3\\\",\\\"#FF6692\\\",\\\"#B6E880\\\",\\\"#FF97FF\\\",\\\"#FECB52\\\"]},\\\"data\\\":{\\\"barpolar\\\":[{\\\"type\\\":\\\"barpolar\\\",\\\"marker\\\":{\\\"line\\\":{\\\"color\\\":\\\"#E5ECF6\\\",\\\"width\\\":0.5}}}],\\\"carpet\\\":[{\\\"aaxis\\\":{\\\"gridcolor\\\":\\\"white\\\",\\\"endlinecolor\\\":\\\"#2a3f5f\\\",\\\"minorgridcolor\\\":\\\"white\\\",\\\"startlinecolor\\\":\\\"#2a3f5f\\\",\\\"linecolor\\\":\\\"white\\\"},\\\"type\\\":\\\"carpet\\\",\\\"baxis\\\":{\\\"gridcolor\\\":\\\"white\\\",\\\"endlinecolor\\\":\\\"#2a3f5f\\\",\\\"minorgridcolor\\\":\\\"white\\\",\\\"startlinecolor\\\":\\\"#2a3f5f\\\",\\\"linecolor\\\":\\\"white\\\"}}],\\\"scatterpolar\\\":[{\\\"type\\\":\\\"scatterpolar\\\",\\\"marker\\\":{\\\"colorbar\\\":{\\\"ticks\\\":\\\"\\\",\\\"outlinewidth\\\":0}}}],\\\"parcoords\\\":[{\\\"line\\\":{\\\"colorbar\\\":{\\\"ticks\\\":\\\"\\\",\\\"outlinewidth\\\":0}},\\\"type\\\":\\\"parcoords\\\"}],\\\"scatter\\\":[{\\\"type\\\":\\\"scatter\\\",\\\"marker\\\":{\\\"colorbar\\\":{\\\"ticks\\\":\\\"\\\",\\\"outlinewidth\\\":0}}}],\\\"histogram2dcontour\\\":[{\\\"colorbar\\\":{\\\"ticks\\\":\\\"\\\",\\\"outlinewidth\\\":0},\\\"type\\\":\\\"histogram2dcontour\\\",\\\"colorscale\\\":[[0.0,\\\"#0d0887\\\"],[0.1111111111111111,\\\"#46039f\\\"],[0.2222222222222222,\\\"#7201a8\\\"],[0.3333333333333333,\\\"#9c179e\\\"],[0.4444444444444444,\\\"#bd3786\\\"],[0.5555555555555556,\\\"#d8576b\\\"],[0.6666666666666666,\\\"#ed7953\\\"],[0.7777777777777778,\\\"#fb9f3a\\\"],[0.8888888888888888,\\\"#fdca26\\\"],[1.0,\\\"#f0f921\\\"]]}],\\\"contour\\\":[{\\\"colorbar\\\":{\\\"ticks\\\":\\\"\\\",\\\"outlinewidth\\\":0},\\\"type\\\":\\\"contour\\\",\\\"colorscale\\\":[[0.0,\\\"#0d0887\\\"],[0.1111111111111111,\\\"#46039f\\\"],[0.2222222222222222,\\\"#7201a8\\\"],[0.3333333333333333,\\\"#9c179e\\\"],[0.4444444444444444,\\\"#bd3786\\\"],[0.5555555555555556,\\\"#d8576b\\\"],[0.6666666666666666,\\\"#ed7953\\\"],[0.7777777777777778,\\\"#fb9f3a\\\"],[0.8888888888888888,\\\"#fdca26\\\"],[1.0,\\\"#f0f921\\\"]]}],\\\"scattercarpet\\\":[{\\\"type\\\":\\\"scattercarpet\\\",\\\"marker\\\":{\\\"colorbar\\\":{\\\"ticks\\\":\\\"\\\",\\\"outlinewidth\\\":0}}}],\\\"mesh3d\\\":[{\\\"colorbar\\\":{\\\"ticks\\\":\\\"\\\",\\\"outlinewidth\\\":0},\\\"type\\\":\\\"mesh3d\\\"}],\\\"surface\\\":[{\\\"colorbar\\\":{\\\"ticks\\\":\\\"\\\",\\\"outlinewidth\\\":0},\\\"type\\\":\\\"surface\\\",\\\"colorscale\\\":[[0.0,\\\"#0d0887\\\"],[0.1111111111111111,\\\"#46039f\\\"],[0.2222222222222222,\\\"#7201a8\\\"],[0.3333333333333333,\\\"#9c179e\\\"],[0.4444444444444444,\\\"#bd3786\\\"],[0.5555555555555556,\\\"#d8576b\\\"],[0.6666666666666666,\\\"#ed7953\\\"],[0.7777777777777778,\\\"#fb9f3a\\\"],[0.8888888888888888,\\\"#fdca26\\\"],[1.0,\\\"#f0f921\\\"]]}],\\\"scattermapbox\\\":[{\\\"type\\\":\\\"scattermapbox\\\",\\\"marker\\\":{\\\"colorbar\\\":{\\\"ticks\\\":\\\"\\\",\\\"outlinewidth\\\":0}}}],\\\"scattergeo\\\":[{\\\"type\\\":\\\"scattergeo\\\",\\\"marker\\\":{\\\"colorbar\\\":{\\\"ticks\\\":\\\"\\\",\\\"outlinewidth\\\":0}}}],\\\"histogram\\\":[{\\\"type\\\":\\\"histogram\\\",\\\"marker\\\":{\\\"colorbar\\\":{\\\"ticks\\\":\\\"\\\",\\\"outlinewidth\\\":0}}}],\\\"pie\\\":[{\\\"type\\\":\\\"pie\\\",\\\"automargin\\\":true}],\\\"choropleth\\\":[{\\\"colorbar\\\":{\\\"ticks\\\":\\\"\\\",\\\"outlinewidth\\\":0},\\\"type\\\":\\\"choropleth\\\"}],\\\"heatmapgl\\\":[{\\\"colorbar\\\":{\\\"ticks\\\":\\\"\\\",\\\"outlinewidth\\\":0},\\\"type\\\":\\\"heatmapgl\\\",\\\"colorscale\\\":[[0.0,\\\"#0d0887\\\"],[0.1111111111111111,\\\"#46039f\\\"],[0.2222222222222222,\\\"#7201a8\\\"],[0.3333333333333333,\\\"#9c179e\\\"],[0.4444444444444444,\\\"#bd3786\\\"],[0.5555555555555556,\\\"#d8576b\\\"],[0.6666666666666666,\\\"#ed7953\\\"],[0.7777777777777778,\\\"#fb9f3a\\\"],[0.8888888888888888,\\\"#fdca26\\\"],[1.0,\\\"#f0f921\\\"]]}],\\\"bar\\\":[{\\\"type\\\":\\\"bar\\\",\\\"error_y\\\":{\\\"color\\\":\\\"#2a3f5f\\\"},\\\"error_x\\\":{\\\"color\\\":\\\"#2a3f5f\\\"},\\\"marker\\\":{\\\"line\\\":{\\\"color\\\":\\\"#E5ECF6\\\",\\\"width\\\":0.5}}}],\\\"heatmap\\\":[{\\\"colorbar\\\":{\\\"ticks\\\":\\\"\\\",\\\"outlinewidth\\\":0},\\\"type\\\":\\\"heatmap\\\",\\\"colorscale\\\":[[0.0,\\\"#0d0887\\\"],[0.1111111111111111,\\\"#46039f\\\"],[0.2222222222222222,\\\"#7201a8\\\"],[0.3333333333333333,\\\"#9c179e\\\"],[0.4444444444444444,\\\"#bd3786\\\"],[0.5555555555555556,\\\"#d8576b\\\"],[0.6666666666666666,\\\"#ed7953\\\"],[0.7777777777777778,\\\"#fb9f3a\\\"],[0.8888888888888888,\\\"#fdca26\\\"],[1.0,\\\"#f0f921\\\"]]}],\\\"contourcarpet\\\":[{\\\"colorbar\\\":{\\\"ticks\\\":\\\"\\\",\\\"outlinewidth\\\":0},\\\"type\\\":\\\"contourcarpet\\\"}],\\\"table\\\":[{\\\"type\\\":\\\"table\\\",\\\"header\\\":{\\\"line\\\":{\\\"color\\\":\\\"white\\\"},\\\"fill\\\":{\\\"color\\\":\\\"#C8D4E3\\\"}},\\\"cells\\\":{\\\"line\\\":{\\\"color\\\":\\\"white\\\"},\\\"fill\\\":{\\\"color\\\":\\\"#EBF0F8\\\"}}}],\\\"scatter3d\\\":[{\\\"line\\\":{\\\"colorbar\\\":{\\\"ticks\\\":\\\"\\\",\\\"outlinewidth\\\":0}},\\\"type\\\":\\\"scatter3d\\\",\\\"marker\\\":{\\\"colorbar\\\":{\\\"ticks\\\":\\\"\\\",\\\"outlinewidth\\\":0}}}],\\\"scattergl\\\":[{\\\"type\\\":\\\"scattergl\\\",\\\"marker\\\":{\\\"colorbar\\\":{\\\"ticks\\\":\\\"\\\",\\\"outlinewidth\\\":0}}}],\\\"histogram2d\\\":[{\\\"colorbar\\\":{\\\"ticks\\\":\\\"\\\",\\\"outlinewidth\\\":0},\\\"type\\\":\\\"histogram2d\\\",\\\"colorscale\\\":[[0.0,\\\"#0d0887\\\"],[0.1111111111111111,\\\"#46039f\\\"],[0.2222222222222222,\\\"#7201a8\\\"],[0.3333333333333333,\\\"#9c179e\\\"],[0.4444444444444444,\\\"#bd3786\\\"],[0.5555555555555556,\\\"#d8576b\\\"],[0.6666666666666666,\\\"#ed7953\\\"],[0.7777777777777778,\\\"#fb9f3a\\\"],[0.8888888888888888,\\\"#fdca26\\\"],[1.0,\\\"#f0f921\\\"]]}],\\\"scatterternary\\\":[{\\\"type\\\":\\\"scatterternary\\\",\\\"marker\\\":{\\\"colorbar\\\":{\\\"ticks\\\":\\\"\\\",\\\"outlinewidth\\\":0}}}],\\\"scatterpolargl\\\":[{\\\"type\\\":\\\"scatterpolargl\\\",\\\"marker\\\":{\\\"colorbar\\\":{\\\"ticks\\\":\\\"\\\",\\\"outlinewidth\\\":0}}}]}},\\\"legend\\\":{\\\"tracegroupgap\\\":0},\\\"margin\\\":{\\\"l\\\":50,\\\"b\\\":50,\\\"r\\\":50,\\\"t\\\":60},\\\"yaxis\\\":{\\\"title\\\":{\\\"text\\\":\\\"count\\\"}}},{\\\"showLink\\\":false,\\\"editable\\\":false,\\\"responsive\\\":true,\\\"staticPlot\\\":false,\\\"scrollZoom\\\":true}); gd.on(\\\"plotly_hover\\\",(function (data){var filtered_data=WebIO.PlotlyCommands.filterEventData(gd,data,\\\"hover\\\"); return !(filtered_data.isnil) ? (WebIO.setval({\\\"name\\\":\\\"hover\\\",\\\"scope\\\":\\\"13927296694803437204\\\",\\\"id\\\":\\\"1\\\",\\\"type\\\":\\\"observable\\\"},filtered_data.out)) : undefined})); gd.on(\\\"plotly_unhover\\\",(function (){return WebIO.setval({\\\"name\\\":\\\"hover\\\",\\\"scope\\\":\\\"13927296694803437204\\\",\\\"id\\\":\\\"1\\\",\\\"type\\\":\\\"observable\\\"},{})})); gd.on(\\\"plotly_selected\\\",(function (data){var filtered_data=WebIO.PlotlyCommands.filterEventData(gd,data,\\\"selected\\\"); return !(filtered_data.isnil) ? (WebIO.setval({\\\"name\\\":\\\"selected\\\",\\\"scope\\\":\\\"13927296694803437204\\\",\\\"id\\\":\\\"2\\\",\\\"type\\\":\\\"observable\\\"},filtered_data.out)) : undefined})); gd.on(\\\"plotly_deselect\\\",(function (){return WebIO.setval({\\\"name\\\":\\\"selected\\\",\\\"scope\\\":\\\"13927296694803437204\\\",\\\"id\\\":\\\"2\\\",\\\"type\\\":\\\"observable\\\"},{})})); gd.on(\\\"plotly_relayout\\\",(function (data){var filtered_data=WebIO.PlotlyCommands.filterEventData(gd,data,\\\"relayout\\\"); return !(filtered_data.isnil) ? (WebIO.setval({\\\"name\\\":\\\"relayout\\\",\\\"scope\\\":\\\"13927296694803437204\\\",\\\"id\\\":\\\"4\\\",\\\"type\\\":\\\"observable\\\"},filtered_data.out)) : undefined})); return gd.on(\\\"plotly_click\\\",(function (data){var filtered_data=WebIO.PlotlyCommands.filterEventData(gd,data,\\\"click\\\"); return !(filtered_data.isnil) ? (WebIO.setval({\\\"name\\\":\\\"click\\\",\\\"scope\\\":\\\"13927296694803437204\\\",\\\"id\\\":\\\"3\\\",\\\"type\\\":\\\"observable\\\"},filtered_data.out)) : undefined}))}));\\n    (WebIO.importBlock({\\\"data\\\":[{\\\"name\\\":\\\"Plotly\\\",\\\"type\\\":\\\"js\\\",\\\"url\\\":\\\"\\/assetserver\\/d82a14b1c859567ad3254d8002dcc4a1df48093f-plotly.min.js\\\"},{\\\"name\\\":null,\\\"type\\\":\\\"js\\\",\\\"url\\\":\\\"\\/assetserver\\/415a0106353cbe42cf3926751cf85a5d04be6ee3-plotly_webio.bundle.js\\\"}],\\\"type\\\":\\\"async_block\\\"})).then((imports) => handler.apply(this, imports));\\n}\\n\"],\"observables\":{\"_toImage\":{\"sync\":false,\"id\":\"8\",\"value\":{}},\"hover\":{\"sync\":false,\"id\":\"1\",\"value\":{}},\"selected\":{\"sync\":false,\"id\":\"2\",\"value\":{}},\"__gd_contents\":{\"sync\":false,\"id\":\"6\",\"value\":{}},\"click\":{\"sync\":false,\"id\":\"3\",\"value\":{}},\"image\":{\"sync\":true,\"id\":\"5\",\"value\":\"\"},\"__get_gd_contents\":{\"sync\":false,\"id\":\"10\",\"value\":\"\"},\"_downloadImage\":{\"sync\":false,\"id\":\"9\",\"value\":{}},\"relayout\":{\"sync\":false,\"id\":\"4\",\"value\":{}},\"_commands\":{\"sync\":false,\"id\":\"7\",\"value\":[]}}},\"children\":[{\"props\":{\"id\":\"plot-24b51f11-02a1-486f-9650-36201c4a6e4f\"},\"nodeType\":\"DOM\",\"type\":\"node\",\"instanceArgs\":{\"namespace\":\"html\",\"tag\":\"div\"},\"children\":[]}]},\n",
       "        window,\n",
       "    );\n",
       "    })()\n",
       "    </script>\n",
       "</div>\n"
      ],
      "text/plain": [
       "data: [\n",
       "  \"bar with fields type, x, xaxis, y, and yaxis\"\n",
       "]\n",
       "\n",
       "layout: \"layout with fields legend, margin, template, xaxis, and yaxis\"\n",
       "\n"
      ]
     },
     "metadata": {},
     "output_type": "display_data"
    }
   ],
   "source": [
    "#Display bar chart showing frequency count of Suspects weapon categories\n",
    "df = dataset(DataFrame, \"gapminder\")\n",
    "PlotlyJS.plot(susp_weap_catN_cnt, x=:weap_categoryN, y=:count, kind=\"bar\")"
   ]
  },
  {
   "cell_type": "markdown",
   "metadata": {},
   "source": [
    "#Suscpect's weapon type Gun is major contributor and Motor vechicle is next highest contributor for Traffic violations."
   ]
  },
  {
   "cell_type": "code",
   "execution_count": 32,
   "metadata": {},
   "outputs": [
    {
     "data": {
      "text/html": [
       "<div><div style = \"float: left;\"><span>41×2 DataFrame</span></div><div style = \"float: right;\"><span style = \"font-style: italic;\">16 rows omitted</span></div><div style = \"clear: both;\"></div></div><div class = \"data-frame\" style = \"overflow-x: scroll;\"><table class = \"data-frame\" style = \"margin-bottom: 6px;\"><thead><tr class = \"header\"><th class = \"rowNumber\" style = \"font-weight: bold; text-align: right;\">Row</th><th style = \"text-align: left;\">Incident Type</th><th style = \"text-align: left;\">count</th></tr><tr class = \"subheader headerLastRow\"><th class = \"rowNumber\" style = \"font-weight: bold; text-align: right;\"></th><th title = \"String\" style = \"text-align: left;\">String</th><th title = \"Int64\" style = \"text-align: left;\">Int64</th></tr></thead><tbody><tr><td class = \"rowNumber\" style = \"font-weight: bold; text-align: right;\">1</td><td style = \"text-align: left;\">Traffic Stop</td><td style = \"text-align: right;\">7</td></tr><tr><td class = \"rowNumber\" style = \"font-weight: bold; text-align: right;\">2</td><td style = \"text-align: left;\">Suspicious Person</td><td style = \"text-align: right;\">6</td></tr><tr><td class = \"rowNumber\" style = \"font-weight: bold; text-align: right;\">3</td><td style = \"text-align: left;\">Armed Robbery</td><td style = \"text-align: right;\">5</td></tr><tr><td class = \"rowNumber\" style = \"font-weight: bold; text-align: right;\">4</td><td style = \"text-align: left;\">Stolen Vehicle</td><td style = \"text-align: right;\">4</td></tr><tr><td class = \"rowNumber\" style = \"font-weight: bold; text-align: right;\">5</td><td style = \"text-align: left;\">Attempted Suicide</td><td style = \"text-align: right;\">4</td></tr><tr><td class = \"rowNumber\" style = \"font-weight: bold; text-align: right;\">6</td><td style = \"text-align: left;\">Armed Subject</td><td style = \"text-align: right;\">4</td></tr><tr><td class = \"rowNumber\" style = \"font-weight: bold; text-align: right;\">7</td><td style = \"text-align: left;\">Battery</td><td style = \"text-align: right;\">3</td></tr><tr><td class = \"rowNumber\" style = \"font-weight: bold; text-align: right;\">8</td><td style = \"text-align: left;\">Shots fired</td><td style = \"text-align: right;\">3</td></tr><tr><td class = \"rowNumber\" style = \"font-weight: bold; text-align: right;\">9</td><td style = \"text-align: left;\">Domestic Disturbance</td><td style = \"text-align: right;\">2</td></tr><tr><td class = \"rowNumber\" style = \"font-weight: bold; text-align: right;\">10</td><td style = \"text-align: left;\">Drug Violation</td><td style = \"text-align: right;\">2</td></tr><tr><td class = \"rowNumber\" style = \"font-weight: bold; text-align: right;\">11</td><td style = \"text-align: left;\">Suspicious Incident</td><td style = \"text-align: right;\">2</td></tr><tr><td class = \"rowNumber\" style = \"font-weight: bold; text-align: right;\">12</td><td style = \"text-align: left;\">Suspicious Persons</td><td style = \"text-align: right;\">2</td></tr><tr><td class = \"rowNumber\" style = \"font-weight: bold; text-align: right;\">13</td><td style = \"text-align: left;\">Attempted Murder</td><td style = \"text-align: right;\">2</td></tr><tr><td style = \"text-align: right;\">&vellip;</td><td style = \"text-align: right;\">&vellip;</td><td style = \"text-align: right;\">&vellip;</td></tr><tr><td class = \"rowNumber\" style = \"font-weight: bold; text-align: right;\">30</td><td style = \"text-align: left;\">Threats/Assault</td><td style = \"text-align: right;\">1</td></tr><tr><td class = \"rowNumber\" style = \"font-weight: bold; text-align: right;\">31</td><td style = \"text-align: left;\">Traffic Crash</td><td style = \"text-align: right;\">1</td></tr><tr><td class = \"rowNumber\" style = \"font-weight: bold; text-align: right;\">32</td><td style = \"text-align: left;\">Disturbance</td><td style = \"text-align: right;\">1</td></tr><tr><td class = \"rowNumber\" style = \"font-weight: bold; text-align: right;\">33</td><td style = \"text-align: left;\">Suspicious Incident / Possible Kidnapping</td><td style = \"text-align: right;\">1</td></tr><tr><td class = \"rowNumber\" style = \"font-weight: bold; text-align: right;\">34</td><td style = \"text-align: left;\">Felony Warrant</td><td style = \"text-align: right;\">1</td></tr><tr><td class = \"rowNumber\" style = \"font-weight: bold; text-align: right;\">35</td><td style = \"text-align: left;\">Occupied Stolen Vehicle</td><td style = \"text-align: right;\">1</td></tr><tr><td class = \"rowNumber\" style = \"font-weight: bold; text-align: right;\">36</td><td style = \"text-align: left;\">Fraud</td><td style = \"text-align: right;\">1</td></tr><tr><td class = \"rowNumber\" style = \"font-weight: bold; text-align: right;\">37</td><td style = \"text-align: left;\">Well Being Check</td><td style = \"text-align: right;\">1</td></tr><tr><td class = \"rowNumber\" style = \"font-weight: bold; text-align: right;\">38</td><td style = \"text-align: left;\">Active Shooter</td><td style = \"text-align: right;\">1</td></tr><tr><td class = \"rowNumber\" style = \"font-weight: bold; text-align: right;\">39</td><td style = \"text-align: left;\">Burglary</td><td style = \"text-align: right;\">1</td></tr><tr><td class = \"rowNumber\" style = \"font-weight: bold; text-align: right;\">40</td><td style = \"text-align: left;\">Unknown Trouble/Person Robbery</td><td style = \"text-align: right;\">1</td></tr><tr><td class = \"rowNumber\" style = \"font-weight: bold; text-align: right;\">41</td><td style = \"text-align: left;\">Aggravated Assault</td><td style = \"text-align: right;\">1</td></tr></tbody></table></div>"
      ],
      "text/latex": [
       "\\begin{tabular}{r|cc}\n",
       "\t& Incident Type & count\\\\\n",
       "\t\\hline\n",
       "\t& String & Int64\\\\\n",
       "\t\\hline\n",
       "\t1 & Traffic Stop & 7 \\\\\n",
       "\t2 & Suspicious Person & 6 \\\\\n",
       "\t3 & Armed Robbery & 5 \\\\\n",
       "\t4 & Stolen Vehicle & 4 \\\\\n",
       "\t5 & Attempted Suicide & 4 \\\\\n",
       "\t6 & Armed Subject & 4 \\\\\n",
       "\t7 & Battery & 3 \\\\\n",
       "\t8 & Shots fired & 3 \\\\\n",
       "\t9 & Domestic Disturbance & 2 \\\\\n",
       "\t10 & Drug Violation & 2 \\\\\n",
       "\t11 & Suspicious Incident & 2 \\\\\n",
       "\t12 & Suspicious Persons & 2 \\\\\n",
       "\t13 & Attempted Murder & 2 \\\\\n",
       "\t14 & Carjacking & 2 \\\\\n",
       "\t15 & Unknown Trouble & 2 \\\\\n",
       "\t16 & Suspicious Vehicle & 2 \\\\\n",
       "\t17 & Homicide & 2 \\\\\n",
       "\t18 & Vehicle Stop & 1 \\\\\n",
       "\t19 & Stalking & 1 \\\\\n",
       "\t20 & Aggravated Battery & 1 \\\\\n",
       "\t21 & Street Racing & 1 \\\\\n",
       "\t22 & Barricaded Subject & 1 \\\\\n",
       "\t23 & Violent Mentally Ill Person & 1 \\\\\n",
       "\t24 & Shoplifiting & 1 \\\\\n",
       "\t$\\dots$ & $\\dots$ & $\\dots$ \\\\\n",
       "\\end{tabular}\n"
      ],
      "text/plain": [
       "\u001b[1m41×2 DataFrame\u001b[0m\n",
       "\u001b[1m Row \u001b[0m│\u001b[1m Incident Type                     \u001b[0m\u001b[1m count \u001b[0m\n",
       "     │\u001b[90m String                            \u001b[0m\u001b[90m Int64 \u001b[0m\n",
       "─────┼──────────────────────────────────────────\n",
       "   1 │ Traffic Stop                           7\n",
       "   2 │ Suspicious Person                      6\n",
       "   3 │ Armed Robbery                          5\n",
       "   4 │ Stolen Vehicle                         4\n",
       "   5 │ Attempted Suicide                      4\n",
       "   6 │ Armed Subject                          4\n",
       "   7 │ Battery                                3\n",
       "   8 │ Shots fired                            3\n",
       "  ⋮  │                 ⋮                    ⋮\n",
       "  35 │ Occupied Stolen Vehicle                1\n",
       "  36 │ Fraud                                  1\n",
       "  37 │ Well Being Check                       1\n",
       "  38 │ Active Shooter                         1\n",
       "  39 │ Burglary                               1\n",
       "  40 │ Unknown Trouble/Person Robbery         1\n",
       "  41 │ Aggravated Assault                     1\n",
       "\u001b[36m                                 26 rows omitted\u001b[0m"
      ]
     },
     "metadata": {},
     "output_type": "display_data"
    }
   ],
   "source": [
    "Inc_type_cnt = combine(groupby(data,:\"Incident Type\"),nrow => :count)\n",
    "sort(Inc_type_cnt,:count,rev=true)"
   ]
  },
  {
   "cell_type": "markdown",
   "metadata": {},
   "source": []
  }
 ],
 "metadata": {
  "kernelspec": {
   "display_name": "Julia 1.10.4",
   "language": "julia",
   "name": "julia-1.10"
  },
  "language_info": {
   "file_extension": ".jl",
   "mimetype": "application/julia",
   "name": "julia",
   "version": "1.10.4"
  },
  "vscode": {
   "interpreter": {
    "hash": "31f2aee4e71d21fbe5cf8b01ff0e069b9275f58929596ceb00d14d90e3e16cd6"
   }
  }
 },
 "nbformat": 4,
 "nbformat_minor": 2
}

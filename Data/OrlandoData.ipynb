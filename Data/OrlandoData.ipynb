{
 "cells": [
  {
   "cell_type": "code",
   "execution_count": 1,
   "metadata": {},
   "outputs": [],
   "source": [
    "\n",
    "import pandas as pd\n",
    "\n",
    "file_path = \"./OPD_Officer-Involved_Shootings_20241125.csv\"\n",
    "\n",
    "data = pd.read_csv(file_path)\n",
    "\n"
   ]
  },
  {
   "cell_type": "markdown",
   "metadata": {},
   "source": []
  },
  {
   "cell_type": "code",
   "execution_count": 4,
   "metadata": {},
   "outputs": [
    {
     "data": {
      "text/plain": [
       "\"\\nKeep\\nCase #,\\nIncident type, \\nnum of officer inv,  \\nsuspect's weapon, \\ngeoreferenced col\\n\""
      ]
     },
     "execution_count": 4,
     "metadata": {},
     "output_type": "execute_result"
    }
   ],
   "source": [
    "data\n",
    "\n",
    "\"\"\"\n",
    "Keep\n",
    "Case #,\n",
    "Incident type, \n",
    "num of officer inv,  \n",
    "suspect's weapon, \n",
    "georeferenced col\n",
    "\"\"\""
   ]
  },
  {
   "cell_type": "code",
   "execution_count": 2,
   "metadata": {},
   "outputs": [
    {
     "name": "stdout",
     "output_type": "stream",
     "text": [
      "      Case #         Incident Type  Number of Officers Involved  \\\n",
      "0  22-174307          Vehicle Stop                          2.0   \n",
      "1  18-448868        Stolen Vehicle                          1.0   \n",
      "2  18-219116     Attempted Suicide                          1.0   \n",
      "3  20-397311  Domestic Disturbance                          1.0   \n",
      "4  10-503738         Armed Robbery                          3.0   \n",
      "\n",
      "  Suspect's Weapon                Georeferenced Column  \n",
      "0          Handgun  POINT (-81.430522027 28.559823981)  \n",
      "1    Motor Vehicle  POINT (-81.444407991 28.426330019)  \n",
      "2          Handgun  POINT (-81.436934015 28.497201986)  \n",
      "3          Handgun   POINT (-81.31615297 28.574676001)  \n",
      "4          Handgun  POINT (-81.475974825 28.552001109)  \n",
      "Filtered data saved to filtered_data.csv\n"
     ]
    }
   ],
   "source": [
    "filtered_data = data[[\n",
    "    \"Case #\",\n",
    "    \"Incident Type\",\n",
    "    \"Number of Officers Involved\",\n",
    "    \"Suspect's Weapon\",\n",
    "    \"Georeferenced Column\"\n",
    "]]\n",
    "\n",
    "print(filtered_data.head())\n",
    "\n",
    "filtered_data.to_csv(\"./filtered_data.csv\", index=False)\n",
    "print(\"Filtered data saved to filtered_data.csv\")"
   ]
  },
  {
   "cell_type": "code",
   "execution_count": null,
   "metadata": {},
   "outputs": [],
   "source": []
  }
 ],
 "metadata": {
  "kernelspec": {
   "display_name": "Python 3",
   "language": "python",
   "name": "python3"
  },
  "language_info": {
   "codemirror_mode": {
    "name": "ipython",
    "version": 3
   },
   "file_extension": ".py",
   "mimetype": "text/x-python",
   "name": "python",
   "nbconvert_exporter": "python",
   "pygments_lexer": "ipython3",
   "version": "3.9.12"
  },
  "orig_nbformat": 4,
  "vscode": {
   "interpreter": {
    "hash": "063df9870072d5bbd3401b8614a7391592b6cde488a02316beb4db97cf299c8e"
   }
  }
 },
 "nbformat": 4,
 "nbformat_minor": 2
}
